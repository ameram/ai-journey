{
 "cells": [
  {
   "cell_type": "code",
   "execution_count": 1,
   "id": "69d1532d",
   "metadata": {
    "_cell_guid": "b1076dfc-b9ad-4769-8c92-a6c4dae69d19",
    "_uuid": "8f2839f25d086af736a60e9eeb907d3b93b6e0e5",
    "execution": {
     "iopub.execute_input": "2023-08-22T13:17:16.618854Z",
     "iopub.status.busy": "2023-08-22T13:17:16.618411Z",
     "iopub.status.idle": "2023-08-22T13:17:16.632821Z",
     "shell.execute_reply": "2023-08-22T13:17:16.631723Z"
    },
    "papermill": {
     "duration": 0.03043,
     "end_time": "2023-08-22T13:17:16.635563",
     "exception": false,
     "start_time": "2023-08-22T13:17:16.605133",
     "status": "completed"
    },
    "tags": []
   },
   "outputs": [
    {
     "name": "stdout",
     "output_type": "stream",
     "text": [
      "/kaggle/input/titanic/train.csv\n",
      "/kaggle/input/titanic/test.csv\n",
      "/kaggle/input/titanic/gender_submission.csv\n"
     ]
    }
   ],
   "source": [
    "# This Python 3 environment comes with many helpful analytics libraries installed\n",
    "# It is defined by the kaggle/python Docker image: https://github.com/kaggle/docker-python\n",
    "# For example, here's several helpful packages to load\n",
    "\n",
    "import numpy as np # linear algebra\n",
    "import pandas as pd # data processing, CSV file I/O (e.g. pd.read_csv)\n",
    "\n",
    "# Input data files are available in the read-only \"../input/\" directory\n",
    "# For example, running this (by clicking run or pressing Shift+Enter) will list all files under the input directory\n",
    "\n",
    "import os\n",
    "for dirname, _, filenames in os.walk('/kaggle/input'):\n",
    "    for filename in filenames:\n",
    "        print(os.path.join(dirname, filename))\n",
    "\n",
    "# You can write up to 20GB to the current directory (/kaggle/working/) that gets preserved as output when you create a version using \"Save & Run All\" \n",
    "# You can also write temporary files to /kaggle/temp/, but they won't be saved outside of the current session"
   ]
  },
  {
   "cell_type": "code",
   "execution_count": 2,
   "id": "3bddde50",
   "metadata": {
    "execution": {
     "iopub.execute_input": "2023-08-22T13:17:16.656875Z",
     "iopub.status.busy": "2023-08-22T13:17:16.656047Z",
     "iopub.status.idle": "2023-08-22T13:17:16.680600Z",
     "shell.execute_reply": "2023-08-22T13:17:16.679367Z"
    },
    "papermill": {
     "duration": 0.037714,
     "end_time": "2023-08-22T13:17:16.683047",
     "exception": false,
     "start_time": "2023-08-22T13:17:16.645333",
     "status": "completed"
    },
    "tags": []
   },
   "outputs": [],
   "source": [
    "train_df = pd.read_csv('/kaggle/input/titanic/train.csv')"
   ]
  },
  {
   "cell_type": "code",
   "execution_count": 3,
   "id": "c3b4bb32",
   "metadata": {
    "execution": {
     "iopub.execute_input": "2023-08-22T13:17:16.703740Z",
     "iopub.status.busy": "2023-08-22T13:17:16.703287Z",
     "iopub.status.idle": "2023-08-22T13:17:16.741100Z",
     "shell.execute_reply": "2023-08-22T13:17:16.740063Z"
    },
    "papermill": {
     "duration": 0.052002,
     "end_time": "2023-08-22T13:17:16.744555",
     "exception": false,
     "start_time": "2023-08-22T13:17:16.692553",
     "status": "completed"
    },
    "tags": []
   },
   "outputs": [
    {
     "data": {
      "text/html": [
       "<div>\n",
       "<style scoped>\n",
       "    .dataframe tbody tr th:only-of-type {\n",
       "        vertical-align: middle;\n",
       "    }\n",
       "\n",
       "    .dataframe tbody tr th {\n",
       "        vertical-align: top;\n",
       "    }\n",
       "\n",
       "    .dataframe thead th {\n",
       "        text-align: right;\n",
       "    }\n",
       "</style>\n",
       "<table border=\"1\" class=\"dataframe\">\n",
       "  <thead>\n",
       "    <tr style=\"text-align: right;\">\n",
       "      <th></th>\n",
       "      <th>PassengerId</th>\n",
       "      <th>Survived</th>\n",
       "      <th>Pclass</th>\n",
       "      <th>Name</th>\n",
       "      <th>Sex</th>\n",
       "      <th>Age</th>\n",
       "      <th>SibSp</th>\n",
       "      <th>Parch</th>\n",
       "      <th>Ticket</th>\n",
       "      <th>Fare</th>\n",
       "      <th>Cabin</th>\n",
       "      <th>Embarked</th>\n",
       "    </tr>\n",
       "  </thead>\n",
       "  <tbody>\n",
       "    <tr>\n",
       "      <th>0</th>\n",
       "      <td>1</td>\n",
       "      <td>0</td>\n",
       "      <td>3</td>\n",
       "      <td>Braund, Mr. Owen Harris</td>\n",
       "      <td>male</td>\n",
       "      <td>22.0</td>\n",
       "      <td>1</td>\n",
       "      <td>0</td>\n",
       "      <td>A/5 21171</td>\n",
       "      <td>7.2500</td>\n",
       "      <td>NaN</td>\n",
       "      <td>S</td>\n",
       "    </tr>\n",
       "    <tr>\n",
       "      <th>1</th>\n",
       "      <td>2</td>\n",
       "      <td>1</td>\n",
       "      <td>1</td>\n",
       "      <td>Cumings, Mrs. John Bradley (Florence Briggs Th...</td>\n",
       "      <td>female</td>\n",
       "      <td>38.0</td>\n",
       "      <td>1</td>\n",
       "      <td>0</td>\n",
       "      <td>PC 17599</td>\n",
       "      <td>71.2833</td>\n",
       "      <td>C85</td>\n",
       "      <td>C</td>\n",
       "    </tr>\n",
       "    <tr>\n",
       "      <th>2</th>\n",
       "      <td>3</td>\n",
       "      <td>1</td>\n",
       "      <td>3</td>\n",
       "      <td>Heikkinen, Miss. Laina</td>\n",
       "      <td>female</td>\n",
       "      <td>26.0</td>\n",
       "      <td>0</td>\n",
       "      <td>0</td>\n",
       "      <td>STON/O2. 3101282</td>\n",
       "      <td>7.9250</td>\n",
       "      <td>NaN</td>\n",
       "      <td>S</td>\n",
       "    </tr>\n",
       "    <tr>\n",
       "      <th>3</th>\n",
       "      <td>4</td>\n",
       "      <td>1</td>\n",
       "      <td>1</td>\n",
       "      <td>Futrelle, Mrs. Jacques Heath (Lily May Peel)</td>\n",
       "      <td>female</td>\n",
       "      <td>35.0</td>\n",
       "      <td>1</td>\n",
       "      <td>0</td>\n",
       "      <td>113803</td>\n",
       "      <td>53.1000</td>\n",
       "      <td>C123</td>\n",
       "      <td>S</td>\n",
       "    </tr>\n",
       "    <tr>\n",
       "      <th>4</th>\n",
       "      <td>5</td>\n",
       "      <td>0</td>\n",
       "      <td>3</td>\n",
       "      <td>Allen, Mr. William Henry</td>\n",
       "      <td>male</td>\n",
       "      <td>35.0</td>\n",
       "      <td>0</td>\n",
       "      <td>0</td>\n",
       "      <td>373450</td>\n",
       "      <td>8.0500</td>\n",
       "      <td>NaN</td>\n",
       "      <td>S</td>\n",
       "    </tr>\n",
       "    <tr>\n",
       "      <th>...</th>\n",
       "      <td>...</td>\n",
       "      <td>...</td>\n",
       "      <td>...</td>\n",
       "      <td>...</td>\n",
       "      <td>...</td>\n",
       "      <td>...</td>\n",
       "      <td>...</td>\n",
       "      <td>...</td>\n",
       "      <td>...</td>\n",
       "      <td>...</td>\n",
       "      <td>...</td>\n",
       "      <td>...</td>\n",
       "    </tr>\n",
       "    <tr>\n",
       "      <th>886</th>\n",
       "      <td>887</td>\n",
       "      <td>0</td>\n",
       "      <td>2</td>\n",
       "      <td>Montvila, Rev. Juozas</td>\n",
       "      <td>male</td>\n",
       "      <td>27.0</td>\n",
       "      <td>0</td>\n",
       "      <td>0</td>\n",
       "      <td>211536</td>\n",
       "      <td>13.0000</td>\n",
       "      <td>NaN</td>\n",
       "      <td>S</td>\n",
       "    </tr>\n",
       "    <tr>\n",
       "      <th>887</th>\n",
       "      <td>888</td>\n",
       "      <td>1</td>\n",
       "      <td>1</td>\n",
       "      <td>Graham, Miss. Margaret Edith</td>\n",
       "      <td>female</td>\n",
       "      <td>19.0</td>\n",
       "      <td>0</td>\n",
       "      <td>0</td>\n",
       "      <td>112053</td>\n",
       "      <td>30.0000</td>\n",
       "      <td>B42</td>\n",
       "      <td>S</td>\n",
       "    </tr>\n",
       "    <tr>\n",
       "      <th>888</th>\n",
       "      <td>889</td>\n",
       "      <td>0</td>\n",
       "      <td>3</td>\n",
       "      <td>Johnston, Miss. Catherine Helen \"Carrie\"</td>\n",
       "      <td>female</td>\n",
       "      <td>NaN</td>\n",
       "      <td>1</td>\n",
       "      <td>2</td>\n",
       "      <td>W./C. 6607</td>\n",
       "      <td>23.4500</td>\n",
       "      <td>NaN</td>\n",
       "      <td>S</td>\n",
       "    </tr>\n",
       "    <tr>\n",
       "      <th>889</th>\n",
       "      <td>890</td>\n",
       "      <td>1</td>\n",
       "      <td>1</td>\n",
       "      <td>Behr, Mr. Karl Howell</td>\n",
       "      <td>male</td>\n",
       "      <td>26.0</td>\n",
       "      <td>0</td>\n",
       "      <td>0</td>\n",
       "      <td>111369</td>\n",
       "      <td>30.0000</td>\n",
       "      <td>C148</td>\n",
       "      <td>C</td>\n",
       "    </tr>\n",
       "    <tr>\n",
       "      <th>890</th>\n",
       "      <td>891</td>\n",
       "      <td>0</td>\n",
       "      <td>3</td>\n",
       "      <td>Dooley, Mr. Patrick</td>\n",
       "      <td>male</td>\n",
       "      <td>32.0</td>\n",
       "      <td>0</td>\n",
       "      <td>0</td>\n",
       "      <td>370376</td>\n",
       "      <td>7.7500</td>\n",
       "      <td>NaN</td>\n",
       "      <td>Q</td>\n",
       "    </tr>\n",
       "  </tbody>\n",
       "</table>\n",
       "<p>891 rows × 12 columns</p>\n",
       "</div>"
      ],
      "text/plain": [
       "     PassengerId  Survived  Pclass  \\\n",
       "0              1         0       3   \n",
       "1              2         1       1   \n",
       "2              3         1       3   \n",
       "3              4         1       1   \n",
       "4              5         0       3   \n",
       "..           ...       ...     ...   \n",
       "886          887         0       2   \n",
       "887          888         1       1   \n",
       "888          889         0       3   \n",
       "889          890         1       1   \n",
       "890          891         0       3   \n",
       "\n",
       "                                                  Name     Sex   Age  SibSp  \\\n",
       "0                              Braund, Mr. Owen Harris    male  22.0      1   \n",
       "1    Cumings, Mrs. John Bradley (Florence Briggs Th...  female  38.0      1   \n",
       "2                               Heikkinen, Miss. Laina  female  26.0      0   \n",
       "3         Futrelle, Mrs. Jacques Heath (Lily May Peel)  female  35.0      1   \n",
       "4                             Allen, Mr. William Henry    male  35.0      0   \n",
       "..                                                 ...     ...   ...    ...   \n",
       "886                              Montvila, Rev. Juozas    male  27.0      0   \n",
       "887                       Graham, Miss. Margaret Edith  female  19.0      0   \n",
       "888           Johnston, Miss. Catherine Helen \"Carrie\"  female   NaN      1   \n",
       "889                              Behr, Mr. Karl Howell    male  26.0      0   \n",
       "890                                Dooley, Mr. Patrick    male  32.0      0   \n",
       "\n",
       "     Parch            Ticket     Fare Cabin Embarked  \n",
       "0        0         A/5 21171   7.2500   NaN        S  \n",
       "1        0          PC 17599  71.2833   C85        C  \n",
       "2        0  STON/O2. 3101282   7.9250   NaN        S  \n",
       "3        0            113803  53.1000  C123        S  \n",
       "4        0            373450   8.0500   NaN        S  \n",
       "..     ...               ...      ...   ...      ...  \n",
       "886      0            211536  13.0000   NaN        S  \n",
       "887      0            112053  30.0000   B42        S  \n",
       "888      2        W./C. 6607  23.4500   NaN        S  \n",
       "889      0            111369  30.0000  C148        C  \n",
       "890      0            370376   7.7500   NaN        Q  \n",
       "\n",
       "[891 rows x 12 columns]"
      ]
     },
     "execution_count": 3,
     "metadata": {},
     "output_type": "execute_result"
    }
   ],
   "source": [
    "train_df"
   ]
  },
  {
   "cell_type": "code",
   "execution_count": 4,
   "id": "f1a9f517",
   "metadata": {
    "execution": {
     "iopub.execute_input": "2023-08-22T13:17:16.766728Z",
     "iopub.status.busy": "2023-08-22T13:17:16.765698Z",
     "iopub.status.idle": "2023-08-22T13:17:21.096176Z",
     "shell.execute_reply": "2023-08-22T13:17:21.094909Z"
    },
    "papermill": {
     "duration": 4.344673,
     "end_time": "2023-08-22T13:17:21.099244",
     "exception": false,
     "start_time": "2023-08-22T13:17:16.754571",
     "status": "completed"
    },
    "tags": []
   },
   "outputs": [
    {
     "name": "stderr",
     "output_type": "stream",
     "text": [
      "/opt/conda/lib/python3.10/site-packages/scipy/__init__.py:146: UserWarning: A NumPy version >=1.16.5 and <1.23.0 is required for this version of SciPy (detected version 1.23.5\n",
      "  warnings.warn(f\"A NumPy version >={np_minversion} and <{np_maxversion}\"\n"
     ]
    }
   ],
   "source": [
    "from fastai.data.load import DataLoader"
   ]
  },
  {
   "cell_type": "code",
   "execution_count": 5,
   "id": "2a250c8b",
   "metadata": {
    "execution": {
     "iopub.execute_input": "2023-08-22T13:17:21.122738Z",
     "iopub.status.busy": "2023-08-22T13:17:21.121188Z",
     "iopub.status.idle": "2023-08-22T13:17:22.091390Z",
     "shell.execute_reply": "2023-08-22T13:17:22.090508Z"
    },
    "papermill": {
     "duration": 0.984426,
     "end_time": "2023-08-22T13:17:22.093922",
     "exception": false,
     "start_time": "2023-08-22T13:17:21.109496",
     "status": "completed"
    },
    "tags": []
   },
   "outputs": [],
   "source": [
    "from fastai.tabular.all import *"
   ]
  },
  {
   "cell_type": "code",
   "execution_count": 6,
   "id": "a34c3c2d",
   "metadata": {
    "execution": {
     "iopub.execute_input": "2023-08-22T13:17:22.117076Z",
     "iopub.status.busy": "2023-08-22T13:17:22.115897Z",
     "iopub.status.idle": "2023-08-22T13:17:22.131962Z",
     "shell.execute_reply": "2023-08-22T13:17:22.130606Z"
    },
    "papermill": {
     "duration": 0.029881,
     "end_time": "2023-08-22T13:17:22.134489",
     "exception": false,
     "start_time": "2023-08-22T13:17:22.104608",
     "status": "completed"
    },
    "tags": []
   },
   "outputs": [
    {
     "data": {
      "text/plain": [
       "0      NaN\n",
       "1      ABC\n",
       "2      NaN\n",
       "3      ABC\n",
       "4      NaN\n",
       "      ... \n",
       "886    NaN\n",
       "887    ABC\n",
       "888    NaN\n",
       "889    ABC\n",
       "890    NaN\n",
       "Name: Cabin, Length: 891, dtype: object"
      ]
     },
     "execution_count": 6,
     "metadata": {},
     "output_type": "execute_result"
    }
   ],
   "source": [
    "train_df['Cabin'].str[0].map(dict(A=\"ABC\", B=\"ABC\", C=\"ABC\", D=\"DE\", E= \"DE\", F=\"FG\", G= \"FG\"))"
   ]
  },
  {
   "cell_type": "code",
   "execution_count": 7,
   "id": "042557dd",
   "metadata": {
    "execution": {
     "iopub.execute_input": "2023-08-22T13:17:22.156927Z",
     "iopub.status.busy": "2023-08-22T13:17:22.156487Z",
     "iopub.status.idle": "2023-08-22T13:17:22.170653Z",
     "shell.execute_reply": "2023-08-22T13:17:22.169826Z"
    },
    "papermill": {
     "duration": 0.028092,
     "end_time": "2023-08-22T13:17:22.172965",
     "exception": false,
     "start_time": "2023-08-22T13:17:22.144873",
     "status": "completed"
    },
    "tags": []
   },
   "outputs": [
    {
     "data": {
      "text/plain": [
       "1    547\n",
       "2    188\n",
       "3     63\n",
       "4     44\n",
       "7     21\n",
       "6     18\n",
       "5     10\n",
       "Name: Ticket, dtype: int64"
      ]
     },
     "execution_count": 7,
     "metadata": {},
     "output_type": "execute_result"
    }
   ],
   "source": [
    "train_df.groupby('Ticket')['Ticket'].transform('count').value_counts()"
   ]
  },
  {
   "cell_type": "code",
   "execution_count": 8,
   "id": "1fb3eac8",
   "metadata": {
    "execution": {
     "iopub.execute_input": "2023-08-22T13:17:22.195690Z",
     "iopub.status.busy": "2023-08-22T13:17:22.195014Z",
     "iopub.status.idle": "2023-08-22T13:17:22.209615Z",
     "shell.execute_reply": "2023-08-22T13:17:22.208476Z"
    },
    "papermill": {
     "duration": 0.028703,
     "end_time": "2023-08-22T13:17:22.212079",
     "exception": false,
     "start_time": "2023-08-22T13:17:22.183376",
     "status": "completed"
    },
    "tags": []
   },
   "outputs": [
    {
     "data": {
      "text/html": [
       "<div>\n",
       "<style scoped>\n",
       "    .dataframe tbody tr th:only-of-type {\n",
       "        vertical-align: middle;\n",
       "    }\n",
       "\n",
       "    .dataframe tbody tr th {\n",
       "        vertical-align: top;\n",
       "    }\n",
       "\n",
       "    .dataframe thead th {\n",
       "        text-align: right;\n",
       "    }\n",
       "</style>\n",
       "<table border=\"1\" class=\"dataframe\">\n",
       "  <thead>\n",
       "    <tr style=\"text-align: right;\">\n",
       "      <th></th>\n",
       "      <th>0</th>\n",
       "      <th>1</th>\n",
       "    </tr>\n",
       "  </thead>\n",
       "  <tbody>\n",
       "    <tr>\n",
       "      <th>0</th>\n",
       "      <td>Braund</td>\n",
       "      <td>Mr. Owen Harris</td>\n",
       "    </tr>\n",
       "    <tr>\n",
       "      <th>1</th>\n",
       "      <td>Cumings</td>\n",
       "      <td>Mrs. John Bradley (Florence Briggs Thayer)</td>\n",
       "    </tr>\n",
       "    <tr>\n",
       "      <th>2</th>\n",
       "      <td>Heikkinen</td>\n",
       "      <td>Miss. Laina</td>\n",
       "    </tr>\n",
       "    <tr>\n",
       "      <th>3</th>\n",
       "      <td>Futrelle</td>\n",
       "      <td>Mrs. Jacques Heath (Lily May Peel)</td>\n",
       "    </tr>\n",
       "    <tr>\n",
       "      <th>4</th>\n",
       "      <td>Allen</td>\n",
       "      <td>Mr. William Henry</td>\n",
       "    </tr>\n",
       "    <tr>\n",
       "      <th>...</th>\n",
       "      <td>...</td>\n",
       "      <td>...</td>\n",
       "    </tr>\n",
       "    <tr>\n",
       "      <th>886</th>\n",
       "      <td>Montvila</td>\n",
       "      <td>Rev. Juozas</td>\n",
       "    </tr>\n",
       "    <tr>\n",
       "      <th>887</th>\n",
       "      <td>Graham</td>\n",
       "      <td>Miss. Margaret Edith</td>\n",
       "    </tr>\n",
       "    <tr>\n",
       "      <th>888</th>\n",
       "      <td>Johnston</td>\n",
       "      <td>Miss. Catherine Helen \"Carrie\"</td>\n",
       "    </tr>\n",
       "    <tr>\n",
       "      <th>889</th>\n",
       "      <td>Behr</td>\n",
       "      <td>Mr. Karl Howell</td>\n",
       "    </tr>\n",
       "    <tr>\n",
       "      <th>890</th>\n",
       "      <td>Dooley</td>\n",
       "      <td>Mr. Patrick</td>\n",
       "    </tr>\n",
       "  </tbody>\n",
       "</table>\n",
       "<p>891 rows × 2 columns</p>\n",
       "</div>"
      ],
      "text/plain": [
       "             0                                           1\n",
       "0       Braund                             Mr. Owen Harris\n",
       "1      Cumings  Mrs. John Bradley (Florence Briggs Thayer)\n",
       "2    Heikkinen                                 Miss. Laina\n",
       "3     Futrelle          Mrs. Jacques Heath (Lily May Peel)\n",
       "4        Allen                           Mr. William Henry\n",
       "..         ...                                         ...\n",
       "886   Montvila                                 Rev. Juozas\n",
       "887     Graham                        Miss. Margaret Edith\n",
       "888   Johnston              Miss. Catherine Helen \"Carrie\"\n",
       "889       Behr                             Mr. Karl Howell\n",
       "890     Dooley                                 Mr. Patrick\n",
       "\n",
       "[891 rows x 2 columns]"
      ]
     },
     "execution_count": 8,
     "metadata": {},
     "output_type": "execute_result"
    }
   ],
   "source": [
    "train_df.Name.str.split(', ', expand=True)"
   ]
  },
  {
   "cell_type": "code",
   "execution_count": 9,
   "id": "2ed68af0",
   "metadata": {
    "execution": {
     "iopub.execute_input": "2023-08-22T13:17:22.235132Z",
     "iopub.status.busy": "2023-08-22T13:17:22.234656Z",
     "iopub.status.idle": "2023-08-22T13:17:22.316439Z",
     "shell.execute_reply": "2023-08-22T13:17:22.315128Z"
    },
    "papermill": {
     "duration": 0.096981,
     "end_time": "2023-08-22T13:17:22.319554",
     "exception": false,
     "start_time": "2023-08-22T13:17:22.222573",
     "status": "completed"
    },
    "tags": []
   },
   "outputs": [],
   "source": [
    "train_df.Name.str.split?"
   ]
  },
  {
   "cell_type": "code",
   "execution_count": 10,
   "id": "2510bf93",
   "metadata": {
    "execution": {
     "iopub.execute_input": "2023-08-22T13:17:22.342747Z",
     "iopub.status.busy": "2023-08-22T13:17:22.342330Z",
     "iopub.status.idle": "2023-08-22T13:17:22.360276Z",
     "shell.execute_reply": "2023-08-22T13:17:22.359104Z"
    },
    "papermill": {
     "duration": 0.032045,
     "end_time": "2023-08-22T13:17:22.362376",
     "exception": false,
     "start_time": "2023-08-22T13:17:22.330331",
     "status": "completed"
    },
    "tags": []
   },
   "outputs": [
    {
     "data": {
      "text/plain": [
       "Mr        517\n",
       "Miss      182\n",
       "Mrs       125\n",
       "Master     40\n",
       "NaN        27\n",
       "Name: 0, dtype: int64"
      ]
     },
     "execution_count": 10,
     "metadata": {},
     "output_type": "execute_result"
    }
   ],
   "source": [
    "x = train_df.Name.str.split(', ', expand=True)[1].str.split('.', expand=True)[0]\n",
    "    \n",
    "x.map(dict(Mr=\"Mr\", Miss=\"Miss\",Mrs=\"Mrs\",Master= \"Master\")).value_counts(dropna=False)"
   ]
  },
  {
   "cell_type": "code",
   "execution_count": 11,
   "id": "eeceee4d",
   "metadata": {
    "execution": {
     "iopub.execute_input": "2023-08-22T13:17:22.386693Z",
     "iopub.status.busy": "2023-08-22T13:17:22.385711Z",
     "iopub.status.idle": "2023-08-22T13:17:22.407179Z",
     "shell.execute_reply": "2023-08-22T13:17:22.406071Z"
    },
    "papermill": {
     "duration": 0.036724,
     "end_time": "2023-08-22T13:17:22.409914",
     "exception": false,
     "start_time": "2023-08-22T13:17:22.373190",
     "status": "completed"
    },
    "tags": []
   },
   "outputs": [],
   "source": [
    "def add_features(df):\n",
    "    df['Fare'] = np.log(df['Fare']+1)\n",
    "    \n",
    "    # We transform the cabin to the deck so that there is meaningful distinction between passengers\n",
    "    df['Deck'] = df['Cabin'].str[0].map(dict(A=\"ABC\", B=\"ABC\", C=\"ABC\", D=\"DE\", E= \"DE\", F=\"FG\", G= \"FG\"))\n",
    "    \n",
    "    # Number of family members\n",
    "    df['Family'] = df.SibSp+df.Parch\n",
    "    \n",
    "    df['Alone'] = df.Family==1\n",
    "    \n",
    "    # Count of type of tickets, maybe some particular type of tickets survived more\n",
    "    df['TicketFreq'] = df.groupby('Ticket')['Ticket'].transform('count')\n",
    "    \n",
    "    # We just keep the title, first we split the name from sirname and later we split name from title.\n",
    "    df['Title'] = df.Name.str.split(', ', expand=True)[1].str.split('.', expand=True)[0]\n",
    "    \n",
    "    # Mapping to a dict\n",
    "    df['Title'] = df. Title.map(dict(Mr=\"Mr\", Miss=\"Miss\",Mrs=\"Mrs\",Master= \"Master\"))\n",
    "add_features(train_df)"
   ]
  },
  {
   "cell_type": "code",
   "execution_count": 12,
   "id": "d78ca8dc",
   "metadata": {
    "execution": {
     "iopub.execute_input": "2023-08-22T13:17:22.433571Z",
     "iopub.status.busy": "2023-08-22T13:17:22.433145Z",
     "iopub.status.idle": "2023-08-22T13:17:22.461995Z",
     "shell.execute_reply": "2023-08-22T13:17:22.460849Z"
    },
    "papermill": {
     "duration": 0.04354,
     "end_time": "2023-08-22T13:17:22.464470",
     "exception": false,
     "start_time": "2023-08-22T13:17:22.420930",
     "status": "completed"
    },
    "tags": []
   },
   "outputs": [
    {
     "data": {
      "text/html": [
       "<div>\n",
       "<style scoped>\n",
       "    .dataframe tbody tr th:only-of-type {\n",
       "        vertical-align: middle;\n",
       "    }\n",
       "\n",
       "    .dataframe tbody tr th {\n",
       "        vertical-align: top;\n",
       "    }\n",
       "\n",
       "    .dataframe thead th {\n",
       "        text-align: right;\n",
       "    }\n",
       "</style>\n",
       "<table border=\"1\" class=\"dataframe\">\n",
       "  <thead>\n",
       "    <tr style=\"text-align: right;\">\n",
       "      <th></th>\n",
       "      <th>PassengerId</th>\n",
       "      <th>Survived</th>\n",
       "      <th>Pclass</th>\n",
       "      <th>Name</th>\n",
       "      <th>Sex</th>\n",
       "      <th>Age</th>\n",
       "      <th>SibSp</th>\n",
       "      <th>Parch</th>\n",
       "      <th>Ticket</th>\n",
       "      <th>Fare</th>\n",
       "      <th>Cabin</th>\n",
       "      <th>Embarked</th>\n",
       "      <th>Deck</th>\n",
       "      <th>Family</th>\n",
       "      <th>Alone</th>\n",
       "      <th>TicketFreq</th>\n",
       "      <th>Title</th>\n",
       "    </tr>\n",
       "  </thead>\n",
       "  <tbody>\n",
       "    <tr>\n",
       "      <th>0</th>\n",
       "      <td>1</td>\n",
       "      <td>0</td>\n",
       "      <td>3</td>\n",
       "      <td>Braund, Mr. Owen Harris</td>\n",
       "      <td>male</td>\n",
       "      <td>22.0</td>\n",
       "      <td>1</td>\n",
       "      <td>0</td>\n",
       "      <td>A/5 21171</td>\n",
       "      <td>2.110213</td>\n",
       "      <td>NaN</td>\n",
       "      <td>S</td>\n",
       "      <td>NaN</td>\n",
       "      <td>1</td>\n",
       "      <td>True</td>\n",
       "      <td>1</td>\n",
       "      <td>Mr</td>\n",
       "    </tr>\n",
       "    <tr>\n",
       "      <th>1</th>\n",
       "      <td>2</td>\n",
       "      <td>1</td>\n",
       "      <td>1</td>\n",
       "      <td>Cumings, Mrs. John Bradley (Florence Briggs Thayer)</td>\n",
       "      <td>female</td>\n",
       "      <td>38.0</td>\n",
       "      <td>1</td>\n",
       "      <td>0</td>\n",
       "      <td>PC 17599</td>\n",
       "      <td>4.280593</td>\n",
       "      <td>C85</td>\n",
       "      <td>C</td>\n",
       "      <td>ABC</td>\n",
       "      <td>1</td>\n",
       "      <td>True</td>\n",
       "      <td>1</td>\n",
       "      <td>Mrs</td>\n",
       "    </tr>\n",
       "    <tr>\n",
       "      <th>2</th>\n",
       "      <td>3</td>\n",
       "      <td>1</td>\n",
       "      <td>3</td>\n",
       "      <td>Heikkinen, Miss. Laina</td>\n",
       "      <td>female</td>\n",
       "      <td>26.0</td>\n",
       "      <td>0</td>\n",
       "      <td>0</td>\n",
       "      <td>STON/O2. 3101282</td>\n",
       "      <td>2.188856</td>\n",
       "      <td>NaN</td>\n",
       "      <td>S</td>\n",
       "      <td>NaN</td>\n",
       "      <td>0</td>\n",
       "      <td>False</td>\n",
       "      <td>1</td>\n",
       "      <td>Miss</td>\n",
       "    </tr>\n",
       "    <tr>\n",
       "      <th>3</th>\n",
       "      <td>4</td>\n",
       "      <td>1</td>\n",
       "      <td>1</td>\n",
       "      <td>Futrelle, Mrs. Jacques Heath (Lily May Peel)</td>\n",
       "      <td>female</td>\n",
       "      <td>35.0</td>\n",
       "      <td>1</td>\n",
       "      <td>0</td>\n",
       "      <td>113803</td>\n",
       "      <td>3.990834</td>\n",
       "      <td>C123</td>\n",
       "      <td>S</td>\n",
       "      <td>ABC</td>\n",
       "      <td>1</td>\n",
       "      <td>True</td>\n",
       "      <td>2</td>\n",
       "      <td>Mrs</td>\n",
       "    </tr>\n",
       "    <tr>\n",
       "      <th>4</th>\n",
       "      <td>5</td>\n",
       "      <td>0</td>\n",
       "      <td>3</td>\n",
       "      <td>Allen, Mr. William Henry</td>\n",
       "      <td>male</td>\n",
       "      <td>35.0</td>\n",
       "      <td>0</td>\n",
       "      <td>0</td>\n",
       "      <td>373450</td>\n",
       "      <td>2.202765</td>\n",
       "      <td>NaN</td>\n",
       "      <td>S</td>\n",
       "      <td>NaN</td>\n",
       "      <td>0</td>\n",
       "      <td>False</td>\n",
       "      <td>1</td>\n",
       "      <td>Mr</td>\n",
       "    </tr>\n",
       "    <tr>\n",
       "      <th>...</th>\n",
       "      <td>...</td>\n",
       "      <td>...</td>\n",
       "      <td>...</td>\n",
       "      <td>...</td>\n",
       "      <td>...</td>\n",
       "      <td>...</td>\n",
       "      <td>...</td>\n",
       "      <td>...</td>\n",
       "      <td>...</td>\n",
       "      <td>...</td>\n",
       "      <td>...</td>\n",
       "      <td>...</td>\n",
       "      <td>...</td>\n",
       "      <td>...</td>\n",
       "      <td>...</td>\n",
       "      <td>...</td>\n",
       "      <td>...</td>\n",
       "    </tr>\n",
       "    <tr>\n",
       "      <th>886</th>\n",
       "      <td>887</td>\n",
       "      <td>0</td>\n",
       "      <td>2</td>\n",
       "      <td>Montvila, Rev. Juozas</td>\n",
       "      <td>male</td>\n",
       "      <td>27.0</td>\n",
       "      <td>0</td>\n",
       "      <td>0</td>\n",
       "      <td>211536</td>\n",
       "      <td>2.639057</td>\n",
       "      <td>NaN</td>\n",
       "      <td>S</td>\n",
       "      <td>NaN</td>\n",
       "      <td>0</td>\n",
       "      <td>False</td>\n",
       "      <td>1</td>\n",
       "      <td>NaN</td>\n",
       "    </tr>\n",
       "    <tr>\n",
       "      <th>887</th>\n",
       "      <td>888</td>\n",
       "      <td>1</td>\n",
       "      <td>1</td>\n",
       "      <td>Graham, Miss. Margaret Edith</td>\n",
       "      <td>female</td>\n",
       "      <td>19.0</td>\n",
       "      <td>0</td>\n",
       "      <td>0</td>\n",
       "      <td>112053</td>\n",
       "      <td>3.433987</td>\n",
       "      <td>B42</td>\n",
       "      <td>S</td>\n",
       "      <td>ABC</td>\n",
       "      <td>0</td>\n",
       "      <td>False</td>\n",
       "      <td>1</td>\n",
       "      <td>Miss</td>\n",
       "    </tr>\n",
       "    <tr>\n",
       "      <th>888</th>\n",
       "      <td>889</td>\n",
       "      <td>0</td>\n",
       "      <td>3</td>\n",
       "      <td>Johnston, Miss. Catherine Helen \"Carrie\"</td>\n",
       "      <td>female</td>\n",
       "      <td>NaN</td>\n",
       "      <td>1</td>\n",
       "      <td>2</td>\n",
       "      <td>W./C. 6607</td>\n",
       "      <td>3.196630</td>\n",
       "      <td>NaN</td>\n",
       "      <td>S</td>\n",
       "      <td>NaN</td>\n",
       "      <td>3</td>\n",
       "      <td>False</td>\n",
       "      <td>2</td>\n",
       "      <td>Miss</td>\n",
       "    </tr>\n",
       "    <tr>\n",
       "      <th>889</th>\n",
       "      <td>890</td>\n",
       "      <td>1</td>\n",
       "      <td>1</td>\n",
       "      <td>Behr, Mr. Karl Howell</td>\n",
       "      <td>male</td>\n",
       "      <td>26.0</td>\n",
       "      <td>0</td>\n",
       "      <td>0</td>\n",
       "      <td>111369</td>\n",
       "      <td>3.433987</td>\n",
       "      <td>C148</td>\n",
       "      <td>C</td>\n",
       "      <td>ABC</td>\n",
       "      <td>0</td>\n",
       "      <td>False</td>\n",
       "      <td>1</td>\n",
       "      <td>Mr</td>\n",
       "    </tr>\n",
       "    <tr>\n",
       "      <th>890</th>\n",
       "      <td>891</td>\n",
       "      <td>0</td>\n",
       "      <td>3</td>\n",
       "      <td>Dooley, Mr. Patrick</td>\n",
       "      <td>male</td>\n",
       "      <td>32.0</td>\n",
       "      <td>0</td>\n",
       "      <td>0</td>\n",
       "      <td>370376</td>\n",
       "      <td>2.169054</td>\n",
       "      <td>NaN</td>\n",
       "      <td>Q</td>\n",
       "      <td>NaN</td>\n",
       "      <td>0</td>\n",
       "      <td>False</td>\n",
       "      <td>1</td>\n",
       "      <td>Mr</td>\n",
       "    </tr>\n",
       "  </tbody>\n",
       "</table>\n",
       "<p>891 rows × 17 columns</p>\n",
       "</div>"
      ],
      "text/plain": [
       "     PassengerId  Survived  Pclass  \\\n",
       "0              1         0       3   \n",
       "1              2         1       1   \n",
       "2              3         1       3   \n",
       "3              4         1       1   \n",
       "4              5         0       3   \n",
       "..           ...       ...     ...   \n",
       "886          887         0       2   \n",
       "887          888         1       1   \n",
       "888          889         0       3   \n",
       "889          890         1       1   \n",
       "890          891         0       3   \n",
       "\n",
       "                                                    Name     Sex   Age  SibSp  \\\n",
       "0                                Braund, Mr. Owen Harris    male  22.0      1   \n",
       "1    Cumings, Mrs. John Bradley (Florence Briggs Thayer)  female  38.0      1   \n",
       "2                                 Heikkinen, Miss. Laina  female  26.0      0   \n",
       "3           Futrelle, Mrs. Jacques Heath (Lily May Peel)  female  35.0      1   \n",
       "4                               Allen, Mr. William Henry    male  35.0      0   \n",
       "..                                                   ...     ...   ...    ...   \n",
       "886                                Montvila, Rev. Juozas    male  27.0      0   \n",
       "887                         Graham, Miss. Margaret Edith  female  19.0      0   \n",
       "888             Johnston, Miss. Catherine Helen \"Carrie\"  female   NaN      1   \n",
       "889                                Behr, Mr. Karl Howell    male  26.0      0   \n",
       "890                                  Dooley, Mr. Patrick    male  32.0      0   \n",
       "\n",
       "     Parch            Ticket      Fare Cabin Embarked Deck  Family  Alone  \\\n",
       "0        0         A/5 21171  2.110213   NaN        S  NaN       1   True   \n",
       "1        0          PC 17599  4.280593   C85        C  ABC       1   True   \n",
       "2        0  STON/O2. 3101282  2.188856   NaN        S  NaN       0  False   \n",
       "3        0            113803  3.990834  C123        S  ABC       1   True   \n",
       "4        0            373450  2.202765   NaN        S  NaN       0  False   \n",
       "..     ...               ...       ...   ...      ...  ...     ...    ...   \n",
       "886      0            211536  2.639057   NaN        S  NaN       0  False   \n",
       "887      0            112053  3.433987   B42        S  ABC       0  False   \n",
       "888      2        W./C. 6607  3.196630   NaN        S  NaN       3  False   \n",
       "889      0            111369  3.433987  C148        C  ABC       0  False   \n",
       "890      0            370376  2.169054   NaN        Q  NaN       0  False   \n",
       "\n",
       "     TicketFreq Title  \n",
       "0             1    Mr  \n",
       "1             1   Mrs  \n",
       "2             1  Miss  \n",
       "3             2   Mrs  \n",
       "4             1    Mr  \n",
       "..          ...   ...  \n",
       "886           1   NaN  \n",
       "887           1  Miss  \n",
       "888           2  Miss  \n",
       "889           1    Mr  \n",
       "890           1    Mr  \n",
       "\n",
       "[891 rows x 17 columns]"
      ]
     },
     "execution_count": 12,
     "metadata": {},
     "output_type": "execute_result"
    }
   ],
   "source": [
    "train_df"
   ]
  },
  {
   "cell_type": "code",
   "execution_count": 13,
   "id": "52ad37de",
   "metadata": {
    "execution": {
     "iopub.execute_input": "2023-08-22T13:17:22.489333Z",
     "iopub.status.busy": "2023-08-22T13:17:22.488922Z",
     "iopub.status.idle": "2023-08-22T13:17:22.528119Z",
     "shell.execute_reply": "2023-08-22T13:17:22.527008Z"
    },
    "papermill": {
     "duration": 0.054672,
     "end_time": "2023-08-22T13:17:22.530653",
     "exception": false,
     "start_time": "2023-08-22T13:17:22.475981",
     "status": "completed"
    },
    "tags": []
   },
   "outputs": [],
   "source": [
    "splits = RandomSplitter(seed=42)(train_df)"
   ]
  },
  {
   "cell_type": "code",
   "execution_count": 14,
   "id": "300e1fd3",
   "metadata": {
    "execution": {
     "iopub.execute_input": "2023-08-22T13:17:22.556016Z",
     "iopub.status.busy": "2023-08-22T13:17:22.555264Z",
     "iopub.status.idle": "2023-08-22T13:17:22.561061Z",
     "shell.execute_reply": "2023-08-22T13:17:22.560246Z"
    },
    "papermill": {
     "duration": 0.020925,
     "end_time": "2023-08-22T13:17:22.563260",
     "exception": false,
     "start_time": "2023-08-22T13:17:22.542335",
     "status": "completed"
    },
    "tags": []
   },
   "outputs": [
    {
     "data": {
      "text/plain": [
       "((#713) [788,525,821,253,374,98,215,313,281,305...],\n",
       " (#178) [303,778,531,385,134,476,691,443,386,128...])"
      ]
     },
     "execution_count": 14,
     "metadata": {},
     "output_type": "execute_result"
    }
   ],
   "source": [
    "splits"
   ]
  },
  {
   "cell_type": "code",
   "execution_count": 15,
   "id": "be5a2672",
   "metadata": {
    "execution": {
     "iopub.execute_input": "2023-08-22T13:17:22.588788Z",
     "iopub.status.busy": "2023-08-22T13:17:22.588179Z",
     "iopub.status.idle": "2023-08-22T13:17:22.680460Z",
     "shell.execute_reply": "2023-08-22T13:17:22.679171Z"
    },
    "papermill": {
     "duration": 0.108535,
     "end_time": "2023-08-22T13:17:22.683552",
     "exception": false,
     "start_time": "2023-08-22T13:17:22.575017",
     "status": "completed"
    },
    "tags": []
   },
   "outputs": [],
   "source": [
    "dls = TabularPandas(\n",
    "    train_df, splits=splits,\n",
    "    procs = [Categorify, FillMissing, Normalize],\n",
    "    cat_names = ['Title', 'Deck', 'Sex', 'Embarked', 'Pclass'],\n",
    "    cont_names = ['Age', 'SibSp', 'Parch', 'Fare', 'Alone', 'TicketFreq', 'Family'],\n",
    "    y_names='Survived', y_block = CategoryBlock(),\n",
    ").dataloaders(path='.')"
   ]
  },
  {
   "cell_type": "code",
   "execution_count": 16,
   "id": "68121069",
   "metadata": {
    "execution": {
     "iopub.execute_input": "2023-08-22T13:17:22.708951Z",
     "iopub.status.busy": "2023-08-22T13:17:22.708542Z",
     "iopub.status.idle": "2023-08-22T13:17:22.758001Z",
     "shell.execute_reply": "2023-08-22T13:17:22.756763Z"
    },
    "papermill": {
     "duration": 0.065479,
     "end_time": "2023-08-22T13:17:22.760718",
     "exception": false,
     "start_time": "2023-08-22T13:17:22.695239",
     "status": "completed"
    },
    "tags": []
   },
   "outputs": [],
   "source": [
    "learner = tabular_learner(dls, metrics=accuracy, layers=[20, 10])"
   ]
  },
  {
   "cell_type": "code",
   "execution_count": 17,
   "id": "4a3da02c",
   "metadata": {
    "execution": {
     "iopub.execute_input": "2023-08-22T13:17:22.786081Z",
     "iopub.status.busy": "2023-08-22T13:17:22.785592Z",
     "iopub.status.idle": "2023-08-22T13:17:25.176939Z",
     "shell.execute_reply": "2023-08-22T13:17:25.175742Z"
    },
    "papermill": {
     "duration": 2.406902,
     "end_time": "2023-08-22T13:17:25.179522",
     "exception": false,
     "start_time": "2023-08-22T13:17:22.772620",
     "status": "completed"
    },
    "tags": []
   },
   "outputs": [
    {
     "data": {
      "text/html": [
       "\n",
       "<style>\n",
       "    /* Turns off some styling */\n",
       "    progress {\n",
       "        /* gets rid of default border in Firefox and Opera. */\n",
       "        border: none;\n",
       "        /* Needs to be in here for Safari polyfill so background images work as expected. */\n",
       "        background-size: auto;\n",
       "    }\n",
       "    progress:not([value]), progress:not([value])::-webkit-progress-bar {\n",
       "        background: repeating-linear-gradient(45deg, #7e7e7e, #7e7e7e 10px, #5c5c5c 10px, #5c5c5c 20px);\n",
       "    }\n",
       "    .progress-bar-interrupted, .progress-bar-interrupted::-webkit-progress-bar {\n",
       "        background: #F44336;\n",
       "    }\n",
       "</style>\n"
      ],
      "text/plain": [
       "<IPython.core.display.HTML object>"
      ]
     },
     "metadata": {},
     "output_type": "display_data"
    },
    {
     "data": {
      "text/html": [],
      "text/plain": [
       "<IPython.core.display.HTML object>"
      ]
     },
     "metadata": {},
     "output_type": "display_data"
    },
    {
     "data": {
      "text/plain": [
       "SuggestedLRs(slide=0.10000000149011612, valley=0.007585775572806597)"
      ]
     },
     "execution_count": 17,
     "metadata": {},
     "output_type": "execute_result"
    },
    {
     "data": {
      "image/png": "[encoded data removed]",
      "text/plain": [
       "<Figure size 640x480 with 1 Axes>"
      ]
     },
     "metadata": {},
     "output_type": "display_data"
    }
   ],
   "source": [
    "learner.lr_find(suggest_funcs=(slide, valley))"
   ]
  },
  {
   "cell_type": "code",
   "execution_count": 18,
   "id": "dba3488d",
   "metadata": {
    "execution": {
     "iopub.execute_input": "2023-08-22T13:17:25.208414Z",
     "iopub.status.busy": "2023-08-22T13:17:25.207972Z",
     "iopub.status.idle": "2023-08-22T13:17:25.217149Z",
     "shell.execute_reply": "2023-08-22T13:17:25.216309Z"
    },
    "papermill": {
     "duration": 0.025605,
     "end_time": "2023-08-22T13:17:25.219336",
     "exception": false,
     "start_time": "2023-08-22T13:17:25.193731",
     "status": "completed"
    },
    "tags": []
   },
   "outputs": [],
   "source": [
    "learner2 = tabular_learner(dls, metrics=accuracy, layers=[30, 10])"
   ]
  },
  {
   "cell_type": "code",
   "execution_count": 19,
   "id": "75f02233",
   "metadata": {
    "execution": {
     "iopub.execute_input": "2023-08-22T13:17:25.246829Z",
     "iopub.status.busy": "2023-08-22T13:17:25.246370Z",
     "iopub.status.idle": "2023-08-22T13:17:27.571938Z",
     "shell.execute_reply": "2023-08-22T13:17:27.570927Z"
    },
    "papermill": {
     "duration": 2.342241,
     "end_time": "2023-08-22T13:17:27.574336",
     "exception": false,
     "start_time": "2023-08-22T13:17:25.232095",
     "status": "completed"
    },
    "tags": []
   },
   "outputs": [
    {
     "data": {
      "text/html": [
       "\n",
       "<style>\n",
       "    /* Turns off some styling */\n",
       "    progress {\n",
       "        /* gets rid of default border in Firefox and Opera. */\n",
       "        border: none;\n",
       "        /* Needs to be in here for Safari polyfill so background images work as expected. */\n",
       "        background-size: auto;\n",
       "    }\n",
       "    progress:not([value]), progress:not([value])::-webkit-progress-bar {\n",
       "        background: repeating-linear-gradient(45deg, #7e7e7e, #7e7e7e 10px, #5c5c5c 10px, #5c5c5c 20px);\n",
       "    }\n",
       "    .progress-bar-interrupted, .progress-bar-interrupted::-webkit-progress-bar {\n",
       "        background: #F44336;\n",
       "    }\n",
       "</style>\n"
      ],
      "text/plain": [
       "<IPython.core.display.HTML object>"
      ]
     },
     "metadata": {},
     "output_type": "display_data"
    },
    {
     "data": {
      "text/html": [],
      "text/plain": [
       "<IPython.core.display.HTML object>"
      ]
     },
     "metadata": {},
     "output_type": "display_data"
    },
    {
     "data": {
      "text/plain": [
       "SuggestedLRs(slide=0.14454397559165955, valley=0.010964781977236271)"
      ]
     },
     "execution_count": 19,
     "metadata": {},
     "output_type": "execute_result"
    },
    {
     "data": {
      "image/png": "[encoded data removed]",
      "text/plain": [
       "<Figure size 640x480 with 1 Axes>"
      ]
     },
     "metadata": {},
     "output_type": "display_data"
    }
   ],
   "source": [
    "learner2.lr_find(suggest_funcs=(slide, valley))"
   ]
  },
  {
   "cell_type": "code",
   "execution_count": 20,
   "id": "73cd4045",
   "metadata": {
    "execution": {
     "iopub.execute_input": "2023-08-22T13:17:27.605165Z",
     "iopub.status.busy": "2023-08-22T13:17:27.604462Z",
     "iopub.status.idle": "2023-08-22T13:17:27.613168Z",
     "shell.execute_reply": "2023-08-22T13:17:27.611976Z"
    },
    "papermill": {
     "duration": 0.026932,
     "end_time": "2023-08-22T13:17:27.615511",
     "exception": false,
     "start_time": "2023-08-22T13:17:27.588579",
     "status": "completed"
    },
    "tags": []
   },
   "outputs": [],
   "source": [
    "learner2.lr_find?"
   ]
  },
  {
   "cell_type": "code",
   "execution_count": 21,
   "id": "5a9739c9",
   "metadata": {
    "execution": {
     "iopub.execute_input": "2023-08-22T13:17:27.645116Z",
     "iopub.status.busy": "2023-08-22T13:17:27.644419Z",
     "iopub.status.idle": "2023-08-22T13:17:30.769739Z",
     "shell.execute_reply": "2023-08-22T13:17:30.768643Z"
    },
    "papermill": {
     "duration": 3.142853,
     "end_time": "2023-08-22T13:17:30.772177",
     "exception": false,
     "start_time": "2023-08-22T13:17:27.629324",
     "status": "completed"
    },
    "tags": []
   },
   "outputs": [
    {
     "data": {
      "text/html": [
       "\n",
       "<style>\n",
       "    /* Turns off some styling */\n",
       "    progress {\n",
       "        /* gets rid of default border in Firefox and Opera. */\n",
       "        border: none;\n",
       "        /* Needs to be in here for Safari polyfill so background images work as expected. */\n",
       "        background-size: auto;\n",
       "    }\n",
       "    progress:not([value]), progress:not([value])::-webkit-progress-bar {\n",
       "        background: repeating-linear-gradient(45deg, #7e7e7e, #7e7e7e 10px, #5c5c5c 10px, #5c5c5c 20px);\n",
       "    }\n",
       "    .progress-bar-interrupted, .progress-bar-interrupted::-webkit-progress-bar {\n",
       "        background: #F44336;\n",
       "    }\n",
       "</style>\n"
      ],
      "text/plain": [
       "<IPython.core.display.HTML object>"
      ]
     },
     "metadata": {},
     "output_type": "display_data"
    },
    {
     "data": {
      "text/html": [
       "<table border=\"1\" class=\"dataframe\">\n",
       "  <thead>\n",
       "    <tr style=\"text-align: left;\">\n",
       "      <th>epoch</th>\n",
       "      <th>train_loss</th>\n",
       "      <th>valid_loss</th>\n",
       "      <th>accuracy</th>\n",
       "      <th>time</th>\n",
       "    </tr>\n",
       "  </thead>\n",
       "  <tbody>\n",
       "    <tr>\n",
       "      <td>0</td>\n",
       "      <td>0.569846</td>\n",
       "      <td>0.963805</td>\n",
       "      <td>0.713483</td>\n",
       "      <td>00:00</td>\n",
       "    </tr>\n",
       "    <tr>\n",
       "      <td>1</td>\n",
       "      <td>0.506753</td>\n",
       "      <td>0.586503</td>\n",
       "      <td>0.831461</td>\n",
       "      <td>00:00</td>\n",
       "    </tr>\n",
       "    <tr>\n",
       "      <td>2</td>\n",
       "      <td>0.485557</td>\n",
       "      <td>0.448718</td>\n",
       "      <td>0.780899</td>\n",
       "      <td>00:00</td>\n",
       "    </tr>\n",
       "    <tr>\n",
       "      <td>3</td>\n",
       "      <td>0.464377</td>\n",
       "      <td>0.417381</td>\n",
       "      <td>0.825843</td>\n",
       "      <td>00:00</td>\n",
       "    </tr>\n",
       "    <tr>\n",
       "      <td>4</td>\n",
       "      <td>0.443274</td>\n",
       "      <td>0.434572</td>\n",
       "      <td>0.831461</td>\n",
       "      <td>00:00</td>\n",
       "    </tr>\n",
       "    <tr>\n",
       "      <td>5</td>\n",
       "      <td>0.429755</td>\n",
       "      <td>0.425151</td>\n",
       "      <td>0.825843</td>\n",
       "      <td>00:00</td>\n",
       "    </tr>\n",
       "    <tr>\n",
       "      <td>6</td>\n",
       "      <td>0.418274</td>\n",
       "      <td>0.418768</td>\n",
       "      <td>0.814607</td>\n",
       "      <td>00:00</td>\n",
       "    </tr>\n",
       "    <tr>\n",
       "      <td>7</td>\n",
       "      <td>0.406999</td>\n",
       "      <td>0.413751</td>\n",
       "      <td>0.831461</td>\n",
       "      <td>00:00</td>\n",
       "    </tr>\n",
       "    <tr>\n",
       "      <td>8</td>\n",
       "      <td>0.400406</td>\n",
       "      <td>0.426343</td>\n",
       "      <td>0.814607</td>\n",
       "      <td>00:00</td>\n",
       "    </tr>\n",
       "    <tr>\n",
       "      <td>9</td>\n",
       "      <td>0.396003</td>\n",
       "      <td>0.436976</td>\n",
       "      <td>0.808989</td>\n",
       "      <td>00:00</td>\n",
       "    </tr>\n",
       "    <tr>\n",
       "      <td>10</td>\n",
       "      <td>0.392152</td>\n",
       "      <td>0.433790</td>\n",
       "      <td>0.848315</td>\n",
       "      <td>00:00</td>\n",
       "    </tr>\n",
       "    <tr>\n",
       "      <td>11</td>\n",
       "      <td>0.392790</td>\n",
       "      <td>0.420788</td>\n",
       "      <td>0.814607</td>\n",
       "      <td>00:00</td>\n",
       "    </tr>\n",
       "    <tr>\n",
       "      <td>12</td>\n",
       "      <td>0.390010</td>\n",
       "      <td>0.451859</td>\n",
       "      <td>0.792135</td>\n",
       "      <td>00:00</td>\n",
       "    </tr>\n",
       "    <tr>\n",
       "      <td>13</td>\n",
       "      <td>0.385227</td>\n",
       "      <td>0.447063</td>\n",
       "      <td>0.825843</td>\n",
       "      <td>00:00</td>\n",
       "    </tr>\n",
       "    <tr>\n",
       "      <td>14</td>\n",
       "      <td>0.391311</td>\n",
       "      <td>0.412834</td>\n",
       "      <td>0.820225</td>\n",
       "      <td>00:00</td>\n",
       "    </tr>\n",
       "    <tr>\n",
       "      <td>15</td>\n",
       "      <td>0.392435</td>\n",
       "      <td>0.420872</td>\n",
       "      <td>0.831461</td>\n",
       "      <td>00:00</td>\n",
       "    </tr>\n",
       "    <tr>\n",
       "      <td>16</td>\n",
       "      <td>0.390364</td>\n",
       "      <td>0.401960</td>\n",
       "      <td>0.820225</td>\n",
       "      <td>00:00</td>\n",
       "    </tr>\n",
       "    <tr>\n",
       "      <td>17</td>\n",
       "      <td>0.385006</td>\n",
       "      <td>0.423323</td>\n",
       "      <td>0.831461</td>\n",
       "      <td>00:00</td>\n",
       "    </tr>\n",
       "    <tr>\n",
       "      <td>18</td>\n",
       "      <td>0.379637</td>\n",
       "      <td>0.453891</td>\n",
       "      <td>0.837079</td>\n",
       "      <td>00:00</td>\n",
       "    </tr>\n",
       "  </tbody>\n",
       "</table>"
      ],
      "text/plain": [
       "<IPython.core.display.HTML object>"
      ]
     },
     "metadata": {},
     "output_type": "display_data"
    }
   ],
   "source": [
    "learner2.fit(19, lr=0.07)"
   ]
  },
  {
   "cell_type": "code",
   "execution_count": 22,
   "id": "a9700b9d",
   "metadata": {
    "execution": {
     "iopub.execute_input": "2023-08-22T13:17:30.802443Z",
     "iopub.status.busy": "2023-08-22T13:17:30.802035Z",
     "iopub.status.idle": "2023-08-22T13:17:30.818529Z",
     "shell.execute_reply": "2023-08-22T13:17:30.817281Z"
    },
    "papermill": {
     "duration": 0.034964,
     "end_time": "2023-08-22T13:17:30.821444",
     "exception": false,
     "start_time": "2023-08-22T13:17:30.786480",
     "status": "completed"
    },
    "tags": []
   },
   "outputs": [],
   "source": [
    "test_df = pd.read_csv('/kaggle/input/titanic/test.csv')"
   ]
  },
  {
   "cell_type": "code",
   "execution_count": 23,
   "id": "2bb17bfd",
   "metadata": {
    "execution": {
     "iopub.execute_input": "2023-08-22T13:17:30.852165Z",
     "iopub.status.busy": "2023-08-22T13:17:30.851763Z",
     "iopub.status.idle": "2023-08-22T13:17:30.858203Z",
     "shell.execute_reply": "2023-08-22T13:17:30.856955Z"
    },
    "papermill": {
     "duration": 0.024688,
     "end_time": "2023-08-22T13:17:30.860788",
     "exception": false,
     "start_time": "2023-08-22T13:17:30.836100",
     "status": "completed"
    },
    "tags": []
   },
   "outputs": [],
   "source": [
    "test_df['Fare'] = test_df.Fare.fillna(0)"
   ]
  },
  {
   "cell_type": "code",
   "execution_count": 24,
   "id": "4f6107f9",
   "metadata": {
    "execution": {
     "iopub.execute_input": "2023-08-22T13:17:30.891222Z",
     "iopub.status.busy": "2023-08-22T13:17:30.890822Z",
     "iopub.status.idle": "2023-08-22T13:17:30.906942Z",
     "shell.execute_reply": "2023-08-22T13:17:30.905726Z"
    },
    "papermill": {
     "duration": 0.034369,
     "end_time": "2023-08-22T13:17:30.909497",
     "exception": false,
     "start_time": "2023-08-22T13:17:30.875128",
     "status": "completed"
    },
    "tags": []
   },
   "outputs": [],
   "source": [
    "add_features(test_df)"
   ]
  },
  {
   "cell_type": "code",
   "execution_count": 25,
   "id": "9cd399fb",
   "metadata": {
    "execution": {
     "iopub.execute_input": "2023-08-22T13:17:30.939927Z",
     "iopub.status.busy": "2023-08-22T13:17:30.939509Z",
     "iopub.status.idle": "2023-08-22T13:17:30.963543Z",
     "shell.execute_reply": "2023-08-22T13:17:30.962381Z"
    },
    "papermill": {
     "duration": 0.042311,
     "end_time": "2023-08-22T13:17:30.966396",
     "exception": false,
     "start_time": "2023-08-22T13:17:30.924085",
     "status": "completed"
    },
    "tags": []
   },
   "outputs": [],
   "source": [
    "test_dls = learner2.dls.test_dl(test_df)"
   ]
  },
  {
   "cell_type": "code",
   "execution_count": 26,
   "id": "5b43ff95",
   "metadata": {
    "execution": {
     "iopub.execute_input": "2023-08-22T13:17:30.996698Z",
     "iopub.status.busy": "2023-08-22T13:17:30.996295Z",
     "iopub.status.idle": "2023-08-22T13:17:31.078419Z",
     "shell.execute_reply": "2023-08-22T13:17:31.077290Z"
    },
    "papermill": {
     "duration": 0.100224,
     "end_time": "2023-08-22T13:17:31.080863",
     "exception": false,
     "start_time": "2023-08-22T13:17:30.980639",
     "status": "completed"
    },
    "tags": []
   },
   "outputs": [
    {
     "data": {
      "text/html": [
       "\n",
       "<style>\n",
       "    /* Turns off some styling */\n",
       "    progress {\n",
       "        /* gets rid of default border in Firefox and Opera. */\n",
       "        border: none;\n",
       "        /* Needs to be in here for Safari polyfill so background images work as expected. */\n",
       "        background-size: auto;\n",
       "    }\n",
       "    progress:not([value]), progress:not([value])::-webkit-progress-bar {\n",
       "        background: repeating-linear-gradient(45deg, #7e7e7e, #7e7e7e 10px, #5c5c5c 10px, #5c5c5c 20px);\n",
       "    }\n",
       "    .progress-bar-interrupted, .progress-bar-interrupted::-webkit-progress-bar {\n",
       "        background: #F44336;\n",
       "    }\n",
       "</style>\n"
      ],
      "text/plain": [
       "<IPython.core.display.HTML object>"
      ]
     },
     "metadata": {},
     "output_type": "display_data"
    },
    {
     "data": {
      "text/html": [],
      "text/plain": [
       "<IPython.core.display.HTML object>"
      ]
     },
     "metadata": {},
     "output_type": "display_data"
    }
   ],
   "source": [
    "preds,_ = learner2.get_preds(dl=test_dls)"
   ]
  },
  {
   "cell_type": "code",
   "execution_count": 27,
   "id": "4a691d7a",
   "metadata": {
    "execution": {
     "iopub.execute_input": "2023-08-22T13:17:31.111797Z",
     "iopub.status.busy": "2023-08-22T13:17:31.111362Z",
     "iopub.status.idle": "2023-08-22T13:17:31.124560Z",
     "shell.execute_reply": "2023-08-22T13:17:31.123463Z"
    },
    "papermill": {
     "duration": 0.031878,
     "end_time": "2023-08-22T13:17:31.127270",
     "exception": false,
     "start_time": "2023-08-22T13:17:31.095392",
     "status": "completed"
    },
    "tags": []
   },
   "outputs": [],
   "source": [
    "test_df['Survived'] = (preds[:,1]>0.5).int()\n",
    "sub_df = test_df[['PassengerId','Survived']]\n",
    "sub_df.to_csv('submission.csv', index=False)"
   ]
  },
  {
   "cell_type": "code",
   "execution_count": 28,
   "id": "b4cb4ada",
   "metadata": {
    "execution": {
     "iopub.execute_input": "2023-08-22T13:17:31.159780Z",
     "iopub.status.busy": "2023-08-22T13:17:31.158638Z",
     "iopub.status.idle": "2023-08-22T13:17:32.260511Z",
     "shell.execute_reply": "2023-08-22T13:17:32.259138Z"
    },
    "papermill": {
     "duration": 1.121273,
     "end_time": "2023-08-22T13:17:32.263396",
     "exception": false,
     "start_time": "2023-08-22T13:17:31.142123",
     "status": "completed"
    },
    "tags": []
   },
   "outputs": [
    {
     "name": "stdout",
     "output_type": "stream",
     "text": [
      "PassengerId,Survived\r\n",
      "892,0\r\n",
      "893,1\r\n",
      "894,0\r\n",
      "895,0\r\n",
      "896,1\r\n",
      "897,0\r\n",
      "898,1\r\n",
      "899,0\r\n",
      "900,1\r\n"
     ]
    }
   ],
   "source": [
    "!head submission.csv"
   ]
  },
  {
   "cell_type": "code",
   "execution_count": null,
   "id": "758e7957",
   "metadata": {
    "papermill": {
     "duration": 0.015278,
     "end_time": "2023-08-22T13:17:32.293527",
     "exception": false,
     "start_time": "2023-08-22T13:17:32.278249",
     "status": "completed"
    },
    "tags": []
   },
   "outputs": [],
   "source": []
  }
 ],
 "metadata": {
  "kernelspec": {
   "display_name": "Python 3",
   "language": "python",
   "name": "python3"
  },
  "language_info": {
   "codemirror_mode": {
    "name": "ipython",
    "version": 3
   },
   "file_extension": ".py",
   "mimetype": "text/x-python",
   "name": "python",
   "nbconvert_exporter": "python",
   "pygments_lexer": "ipython3",
   "version": "3.10.12"
  },
  "papermill": {
   "default_parameters": {},
   "duration": 28.372608,
   "end_time": "2023-08-22T13:17:33.934927",
   "environment_variables": {},
   "exception": null,
   "input_path": "__notebook__.ipynb",
   "output_path": "__notebook__.ipynb",
   "parameters": {},
   "start_time": "2023-08-22T13:17:05.562319",
   "version": "2.4.0"
  }
 },
 "nbformat": 4,
 "nbformat_minor": 5
}
