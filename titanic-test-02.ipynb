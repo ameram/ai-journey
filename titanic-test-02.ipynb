{
 "cells": [
  {
   "cell_type": "code",
   "execution_count": 1,
   "id": "5e4c7f37",
   "metadata": {
    "_cell_guid": "b1076dfc-b9ad-4769-8c92-a6c4dae69d19",
    "_uuid": "8f2839f25d086af736a60e9eeb907d3b93b6e0e5",
    "execution": {
     "iopub.execute_input": "2023-08-22T13:22:08.621515Z",
     "iopub.status.busy": "2023-08-22T13:22:08.620967Z",
     "iopub.status.idle": "2023-08-22T13:22:08.637686Z",
     "shell.execute_reply": "2023-08-22T13:22:08.636296Z"
    },
    "papermill": {
     "duration": 0.034155,
     "end_time": "2023-08-22T13:22:08.640810",
     "exception": false,
     "start_time": "2023-08-22T13:22:08.606655",
     "status": "completed"
    },
    "tags": []
   },
   "outputs": [
    {
     "name": "stdout",
     "output_type": "stream",
     "text": [
      "/kaggle/input/titanic/train.csv\n",
      "/kaggle/input/titanic/test.csv\n",
      "/kaggle/input/titanic/gender_submission.csv\n"
     ]
    }
   ],
   "source": [
    "# This Python 3 environment comes with many helpful analytics libraries installed\n",
    "# It is defined by the kaggle/python Docker image: https://github.com/kaggle/docker-python\n",
    "# For example, here's several helpful packages to load\n",
    "\n",
    "import numpy as np # linear algebra\n",
    "import pandas as pd # data processing, CSV file I/O (e.g. pd.read_csv)\n",
    "\n",
    "# Input data files are available in the read-only \"../input/\" directory\n",
    "# For example, running this (by clicking run or pressing Shift+Enter) will list all files under the input directory\n",
    "\n",
    "import os\n",
    "for dirname, _, filenames in os.walk('/kaggle/input'):\n",
    "    for filename in filenames:\n",
    "        print(os.path.join(dirname, filename))\n",
    "\n",
    "# You can write up to 20GB to the current directory (/kaggle/working/) that gets preserved as output when you create a version using \"Save & Run All\" \n",
    "# You can also write temporary files to /kaggle/temp/, but they won't be saved outside of the current session"
   ]
  },
  {
   "cell_type": "code",
   "execution_count": 2,
   "id": "92738019",
   "metadata": {
    "execution": {
     "iopub.execute_input": "2023-08-22T13:22:08.662596Z",
     "iopub.status.busy": "2023-08-22T13:22:08.661794Z",
     "iopub.status.idle": "2023-08-22T13:22:08.693572Z",
     "shell.execute_reply": "2023-08-22T13:22:08.692461Z"
    },
    "papermill": {
     "duration": 0.045838,
     "end_time": "2023-08-22T13:22:08.696673",
     "exception": false,
     "start_time": "2023-08-22T13:22:08.650835",
     "status": "completed"
    },
    "tags": []
   },
   "outputs": [],
   "source": [
    "train_df = pd.read_csv('/kaggle/input/titanic/train.csv')"
   ]
  },
  {
   "cell_type": "code",
   "execution_count": 3,
   "id": "933c2f70",
   "metadata": {
    "execution": {
     "iopub.execute_input": "2023-08-22T13:22:08.719406Z",
     "iopub.status.busy": "2023-08-22T13:22:08.718577Z",
     "iopub.status.idle": "2023-08-22T13:22:08.765697Z",
     "shell.execute_reply": "2023-08-22T13:22:08.764342Z"
    },
    "papermill": {
     "duration": 0.061927,
     "end_time": "2023-08-22T13:22:08.768544",
     "exception": false,
     "start_time": "2023-08-22T13:22:08.706617",
     "status": "completed"
    },
    "tags": []
   },
   "outputs": [
    {
     "data": {
      "text/html": [
       "<div>\n",
       "<style scoped>\n",
       "    .dataframe tbody tr th:only-of-type {\n",
       "        vertical-align: middle;\n",
       "    }\n",
       "\n",
       "    .dataframe tbody tr th {\n",
       "        vertical-align: top;\n",
       "    }\n",
       "\n",
       "    .dataframe thead th {\n",
       "        text-align: right;\n",
       "    }\n",
       "</style>\n",
       "<table border=\"1\" class=\"dataframe\">\n",
       "  <thead>\n",
       "    <tr style=\"text-align: right;\">\n",
       "      <th></th>\n",
       "      <th>PassengerId</th>\n",
       "      <th>Survived</th>\n",
       "      <th>Pclass</th>\n",
       "      <th>Name</th>\n",
       "      <th>Sex</th>\n",
       "      <th>Age</th>\n",
       "      <th>SibSp</th>\n",
       "      <th>Parch</th>\n",
       "      <th>Ticket</th>\n",
       "      <th>Fare</th>\n",
       "      <th>Cabin</th>\n",
       "      <th>Embarked</th>\n",
       "    </tr>\n",
       "  </thead>\n",
       "  <tbody>\n",
       "    <tr>\n",
       "      <th>0</th>\n",
       "      <td>1</td>\n",
       "      <td>0</td>\n",
       "      <td>3</td>\n",
       "      <td>Braund, Mr. Owen Harris</td>\n",
       "      <td>male</td>\n",
       "      <td>22.0</td>\n",
       "      <td>1</td>\n",
       "      <td>0</td>\n",
       "      <td>A/5 21171</td>\n",
       "      <td>7.2500</td>\n",
       "      <td>NaN</td>\n",
       "      <td>S</td>\n",
       "    </tr>\n",
       "    <tr>\n",
       "      <th>1</th>\n",
       "      <td>2</td>\n",
       "      <td>1</td>\n",
       "      <td>1</td>\n",
       "      <td>Cumings, Mrs. John Bradley (Florence Briggs Th...</td>\n",
       "      <td>female</td>\n",
       "      <td>38.0</td>\n",
       "      <td>1</td>\n",
       "      <td>0</td>\n",
       "      <td>PC 17599</td>\n",
       "      <td>71.2833</td>\n",
       "      <td>C85</td>\n",
       "      <td>C</td>\n",
       "    </tr>\n",
       "    <tr>\n",
       "      <th>2</th>\n",
       "      <td>3</td>\n",
       "      <td>1</td>\n",
       "      <td>3</td>\n",
       "      <td>Heikkinen, Miss. Laina</td>\n",
       "      <td>female</td>\n",
       "      <td>26.0</td>\n",
       "      <td>0</td>\n",
       "      <td>0</td>\n",
       "      <td>STON/O2. 3101282</td>\n",
       "      <td>7.9250</td>\n",
       "      <td>NaN</td>\n",
       "      <td>S</td>\n",
       "    </tr>\n",
       "    <tr>\n",
       "      <th>3</th>\n",
       "      <td>4</td>\n",
       "      <td>1</td>\n",
       "      <td>1</td>\n",
       "      <td>Futrelle, Mrs. Jacques Heath (Lily May Peel)</td>\n",
       "      <td>female</td>\n",
       "      <td>35.0</td>\n",
       "      <td>1</td>\n",
       "      <td>0</td>\n",
       "      <td>113803</td>\n",
       "      <td>53.1000</td>\n",
       "      <td>C123</td>\n",
       "      <td>S</td>\n",
       "    </tr>\n",
       "    <tr>\n",
       "      <th>4</th>\n",
       "      <td>5</td>\n",
       "      <td>0</td>\n",
       "      <td>3</td>\n",
       "      <td>Allen, Mr. William Henry</td>\n",
       "      <td>male</td>\n",
       "      <td>35.0</td>\n",
       "      <td>0</td>\n",
       "      <td>0</td>\n",
       "      <td>373450</td>\n",
       "      <td>8.0500</td>\n",
       "      <td>NaN</td>\n",
       "      <td>S</td>\n",
       "    </tr>\n",
       "    <tr>\n",
       "      <th>...</th>\n",
       "      <td>...</td>\n",
       "      <td>...</td>\n",
       "      <td>...</td>\n",
       "      <td>...</td>\n",
       "      <td>...</td>\n",
       "      <td>...</td>\n",
       "      <td>...</td>\n",
       "      <td>...</td>\n",
       "      <td>...</td>\n",
       "      <td>...</td>\n",
       "      <td>...</td>\n",
       "      <td>...</td>\n",
       "    </tr>\n",
       "    <tr>\n",
       "      <th>886</th>\n",
       "      <td>887</td>\n",
       "      <td>0</td>\n",
       "      <td>2</td>\n",
       "      <td>Montvila, Rev. Juozas</td>\n",
       "      <td>male</td>\n",
       "      <td>27.0</td>\n",
       "      <td>0</td>\n",
       "      <td>0</td>\n",
       "      <td>211536</td>\n",
       "      <td>13.0000</td>\n",
       "      <td>NaN</td>\n",
       "      <td>S</td>\n",
       "    </tr>\n",
       "    <tr>\n",
       "      <th>887</th>\n",
       "      <td>888</td>\n",
       "      <td>1</td>\n",
       "      <td>1</td>\n",
       "      <td>Graham, Miss. Margaret Edith</td>\n",
       "      <td>female</td>\n",
       "      <td>19.0</td>\n",
       "      <td>0</td>\n",
       "      <td>0</td>\n",
       "      <td>112053</td>\n",
       "      <td>30.0000</td>\n",
       "      <td>B42</td>\n",
       "      <td>S</td>\n",
       "    </tr>\n",
       "    <tr>\n",
       "      <th>888</th>\n",
       "      <td>889</td>\n",
       "      <td>0</td>\n",
       "      <td>3</td>\n",
       "      <td>Johnston, Miss. Catherine Helen \"Carrie\"</td>\n",
       "      <td>female</td>\n",
       "      <td>NaN</td>\n",
       "      <td>1</td>\n",
       "      <td>2</td>\n",
       "      <td>W./C. 6607</td>\n",
       "      <td>23.4500</td>\n",
       "      <td>NaN</td>\n",
       "      <td>S</td>\n",
       "    </tr>\n",
       "    <tr>\n",
       "      <th>889</th>\n",
       "      <td>890</td>\n",
       "      <td>1</td>\n",
       "      <td>1</td>\n",
       "      <td>Behr, Mr. Karl Howell</td>\n",
       "      <td>male</td>\n",
       "      <td>26.0</td>\n",
       "      <td>0</td>\n",
       "      <td>0</td>\n",
       "      <td>111369</td>\n",
       "      <td>30.0000</td>\n",
       "      <td>C148</td>\n",
       "      <td>C</td>\n",
       "    </tr>\n",
       "    <tr>\n",
       "      <th>890</th>\n",
       "      <td>891</td>\n",
       "      <td>0</td>\n",
       "      <td>3</td>\n",
       "      <td>Dooley, Mr. Patrick</td>\n",
       "      <td>male</td>\n",
       "      <td>32.0</td>\n",
       "      <td>0</td>\n",
       "      <td>0</td>\n",
       "      <td>370376</td>\n",
       "      <td>7.7500</td>\n",
       "      <td>NaN</td>\n",
       "      <td>Q</td>\n",
       "    </tr>\n",
       "  </tbody>\n",
       "</table>\n",
       "<p>891 rows × 12 columns</p>\n",
       "</div>"
      ],
      "text/plain": [
       "     PassengerId  Survived  Pclass  \\\n",
       "0              1         0       3   \n",
       "1              2         1       1   \n",
       "2              3         1       3   \n",
       "3              4         1       1   \n",
       "4              5         0       3   \n",
       "..           ...       ...     ...   \n",
       "886          887         0       2   \n",
       "887          888         1       1   \n",
       "888          889         0       3   \n",
       "889          890         1       1   \n",
       "890          891         0       3   \n",
       "\n",
       "                                                  Name     Sex   Age  SibSp  \\\n",
       "0                              Braund, Mr. Owen Harris    male  22.0      1   \n",
       "1    Cumings, Mrs. John Bradley (Florence Briggs Th...  female  38.0      1   \n",
       "2                               Heikkinen, Miss. Laina  female  26.0      0   \n",
       "3         Futrelle, Mrs. Jacques Heath (Lily May Peel)  female  35.0      1   \n",
       "4                             Allen, Mr. William Henry    male  35.0      0   \n",
       "..                                                 ...     ...   ...    ...   \n",
       "886                              Montvila, Rev. Juozas    male  27.0      0   \n",
       "887                       Graham, Miss. Margaret Edith  female  19.0      0   \n",
       "888           Johnston, Miss. Catherine Helen \"Carrie\"  female   NaN      1   \n",
       "889                              Behr, Mr. Karl Howell    male  26.0      0   \n",
       "890                                Dooley, Mr. Patrick    male  32.0      0   \n",
       "\n",
       "     Parch            Ticket     Fare Cabin Embarked  \n",
       "0        0         A/5 21171   7.2500   NaN        S  \n",
       "1        0          PC 17599  71.2833   C85        C  \n",
       "2        0  STON/O2. 3101282   7.9250   NaN        S  \n",
       "3        0            113803  53.1000  C123        S  \n",
       "4        0            373450   8.0500   NaN        S  \n",
       "..     ...               ...      ...   ...      ...  \n",
       "886      0            211536  13.0000   NaN        S  \n",
       "887      0            112053  30.0000   B42        S  \n",
       "888      2        W./C. 6607  23.4500   NaN        S  \n",
       "889      0            111369  30.0000  C148        C  \n",
       "890      0            370376   7.7500   NaN        Q  \n",
       "\n",
       "[891 rows x 12 columns]"
      ]
     },
     "execution_count": 3,
     "metadata": {},
     "output_type": "execute_result"
    }
   ],
   "source": [
    "train_df"
   ]
  },
  {
   "cell_type": "code",
   "execution_count": 4,
   "id": "d5cc1426",
   "metadata": {
    "execution": {
     "iopub.execute_input": "2023-08-22T13:22:08.790860Z",
     "iopub.status.busy": "2023-08-22T13:22:08.790384Z",
     "iopub.status.idle": "2023-08-22T13:22:13.333663Z",
     "shell.execute_reply": "2023-08-22T13:22:13.332573Z"
    },
    "papermill": {
     "duration": 4.557816,
     "end_time": "2023-08-22T13:22:13.336518",
     "exception": false,
     "start_time": "2023-08-22T13:22:08.778702",
     "status": "completed"
    },
    "tags": []
   },
   "outputs": [
    {
     "name": "stderr",
     "output_type": "stream",
     "text": [
      "/opt/conda/lib/python3.10/site-packages/scipy/__init__.py:146: UserWarning: A NumPy version >=1.16.5 and <1.23.0 is required for this version of SciPy (detected version 1.23.5\n",
      "  warnings.warn(f\"A NumPy version >={np_minversion} and <{np_maxversion}\"\n"
     ]
    }
   ],
   "source": [
    "from fastai.data.load import DataLoader"
   ]
  },
  {
   "cell_type": "code",
   "execution_count": 5,
   "id": "4d9b2290",
   "metadata": {
    "execution": {
     "iopub.execute_input": "2023-08-22T13:22:13.359065Z",
     "iopub.status.busy": "2023-08-22T13:22:13.358399Z",
     "iopub.status.idle": "2023-08-22T13:22:14.375012Z",
     "shell.execute_reply": "2023-08-22T13:22:14.373833Z"
    },
    "papermill": {
     "duration": 1.031526,
     "end_time": "2023-08-22T13:22:14.378359",
     "exception": false,
     "start_time": "2023-08-22T13:22:13.346833",
     "status": "completed"
    },
    "tags": []
   },
   "outputs": [],
   "source": [
    "from fastai.tabular.all import *"
   ]
  },
  {
   "cell_type": "code",
   "execution_count": 6,
   "id": "b0455df3",
   "metadata": {
    "execution": {
     "iopub.execute_input": "2023-08-22T13:22:14.400709Z",
     "iopub.status.busy": "2023-08-22T13:22:14.400298Z",
     "iopub.status.idle": "2023-08-22T13:22:14.416028Z",
     "shell.execute_reply": "2023-08-22T13:22:14.414722Z"
    },
    "papermill": {
     "duration": 0.030251,
     "end_time": "2023-08-22T13:22:14.418919",
     "exception": false,
     "start_time": "2023-08-22T13:22:14.388668",
     "status": "completed"
    },
    "tags": []
   },
   "outputs": [
    {
     "data": {
      "text/plain": [
       "0      NaN\n",
       "1      ABC\n",
       "2      NaN\n",
       "3      ABC\n",
       "4      NaN\n",
       "      ... \n",
       "886    NaN\n",
       "887    ABC\n",
       "888    NaN\n",
       "889    ABC\n",
       "890    NaN\n",
       "Name: Cabin, Length: 891, dtype: object"
      ]
     },
     "execution_count": 6,
     "metadata": {},
     "output_type": "execute_result"
    }
   ],
   "source": [
    "train_df['Cabin'].str[0].map(dict(A=\"ABC\", B=\"ABC\", C=\"ABC\", D=\"DE\", E= \"DE\", F=\"FG\", G= \"FG\"))"
   ]
  },
  {
   "cell_type": "code",
   "execution_count": 7,
   "id": "205a93be",
   "metadata": {
    "execution": {
     "iopub.execute_input": "2023-08-22T13:22:14.443347Z",
     "iopub.status.busy": "2023-08-22T13:22:14.442930Z",
     "iopub.status.idle": "2023-08-22T13:22:14.458288Z",
     "shell.execute_reply": "2023-08-22T13:22:14.457126Z"
    },
    "papermill": {
     "duration": 0.029668,
     "end_time": "2023-08-22T13:22:14.460712",
     "exception": false,
     "start_time": "2023-08-22T13:22:14.431044",
     "status": "completed"
    },
    "tags": []
   },
   "outputs": [
    {
     "data": {
      "text/plain": [
       "1    547\n",
       "2    188\n",
       "3     63\n",
       "4     44\n",
       "7     21\n",
       "6     18\n",
       "5     10\n",
       "Name: Ticket, dtype: int64"
      ]
     },
     "execution_count": 7,
     "metadata": {},
     "output_type": "execute_result"
    }
   ],
   "source": [
    "train_df.groupby('Ticket')['Ticket'].transform('count').value_counts()"
   ]
  },
  {
   "cell_type": "code",
   "execution_count": 8,
   "id": "d0d98a0a",
   "metadata": {
    "execution": {
     "iopub.execute_input": "2023-08-22T13:22:14.484500Z",
     "iopub.status.busy": "2023-08-22T13:22:14.483838Z",
     "iopub.status.idle": "2023-08-22T13:22:14.499371Z",
     "shell.execute_reply": "2023-08-22T13:22:14.498223Z"
    },
    "papermill": {
     "duration": 0.03016,
     "end_time": "2023-08-22T13:22:14.501653",
     "exception": false,
     "start_time": "2023-08-22T13:22:14.471493",
     "status": "completed"
    },
    "tags": []
   },
   "outputs": [
    {
     "data": {
      "text/html": [
       "<div>\n",
       "<style scoped>\n",
       "    .dataframe tbody tr th:only-of-type {\n",
       "        vertical-align: middle;\n",
       "    }\n",
       "\n",
       "    .dataframe tbody tr th {\n",
       "        vertical-align: top;\n",
       "    }\n",
       "\n",
       "    .dataframe thead th {\n",
       "        text-align: right;\n",
       "    }\n",
       "</style>\n",
       "<table border=\"1\" class=\"dataframe\">\n",
       "  <thead>\n",
       "    <tr style=\"text-align: right;\">\n",
       "      <th></th>\n",
       "      <th>0</th>\n",
       "      <th>1</th>\n",
       "    </tr>\n",
       "  </thead>\n",
       "  <tbody>\n",
       "    <tr>\n",
       "      <th>0</th>\n",
       "      <td>Braund</td>\n",
       "      <td>Mr. Owen Harris</td>\n",
       "    </tr>\n",
       "    <tr>\n",
       "      <th>1</th>\n",
       "      <td>Cumings</td>\n",
       "      <td>Mrs. John Bradley (Florence Briggs Thayer)</td>\n",
       "    </tr>\n",
       "    <tr>\n",
       "      <th>2</th>\n",
       "      <td>Heikkinen</td>\n",
       "      <td>Miss. Laina</td>\n",
       "    </tr>\n",
       "    <tr>\n",
       "      <th>3</th>\n",
       "      <td>Futrelle</td>\n",
       "      <td>Mrs. Jacques Heath (Lily May Peel)</td>\n",
       "    </tr>\n",
       "    <tr>\n",
       "      <th>4</th>\n",
       "      <td>Allen</td>\n",
       "      <td>Mr. William Henry</td>\n",
       "    </tr>\n",
       "    <tr>\n",
       "      <th>...</th>\n",
       "      <td>...</td>\n",
       "      <td>...</td>\n",
       "    </tr>\n",
       "    <tr>\n",
       "      <th>886</th>\n",
       "      <td>Montvila</td>\n",
       "      <td>Rev. Juozas</td>\n",
       "    </tr>\n",
       "    <tr>\n",
       "      <th>887</th>\n",
       "      <td>Graham</td>\n",
       "      <td>Miss. Margaret Edith</td>\n",
       "    </tr>\n",
       "    <tr>\n",
       "      <th>888</th>\n",
       "      <td>Johnston</td>\n",
       "      <td>Miss. Catherine Helen \"Carrie\"</td>\n",
       "    </tr>\n",
       "    <tr>\n",
       "      <th>889</th>\n",
       "      <td>Behr</td>\n",
       "      <td>Mr. Karl Howell</td>\n",
       "    </tr>\n",
       "    <tr>\n",
       "      <th>890</th>\n",
       "      <td>Dooley</td>\n",
       "      <td>Mr. Patrick</td>\n",
       "    </tr>\n",
       "  </tbody>\n",
       "</table>\n",
       "<p>891 rows × 2 columns</p>\n",
       "</div>"
      ],
      "text/plain": [
       "             0                                           1\n",
       "0       Braund                             Mr. Owen Harris\n",
       "1      Cumings  Mrs. John Bradley (Florence Briggs Thayer)\n",
       "2    Heikkinen                                 Miss. Laina\n",
       "3     Futrelle          Mrs. Jacques Heath (Lily May Peel)\n",
       "4        Allen                           Mr. William Henry\n",
       "..         ...                                         ...\n",
       "886   Montvila                                 Rev. Juozas\n",
       "887     Graham                        Miss. Margaret Edith\n",
       "888   Johnston              Miss. Catherine Helen \"Carrie\"\n",
       "889       Behr                             Mr. Karl Howell\n",
       "890     Dooley                                 Mr. Patrick\n",
       "\n",
       "[891 rows x 2 columns]"
      ]
     },
     "execution_count": 8,
     "metadata": {},
     "output_type": "execute_result"
    }
   ],
   "source": [
    "train_df.Name.str.split(', ', expand=True)"
   ]
  },
  {
   "cell_type": "code",
   "execution_count": 9,
   "id": "06667e88",
   "metadata": {
    "execution": {
     "iopub.execute_input": "2023-08-22T13:22:14.525522Z",
     "iopub.status.busy": "2023-08-22T13:22:14.524891Z",
     "iopub.status.idle": "2023-08-22T13:22:14.604514Z",
     "shell.execute_reply": "2023-08-22T13:22:14.603110Z"
    },
    "papermill": {
     "duration": 0.095424,
     "end_time": "2023-08-22T13:22:14.607752",
     "exception": false,
     "start_time": "2023-08-22T13:22:14.512328",
     "status": "completed"
    },
    "tags": []
   },
   "outputs": [],
   "source": [
    "train_df.Name.str.split?"
   ]
  },
  {
   "cell_type": "code",
   "execution_count": 10,
   "id": "61a45405",
   "metadata": {
    "execution": {
     "iopub.execute_input": "2023-08-22T13:22:14.631303Z",
     "iopub.status.busy": "2023-08-22T13:22:14.630891Z",
     "iopub.status.idle": "2023-08-22T13:22:14.650503Z",
     "shell.execute_reply": "2023-08-22T13:22:14.649273Z"
    },
    "papermill": {
     "duration": 0.034579,
     "end_time": "2023-08-22T13:22:14.653024",
     "exception": false,
     "start_time": "2023-08-22T13:22:14.618445",
     "status": "completed"
    },
    "tags": []
   },
   "outputs": [
    {
     "data": {
      "text/plain": [
       "Mr        517\n",
       "Miss      182\n",
       "Mrs       125\n",
       "Master     40\n",
       "NaN        27\n",
       "Name: 0, dtype: int64"
      ]
     },
     "execution_count": 10,
     "metadata": {},
     "output_type": "execute_result"
    }
   ],
   "source": [
    "x = train_df.Name.str.split(', ', expand=True)[1].str.split('.', expand=True)[0]\n",
    "    \n",
    "x.map(dict(Mr=\"Mr\", Miss=\"Miss\",Mrs=\"Mrs\",Master= \"Master\")).value_counts(dropna=False)"
   ]
  },
  {
   "cell_type": "code",
   "execution_count": 11,
   "id": "ee269af4",
   "metadata": {
    "execution": {
     "iopub.execute_input": "2023-08-22T13:22:14.676846Z",
     "iopub.status.busy": "2023-08-22T13:22:14.676405Z",
     "iopub.status.idle": "2023-08-22T13:22:14.700533Z",
     "shell.execute_reply": "2023-08-22T13:22:14.699225Z"
    },
    "papermill": {
     "duration": 0.039488,
     "end_time": "2023-08-22T13:22:14.703386",
     "exception": false,
     "start_time": "2023-08-22T13:22:14.663898",
     "status": "completed"
    },
    "tags": []
   },
   "outputs": [],
   "source": [
    "def add_features(df):\n",
    "    df['Fare'] = np.log(df['Fare']+1)\n",
    "    \n",
    "    # We transform the cabin to the deck so that there is meaningful distinction between passengers\n",
    "    df['Deck'] = df['Cabin'].str[0].map(dict(A=\"ABC\", B=\"ABC\", C=\"ABC\", D=\"DE\", E= \"DE\", F=\"FG\", G= \"FG\"))\n",
    "    \n",
    "    # Number of family members\n",
    "    df['Family'] = df.SibSp+df.Parch\n",
    "    \n",
    "    df['Alone'] = df.Family==1\n",
    "    \n",
    "    # Count of type of tickets, maybe some particular type of tickets survived more\n",
    "    df['TicketFreq'] = df.groupby('Ticket')['Ticket'].transform('count')\n",
    "    \n",
    "    # We just keep the title, first we split the name from sirname and later we split name from title.\n",
    "    df['Title'] = df.Name.str.split(', ', expand=True)[1].str.split('.', expand=True)[0]\n",
    "    \n",
    "    # Mapping to a dict\n",
    "    df['Title'] = df. Title.map(dict(Mr=\"Mr\", Miss=\"Miss\",Mrs=\"Mrs\",Master= \"Master\"))\n",
    "add_features(train_df)"
   ]
  },
  {
   "cell_type": "code",
   "execution_count": 12,
   "id": "d87e5470",
   "metadata": {
    "execution": {
     "iopub.execute_input": "2023-08-22T13:22:14.727670Z",
     "iopub.status.busy": "2023-08-22T13:22:14.727276Z",
     "iopub.status.idle": "2023-08-22T13:22:14.757493Z",
     "shell.execute_reply": "2023-08-22T13:22:14.756084Z"
    },
    "papermill": {
     "duration": 0.04542,
     "end_time": "2023-08-22T13:22:14.760005",
     "exception": false,
     "start_time": "2023-08-22T13:22:14.714585",
     "status": "completed"
    },
    "tags": []
   },
   "outputs": [
    {
     "data": {
      "text/html": [
       "<div>\n",
       "<style scoped>\n",
       "    .dataframe tbody tr th:only-of-type {\n",
       "        vertical-align: middle;\n",
       "    }\n",
       "\n",
       "    .dataframe tbody tr th {\n",
       "        vertical-align: top;\n",
       "    }\n",
       "\n",
       "    .dataframe thead th {\n",
       "        text-align: right;\n",
       "    }\n",
       "</style>\n",
       "<table border=\"1\" class=\"dataframe\">\n",
       "  <thead>\n",
       "    <tr style=\"text-align: right;\">\n",
       "      <th></th>\n",
       "      <th>PassengerId</th>\n",
       "      <th>Survived</th>\n",
       "      <th>Pclass</th>\n",
       "      <th>Name</th>\n",
       "      <th>Sex</th>\n",
       "      <th>Age</th>\n",
       "      <th>SibSp</th>\n",
       "      <th>Parch</th>\n",
       "      <th>Ticket</th>\n",
       "      <th>Fare</th>\n",
       "      <th>Cabin</th>\n",
       "      <th>Embarked</th>\n",
       "      <th>Deck</th>\n",
       "      <th>Family</th>\n",
       "      <th>Alone</th>\n",
       "      <th>TicketFreq</th>\n",
       "      <th>Title</th>\n",
       "    </tr>\n",
       "  </thead>\n",
       "  <tbody>\n",
       "    <tr>\n",
       "      <th>0</th>\n",
       "      <td>1</td>\n",
       "      <td>0</td>\n",
       "      <td>3</td>\n",
       "      <td>Braund, Mr. Owen Harris</td>\n",
       "      <td>male</td>\n",
       "      <td>22.0</td>\n",
       "      <td>1</td>\n",
       "      <td>0</td>\n",
       "      <td>A/5 21171</td>\n",
       "      <td>2.110213</td>\n",
       "      <td>NaN</td>\n",
       "      <td>S</td>\n",
       "      <td>NaN</td>\n",
       "      <td>1</td>\n",
       "      <td>True</td>\n",
       "      <td>1</td>\n",
       "      <td>Mr</td>\n",
       "    </tr>\n",
       "    <tr>\n",
       "      <th>1</th>\n",
       "      <td>2</td>\n",
       "      <td>1</td>\n",
       "      <td>1</td>\n",
       "      <td>Cumings, Mrs. John Bradley (Florence Briggs Thayer)</td>\n",
       "      <td>female</td>\n",
       "      <td>38.0</td>\n",
       "      <td>1</td>\n",
       "      <td>0</td>\n",
       "      <td>PC 17599</td>\n",
       "      <td>4.280593</td>\n",
       "      <td>C85</td>\n",
       "      <td>C</td>\n",
       "      <td>ABC</td>\n",
       "      <td>1</td>\n",
       "      <td>True</td>\n",
       "      <td>1</td>\n",
       "      <td>Mrs</td>\n",
       "    </tr>\n",
       "    <tr>\n",
       "      <th>2</th>\n",
       "      <td>3</td>\n",
       "      <td>1</td>\n",
       "      <td>3</td>\n",
       "      <td>Heikkinen, Miss. Laina</td>\n",
       "      <td>female</td>\n",
       "      <td>26.0</td>\n",
       "      <td>0</td>\n",
       "      <td>0</td>\n",
       "      <td>STON/O2. 3101282</td>\n",
       "      <td>2.188856</td>\n",
       "      <td>NaN</td>\n",
       "      <td>S</td>\n",
       "      <td>NaN</td>\n",
       "      <td>0</td>\n",
       "      <td>False</td>\n",
       "      <td>1</td>\n",
       "      <td>Miss</td>\n",
       "    </tr>\n",
       "    <tr>\n",
       "      <th>3</th>\n",
       "      <td>4</td>\n",
       "      <td>1</td>\n",
       "      <td>1</td>\n",
       "      <td>Futrelle, Mrs. Jacques Heath (Lily May Peel)</td>\n",
       "      <td>female</td>\n",
       "      <td>35.0</td>\n",
       "      <td>1</td>\n",
       "      <td>0</td>\n",
       "      <td>113803</td>\n",
       "      <td>3.990834</td>\n",
       "      <td>C123</td>\n",
       "      <td>S</td>\n",
       "      <td>ABC</td>\n",
       "      <td>1</td>\n",
       "      <td>True</td>\n",
       "      <td>2</td>\n",
       "      <td>Mrs</td>\n",
       "    </tr>\n",
       "    <tr>\n",
       "      <th>4</th>\n",
       "      <td>5</td>\n",
       "      <td>0</td>\n",
       "      <td>3</td>\n",
       "      <td>Allen, Mr. William Henry</td>\n",
       "      <td>male</td>\n",
       "      <td>35.0</td>\n",
       "      <td>0</td>\n",
       "      <td>0</td>\n",
       "      <td>373450</td>\n",
       "      <td>2.202765</td>\n",
       "      <td>NaN</td>\n",
       "      <td>S</td>\n",
       "      <td>NaN</td>\n",
       "      <td>0</td>\n",
       "      <td>False</td>\n",
       "      <td>1</td>\n",
       "      <td>Mr</td>\n",
       "    </tr>\n",
       "    <tr>\n",
       "      <th>...</th>\n",
       "      <td>...</td>\n",
       "      <td>...</td>\n",
       "      <td>...</td>\n",
       "      <td>...</td>\n",
       "      <td>...</td>\n",
       "      <td>...</td>\n",
       "      <td>...</td>\n",
       "      <td>...</td>\n",
       "      <td>...</td>\n",
       "      <td>...</td>\n",
       "      <td>...</td>\n",
       "      <td>...</td>\n",
       "      <td>...</td>\n",
       "      <td>...</td>\n",
       "      <td>...</td>\n",
       "      <td>...</td>\n",
       "      <td>...</td>\n",
       "    </tr>\n",
       "    <tr>\n",
       "      <th>886</th>\n",
       "      <td>887</td>\n",
       "      <td>0</td>\n",
       "      <td>2</td>\n",
       "      <td>Montvila, Rev. Juozas</td>\n",
       "      <td>male</td>\n",
       "      <td>27.0</td>\n",
       "      <td>0</td>\n",
       "      <td>0</td>\n",
       "      <td>211536</td>\n",
       "      <td>2.639057</td>\n",
       "      <td>NaN</td>\n",
       "      <td>S</td>\n",
       "      <td>NaN</td>\n",
       "      <td>0</td>\n",
       "      <td>False</td>\n",
       "      <td>1</td>\n",
       "      <td>NaN</td>\n",
       "    </tr>\n",
       "    <tr>\n",
       "      <th>887</th>\n",
       "      <td>888</td>\n",
       "      <td>1</td>\n",
       "      <td>1</td>\n",
       "      <td>Graham, Miss. Margaret Edith</td>\n",
       "      <td>female</td>\n",
       "      <td>19.0</td>\n",
       "      <td>0</td>\n",
       "      <td>0</td>\n",
       "      <td>112053</td>\n",
       "      <td>3.433987</td>\n",
       "      <td>B42</td>\n",
       "      <td>S</td>\n",
       "      <td>ABC</td>\n",
       "      <td>0</td>\n",
       "      <td>False</td>\n",
       "      <td>1</td>\n",
       "      <td>Miss</td>\n",
       "    </tr>\n",
       "    <tr>\n",
       "      <th>888</th>\n",
       "      <td>889</td>\n",
       "      <td>0</td>\n",
       "      <td>3</td>\n",
       "      <td>Johnston, Miss. Catherine Helen \"Carrie\"</td>\n",
       "      <td>female</td>\n",
       "      <td>NaN</td>\n",
       "      <td>1</td>\n",
       "      <td>2</td>\n",
       "      <td>W./C. 6607</td>\n",
       "      <td>3.196630</td>\n",
       "      <td>NaN</td>\n",
       "      <td>S</td>\n",
       "      <td>NaN</td>\n",
       "      <td>3</td>\n",
       "      <td>False</td>\n",
       "      <td>2</td>\n",
       "      <td>Miss</td>\n",
       "    </tr>\n",
       "    <tr>\n",
       "      <th>889</th>\n",
       "      <td>890</td>\n",
       "      <td>1</td>\n",
       "      <td>1</td>\n",
       "      <td>Behr, Mr. Karl Howell</td>\n",
       "      <td>male</td>\n",
       "      <td>26.0</td>\n",
       "      <td>0</td>\n",
       "      <td>0</td>\n",
       "      <td>111369</td>\n",
       "      <td>3.433987</td>\n",
       "      <td>C148</td>\n",
       "      <td>C</td>\n",
       "      <td>ABC</td>\n",
       "      <td>0</td>\n",
       "      <td>False</td>\n",
       "      <td>1</td>\n",
       "      <td>Mr</td>\n",
       "    </tr>\n",
       "    <tr>\n",
       "      <th>890</th>\n",
       "      <td>891</td>\n",
       "      <td>0</td>\n",
       "      <td>3</td>\n",
       "      <td>Dooley, Mr. Patrick</td>\n",
       "      <td>male</td>\n",
       "      <td>32.0</td>\n",
       "      <td>0</td>\n",
       "      <td>0</td>\n",
       "      <td>370376</td>\n",
       "      <td>2.169054</td>\n",
       "      <td>NaN</td>\n",
       "      <td>Q</td>\n",
       "      <td>NaN</td>\n",
       "      <td>0</td>\n",
       "      <td>False</td>\n",
       "      <td>1</td>\n",
       "      <td>Mr</td>\n",
       "    </tr>\n",
       "  </tbody>\n",
       "</table>\n",
       "<p>891 rows × 17 columns</p>\n",
       "</div>"
      ],
      "text/plain": [
       "     PassengerId  Survived  Pclass  \\\n",
       "0              1         0       3   \n",
       "1              2         1       1   \n",
       "2              3         1       3   \n",
       "3              4         1       1   \n",
       "4              5         0       3   \n",
       "..           ...       ...     ...   \n",
       "886          887         0       2   \n",
       "887          888         1       1   \n",
       "888          889         0       3   \n",
       "889          890         1       1   \n",
       "890          891         0       3   \n",
       "\n",
       "                                                    Name     Sex   Age  SibSp  \\\n",
       "0                                Braund, Mr. Owen Harris    male  22.0      1   \n",
       "1    Cumings, Mrs. John Bradley (Florence Briggs Thayer)  female  38.0      1   \n",
       "2                                 Heikkinen, Miss. Laina  female  26.0      0   \n",
       "3           Futrelle, Mrs. Jacques Heath (Lily May Peel)  female  35.0      1   \n",
       "4                               Allen, Mr. William Henry    male  35.0      0   \n",
       "..                                                   ...     ...   ...    ...   \n",
       "886                                Montvila, Rev. Juozas    male  27.0      0   \n",
       "887                         Graham, Miss. Margaret Edith  female  19.0      0   \n",
       "888             Johnston, Miss. Catherine Helen \"Carrie\"  female   NaN      1   \n",
       "889                                Behr, Mr. Karl Howell    male  26.0      0   \n",
       "890                                  Dooley, Mr. Patrick    male  32.0      0   \n",
       "\n",
       "     Parch            Ticket      Fare Cabin Embarked Deck  Family  Alone  \\\n",
       "0        0         A/5 21171  2.110213   NaN        S  NaN       1   True   \n",
       "1        0          PC 17599  4.280593   C85        C  ABC       1   True   \n",
       "2        0  STON/O2. 3101282  2.188856   NaN        S  NaN       0  False   \n",
       "3        0            113803  3.990834  C123        S  ABC       1   True   \n",
       "4        0            373450  2.202765   NaN        S  NaN       0  False   \n",
       "..     ...               ...       ...   ...      ...  ...     ...    ...   \n",
       "886      0            211536  2.639057   NaN        S  NaN       0  False   \n",
       "887      0            112053  3.433987   B42        S  ABC       0  False   \n",
       "888      2        W./C. 6607  3.196630   NaN        S  NaN       3  False   \n",
       "889      0            111369  3.433987  C148        C  ABC       0  False   \n",
       "890      0            370376  2.169054   NaN        Q  NaN       0  False   \n",
       "\n",
       "     TicketFreq Title  \n",
       "0             1    Mr  \n",
       "1             1   Mrs  \n",
       "2             1  Miss  \n",
       "3             2   Mrs  \n",
       "4             1    Mr  \n",
       "..          ...   ...  \n",
       "886           1   NaN  \n",
       "887           1  Miss  \n",
       "888           2  Miss  \n",
       "889           1    Mr  \n",
       "890           1    Mr  \n",
       "\n",
       "[891 rows x 17 columns]"
      ]
     },
     "execution_count": 12,
     "metadata": {},
     "output_type": "execute_result"
    }
   ],
   "source": [
    "train_df"
   ]
  },
  {
   "cell_type": "code",
   "execution_count": 13,
   "id": "01ab933d",
   "metadata": {
    "execution": {
     "iopub.execute_input": "2023-08-22T13:22:14.785520Z",
     "iopub.status.busy": "2023-08-22T13:22:14.784712Z",
     "iopub.status.idle": "2023-08-22T13:22:14.825931Z",
     "shell.execute_reply": "2023-08-22T13:22:14.825005Z"
    },
    "papermill": {
     "duration": 0.056954,
     "end_time": "2023-08-22T13:22:14.828539",
     "exception": false,
     "start_time": "2023-08-22T13:22:14.771585",
     "status": "completed"
    },
    "tags": []
   },
   "outputs": [],
   "source": [
    "splits = RandomSplitter(seed=42)(train_df)"
   ]
  },
  {
   "cell_type": "code",
   "execution_count": 14,
   "id": "1e72cb87",
   "metadata": {
    "execution": {
     "iopub.execute_input": "2023-08-22T13:22:14.853778Z",
     "iopub.status.busy": "2023-08-22T13:22:14.853080Z",
     "iopub.status.idle": "2023-08-22T13:22:14.858746Z",
     "shell.execute_reply": "2023-08-22T13:22:14.857990Z"
    },
    "papermill": {
     "duration": 0.020789,
     "end_time": "2023-08-22T13:22:14.860918",
     "exception": false,
     "start_time": "2023-08-22T13:22:14.840129",
     "status": "completed"
    },
    "tags": []
   },
   "outputs": [
    {
     "data": {
      "text/plain": [
       "((#713) [788,525,821,253,374,98,215,313,281,305...],\n",
       " (#178) [303,778,531,385,134,476,691,443,386,128...])"
      ]
     },
     "execution_count": 14,
     "metadata": {},
     "output_type": "execute_result"
    }
   ],
   "source": [
    "splits"
   ]
  },
  {
   "cell_type": "code",
   "execution_count": 15,
   "id": "9008edb2",
   "metadata": {
    "execution": {
     "iopub.execute_input": "2023-08-22T13:22:14.886852Z",
     "iopub.status.busy": "2023-08-22T13:22:14.886107Z",
     "iopub.status.idle": "2023-08-22T13:22:14.985542Z",
     "shell.execute_reply": "2023-08-22T13:22:14.983999Z"
    },
    "papermill": {
     "duration": 0.115223,
     "end_time": "2023-08-22T13:22:14.988352",
     "exception": false,
     "start_time": "2023-08-22T13:22:14.873129",
     "status": "completed"
    },
    "tags": []
   },
   "outputs": [],
   "source": [
    "dls = TabularPandas(\n",
    "    train_df, splits=splits,\n",
    "    procs = [Categorify, FillMissing, Normalize],\n",
    "    cat_names = ['Title', 'Deck', 'Sex', 'Embarked', 'Pclass'],\n",
    "    cont_names = ['Age', 'SibSp', 'Parch', 'Fare', 'Alone', 'TicketFreq', 'Family'],\n",
    "    y_names='Survived', y_block = CategoryBlock(),\n",
    ").dataloaders(path='.')"
   ]
  },
  {
   "cell_type": "code",
   "execution_count": 16,
   "id": "f7d70d80",
   "metadata": {
    "execution": {
     "iopub.execute_input": "2023-08-22T13:22:15.015106Z",
     "iopub.status.busy": "2023-08-22T13:22:15.014398Z",
     "iopub.status.idle": "2023-08-22T13:22:15.067686Z",
     "shell.execute_reply": "2023-08-22T13:22:15.066309Z"
    },
    "papermill": {
     "duration": 0.070027,
     "end_time": "2023-08-22T13:22:15.070548",
     "exception": false,
     "start_time": "2023-08-22T13:22:15.000521",
     "status": "completed"
    },
    "tags": []
   },
   "outputs": [],
   "source": [
    "learner = tabular_learner(dls, metrics=accuracy, layers=[20, 10])"
   ]
  },
  {
   "cell_type": "code",
   "execution_count": 17,
   "id": "c40e288c",
   "metadata": {
    "execution": {
     "iopub.execute_input": "2023-08-22T13:22:15.096352Z",
     "iopub.status.busy": "2023-08-22T13:22:15.095897Z",
     "iopub.status.idle": "2023-08-22T13:22:17.645987Z",
     "shell.execute_reply": "2023-08-22T13:22:17.644835Z"
    },
    "papermill": {
     "duration": 2.566315,
     "end_time": "2023-08-22T13:22:17.648632",
     "exception": false,
     "start_time": "2023-08-22T13:22:15.082317",
     "status": "completed"
    },
    "tags": []
   },
   "outputs": [
    {
     "data": {
      "text/html": [
       "\n",
       "<style>\n",
       "    /* Turns off some styling */\n",
       "    progress {\n",
       "        /* gets rid of default border in Firefox and Opera. */\n",
       "        border: none;\n",
       "        /* Needs to be in here for Safari polyfill so background images work as expected. */\n",
       "        background-size: auto;\n",
       "    }\n",
       "    progress:not([value]), progress:not([value])::-webkit-progress-bar {\n",
       "        background: repeating-linear-gradient(45deg, #7e7e7e, #7e7e7e 10px, #5c5c5c 10px, #5c5c5c 20px);\n",
       "    }\n",
       "    .progress-bar-interrupted, .progress-bar-interrupted::-webkit-progress-bar {\n",
       "        background: #F44336;\n",
       "    }\n",
       "</style>\n"
      ],
      "text/plain": [
       "<IPython.core.display.HTML object>"
      ]
     },
     "metadata": {},
     "output_type": "display_data"
    },
    {
     "data": {
      "text/html": [],
      "text/plain": [
       "<IPython.core.display.HTML object>"
      ]
     },
     "metadata": {},
     "output_type": "display_data"
    },
    {
     "data": {
      "text/plain": [
       "SuggestedLRs(slide=0.14454397559165955, valley=0.009120108559727669)"
      ]
     },
     "execution_count": 17,
     "metadata": {},
     "output_type": "execute_result"
    },
    {
     "data": {
      "image/png": "[encoded data removed]",
      "text/plain": [
       "<Figure size 640x480 with 1 Axes>"
      ]
     },
     "metadata": {},
     "output_type": "display_data"
    }
   ],
   "source": [
    "learner.lr_find(suggest_funcs=(slide, valley))"
   ]
  },
  {
   "cell_type": "code",
   "execution_count": 18,
   "id": "1200283e",
   "metadata": {
    "execution": {
     "iopub.execute_input": "2023-08-22T13:22:17.676944Z",
     "iopub.status.busy": "2023-08-22T13:22:17.676518Z",
     "iopub.status.idle": "2023-08-22T13:22:17.685593Z",
     "shell.execute_reply": "2023-08-22T13:22:17.684531Z"
    },
    "papermill": {
     "duration": 0.026365,
     "end_time": "2023-08-22T13:22:17.688250",
     "exception": false,
     "start_time": "2023-08-22T13:22:17.661885",
     "status": "completed"
    },
    "tags": []
   },
   "outputs": [],
   "source": [
    "learner2 = tabular_learner(dls, metrics=accuracy, layers=[10, 10, 10])"
   ]
  },
  {
   "cell_type": "code",
   "execution_count": 19,
   "id": "9397a26f",
   "metadata": {
    "execution": {
     "iopub.execute_input": "2023-08-22T13:22:17.716272Z",
     "iopub.status.busy": "2023-08-22T13:22:17.715163Z",
     "iopub.status.idle": "2023-08-22T13:22:20.223154Z",
     "shell.execute_reply": "2023-08-22T13:22:20.221855Z"
    },
    "papermill": {
     "duration": 2.525103,
     "end_time": "2023-08-22T13:22:20.226042",
     "exception": false,
     "start_time": "2023-08-22T13:22:17.700939",
     "status": "completed"
    },
    "tags": []
   },
   "outputs": [
    {
     "data": {
      "text/html": [
       "\n",
       "<style>\n",
       "    /* Turns off some styling */\n",
       "    progress {\n",
       "        /* gets rid of default border in Firefox and Opera. */\n",
       "        border: none;\n",
       "        /* Needs to be in here for Safari polyfill so background images work as expected. */\n",
       "        background-size: auto;\n",
       "    }\n",
       "    progress:not([value]), progress:not([value])::-webkit-progress-bar {\n",
       "        background: repeating-linear-gradient(45deg, #7e7e7e, #7e7e7e 10px, #5c5c5c 10px, #5c5c5c 20px);\n",
       "    }\n",
       "    .progress-bar-interrupted, .progress-bar-interrupted::-webkit-progress-bar {\n",
       "        background: #F44336;\n",
       "    }\n",
       "</style>\n"
      ],
      "text/plain": [
       "<IPython.core.display.HTML object>"
      ]
     },
     "metadata": {},
     "output_type": "display_data"
    },
    {
     "data": {
      "text/html": [],
      "text/plain": [
       "<IPython.core.display.HTML object>"
      ]
     },
     "metadata": {},
     "output_type": "display_data"
    },
    {
     "data": {
      "text/plain": [
       "SuggestedLRs(slide=0.0691830962896347, valley=0.0063095735386013985)"
      ]
     },
     "execution_count": 19,
     "metadata": {},
     "output_type": "execute_result"
    },
    {
     "data": {
      "image/png": "[encoded data removed]",
      "text/plain": [
       "<Figure size 640x480 with 1 Axes>"
      ]
     },
     "metadata": {},
     "output_type": "display_data"
    }
   ],
   "source": [
    "learner2.lr_find(suggest_funcs=(slide, valley))"
   ]
  },
  {
   "cell_type": "code",
   "execution_count": 20,
   "id": "b31abc94",
   "metadata": {
    "execution": {
     "iopub.execute_input": "2023-08-22T13:22:20.256869Z",
     "iopub.status.busy": "2023-08-22T13:22:20.255658Z",
     "iopub.status.idle": "2023-08-22T13:22:20.264543Z",
     "shell.execute_reply": "2023-08-22T13:22:20.263664Z"
    },
    "papermill": {
     "duration": 0.026605,
     "end_time": "2023-08-22T13:22:20.267011",
     "exception": false,
     "start_time": "2023-08-22T13:22:20.240406",
     "status": "completed"
    },
    "tags": []
   },
   "outputs": [],
   "source": [
    "learner2.lr_find?"
   ]
  },
  {
   "cell_type": "code",
   "execution_count": 21,
   "id": "f10a3169",
   "metadata": {
    "execution": {
     "iopub.execute_input": "2023-08-22T13:22:20.297065Z",
     "iopub.status.busy": "2023-08-22T13:22:20.296357Z",
     "iopub.status.idle": "2023-08-22T13:22:23.157376Z",
     "shell.execute_reply": "2023-08-22T13:22:23.156190Z"
    },
    "papermill": {
     "duration": 2.879002,
     "end_time": "2023-08-22T13:22:23.159845",
     "exception": false,
     "start_time": "2023-08-22T13:22:20.280843",
     "status": "completed"
    },
    "tags": []
   },
   "outputs": [
    {
     "data": {
      "text/html": [
       "\n",
       "<style>\n",
       "    /* Turns off some styling */\n",
       "    progress {\n",
       "        /* gets rid of default border in Firefox and Opera. */\n",
       "        border: none;\n",
       "        /* Needs to be in here for Safari polyfill so background images work as expected. */\n",
       "        background-size: auto;\n",
       "    }\n",
       "    progress:not([value]), progress:not([value])::-webkit-progress-bar {\n",
       "        background: repeating-linear-gradient(45deg, #7e7e7e, #7e7e7e 10px, #5c5c5c 10px, #5c5c5c 20px);\n",
       "    }\n",
       "    .progress-bar-interrupted, .progress-bar-interrupted::-webkit-progress-bar {\n",
       "        background: #F44336;\n",
       "    }\n",
       "</style>\n"
      ],
      "text/plain": [
       "<IPython.core.display.HTML object>"
      ]
     },
     "metadata": {},
     "output_type": "display_data"
    },
    {
     "data": {
      "text/html": [
       "<table border=\"1\" class=\"dataframe\">\n",
       "  <thead>\n",
       "    <tr style=\"text-align: left;\">\n",
       "      <th>epoch</th>\n",
       "      <th>train_loss</th>\n",
       "      <th>valid_loss</th>\n",
       "      <th>accuracy</th>\n",
       "      <th>time</th>\n",
       "    </tr>\n",
       "  </thead>\n",
       "  <tbody>\n",
       "    <tr>\n",
       "      <td>0</td>\n",
       "      <td>0.577636</td>\n",
       "      <td>0.587704</td>\n",
       "      <td>0.612360</td>\n",
       "      <td>00:00</td>\n",
       "    </tr>\n",
       "    <tr>\n",
       "      <td>1</td>\n",
       "      <td>0.503893</td>\n",
       "      <td>0.481593</td>\n",
       "      <td>0.831461</td>\n",
       "      <td>00:00</td>\n",
       "    </tr>\n",
       "    <tr>\n",
       "      <td>2</td>\n",
       "      <td>0.471724</td>\n",
       "      <td>0.435726</td>\n",
       "      <td>0.831461</td>\n",
       "      <td>00:00</td>\n",
       "    </tr>\n",
       "    <tr>\n",
       "      <td>3</td>\n",
       "      <td>0.451880</td>\n",
       "      <td>0.445074</td>\n",
       "      <td>0.831461</td>\n",
       "      <td>00:00</td>\n",
       "    </tr>\n",
       "    <tr>\n",
       "      <td>4</td>\n",
       "      <td>0.439277</td>\n",
       "      <td>0.409969</td>\n",
       "      <td>0.814607</td>\n",
       "      <td>00:00</td>\n",
       "    </tr>\n",
       "    <tr>\n",
       "      <td>5</td>\n",
       "      <td>0.426243</td>\n",
       "      <td>0.414786</td>\n",
       "      <td>0.837079</td>\n",
       "      <td>00:00</td>\n",
       "    </tr>\n",
       "    <tr>\n",
       "      <td>6</td>\n",
       "      <td>0.413247</td>\n",
       "      <td>0.429143</td>\n",
       "      <td>0.831461</td>\n",
       "      <td>00:00</td>\n",
       "    </tr>\n",
       "    <tr>\n",
       "      <td>7</td>\n",
       "      <td>0.404178</td>\n",
       "      <td>0.411553</td>\n",
       "      <td>0.837079</td>\n",
       "      <td>00:00</td>\n",
       "    </tr>\n",
       "    <tr>\n",
       "      <td>8</td>\n",
       "      <td>0.396782</td>\n",
       "      <td>0.427361</td>\n",
       "      <td>0.820225</td>\n",
       "      <td>00:00</td>\n",
       "    </tr>\n",
       "    <tr>\n",
       "      <td>9</td>\n",
       "      <td>0.392514</td>\n",
       "      <td>0.415998</td>\n",
       "      <td>0.825843</td>\n",
       "      <td>00:00</td>\n",
       "    </tr>\n",
       "    <tr>\n",
       "      <td>10</td>\n",
       "      <td>0.387779</td>\n",
       "      <td>0.398462</td>\n",
       "      <td>0.831461</td>\n",
       "      <td>00:00</td>\n",
       "    </tr>\n",
       "    <tr>\n",
       "      <td>11</td>\n",
       "      <td>0.386025</td>\n",
       "      <td>0.419146</td>\n",
       "      <td>0.848315</td>\n",
       "      <td>00:00</td>\n",
       "    </tr>\n",
       "    <tr>\n",
       "      <td>12</td>\n",
       "      <td>0.381464</td>\n",
       "      <td>0.395506</td>\n",
       "      <td>0.837079</td>\n",
       "      <td>00:00</td>\n",
       "    </tr>\n",
       "    <tr>\n",
       "      <td>13</td>\n",
       "      <td>0.378421</td>\n",
       "      <td>0.431744</td>\n",
       "      <td>0.825843</td>\n",
       "      <td>00:00</td>\n",
       "    </tr>\n",
       "    <tr>\n",
       "      <td>14</td>\n",
       "      <td>0.373945</td>\n",
       "      <td>0.449690</td>\n",
       "      <td>0.814607</td>\n",
       "      <td>00:00</td>\n",
       "    </tr>\n",
       "    <tr>\n",
       "      <td>15</td>\n",
       "      <td>0.375518</td>\n",
       "      <td>0.443522</td>\n",
       "      <td>0.848315</td>\n",
       "      <td>00:00</td>\n",
       "    </tr>\n",
       "  </tbody>\n",
       "</table>"
      ],
      "text/plain": [
       "<IPython.core.display.HTML object>"
      ]
     },
     "metadata": {},
     "output_type": "display_data"
    }
   ],
   "source": [
    "learner2.fit(16, lr=0.03)"
   ]
  },
  {
   "cell_type": "code",
   "execution_count": 22,
   "id": "81001515",
   "metadata": {
    "execution": {
     "iopub.execute_input": "2023-08-22T13:22:23.191193Z",
     "iopub.status.busy": "2023-08-22T13:22:23.190671Z",
     "iopub.status.idle": "2023-08-22T13:22:23.208243Z",
     "shell.execute_reply": "2023-08-22T13:22:23.206910Z"
    },
    "papermill": {
     "duration": 0.036362,
     "end_time": "2023-08-22T13:22:23.211026",
     "exception": false,
     "start_time": "2023-08-22T13:22:23.174664",
     "status": "completed"
    },
    "tags": []
   },
   "outputs": [],
   "source": [
    "test_df = pd.read_csv('/kaggle/input/titanic/test.csv')"
   ]
  },
  {
   "cell_type": "code",
   "execution_count": 23,
   "id": "2db9d543",
   "metadata": {
    "execution": {
     "iopub.execute_input": "2023-08-22T13:22:23.241668Z",
     "iopub.status.busy": "2023-08-22T13:22:23.241235Z",
     "iopub.status.idle": "2023-08-22T13:22:23.246955Z",
     "shell.execute_reply": "2023-08-22T13:22:23.246008Z"
    },
    "papermill": {
     "duration": 0.023652,
     "end_time": "2023-08-22T13:22:23.249175",
     "exception": false,
     "start_time": "2023-08-22T13:22:23.225523",
     "status": "completed"
    },
    "tags": []
   },
   "outputs": [],
   "source": [
    "test_df['Fare'] = test_df.Fare.fillna(0)"
   ]
  },
  {
   "cell_type": "code",
   "execution_count": 24,
   "id": "3e3bae31",
   "metadata": {
    "execution": {
     "iopub.execute_input": "2023-08-22T13:22:23.279435Z",
     "iopub.status.busy": "2023-08-22T13:22:23.279031Z",
     "iopub.status.idle": "2023-08-22T13:22:23.295689Z",
     "shell.execute_reply": "2023-08-22T13:22:23.294489Z"
    },
    "papermill": {
     "duration": 0.034999,
     "end_time": "2023-08-22T13:22:23.298451",
     "exception": false,
     "start_time": "2023-08-22T13:22:23.263452",
     "status": "completed"
    },
    "tags": []
   },
   "outputs": [],
   "source": [
    "add_features(test_df)"
   ]
  },
  {
   "cell_type": "code",
   "execution_count": 25,
   "id": "cc946464",
   "metadata": {
    "execution": {
     "iopub.execute_input": "2023-08-22T13:22:23.329067Z",
     "iopub.status.busy": "2023-08-22T13:22:23.328633Z",
     "iopub.status.idle": "2023-08-22T13:22:23.356176Z",
     "shell.execute_reply": "2023-08-22T13:22:23.355056Z"
    },
    "papermill": {
     "duration": 0.046067,
     "end_time": "2023-08-22T13:22:23.358940",
     "exception": false,
     "start_time": "2023-08-22T13:22:23.312873",
     "status": "completed"
    },
    "tags": []
   },
   "outputs": [],
   "source": [
    "test_dls = learner2.dls.test_dl(test_df)"
   ]
  },
  {
   "cell_type": "code",
   "execution_count": 26,
   "id": "73ad15ec",
   "metadata": {
    "execution": {
     "iopub.execute_input": "2023-08-22T13:22:23.389223Z",
     "iopub.status.busy": "2023-08-22T13:22:23.388810Z",
     "iopub.status.idle": "2023-08-22T13:22:23.477895Z",
     "shell.execute_reply": "2023-08-22T13:22:23.476647Z"
    },
    "papermill": {
     "duration": 0.107763,
     "end_time": "2023-08-22T13:22:23.481054",
     "exception": false,
     "start_time": "2023-08-22T13:22:23.373291",
     "status": "completed"
    },
    "tags": []
   },
   "outputs": [
    {
     "data": {
      "text/html": [
       "\n",
       "<style>\n",
       "    /* Turns off some styling */\n",
       "    progress {\n",
       "        /* gets rid of default border in Firefox and Opera. */\n",
       "        border: none;\n",
       "        /* Needs to be in here for Safari polyfill so background images work as expected. */\n",
       "        background-size: auto;\n",
       "    }\n",
       "    progress:not([value]), progress:not([value])::-webkit-progress-bar {\n",
       "        background: repeating-linear-gradient(45deg, #7e7e7e, #7e7e7e 10px, #5c5c5c 10px, #5c5c5c 20px);\n",
       "    }\n",
       "    .progress-bar-interrupted, .progress-bar-interrupted::-webkit-progress-bar {\n",
       "        background: #F44336;\n",
       "    }\n",
       "</style>\n"
      ],
      "text/plain": [
       "<IPython.core.display.HTML object>"
      ]
     },
     "metadata": {},
     "output_type": "display_data"
    },
    {
     "data": {
      "text/html": [],
      "text/plain": [
       "<IPython.core.display.HTML object>"
      ]
     },
     "metadata": {},
     "output_type": "display_data"
    }
   ],
   "source": [
    "preds,_ = learner2.get_preds(dl=test_dls)"
   ]
  },
  {
   "cell_type": "code",
   "execution_count": 27,
   "id": "29f3d8f6",
   "metadata": {
    "execution": {
     "iopub.execute_input": "2023-08-22T13:22:23.513247Z",
     "iopub.status.busy": "2023-08-22T13:22:23.511820Z",
     "iopub.status.idle": "2023-08-22T13:22:23.527584Z",
     "shell.execute_reply": "2023-08-22T13:22:23.526217Z"
    },
    "papermill": {
     "duration": 0.034737,
     "end_time": "2023-08-22T13:22:23.530558",
     "exception": false,
     "start_time": "2023-08-22T13:22:23.495821",
     "status": "completed"
    },
    "tags": []
   },
   "outputs": [],
   "source": [
    "test_df['Survived'] = (preds[:,1]>0.5).int()\n",
    "sub_df = test_df[['PassengerId','Survived']]\n",
    "sub_df.to_csv('submission.csv', index=False)"
   ]
  },
  {
   "cell_type": "code",
   "execution_count": 28,
   "id": "17f52e9e",
   "metadata": {
    "execution": {
     "iopub.execute_input": "2023-08-22T13:22:23.562443Z",
     "iopub.status.busy": "2023-08-22T13:22:23.561712Z",
     "iopub.status.idle": "2023-08-22T13:22:24.676489Z",
     "shell.execute_reply": "2023-08-22T13:22:24.675005Z"
    },
    "papermill": {
     "duration": 1.134,
     "end_time": "2023-08-22T13:22:24.679350",
     "exception": false,
     "start_time": "2023-08-22T13:22:23.545350",
     "status": "completed"
    },
    "tags": []
   },
   "outputs": [
    {
     "name": "stdout",
     "output_type": "stream",
     "text": [
      "PassengerId,Survived\r\n",
      "892,0\r\n",
      "893,0\r\n",
      "894,0\r\n",
      "895,0\r\n",
      "896,1\r\n",
      "897,0\r\n",
      "898,1\r\n",
      "899,0\r\n",
      "900,1\r\n"
     ]
    }
   ],
   "source": [
    "!head submission.csv"
   ]
  },
  {
   "cell_type": "code",
   "execution_count": null,
   "id": "e783c240",
   "metadata": {
    "papermill": {
     "duration": 0.0143,
     "end_time": "2023-08-22T13:22:24.708421",
     "exception": false,
     "start_time": "2023-08-22T13:22:24.694121",
     "status": "completed"
    },
    "tags": []
   },
   "outputs": [],
   "source": []
  }
 ],
 "metadata": {
  "kernelspec": {
   "display_name": "Python 3",
   "language": "python",
   "name": "python3"
  },
  "language_info": {
   "codemirror_mode": {
    "name": "ipython",
    "version": 3
   },
   "file_extension": ".py",
   "mimetype": "text/x-python",
   "name": "python",
   "nbconvert_exporter": "python",
   "pygments_lexer": "ipython3",
   "version": "3.10.12"
  },
  "papermill": {
   "default_parameters": {},
   "duration": 29.702935,
   "end_time": "2023-08-22T13:22:26.350429",
   "environment_variables": {},
   "exception": null,
   "input_path": "__notebook__.ipynb",
   "output_path": "__notebook__.ipynb",
   "parameters": {},
   "start_time": "2023-08-22T13:21:56.647494",
   "version": "2.4.0"
  }
 },
 "nbformat": 4,
 "nbformat_minor": 5
}
