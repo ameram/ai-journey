{
 "cells": [
  {
   "cell_type": "code",
   "execution_count": 1,
   "id": "6665adb7",
   "metadata": {
    "_cell_guid": "b1076dfc-b9ad-4769-8c92-a6c4dae69d19",
    "_uuid": "8f2839f25d086af736a60e9eeb907d3b93b6e0e5",
    "execution": {
     "iopub.execute_input": "2023-08-22T13:24:40.169567Z",
     "iopub.status.busy": "2023-08-22T13:24:40.168328Z",
     "iopub.status.idle": "2023-08-22T13:24:40.186059Z",
     "shell.execute_reply": "2023-08-22T13:24:40.185013Z"
    },
    "papermill": {
     "duration": 0.032024,
     "end_time": "2023-08-22T13:24:40.188644",
     "exception": false,
     "start_time": "2023-08-22T13:24:40.156620",
     "status": "completed"
    },
    "tags": []
   },
   "outputs": [
    {
     "name": "stdout",
     "output_type": "stream",
     "text": [
      "/kaggle/input/titanic/train.csv\n",
      "/kaggle/input/titanic/test.csv\n",
      "/kaggle/input/titanic/gender_submission.csv\n"
     ]
    }
   ],
   "source": [
    "# This Python 3 environment comes with many helpful analytics libraries installed\n",
    "# It is defined by the kaggle/python Docker image: https://github.com/kaggle/docker-python\n",
    "# For example, here's several helpful packages to load\n",
    "\n",
    "import numpy as np # linear algebra\n",
    "import pandas as pd # data processing, CSV file I/O (e.g. pd.read_csv)\n",
    "\n",
    "# Input data files are available in the read-only \"../input/\" directory\n",
    "# For example, running this (by clicking run or pressing Shift+Enter) will list all files under the input directory\n",
    "\n",
    "import os\n",
    "for dirname, _, filenames in os.walk('/kaggle/input'):\n",
    "    for filename in filenames:\n",
    "        print(os.path.join(dirname, filename))\n",
    "\n",
    "# You can write up to 20GB to the current directory (/kaggle/working/) that gets preserved as output when you create a version using \"Save & Run All\" \n",
    "# You can also write temporary files to /kaggle/temp/, but they won't be saved outside of the current session"
   ]
  },
  {
   "cell_type": "code",
   "execution_count": 2,
   "id": "f75d18e9",
   "metadata": {
    "execution": {
     "iopub.execute_input": "2023-08-22T13:24:40.204622Z",
     "iopub.status.busy": "2023-08-22T13:24:40.204244Z",
     "iopub.status.idle": "2023-08-22T13:24:40.234665Z",
     "shell.execute_reply": "2023-08-22T13:24:40.233543Z"
    },
    "papermill": {
     "duration": 0.042209,
     "end_time": "2023-08-22T13:24:40.237841",
     "exception": false,
     "start_time": "2023-08-22T13:24:40.195632",
     "status": "completed"
    },
    "tags": []
   },
   "outputs": [],
   "source": [
    "train_df = pd.read_csv('/kaggle/input/titanic/train.csv')"
   ]
  },
  {
   "cell_type": "code",
   "execution_count": 3,
   "id": "57cd9f18",
   "metadata": {
    "execution": {
     "iopub.execute_input": "2023-08-22T13:24:40.260331Z",
     "iopub.status.busy": "2023-08-22T13:24:40.259463Z",
     "iopub.status.idle": "2023-08-22T13:24:40.303984Z",
     "shell.execute_reply": "2023-08-22T13:24:40.302969Z"
    },
    "papermill": {
     "duration": 0.058631,
     "end_time": "2023-08-22T13:24:40.306399",
     "exception": false,
     "start_time": "2023-08-22T13:24:40.247768",
     "status": "completed"
    },
    "tags": []
   },
   "outputs": [
    {
     "data": {
      "text/html": [
       "<div>\n",
       "<style scoped>\n",
       "    .dataframe tbody tr th:only-of-type {\n",
       "        vertical-align: middle;\n",
       "    }\n",
       "\n",
       "    .dataframe tbody tr th {\n",
       "        vertical-align: top;\n",
       "    }\n",
       "\n",
       "    .dataframe thead th {\n",
       "        text-align: right;\n",
       "    }\n",
       "</style>\n",
       "<table border=\"1\" class=\"dataframe\">\n",
       "  <thead>\n",
       "    <tr style=\"text-align: right;\">\n",
       "      <th></th>\n",
       "      <th>PassengerId</th>\n",
       "      <th>Survived</th>\n",
       "      <th>Pclass</th>\n",
       "      <th>Name</th>\n",
       "      <th>Sex</th>\n",
       "      <th>Age</th>\n",
       "      <th>SibSp</th>\n",
       "      <th>Parch</th>\n",
       "      <th>Ticket</th>\n",
       "      <th>Fare</th>\n",
       "      <th>Cabin</th>\n",
       "      <th>Embarked</th>\n",
       "    </tr>\n",
       "  </thead>\n",
       "  <tbody>\n",
       "    <tr>\n",
       "      <th>0</th>\n",
       "      <td>1</td>\n",
       "      <td>0</td>\n",
       "      <td>3</td>\n",
       "      <td>Braund, Mr. Owen Harris</td>\n",
       "      <td>male</td>\n",
       "      <td>22.0</td>\n",
       "      <td>1</td>\n",
       "      <td>0</td>\n",
       "      <td>A/5 21171</td>\n",
       "      <td>7.2500</td>\n",
       "      <td>NaN</td>\n",
       "      <td>S</td>\n",
       "    </tr>\n",
       "    <tr>\n",
       "      <th>1</th>\n",
       "      <td>2</td>\n",
       "      <td>1</td>\n",
       "      <td>1</td>\n",
       "      <td>Cumings, Mrs. John Bradley (Florence Briggs Th...</td>\n",
       "      <td>female</td>\n",
       "      <td>38.0</td>\n",
       "      <td>1</td>\n",
       "      <td>0</td>\n",
       "      <td>PC 17599</td>\n",
       "      <td>71.2833</td>\n",
       "      <td>C85</td>\n",
       "      <td>C</td>\n",
       "    </tr>\n",
       "    <tr>\n",
       "      <th>2</th>\n",
       "      <td>3</td>\n",
       "      <td>1</td>\n",
       "      <td>3</td>\n",
       "      <td>Heikkinen, Miss. Laina</td>\n",
       "      <td>female</td>\n",
       "      <td>26.0</td>\n",
       "      <td>0</td>\n",
       "      <td>0</td>\n",
       "      <td>STON/O2. 3101282</td>\n",
       "      <td>7.9250</td>\n",
       "      <td>NaN</td>\n",
       "      <td>S</td>\n",
       "    </tr>\n",
       "    <tr>\n",
       "      <th>3</th>\n",
       "      <td>4</td>\n",
       "      <td>1</td>\n",
       "      <td>1</td>\n",
       "      <td>Futrelle, Mrs. Jacques Heath (Lily May Peel)</td>\n",
       "      <td>female</td>\n",
       "      <td>35.0</td>\n",
       "      <td>1</td>\n",
       "      <td>0</td>\n",
       "      <td>113803</td>\n",
       "      <td>53.1000</td>\n",
       "      <td>C123</td>\n",
       "      <td>S</td>\n",
       "    </tr>\n",
       "    <tr>\n",
       "      <th>4</th>\n",
       "      <td>5</td>\n",
       "      <td>0</td>\n",
       "      <td>3</td>\n",
       "      <td>Allen, Mr. William Henry</td>\n",
       "      <td>male</td>\n",
       "      <td>35.0</td>\n",
       "      <td>0</td>\n",
       "      <td>0</td>\n",
       "      <td>373450</td>\n",
       "      <td>8.0500</td>\n",
       "      <td>NaN</td>\n",
       "      <td>S</td>\n",
       "    </tr>\n",
       "    <tr>\n",
       "      <th>...</th>\n",
       "      <td>...</td>\n",
       "      <td>...</td>\n",
       "      <td>...</td>\n",
       "      <td>...</td>\n",
       "      <td>...</td>\n",
       "      <td>...</td>\n",
       "      <td>...</td>\n",
       "      <td>...</td>\n",
       "      <td>...</td>\n",
       "      <td>...</td>\n",
       "      <td>...</td>\n",
       "      <td>...</td>\n",
       "    </tr>\n",
       "    <tr>\n",
       "      <th>886</th>\n",
       "      <td>887</td>\n",
       "      <td>0</td>\n",
       "      <td>2</td>\n",
       "      <td>Montvila, Rev. Juozas</td>\n",
       "      <td>male</td>\n",
       "      <td>27.0</td>\n",
       "      <td>0</td>\n",
       "      <td>0</td>\n",
       "      <td>211536</td>\n",
       "      <td>13.0000</td>\n",
       "      <td>NaN</td>\n",
       "      <td>S</td>\n",
       "    </tr>\n",
       "    <tr>\n",
       "      <th>887</th>\n",
       "      <td>888</td>\n",
       "      <td>1</td>\n",
       "      <td>1</td>\n",
       "      <td>Graham, Miss. Margaret Edith</td>\n",
       "      <td>female</td>\n",
       "      <td>19.0</td>\n",
       "      <td>0</td>\n",
       "      <td>0</td>\n",
       "      <td>112053</td>\n",
       "      <td>30.0000</td>\n",
       "      <td>B42</td>\n",
       "      <td>S</td>\n",
       "    </tr>\n",
       "    <tr>\n",
       "      <th>888</th>\n",
       "      <td>889</td>\n",
       "      <td>0</td>\n",
       "      <td>3</td>\n",
       "      <td>Johnston, Miss. Catherine Helen \"Carrie\"</td>\n",
       "      <td>female</td>\n",
       "      <td>NaN</td>\n",
       "      <td>1</td>\n",
       "      <td>2</td>\n",
       "      <td>W./C. 6607</td>\n",
       "      <td>23.4500</td>\n",
       "      <td>NaN</td>\n",
       "      <td>S</td>\n",
       "    </tr>\n",
       "    <tr>\n",
       "      <th>889</th>\n",
       "      <td>890</td>\n",
       "      <td>1</td>\n",
       "      <td>1</td>\n",
       "      <td>Behr, Mr. Karl Howell</td>\n",
       "      <td>male</td>\n",
       "      <td>26.0</td>\n",
       "      <td>0</td>\n",
       "      <td>0</td>\n",
       "      <td>111369</td>\n",
       "      <td>30.0000</td>\n",
       "      <td>C148</td>\n",
       "      <td>C</td>\n",
       "    </tr>\n",
       "    <tr>\n",
       "      <th>890</th>\n",
       "      <td>891</td>\n",
       "      <td>0</td>\n",
       "      <td>3</td>\n",
       "      <td>Dooley, Mr. Patrick</td>\n",
       "      <td>male</td>\n",
       "      <td>32.0</td>\n",
       "      <td>0</td>\n",
       "      <td>0</td>\n",
       "      <td>370376</td>\n",
       "      <td>7.7500</td>\n",
       "      <td>NaN</td>\n",
       "      <td>Q</td>\n",
       "    </tr>\n",
       "  </tbody>\n",
       "</table>\n",
       "<p>891 rows × 12 columns</p>\n",
       "</div>"
      ],
      "text/plain": [
       "     PassengerId  Survived  Pclass  \\\n",
       "0              1         0       3   \n",
       "1              2         1       1   \n",
       "2              3         1       3   \n",
       "3              4         1       1   \n",
       "4              5         0       3   \n",
       "..           ...       ...     ...   \n",
       "886          887         0       2   \n",
       "887          888         1       1   \n",
       "888          889         0       3   \n",
       "889          890         1       1   \n",
       "890          891         0       3   \n",
       "\n",
       "                                                  Name     Sex   Age  SibSp  \\\n",
       "0                              Braund, Mr. Owen Harris    male  22.0      1   \n",
       "1    Cumings, Mrs. John Bradley (Florence Briggs Th...  female  38.0      1   \n",
       "2                               Heikkinen, Miss. Laina  female  26.0      0   \n",
       "3         Futrelle, Mrs. Jacques Heath (Lily May Peel)  female  35.0      1   \n",
       "4                             Allen, Mr. William Henry    male  35.0      0   \n",
       "..                                                 ...     ...   ...    ...   \n",
       "886                              Montvila, Rev. Juozas    male  27.0      0   \n",
       "887                       Graham, Miss. Margaret Edith  female  19.0      0   \n",
       "888           Johnston, Miss. Catherine Helen \"Carrie\"  female   NaN      1   \n",
       "889                              Behr, Mr. Karl Howell    male  26.0      0   \n",
       "890                                Dooley, Mr. Patrick    male  32.0      0   \n",
       "\n",
       "     Parch            Ticket     Fare Cabin Embarked  \n",
       "0        0         A/5 21171   7.2500   NaN        S  \n",
       "1        0          PC 17599  71.2833   C85        C  \n",
       "2        0  STON/O2. 3101282   7.9250   NaN        S  \n",
       "3        0            113803  53.1000  C123        S  \n",
       "4        0            373450   8.0500   NaN        S  \n",
       "..     ...               ...      ...   ...      ...  \n",
       "886      0            211536  13.0000   NaN        S  \n",
       "887      0            112053  30.0000   B42        S  \n",
       "888      2        W./C. 6607  23.4500   NaN        S  \n",
       "889      0            111369  30.0000  C148        C  \n",
       "890      0            370376   7.7500   NaN        Q  \n",
       "\n",
       "[891 rows x 12 columns]"
      ]
     },
     "execution_count": 3,
     "metadata": {},
     "output_type": "execute_result"
    }
   ],
   "source": [
    "train_df"
   ]
  },
  {
   "cell_type": "code",
   "execution_count": 4,
   "id": "68fca02c",
   "metadata": {
    "execution": {
     "iopub.execute_input": "2023-08-22T13:24:40.322976Z",
     "iopub.status.busy": "2023-08-22T13:24:40.322604Z",
     "iopub.status.idle": "2023-08-22T13:24:44.629019Z",
     "shell.execute_reply": "2023-08-22T13:24:44.628015Z"
    },
    "papermill": {
     "duration": 4.317647,
     "end_time": "2023-08-22T13:24:44.631566",
     "exception": false,
     "start_time": "2023-08-22T13:24:40.313919",
     "status": "completed"
    },
    "tags": []
   },
   "outputs": [
    {
     "name": "stderr",
     "output_type": "stream",
     "text": [
      "/opt/conda/lib/python3.10/site-packages/scipy/__init__.py:146: UserWarning: A NumPy version >=1.16.5 and <1.23.0 is required for this version of SciPy (detected version 1.23.5\n",
      "  warnings.warn(f\"A NumPy version >={np_minversion} and <{np_maxversion}\"\n"
     ]
    }
   ],
   "source": [
    "from fastai.data.load import DataLoader"
   ]
  },
  {
   "cell_type": "code",
   "execution_count": 5,
   "id": "c5d31c76",
   "metadata": {
    "execution": {
     "iopub.execute_input": "2023-08-22T13:24:44.649093Z",
     "iopub.status.busy": "2023-08-22T13:24:44.647939Z",
     "iopub.status.idle": "2023-08-22T13:24:45.623382Z",
     "shell.execute_reply": "2023-08-22T13:24:45.622366Z"
    },
    "papermill": {
     "duration": 0.987479,
     "end_time": "2023-08-22T13:24:45.626463",
     "exception": false,
     "start_time": "2023-08-22T13:24:44.638984",
     "status": "completed"
    },
    "tags": []
   },
   "outputs": [],
   "source": [
    "from fastai.tabular.all import *"
   ]
  },
  {
   "cell_type": "code",
   "execution_count": 6,
   "id": "d471d729",
   "metadata": {
    "execution": {
     "iopub.execute_input": "2023-08-22T13:24:45.643747Z",
     "iopub.status.busy": "2023-08-22T13:24:45.643394Z",
     "iopub.status.idle": "2023-08-22T13:24:45.657210Z",
     "shell.execute_reply": "2023-08-22T13:24:45.656409Z"
    },
    "papermill": {
     "duration": 0.025126,
     "end_time": "2023-08-22T13:24:45.659157",
     "exception": false,
     "start_time": "2023-08-22T13:24:45.634031",
     "status": "completed"
    },
    "tags": []
   },
   "outputs": [
    {
     "data": {
      "text/plain": [
       "0      NaN\n",
       "1      ABC\n",
       "2      NaN\n",
       "3      ABC\n",
       "4      NaN\n",
       "      ... \n",
       "886    NaN\n",
       "887    ABC\n",
       "888    NaN\n",
       "889    ABC\n",
       "890    NaN\n",
       "Name: Cabin, Length: 891, dtype: object"
      ]
     },
     "execution_count": 6,
     "metadata": {},
     "output_type": "execute_result"
    }
   ],
   "source": [
    "train_df['Cabin'].str[0].map(dict(A=\"ABC\", B=\"ABC\", C=\"ABC\", D=\"DE\", E= \"DE\", F=\"FG\", G= \"FG\"))"
   ]
  },
  {
   "cell_type": "code",
   "execution_count": 7,
   "id": "871a036d",
   "metadata": {
    "execution": {
     "iopub.execute_input": "2023-08-22T13:24:45.676315Z",
     "iopub.status.busy": "2023-08-22T13:24:45.675928Z",
     "iopub.status.idle": "2023-08-22T13:24:45.689998Z",
     "shell.execute_reply": "2023-08-22T13:24:45.688897Z"
    },
    "papermill": {
     "duration": 0.025063,
     "end_time": "2023-08-22T13:24:45.692248",
     "exception": false,
     "start_time": "2023-08-22T13:24:45.667185",
     "status": "completed"
    },
    "tags": []
   },
   "outputs": [
    {
     "data": {
      "text/plain": [
       "1    547\n",
       "2    188\n",
       "3     63\n",
       "4     44\n",
       "7     21\n",
       "6     18\n",
       "5     10\n",
       "Name: Ticket, dtype: int64"
      ]
     },
     "execution_count": 7,
     "metadata": {},
     "output_type": "execute_result"
    }
   ],
   "source": [
    "train_df.groupby('Ticket')['Ticket'].transform('count').value_counts()"
   ]
  },
  {
   "cell_type": "code",
   "execution_count": 8,
   "id": "744a3457",
   "metadata": {
    "execution": {
     "iopub.execute_input": "2023-08-22T13:24:45.709328Z",
     "iopub.status.busy": "2023-08-22T13:24:45.708570Z",
     "iopub.status.idle": "2023-08-22T13:24:45.723226Z",
     "shell.execute_reply": "2023-08-22T13:24:45.722164Z"
    },
    "papermill": {
     "duration": 0.025934,
     "end_time": "2023-08-22T13:24:45.725644",
     "exception": false,
     "start_time": "2023-08-22T13:24:45.699710",
     "status": "completed"
    },
    "tags": []
   },
   "outputs": [
    {
     "data": {
      "text/html": [
       "<div>\n",
       "<style scoped>\n",
       "    .dataframe tbody tr th:only-of-type {\n",
       "        vertical-align: middle;\n",
       "    }\n",
       "\n",
       "    .dataframe tbody tr th {\n",
       "        vertical-align: top;\n",
       "    }\n",
       "\n",
       "    .dataframe thead th {\n",
       "        text-align: right;\n",
       "    }\n",
       "</style>\n",
       "<table border=\"1\" class=\"dataframe\">\n",
       "  <thead>\n",
       "    <tr style=\"text-align: right;\">\n",
       "      <th></th>\n",
       "      <th>0</th>\n",
       "      <th>1</th>\n",
       "    </tr>\n",
       "  </thead>\n",
       "  <tbody>\n",
       "    <tr>\n",
       "      <th>0</th>\n",
       "      <td>Braund</td>\n",
       "      <td>Mr. Owen Harris</td>\n",
       "    </tr>\n",
       "    <tr>\n",
       "      <th>1</th>\n",
       "      <td>Cumings</td>\n",
       "      <td>Mrs. John Bradley (Florence Briggs Thayer)</td>\n",
       "    </tr>\n",
       "    <tr>\n",
       "      <th>2</th>\n",
       "      <td>Heikkinen</td>\n",
       "      <td>Miss. Laina</td>\n",
       "    </tr>\n",
       "    <tr>\n",
       "      <th>3</th>\n",
       "      <td>Futrelle</td>\n",
       "      <td>Mrs. Jacques Heath (Lily May Peel)</td>\n",
       "    </tr>\n",
       "    <tr>\n",
       "      <th>4</th>\n",
       "      <td>Allen</td>\n",
       "      <td>Mr. William Henry</td>\n",
       "    </tr>\n",
       "    <tr>\n",
       "      <th>...</th>\n",
       "      <td>...</td>\n",
       "      <td>...</td>\n",
       "    </tr>\n",
       "    <tr>\n",
       "      <th>886</th>\n",
       "      <td>Montvila</td>\n",
       "      <td>Rev. Juozas</td>\n",
       "    </tr>\n",
       "    <tr>\n",
       "      <th>887</th>\n",
       "      <td>Graham</td>\n",
       "      <td>Miss. Margaret Edith</td>\n",
       "    </tr>\n",
       "    <tr>\n",
       "      <th>888</th>\n",
       "      <td>Johnston</td>\n",
       "      <td>Miss. Catherine Helen \"Carrie\"</td>\n",
       "    </tr>\n",
       "    <tr>\n",
       "      <th>889</th>\n",
       "      <td>Behr</td>\n",
       "      <td>Mr. Karl Howell</td>\n",
       "    </tr>\n",
       "    <tr>\n",
       "      <th>890</th>\n",
       "      <td>Dooley</td>\n",
       "      <td>Mr. Patrick</td>\n",
       "    </tr>\n",
       "  </tbody>\n",
       "</table>\n",
       "<p>891 rows × 2 columns</p>\n",
       "</div>"
      ],
      "text/plain": [
       "             0                                           1\n",
       "0       Braund                             Mr. Owen Harris\n",
       "1      Cumings  Mrs. John Bradley (Florence Briggs Thayer)\n",
       "2    Heikkinen                                 Miss. Laina\n",
       "3     Futrelle          Mrs. Jacques Heath (Lily May Peel)\n",
       "4        Allen                           Mr. William Henry\n",
       "..         ...                                         ...\n",
       "886   Montvila                                 Rev. Juozas\n",
       "887     Graham                        Miss. Margaret Edith\n",
       "888   Johnston              Miss. Catherine Helen \"Carrie\"\n",
       "889       Behr                             Mr. Karl Howell\n",
       "890     Dooley                                 Mr. Patrick\n",
       "\n",
       "[891 rows x 2 columns]"
      ]
     },
     "execution_count": 8,
     "metadata": {},
     "output_type": "execute_result"
    }
   ],
   "source": [
    "train_df.Name.str.split(', ', expand=True)"
   ]
  },
  {
   "cell_type": "code",
   "execution_count": 9,
   "id": "6d9ac1d7",
   "metadata": {
    "execution": {
     "iopub.execute_input": "2023-08-22T13:24:45.744084Z",
     "iopub.status.busy": "2023-08-22T13:24:45.743546Z",
     "iopub.status.idle": "2023-08-22T13:24:45.804512Z",
     "shell.execute_reply": "2023-08-22T13:24:45.803236Z"
    },
    "papermill": {
     "duration": 0.073517,
     "end_time": "2023-08-22T13:24:45.807134",
     "exception": false,
     "start_time": "2023-08-22T13:24:45.733617",
     "status": "completed"
    },
    "tags": []
   },
   "outputs": [],
   "source": [
    "train_df.Name.str.split?"
   ]
  },
  {
   "cell_type": "code",
   "execution_count": 10,
   "id": "58509cc6",
   "metadata": {
    "execution": {
     "iopub.execute_input": "2023-08-22T13:24:45.824868Z",
     "iopub.status.busy": "2023-08-22T13:24:45.824491Z",
     "iopub.status.idle": "2023-08-22T13:24:45.839283Z",
     "shell.execute_reply": "2023-08-22T13:24:45.838214Z"
    },
    "papermill": {
     "duration": 0.026843,
     "end_time": "2023-08-22T13:24:45.841695",
     "exception": false,
     "start_time": "2023-08-22T13:24:45.814852",
     "status": "completed"
    },
    "tags": []
   },
   "outputs": [
    {
     "data": {
      "text/plain": [
       "Mr        517\n",
       "Miss      182\n",
       "Mrs       125\n",
       "Master     40\n",
       "NaN        27\n",
       "Name: 0, dtype: int64"
      ]
     },
     "execution_count": 10,
     "metadata": {},
     "output_type": "execute_result"
    }
   ],
   "source": [
    "x = train_df.Name.str.split(', ', expand=True)[1].str.split('.', expand=True)[0]\n",
    "    \n",
    "x.map(dict(Mr=\"Mr\", Miss=\"Miss\",Mrs=\"Mrs\",Master= \"Master\")).value_counts(dropna=False)"
   ]
  },
  {
   "cell_type": "code",
   "execution_count": 11,
   "id": "794ba6e1",
   "metadata": {
    "execution": {
     "iopub.execute_input": "2023-08-22T13:24:45.859210Z",
     "iopub.status.busy": "2023-08-22T13:24:45.858540Z",
     "iopub.status.idle": "2023-08-22T13:24:45.876564Z",
     "shell.execute_reply": "2023-08-22T13:24:45.875681Z"
    },
    "papermill": {
     "duration": 0.029467,
     "end_time": "2023-08-22T13:24:45.878833",
     "exception": false,
     "start_time": "2023-08-22T13:24:45.849366",
     "status": "completed"
    },
    "tags": []
   },
   "outputs": [],
   "source": [
    "def add_features(df):\n",
    "    df['Fare'] = np.log(df['Fare']+1)\n",
    "    \n",
    "    # We transform the cabin to the deck so that there is meaningful distinction between passengers\n",
    "    df['Deck'] = df['Cabin'].str[0].map(dict(A=\"ABC\", B=\"ABC\", C=\"ABC\", D=\"DE\", E= \"DE\", F=\"FG\", G= \"FG\"))\n",
    "    \n",
    "    # Number of family members\n",
    "    df['Family'] = df.SibSp+df.Parch\n",
    "    \n",
    "    df['Alone'] = df.Family==1\n",
    "    \n",
    "    # Count of type of tickets, maybe some particular type of tickets survived more\n",
    "    df['TicketFreq'] = df.groupby('Ticket')['Ticket'].transform('count')\n",
    "    \n",
    "    # We just keep the title, first we split the name from sirname and later we split name from title.\n",
    "    df['Title'] = df.Name.str.split(', ', expand=True)[1].str.split('.', expand=True)[0]\n",
    "    \n",
    "    # Mapping to a dict\n",
    "    df['Title'] = df. Title.map(dict(Mr=\"Mr\", Miss=\"Miss\",Mrs=\"Mrs\",Master= \"Master\"))\n",
    "add_features(train_df)"
   ]
  },
  {
   "cell_type": "code",
   "execution_count": 12,
   "id": "4fe3ee68",
   "metadata": {
    "execution": {
     "iopub.execute_input": "2023-08-22T13:24:45.897750Z",
     "iopub.status.busy": "2023-08-22T13:24:45.896996Z",
     "iopub.status.idle": "2023-08-22T13:24:45.923881Z",
     "shell.execute_reply": "2023-08-22T13:24:45.922610Z"
    },
    "papermill": {
     "duration": 0.039324,
     "end_time": "2023-08-22T13:24:45.926317",
     "exception": false,
     "start_time": "2023-08-22T13:24:45.886993",
     "status": "completed"
    },
    "tags": []
   },
   "outputs": [
    {
     "data": {
      "text/html": [
       "<div>\n",
       "<style scoped>\n",
       "    .dataframe tbody tr th:only-of-type {\n",
       "        vertical-align: middle;\n",
       "    }\n",
       "\n",
       "    .dataframe tbody tr th {\n",
       "        vertical-align: top;\n",
       "    }\n",
       "\n",
       "    .dataframe thead th {\n",
       "        text-align: right;\n",
       "    }\n",
       "</style>\n",
       "<table border=\"1\" class=\"dataframe\">\n",
       "  <thead>\n",
       "    <tr style=\"text-align: right;\">\n",
       "      <th></th>\n",
       "      <th>PassengerId</th>\n",
       "      <th>Survived</th>\n",
       "      <th>Pclass</th>\n",
       "      <th>Name</th>\n",
       "      <th>Sex</th>\n",
       "      <th>Age</th>\n",
       "      <th>SibSp</th>\n",
       "      <th>Parch</th>\n",
       "      <th>Ticket</th>\n",
       "      <th>Fare</th>\n",
       "      <th>Cabin</th>\n",
       "      <th>Embarked</th>\n",
       "      <th>Deck</th>\n",
       "      <th>Family</th>\n",
       "      <th>Alone</th>\n",
       "      <th>TicketFreq</th>\n",
       "      <th>Title</th>\n",
       "    </tr>\n",
       "  </thead>\n",
       "  <tbody>\n",
       "    <tr>\n",
       "      <th>0</th>\n",
       "      <td>1</td>\n",
       "      <td>0</td>\n",
       "      <td>3</td>\n",
       "      <td>Braund, Mr. Owen Harris</td>\n",
       "      <td>male</td>\n",
       "      <td>22.0</td>\n",
       "      <td>1</td>\n",
       "      <td>0</td>\n",
       "      <td>A/5 21171</td>\n",
       "      <td>2.110213</td>\n",
       "      <td>NaN</td>\n",
       "      <td>S</td>\n",
       "      <td>NaN</td>\n",
       "      <td>1</td>\n",
       "      <td>True</td>\n",
       "      <td>1</td>\n",
       "      <td>Mr</td>\n",
       "    </tr>\n",
       "    <tr>\n",
       "      <th>1</th>\n",
       "      <td>2</td>\n",
       "      <td>1</td>\n",
       "      <td>1</td>\n",
       "      <td>Cumings, Mrs. John Bradley (Florence Briggs Thayer)</td>\n",
       "      <td>female</td>\n",
       "      <td>38.0</td>\n",
       "      <td>1</td>\n",
       "      <td>0</td>\n",
       "      <td>PC 17599</td>\n",
       "      <td>4.280593</td>\n",
       "      <td>C85</td>\n",
       "      <td>C</td>\n",
       "      <td>ABC</td>\n",
       "      <td>1</td>\n",
       "      <td>True</td>\n",
       "      <td>1</td>\n",
       "      <td>Mrs</td>\n",
       "    </tr>\n",
       "    <tr>\n",
       "      <th>2</th>\n",
       "      <td>3</td>\n",
       "      <td>1</td>\n",
       "      <td>3</td>\n",
       "      <td>Heikkinen, Miss. Laina</td>\n",
       "      <td>female</td>\n",
       "      <td>26.0</td>\n",
       "      <td>0</td>\n",
       "      <td>0</td>\n",
       "      <td>STON/O2. 3101282</td>\n",
       "      <td>2.188856</td>\n",
       "      <td>NaN</td>\n",
       "      <td>S</td>\n",
       "      <td>NaN</td>\n",
       "      <td>0</td>\n",
       "      <td>False</td>\n",
       "      <td>1</td>\n",
       "      <td>Miss</td>\n",
       "    </tr>\n",
       "    <tr>\n",
       "      <th>3</th>\n",
       "      <td>4</td>\n",
       "      <td>1</td>\n",
       "      <td>1</td>\n",
       "      <td>Futrelle, Mrs. Jacques Heath (Lily May Peel)</td>\n",
       "      <td>female</td>\n",
       "      <td>35.0</td>\n",
       "      <td>1</td>\n",
       "      <td>0</td>\n",
       "      <td>113803</td>\n",
       "      <td>3.990834</td>\n",
       "      <td>C123</td>\n",
       "      <td>S</td>\n",
       "      <td>ABC</td>\n",
       "      <td>1</td>\n",
       "      <td>True</td>\n",
       "      <td>2</td>\n",
       "      <td>Mrs</td>\n",
       "    </tr>\n",
       "    <tr>\n",
       "      <th>4</th>\n",
       "      <td>5</td>\n",
       "      <td>0</td>\n",
       "      <td>3</td>\n",
       "      <td>Allen, Mr. William Henry</td>\n",
       "      <td>male</td>\n",
       "      <td>35.0</td>\n",
       "      <td>0</td>\n",
       "      <td>0</td>\n",
       "      <td>373450</td>\n",
       "      <td>2.202765</td>\n",
       "      <td>NaN</td>\n",
       "      <td>S</td>\n",
       "      <td>NaN</td>\n",
       "      <td>0</td>\n",
       "      <td>False</td>\n",
       "      <td>1</td>\n",
       "      <td>Mr</td>\n",
       "    </tr>\n",
       "    <tr>\n",
       "      <th>...</th>\n",
       "      <td>...</td>\n",
       "      <td>...</td>\n",
       "      <td>...</td>\n",
       "      <td>...</td>\n",
       "      <td>...</td>\n",
       "      <td>...</td>\n",
       "      <td>...</td>\n",
       "      <td>...</td>\n",
       "      <td>...</td>\n",
       "      <td>...</td>\n",
       "      <td>...</td>\n",
       "      <td>...</td>\n",
       "      <td>...</td>\n",
       "      <td>...</td>\n",
       "      <td>...</td>\n",
       "      <td>...</td>\n",
       "      <td>...</td>\n",
       "    </tr>\n",
       "    <tr>\n",
       "      <th>886</th>\n",
       "      <td>887</td>\n",
       "      <td>0</td>\n",
       "      <td>2</td>\n",
       "      <td>Montvila, Rev. Juozas</td>\n",
       "      <td>male</td>\n",
       "      <td>27.0</td>\n",
       "      <td>0</td>\n",
       "      <td>0</td>\n",
       "      <td>211536</td>\n",
       "      <td>2.639057</td>\n",
       "      <td>NaN</td>\n",
       "      <td>S</td>\n",
       "      <td>NaN</td>\n",
       "      <td>0</td>\n",
       "      <td>False</td>\n",
       "      <td>1</td>\n",
       "      <td>NaN</td>\n",
       "    </tr>\n",
       "    <tr>\n",
       "      <th>887</th>\n",
       "      <td>888</td>\n",
       "      <td>1</td>\n",
       "      <td>1</td>\n",
       "      <td>Graham, Miss. Margaret Edith</td>\n",
       "      <td>female</td>\n",
       "      <td>19.0</td>\n",
       "      <td>0</td>\n",
       "      <td>0</td>\n",
       "      <td>112053</td>\n",
       "      <td>3.433987</td>\n",
       "      <td>B42</td>\n",
       "      <td>S</td>\n",
       "      <td>ABC</td>\n",
       "      <td>0</td>\n",
       "      <td>False</td>\n",
       "      <td>1</td>\n",
       "      <td>Miss</td>\n",
       "    </tr>\n",
       "    <tr>\n",
       "      <th>888</th>\n",
       "      <td>889</td>\n",
       "      <td>0</td>\n",
       "      <td>3</td>\n",
       "      <td>Johnston, Miss. Catherine Helen \"Carrie\"</td>\n",
       "      <td>female</td>\n",
       "      <td>NaN</td>\n",
       "      <td>1</td>\n",
       "      <td>2</td>\n",
       "      <td>W./C. 6607</td>\n",
       "      <td>3.196630</td>\n",
       "      <td>NaN</td>\n",
       "      <td>S</td>\n",
       "      <td>NaN</td>\n",
       "      <td>3</td>\n",
       "      <td>False</td>\n",
       "      <td>2</td>\n",
       "      <td>Miss</td>\n",
       "    </tr>\n",
       "    <tr>\n",
       "      <th>889</th>\n",
       "      <td>890</td>\n",
       "      <td>1</td>\n",
       "      <td>1</td>\n",
       "      <td>Behr, Mr. Karl Howell</td>\n",
       "      <td>male</td>\n",
       "      <td>26.0</td>\n",
       "      <td>0</td>\n",
       "      <td>0</td>\n",
       "      <td>111369</td>\n",
       "      <td>3.433987</td>\n",
       "      <td>C148</td>\n",
       "      <td>C</td>\n",
       "      <td>ABC</td>\n",
       "      <td>0</td>\n",
       "      <td>False</td>\n",
       "      <td>1</td>\n",
       "      <td>Mr</td>\n",
       "    </tr>\n",
       "    <tr>\n",
       "      <th>890</th>\n",
       "      <td>891</td>\n",
       "      <td>0</td>\n",
       "      <td>3</td>\n",
       "      <td>Dooley, Mr. Patrick</td>\n",
       "      <td>male</td>\n",
       "      <td>32.0</td>\n",
       "      <td>0</td>\n",
       "      <td>0</td>\n",
       "      <td>370376</td>\n",
       "      <td>2.169054</td>\n",
       "      <td>NaN</td>\n",
       "      <td>Q</td>\n",
       "      <td>NaN</td>\n",
       "      <td>0</td>\n",
       "      <td>False</td>\n",
       "      <td>1</td>\n",
       "      <td>Mr</td>\n",
       "    </tr>\n",
       "  </tbody>\n",
       "</table>\n",
       "<p>891 rows × 17 columns</p>\n",
       "</div>"
      ],
      "text/plain": [
       "     PassengerId  Survived  Pclass  \\\n",
       "0              1         0       3   \n",
       "1              2         1       1   \n",
       "2              3         1       3   \n",
       "3              4         1       1   \n",
       "4              5         0       3   \n",
       "..           ...       ...     ...   \n",
       "886          887         0       2   \n",
       "887          888         1       1   \n",
       "888          889         0       3   \n",
       "889          890         1       1   \n",
       "890          891         0       3   \n",
       "\n",
       "                                                    Name     Sex   Age  SibSp  \\\n",
       "0                                Braund, Mr. Owen Harris    male  22.0      1   \n",
       "1    Cumings, Mrs. John Bradley (Florence Briggs Thayer)  female  38.0      1   \n",
       "2                                 Heikkinen, Miss. Laina  female  26.0      0   \n",
       "3           Futrelle, Mrs. Jacques Heath (Lily May Peel)  female  35.0      1   \n",
       "4                               Allen, Mr. William Henry    male  35.0      0   \n",
       "..                                                   ...     ...   ...    ...   \n",
       "886                                Montvila, Rev. Juozas    male  27.0      0   \n",
       "887                         Graham, Miss. Margaret Edith  female  19.0      0   \n",
       "888             Johnston, Miss. Catherine Helen \"Carrie\"  female   NaN      1   \n",
       "889                                Behr, Mr. Karl Howell    male  26.0      0   \n",
       "890                                  Dooley, Mr. Patrick    male  32.0      0   \n",
       "\n",
       "     Parch            Ticket      Fare Cabin Embarked Deck  Family  Alone  \\\n",
       "0        0         A/5 21171  2.110213   NaN        S  NaN       1   True   \n",
       "1        0          PC 17599  4.280593   C85        C  ABC       1   True   \n",
       "2        0  STON/O2. 3101282  2.188856   NaN        S  NaN       0  False   \n",
       "3        0            113803  3.990834  C123        S  ABC       1   True   \n",
       "4        0            373450  2.202765   NaN        S  NaN       0  False   \n",
       "..     ...               ...       ...   ...      ...  ...     ...    ...   \n",
       "886      0            211536  2.639057   NaN        S  NaN       0  False   \n",
       "887      0            112053  3.433987   B42        S  ABC       0  False   \n",
       "888      2        W./C. 6607  3.196630   NaN        S  NaN       3  False   \n",
       "889      0            111369  3.433987  C148        C  ABC       0  False   \n",
       "890      0            370376  2.169054   NaN        Q  NaN       0  False   \n",
       "\n",
       "     TicketFreq Title  \n",
       "0             1    Mr  \n",
       "1             1   Mrs  \n",
       "2             1  Miss  \n",
       "3             2   Mrs  \n",
       "4             1    Mr  \n",
       "..          ...   ...  \n",
       "886           1   NaN  \n",
       "887           1  Miss  \n",
       "888           2  Miss  \n",
       "889           1    Mr  \n",
       "890           1    Mr  \n",
       "\n",
       "[891 rows x 17 columns]"
      ]
     },
     "execution_count": 12,
     "metadata": {},
     "output_type": "execute_result"
    }
   ],
   "source": [
    "train_df"
   ]
  },
  {
   "cell_type": "code",
   "execution_count": 13,
   "id": "3b211ba0",
   "metadata": {
    "execution": {
     "iopub.execute_input": "2023-08-22T13:24:45.945227Z",
     "iopub.status.busy": "2023-08-22T13:24:45.944770Z",
     "iopub.status.idle": "2023-08-22T13:24:45.985867Z",
     "shell.execute_reply": "2023-08-22T13:24:45.984474Z"
    },
    "papermill": {
     "duration": 0.053651,
     "end_time": "2023-08-22T13:24:45.988260",
     "exception": false,
     "start_time": "2023-08-22T13:24:45.934609",
     "status": "completed"
    },
    "tags": []
   },
   "outputs": [],
   "source": [
    "splits = RandomSplitter(seed=42)(train_df)"
   ]
  },
  {
   "cell_type": "code",
   "execution_count": 14,
   "id": "77cd5442",
   "metadata": {
    "execution": {
     "iopub.execute_input": "2023-08-22T13:24:46.008090Z",
     "iopub.status.busy": "2023-08-22T13:24:46.007688Z",
     "iopub.status.idle": "2023-08-22T13:24:46.014186Z",
     "shell.execute_reply": "2023-08-22T13:24:46.012990Z"
    },
    "papermill": {
     "duration": 0.019533,
     "end_time": "2023-08-22T13:24:46.016723",
     "exception": false,
     "start_time": "2023-08-22T13:24:45.997190",
     "status": "completed"
    },
    "tags": []
   },
   "outputs": [
    {
     "data": {
      "text/plain": [
       "((#713) [788,525,821,253,374,98,215,313,281,305...],\n",
       " (#178) [303,778,531,385,134,476,691,443,386,128...])"
      ]
     },
     "execution_count": 14,
     "metadata": {},
     "output_type": "execute_result"
    }
   ],
   "source": [
    "splits"
   ]
  },
  {
   "cell_type": "code",
   "execution_count": 15,
   "id": "ff3c56df",
   "metadata": {
    "execution": {
     "iopub.execute_input": "2023-08-22T13:24:46.036116Z",
     "iopub.status.busy": "2023-08-22T13:24:46.035556Z",
     "iopub.status.idle": "2023-08-22T13:24:46.131507Z",
     "shell.execute_reply": "2023-08-22T13:24:46.130470Z"
    },
    "papermill": {
     "duration": 0.108375,
     "end_time": "2023-08-22T13:24:46.133967",
     "exception": false,
     "start_time": "2023-08-22T13:24:46.025592",
     "status": "completed"
    },
    "tags": []
   },
   "outputs": [],
   "source": [
    "dls = TabularPandas(\n",
    "    train_df, splits=splits,\n",
    "    procs = [Categorify, FillMissing, Normalize],\n",
    "    cat_names = ['Title', 'Deck', 'Sex', 'Embarked', 'Pclass'],\n",
    "    cont_names = ['Age', 'SibSp', 'Parch', 'Fare', 'Alone', 'TicketFreq', 'Family'],\n",
    "    y_names='Survived', y_block = CategoryBlock(),\n",
    ").dataloaders(path='.')"
   ]
  },
  {
   "cell_type": "code",
   "execution_count": 16,
   "id": "822a0339",
   "metadata": {
    "execution": {
     "iopub.execute_input": "2023-08-22T13:24:46.153166Z",
     "iopub.status.busy": "2023-08-22T13:24:46.152759Z",
     "iopub.status.idle": "2023-08-22T13:24:46.204300Z",
     "shell.execute_reply": "2023-08-22T13:24:46.203158Z"
    },
    "papermill": {
     "duration": 0.064354,
     "end_time": "2023-08-22T13:24:46.206763",
     "exception": false,
     "start_time": "2023-08-22T13:24:46.142409",
     "status": "completed"
    },
    "tags": []
   },
   "outputs": [],
   "source": [
    "learner = tabular_learner(dls, metrics=accuracy, layers=[20, 10])"
   ]
  },
  {
   "cell_type": "code",
   "execution_count": 17,
   "id": "095ce8e2",
   "metadata": {
    "execution": {
     "iopub.execute_input": "2023-08-22T13:24:46.225676Z",
     "iopub.status.busy": "2023-08-22T13:24:46.225269Z",
     "iopub.status.idle": "2023-08-22T13:24:48.442272Z",
     "shell.execute_reply": "2023-08-22T13:24:48.441161Z"
    },
    "papermill": {
     "duration": 2.229596,
     "end_time": "2023-08-22T13:24:48.444737",
     "exception": false,
     "start_time": "2023-08-22T13:24:46.215141",
     "status": "completed"
    },
    "tags": []
   },
   "outputs": [
    {
     "data": {
      "text/html": [
       "\n",
       "<style>\n",
       "    /* Turns off some styling */\n",
       "    progress {\n",
       "        /* gets rid of default border in Firefox and Opera. */\n",
       "        border: none;\n",
       "        /* Needs to be in here for Safari polyfill so background images work as expected. */\n",
       "        background-size: auto;\n",
       "    }\n",
       "    progress:not([value]), progress:not([value])::-webkit-progress-bar {\n",
       "        background: repeating-linear-gradient(45deg, #7e7e7e, #7e7e7e 10px, #5c5c5c 10px, #5c5c5c 20px);\n",
       "    }\n",
       "    .progress-bar-interrupted, .progress-bar-interrupted::-webkit-progress-bar {\n",
       "        background: #F44336;\n",
       "    }\n",
       "</style>\n"
      ],
      "text/plain": [
       "<IPython.core.display.HTML object>"
      ]
     },
     "metadata": {},
     "output_type": "display_data"
    },
    {
     "data": {
      "text/html": [],
      "text/plain": [
       "<IPython.core.display.HTML object>"
      ]
     },
     "metadata": {},
     "output_type": "display_data"
    },
    {
     "data": {
      "text/plain": [
       "SuggestedLRs(slide=0.10000000149011612, valley=0.010964781977236271)"
      ]
     },
     "execution_count": 17,
     "metadata": {},
     "output_type": "execute_result"
    },
    {
     "data": {
      "image/png": "[encoded data removed]",
      "text/plain": [
       "<Figure size 640x480 with 1 Axes>"
      ]
     },
     "metadata": {},
     "output_type": "display_data"
    }
   ],
   "source": [
    "learner.lr_find(suggest_funcs=(slide, valley))"
   ]
  },
  {
   "cell_type": "code",
   "execution_count": 18,
   "id": "f8295fbe",
   "metadata": {
    "execution": {
     "iopub.execute_input": "2023-08-22T13:24:48.465587Z",
     "iopub.status.busy": "2023-08-22T13:24:48.464422Z",
     "iopub.status.idle": "2023-08-22T13:24:48.473423Z",
     "shell.execute_reply": "2023-08-22T13:24:48.472370Z"
    },
    "papermill": {
     "duration": 0.021974,
     "end_time": "2023-08-22T13:24:48.475916",
     "exception": false,
     "start_time": "2023-08-22T13:24:48.453942",
     "status": "completed"
    },
    "tags": []
   },
   "outputs": [],
   "source": [
    "learner2 = tabular_learner(dls, metrics=accuracy, layers=[40, 22, 10])"
   ]
  },
  {
   "cell_type": "code",
   "execution_count": 19,
   "id": "148cb6fe",
   "metadata": {
    "execution": {
     "iopub.execute_input": "2023-08-22T13:24:48.497658Z",
     "iopub.status.busy": "2023-08-22T13:24:48.496508Z",
     "iopub.status.idle": "2023-08-22T13:24:50.753903Z",
     "shell.execute_reply": "2023-08-22T13:24:50.752749Z"
    },
    "papermill": {
     "duration": 2.270453,
     "end_time": "2023-08-22T13:24:50.756360",
     "exception": false,
     "start_time": "2023-08-22T13:24:48.485907",
     "status": "completed"
    },
    "tags": []
   },
   "outputs": [
    {
     "data": {
      "text/html": [
       "\n",
       "<style>\n",
       "    /* Turns off some styling */\n",
       "    progress {\n",
       "        /* gets rid of default border in Firefox and Opera. */\n",
       "        border: none;\n",
       "        /* Needs to be in here for Safari polyfill so background images work as expected. */\n",
       "        background-size: auto;\n",
       "    }\n",
       "    progress:not([value]), progress:not([value])::-webkit-progress-bar {\n",
       "        background: repeating-linear-gradient(45deg, #7e7e7e, #7e7e7e 10px, #5c5c5c 10px, #5c5c5c 20px);\n",
       "    }\n",
       "    .progress-bar-interrupted, .progress-bar-interrupted::-webkit-progress-bar {\n",
       "        background: #F44336;\n",
       "    }\n",
       "</style>\n"
      ],
      "text/plain": [
       "<IPython.core.display.HTML object>"
      ]
     },
     "metadata": {},
     "output_type": "display_data"
    },
    {
     "data": {
      "text/html": [],
      "text/plain": [
       "<IPython.core.display.HTML object>"
      ]
     },
     "metadata": {},
     "output_type": "display_data"
    },
    {
     "data": {
      "text/plain": [
       "SuggestedLRs(slide=0.0831763744354248, valley=0.004365158267319202)"
      ]
     },
     "execution_count": 19,
     "metadata": {},
     "output_type": "execute_result"
    },
    {
     "data": {
      "image/png": "[encoded data removed]",
      "text/plain": [
       "<Figure size 640x480 with 1 Axes>"
      ]
     },
     "metadata": {},
     "output_type": "display_data"
    }
   ],
   "source": [
    "learner2.lr_find(suggest_funcs=(slide, valley))"
   ]
  },
  {
   "cell_type": "code",
   "execution_count": 20,
   "id": "c4e49171",
   "metadata": {
    "execution": {
     "iopub.execute_input": "2023-08-22T13:24:50.778371Z",
     "iopub.status.busy": "2023-08-22T13:24:50.777958Z",
     "iopub.status.idle": "2023-08-22T13:24:50.786459Z",
     "shell.execute_reply": "2023-08-22T13:24:50.784882Z"
    },
    "papermill": {
     "duration": 0.02233,
     "end_time": "2023-08-22T13:24:50.788855",
     "exception": false,
     "start_time": "2023-08-22T13:24:50.766525",
     "status": "completed"
    },
    "tags": []
   },
   "outputs": [],
   "source": [
    "learner2.lr_find?"
   ]
  },
  {
   "cell_type": "code",
   "execution_count": 21,
   "id": "d4ec9c9f",
   "metadata": {
    "execution": {
     "iopub.execute_input": "2023-08-22T13:24:50.811760Z",
     "iopub.status.busy": "2023-08-22T13:24:50.811352Z",
     "iopub.status.idle": "2023-08-22T13:24:53.393270Z",
     "shell.execute_reply": "2023-08-22T13:24:53.392357Z"
    },
    "papermill": {
     "duration": 2.596148,
     "end_time": "2023-08-22T13:24:53.395262",
     "exception": false,
     "start_time": "2023-08-22T13:24:50.799114",
     "status": "completed"
    },
    "tags": []
   },
   "outputs": [
    {
     "data": {
      "text/html": [
       "\n",
       "<style>\n",
       "    /* Turns off some styling */\n",
       "    progress {\n",
       "        /* gets rid of default border in Firefox and Opera. */\n",
       "        border: none;\n",
       "        /* Needs to be in here for Safari polyfill so background images work as expected. */\n",
       "        background-size: auto;\n",
       "    }\n",
       "    progress:not([value]), progress:not([value])::-webkit-progress-bar {\n",
       "        background: repeating-linear-gradient(45deg, #7e7e7e, #7e7e7e 10px, #5c5c5c 10px, #5c5c5c 20px);\n",
       "    }\n",
       "    .progress-bar-interrupted, .progress-bar-interrupted::-webkit-progress-bar {\n",
       "        background: #F44336;\n",
       "    }\n",
       "</style>\n"
      ],
      "text/plain": [
       "<IPython.core.display.HTML object>"
      ]
     },
     "metadata": {},
     "output_type": "display_data"
    },
    {
     "data": {
      "text/html": [
       "<table border=\"1\" class=\"dataframe\">\n",
       "  <thead>\n",
       "    <tr style=\"text-align: left;\">\n",
       "      <th>epoch</th>\n",
       "      <th>train_loss</th>\n",
       "      <th>valid_loss</th>\n",
       "      <th>accuracy</th>\n",
       "      <th>time</th>\n",
       "    </tr>\n",
       "  </thead>\n",
       "  <tbody>\n",
       "    <tr>\n",
       "      <td>0</td>\n",
       "      <td>0.564592</td>\n",
       "      <td>0.437196</td>\n",
       "      <td>0.814607</td>\n",
       "      <td>00:00</td>\n",
       "    </tr>\n",
       "    <tr>\n",
       "      <td>1</td>\n",
       "      <td>0.494207</td>\n",
       "      <td>0.434204</td>\n",
       "      <td>0.808989</td>\n",
       "      <td>00:00</td>\n",
       "    </tr>\n",
       "    <tr>\n",
       "      <td>2</td>\n",
       "      <td>0.460506</td>\n",
       "      <td>0.468038</td>\n",
       "      <td>0.792135</td>\n",
       "      <td>00:00</td>\n",
       "    </tr>\n",
       "    <tr>\n",
       "      <td>3</td>\n",
       "      <td>0.440127</td>\n",
       "      <td>0.490989</td>\n",
       "      <td>0.814607</td>\n",
       "      <td>00:00</td>\n",
       "    </tr>\n",
       "    <tr>\n",
       "      <td>4</td>\n",
       "      <td>0.429831</td>\n",
       "      <td>0.437494</td>\n",
       "      <td>0.808989</td>\n",
       "      <td>00:00</td>\n",
       "    </tr>\n",
       "    <tr>\n",
       "      <td>5</td>\n",
       "      <td>0.415786</td>\n",
       "      <td>0.419682</td>\n",
       "      <td>0.825843</td>\n",
       "      <td>00:00</td>\n",
       "    </tr>\n",
       "    <tr>\n",
       "      <td>6</td>\n",
       "      <td>0.404307</td>\n",
       "      <td>0.416462</td>\n",
       "      <td>0.831461</td>\n",
       "      <td>00:00</td>\n",
       "    </tr>\n",
       "    <tr>\n",
       "      <td>7</td>\n",
       "      <td>0.397340</td>\n",
       "      <td>0.435715</td>\n",
       "      <td>0.820225</td>\n",
       "      <td>00:00</td>\n",
       "    </tr>\n",
       "    <tr>\n",
       "      <td>8</td>\n",
       "      <td>0.388239</td>\n",
       "      <td>0.399674</td>\n",
       "      <td>0.831461</td>\n",
       "      <td>00:00</td>\n",
       "    </tr>\n",
       "    <tr>\n",
       "      <td>9</td>\n",
       "      <td>0.379080</td>\n",
       "      <td>0.421670</td>\n",
       "      <td>0.837079</td>\n",
       "      <td>00:00</td>\n",
       "    </tr>\n",
       "    <tr>\n",
       "      <td>10</td>\n",
       "      <td>0.375778</td>\n",
       "      <td>0.426597</td>\n",
       "      <td>0.842697</td>\n",
       "      <td>00:00</td>\n",
       "    </tr>\n",
       "    <tr>\n",
       "      <td>11</td>\n",
       "      <td>0.369748</td>\n",
       "      <td>0.469148</td>\n",
       "      <td>0.831461</td>\n",
       "      <td>00:00</td>\n",
       "    </tr>\n",
       "    <tr>\n",
       "      <td>12</td>\n",
       "      <td>0.371980</td>\n",
       "      <td>0.456007</td>\n",
       "      <td>0.808989</td>\n",
       "      <td>00:00</td>\n",
       "    </tr>\n",
       "    <tr>\n",
       "      <td>13</td>\n",
       "      <td>0.371858</td>\n",
       "      <td>0.427005</td>\n",
       "      <td>0.814607</td>\n",
       "      <td>00:00</td>\n",
       "    </tr>\n",
       "    <tr>\n",
       "      <td>14</td>\n",
       "      <td>0.367416</td>\n",
       "      <td>0.456457</td>\n",
       "      <td>0.820225</td>\n",
       "      <td>00:00</td>\n",
       "    </tr>\n",
       "    <tr>\n",
       "      <td>15</td>\n",
       "      <td>0.363112</td>\n",
       "      <td>0.439719</td>\n",
       "      <td>0.837079</td>\n",
       "      <td>00:00</td>\n",
       "    </tr>\n",
       "  </tbody>\n",
       "</table>"
      ],
      "text/plain": [
       "<IPython.core.display.HTML object>"
      ]
     },
     "metadata": {},
     "output_type": "display_data"
    }
   ],
   "source": [
    "learner2.fit(16, lr=0.04)"
   ]
  },
  {
   "cell_type": "code",
   "execution_count": 22,
   "id": "89ca7e3d",
   "metadata": {
    "execution": {
     "iopub.execute_input": "2023-08-22T13:24:53.417659Z",
     "iopub.status.busy": "2023-08-22T13:24:53.417303Z",
     "iopub.status.idle": "2023-08-22T13:24:53.433635Z",
     "shell.execute_reply": "2023-08-22T13:24:53.432593Z"
    },
    "papermill": {
     "duration": 0.030359,
     "end_time": "2023-08-22T13:24:53.436040",
     "exception": false,
     "start_time": "2023-08-22T13:24:53.405681",
     "status": "completed"
    },
    "tags": []
   },
   "outputs": [],
   "source": [
    "test_df = pd.read_csv('/kaggle/input/titanic/test.csv')"
   ]
  },
  {
   "cell_type": "code",
   "execution_count": 23,
   "id": "8d02a3a3",
   "metadata": {
    "execution": {
     "iopub.execute_input": "2023-08-22T13:24:53.460057Z",
     "iopub.status.busy": "2023-08-22T13:24:53.459054Z",
     "iopub.status.idle": "2023-08-22T13:24:53.464654Z",
     "shell.execute_reply": "2023-08-22T13:24:53.463558Z"
    },
    "papermill": {
     "duration": 0.019942,
     "end_time": "2023-08-22T13:24:53.467117",
     "exception": false,
     "start_time": "2023-08-22T13:24:53.447175",
     "status": "completed"
    },
    "tags": []
   },
   "outputs": [],
   "source": [
    "test_df['Fare'] = test_df.Fare.fillna(0)"
   ]
  },
  {
   "cell_type": "code",
   "execution_count": 24,
   "id": "457d4151",
   "metadata": {
    "execution": {
     "iopub.execute_input": "2023-08-22T13:24:53.490578Z",
     "iopub.status.busy": "2023-08-22T13:24:53.489639Z",
     "iopub.status.idle": "2023-08-22T13:24:53.504347Z",
     "shell.execute_reply": "2023-08-22T13:24:53.503309Z"
    },
    "papermill": {
     "duration": 0.029036,
     "end_time": "2023-08-22T13:24:53.506818",
     "exception": false,
     "start_time": "2023-08-22T13:24:53.477782",
     "status": "completed"
    },
    "tags": []
   },
   "outputs": [],
   "source": [
    "add_features(test_df)"
   ]
  },
  {
   "cell_type": "code",
   "execution_count": 25,
   "id": "0f8808fa",
   "metadata": {
    "execution": {
     "iopub.execute_input": "2023-08-22T13:24:53.530109Z",
     "iopub.status.busy": "2023-08-22T13:24:53.529723Z",
     "iopub.status.idle": "2023-08-22T13:24:53.550987Z",
     "shell.execute_reply": "2023-08-22T13:24:53.550082Z"
    },
    "papermill": {
     "duration": 0.035486,
     "end_time": "2023-08-22T13:24:53.553383",
     "exception": false,
     "start_time": "2023-08-22T13:24:53.517897",
     "status": "completed"
    },
    "tags": []
   },
   "outputs": [],
   "source": [
    "test_dls = learner2.dls.test_dl(test_df)"
   ]
  },
  {
   "cell_type": "code",
   "execution_count": 26,
   "id": "201f716d",
   "metadata": {
    "execution": {
     "iopub.execute_input": "2023-08-22T13:24:53.575987Z",
     "iopub.status.busy": "2023-08-22T13:24:53.575587Z",
     "iopub.status.idle": "2023-08-22T13:24:53.655512Z",
     "shell.execute_reply": "2023-08-22T13:24:53.654364Z"
    },
    "papermill": {
     "duration": 0.093921,
     "end_time": "2023-08-22T13:24:53.658027",
     "exception": false,
     "start_time": "2023-08-22T13:24:53.564106",
     "status": "completed"
    },
    "tags": []
   },
   "outputs": [
    {
     "data": {
      "text/html": [
       "\n",
       "<style>\n",
       "    /* Turns off some styling */\n",
       "    progress {\n",
       "        /* gets rid of default border in Firefox and Opera. */\n",
       "        border: none;\n",
       "        /* Needs to be in here for Safari polyfill so background images work as expected. */\n",
       "        background-size: auto;\n",
       "    }\n",
       "    progress:not([value]), progress:not([value])::-webkit-progress-bar {\n",
       "        background: repeating-linear-gradient(45deg, #7e7e7e, #7e7e7e 10px, #5c5c5c 10px, #5c5c5c 20px);\n",
       "    }\n",
       "    .progress-bar-interrupted, .progress-bar-interrupted::-webkit-progress-bar {\n",
       "        background: #F44336;\n",
       "    }\n",
       "</style>\n"
      ],
      "text/plain": [
       "<IPython.core.display.HTML object>"
      ]
     },
     "metadata": {},
     "output_type": "display_data"
    },
    {
     "data": {
      "text/html": [],
      "text/plain": [
       "<IPython.core.display.HTML object>"
      ]
     },
     "metadata": {},
     "output_type": "display_data"
    }
   ],
   "source": [
    "preds,_ = learner2.get_preds(dl=test_dls)"
   ]
  },
  {
   "cell_type": "code",
   "execution_count": 27,
   "id": "643556ae",
   "metadata": {
    "execution": {
     "iopub.execute_input": "2023-08-22T13:24:53.681791Z",
     "iopub.status.busy": "2023-08-22T13:24:53.681405Z",
     "iopub.status.idle": "2023-08-22T13:24:53.694236Z",
     "shell.execute_reply": "2023-08-22T13:24:53.692700Z"
    },
    "papermill": {
     "duration": 0.027989,
     "end_time": "2023-08-22T13:24:53.696762",
     "exception": false,
     "start_time": "2023-08-22T13:24:53.668773",
     "status": "completed"
    },
    "tags": []
   },
   "outputs": [],
   "source": [
    "test_df['Survived'] = (preds[:,1]>0.5).int()\n",
    "sub_df = test_df[['PassengerId','Survived']]\n",
    "sub_df.to_csv('submission.csv', index=False)"
   ]
  },
  {
   "cell_type": "code",
   "execution_count": 28,
   "id": "fda03463",
   "metadata": {
    "execution": {
     "iopub.execute_input": "2023-08-22T13:24:53.719790Z",
     "iopub.status.busy": "2023-08-22T13:24:53.719394Z",
     "iopub.status.idle": "2023-08-22T13:24:54.728521Z",
     "shell.execute_reply": "2023-08-22T13:24:54.727077Z"
    },
    "papermill": {
     "duration": 1.023497,
     "end_time": "2023-08-22T13:24:54.730998",
     "exception": false,
     "start_time": "2023-08-22T13:24:53.707501",
     "status": "completed"
    },
    "tags": []
   },
   "outputs": [
    {
     "name": "stdout",
     "output_type": "stream",
     "text": [
      "PassengerId,Survived\r\n",
      "892,0\r\n",
      "893,1\r\n",
      "894,0\r\n",
      "895,0\r\n",
      "896,1\r\n",
      "897,0\r\n",
      "898,1\r\n",
      "899,0\r\n",
      "900,1\r\n"
     ]
    }
   ],
   "source": [
    "!head submission.csv"
   ]
  },
  {
   "cell_type": "code",
   "execution_count": null,
   "id": "70290132",
   "metadata": {
    "papermill": {
     "duration": 0.010467,
     "end_time": "2023-08-22T13:24:54.752259",
     "exception": false,
     "start_time": "2023-08-22T13:24:54.741792",
     "status": "completed"
    },
    "tags": []
   },
   "outputs": [],
   "source": []
  }
 ],
 "metadata": {
  "kernelspec": {
   "display_name": "Python 3",
   "language": "python",
   "name": "python3"
  },
  "language_info": {
   "codemirror_mode": {
    "name": "ipython",
    "version": 3
   },
   "file_extension": ".py",
   "mimetype": "text/x-python",
   "name": "python",
   "nbconvert_exporter": "python",
   "pygments_lexer": "ipython3",
   "version": "3.10.12"
  },
  "papermill": {
   "default_parameters": {},
   "duration": 26.04818,
   "end_time": "2023-08-22T13:24:56.287814",
   "environment_variables": {},
   "exception": null,
   "input_path": "__notebook__.ipynb",
   "output_path": "__notebook__.ipynb",
   "parameters": {},
   "start_time": "2023-08-22T13:24:30.239634",
   "version": "2.4.0"
  }
 },
 "nbformat": 4,
 "nbformat_minor": 5
}
