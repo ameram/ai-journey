{
 "cells": [
  {
   "cell_type": "code",
   "execution_count": 1,
   "id": "ab4aecc1",
   "metadata": {
    "_cell_guid": "b1076dfc-b9ad-4769-8c92-a6c4dae69d19",
    "_uuid": "8f2839f25d086af736a60e9eeb907d3b93b6e0e5",
    "execution": {
     "iopub.execute_input": "2023-08-16T14:27:33.066531Z",
     "iopub.status.busy": "2023-08-16T14:27:33.066131Z",
     "iopub.status.idle": "2023-08-16T14:27:33.083158Z",
     "shell.execute_reply": "2023-08-16T14:27:33.081890Z"
    },
    "papermill": {
     "duration": 0.039055,
     "end_time": "2023-08-16T14:27:33.086148",
     "exception": false,
     "start_time": "2023-08-16T14:27:33.047093",
     "status": "completed"
    },
    "tags": []
   },
   "outputs": [
    {
     "name": "stdout",
     "output_type": "stream",
     "text": [
      "/kaggle/input/titanic/train.csv\n",
      "/kaggle/input/titanic/test.csv\n",
      "/kaggle/input/titanic/gender_submission.csv\n"
     ]
    }
   ],
   "source": [
    "# This Python 3 environment comes with many helpful analytics libraries installed\n",
    "# It is defined by the kaggle/python Docker image: https://github.com/kaggle/docker-python\n",
    "# For example, here's several helpful packages to load\n",
    "\n",
    "import numpy as np # linear algebra\n",
    "import pandas as pd # data processing, CSV file I/O (e.g. pd.read_csv)\n",
    "\n",
    "# Input data files are available in the read-only \"../input/\" directory\n",
    "# For example, running this (by clicking run or pressing Shift+Enter) will list all files under the input directory\n",
    "\n",
    "import os\n",
    "for dirname, _, filenames in os.walk('/kaggle/input'):\n",
    "    for filename in filenames:\n",
    "        print(os.path.join(dirname, filename))\n",
    "\n",
    "# You can write up to 20GB to the current directory (/kaggle/working/) that gets preserved as output when you create a version using \"Save & Run All\" \n",
    "# You can also write temporary files to /kaggle/temp/, but they won't be saved outside of the current session"
   ]
  },
  {
   "cell_type": "markdown",
   "id": "ccebf086",
   "metadata": {
    "papermill": {
     "duration": 0.016015,
     "end_time": "2023-08-16T14:27:33.119497",
     "exception": false,
     "start_time": "2023-08-16T14:27:33.103482",
     "status": "completed"
    },
    "tags": []
   },
   "source": [
    "# First phase let's build a SVM\n",
    "\n",
    "1. Look at the big picture.\n",
    "2. Get the data.\n",
    "3. Discover and visualize the data to gain insights.\n",
    "4. Prepare the data for Machine Learning algorithms.\n",
    "5. Select a model and train it.\n",
    "6. Fine-tune your model.\n",
    "7. Present your solution.\n",
    "8. Launch, monitor, and maintain your system."
   ]
  },
  {
   "cell_type": "code",
   "execution_count": 2,
   "id": "d7fcc633",
   "metadata": {
    "execution": {
     "iopub.execute_input": "2023-08-16T14:27:33.155244Z",
     "iopub.status.busy": "2023-08-16T14:27:33.154761Z",
     "iopub.status.idle": "2023-08-16T14:27:33.160468Z",
     "shell.execute_reply": "2023-08-16T14:27:33.159035Z"
    },
    "papermill": {
     "duration": 0.027229,
     "end_time": "2023-08-16T14:27:33.163559",
     "exception": false,
     "start_time": "2023-08-16T14:27:33.136330",
     "status": "completed"
    },
    "tags": []
   },
   "outputs": [],
   "source": [
    "import matplotlib as mpl\n",
    "import matplotlib.pyplot as plt"
   ]
  },
  {
   "cell_type": "code",
   "execution_count": 3,
   "id": "572c1ab3",
   "metadata": {
    "execution": {
     "iopub.execute_input": "2023-08-16T14:27:33.198451Z",
     "iopub.status.busy": "2023-08-16T14:27:33.198076Z",
     "iopub.status.idle": "2023-08-16T14:27:34.301379Z",
     "shell.execute_reply": "2023-08-16T14:27:34.299820Z"
    },
    "papermill": {
     "duration": 1.124234,
     "end_time": "2023-08-16T14:27:34.304166",
     "exception": false,
     "start_time": "2023-08-16T14:27:33.179932",
     "status": "completed"
    },
    "tags": []
   },
   "outputs": [
    {
     "name": "stdout",
     "output_type": "stream",
     "text": [
      "/kaggle/working\r\n"
     ]
    }
   ],
   "source": [
    "!pwd"
   ]
  },
  {
   "cell_type": "code",
   "execution_count": 4,
   "id": "6294a5ed",
   "metadata": {
    "execution": {
     "iopub.execute_input": "2023-08-16T14:27:34.338024Z",
     "iopub.status.busy": "2023-08-16T14:27:34.337546Z",
     "iopub.status.idle": "2023-08-16T14:27:34.379307Z",
     "shell.execute_reply": "2023-08-16T14:27:34.377973Z"
    },
    "papermill": {
     "duration": 0.061998,
     "end_time": "2023-08-16T14:27:34.382055",
     "exception": false,
     "start_time": "2023-08-16T14:27:34.320057",
     "status": "completed"
    },
    "tags": []
   },
   "outputs": [],
   "source": [
    "df_train = pd.read_csv('/kaggle/input/titanic/train.csv')\n",
    "df_test = pd.read_csv('/kaggle/input/titanic/test.csv')"
   ]
  },
  {
   "cell_type": "code",
   "execution_count": 5,
   "id": "0c7119a9",
   "metadata": {
    "execution": {
     "iopub.execute_input": "2023-08-16T14:27:34.417388Z",
     "iopub.status.busy": "2023-08-16T14:27:34.416905Z",
     "iopub.status.idle": "2023-08-16T14:27:34.462530Z",
     "shell.execute_reply": "2023-08-16T14:27:34.460902Z"
    },
    "papermill": {
     "duration": 0.066784,
     "end_time": "2023-08-16T14:27:34.465287",
     "exception": false,
     "start_time": "2023-08-16T14:27:34.398503",
     "status": "completed"
    },
    "tags": []
   },
   "outputs": [
    {
     "data": {
      "text/html": [
       "<div>\n",
       "<style scoped>\n",
       "    .dataframe tbody tr th:only-of-type {\n",
       "        vertical-align: middle;\n",
       "    }\n",
       "\n",
       "    .dataframe tbody tr th {\n",
       "        vertical-align: top;\n",
       "    }\n",
       "\n",
       "    .dataframe thead th {\n",
       "        text-align: right;\n",
       "    }\n",
       "</style>\n",
       "<table border=\"1\" class=\"dataframe\">\n",
       "  <thead>\n",
       "    <tr style=\"text-align: right;\">\n",
       "      <th></th>\n",
       "      <th>PassengerId</th>\n",
       "      <th>Survived</th>\n",
       "      <th>Pclass</th>\n",
       "      <th>Name</th>\n",
       "      <th>Sex</th>\n",
       "      <th>Age</th>\n",
       "      <th>SibSp</th>\n",
       "      <th>Parch</th>\n",
       "      <th>Ticket</th>\n",
       "      <th>Fare</th>\n",
       "      <th>Cabin</th>\n",
       "      <th>Embarked</th>\n",
       "    </tr>\n",
       "  </thead>\n",
       "  <tbody>\n",
       "    <tr>\n",
       "      <th>0</th>\n",
       "      <td>1</td>\n",
       "      <td>0</td>\n",
       "      <td>3</td>\n",
       "      <td>Braund, Mr. Owen Harris</td>\n",
       "      <td>male</td>\n",
       "      <td>22.0</td>\n",
       "      <td>1</td>\n",
       "      <td>0</td>\n",
       "      <td>A/5 21171</td>\n",
       "      <td>7.2500</td>\n",
       "      <td>NaN</td>\n",
       "      <td>S</td>\n",
       "    </tr>\n",
       "    <tr>\n",
       "      <th>1</th>\n",
       "      <td>2</td>\n",
       "      <td>1</td>\n",
       "      <td>1</td>\n",
       "      <td>Cumings, Mrs. John Bradley (Florence Briggs Th...</td>\n",
       "      <td>female</td>\n",
       "      <td>38.0</td>\n",
       "      <td>1</td>\n",
       "      <td>0</td>\n",
       "      <td>PC 17599</td>\n",
       "      <td>71.2833</td>\n",
       "      <td>C85</td>\n",
       "      <td>C</td>\n",
       "    </tr>\n",
       "    <tr>\n",
       "      <th>2</th>\n",
       "      <td>3</td>\n",
       "      <td>1</td>\n",
       "      <td>3</td>\n",
       "      <td>Heikkinen, Miss. Laina</td>\n",
       "      <td>female</td>\n",
       "      <td>26.0</td>\n",
       "      <td>0</td>\n",
       "      <td>0</td>\n",
       "      <td>STON/O2. 3101282</td>\n",
       "      <td>7.9250</td>\n",
       "      <td>NaN</td>\n",
       "      <td>S</td>\n",
       "    </tr>\n",
       "    <tr>\n",
       "      <th>3</th>\n",
       "      <td>4</td>\n",
       "      <td>1</td>\n",
       "      <td>1</td>\n",
       "      <td>Futrelle, Mrs. Jacques Heath (Lily May Peel)</td>\n",
       "      <td>female</td>\n",
       "      <td>35.0</td>\n",
       "      <td>1</td>\n",
       "      <td>0</td>\n",
       "      <td>113803</td>\n",
       "      <td>53.1000</td>\n",
       "      <td>C123</td>\n",
       "      <td>S</td>\n",
       "    </tr>\n",
       "    <tr>\n",
       "      <th>4</th>\n",
       "      <td>5</td>\n",
       "      <td>0</td>\n",
       "      <td>3</td>\n",
       "      <td>Allen, Mr. William Henry</td>\n",
       "      <td>male</td>\n",
       "      <td>35.0</td>\n",
       "      <td>0</td>\n",
       "      <td>0</td>\n",
       "      <td>373450</td>\n",
       "      <td>8.0500</td>\n",
       "      <td>NaN</td>\n",
       "      <td>S</td>\n",
       "    </tr>\n",
       "  </tbody>\n",
       "</table>\n",
       "</div>"
      ],
      "text/plain": [
       "   PassengerId  Survived  Pclass  \\\n",
       "0            1         0       3   \n",
       "1            2         1       1   \n",
       "2            3         1       3   \n",
       "3            4         1       1   \n",
       "4            5         0       3   \n",
       "\n",
       "                                                Name     Sex   Age  SibSp  \\\n",
       "0                            Braund, Mr. Owen Harris    male  22.0      1   \n",
       "1  Cumings, Mrs. John Bradley (Florence Briggs Th...  female  38.0      1   \n",
       "2                             Heikkinen, Miss. Laina  female  26.0      0   \n",
       "3       Futrelle, Mrs. Jacques Heath (Lily May Peel)  female  35.0      1   \n",
       "4                           Allen, Mr. William Henry    male  35.0      0   \n",
       "\n",
       "   Parch            Ticket     Fare Cabin Embarked  \n",
       "0      0         A/5 21171   7.2500   NaN        S  \n",
       "1      0          PC 17599  71.2833   C85        C  \n",
       "2      0  STON/O2. 3101282   7.9250   NaN        S  \n",
       "3      0            113803  53.1000  C123        S  \n",
       "4      0            373450   8.0500   NaN        S  "
      ]
     },
     "execution_count": 5,
     "metadata": {},
     "output_type": "execute_result"
    }
   ],
   "source": [
    "df_train.head()"
   ]
  },
  {
   "cell_type": "code",
   "execution_count": 6,
   "id": "57c572c2",
   "metadata": {
    "_kg_hide-input": true,
    "execution": {
     "iopub.execute_input": "2023-08-16T14:27:34.499868Z",
     "iopub.status.busy": "2023-08-16T14:27:34.499443Z",
     "iopub.status.idle": "2023-08-16T14:27:34.532504Z",
     "shell.execute_reply": "2023-08-16T14:27:34.531205Z"
    },
    "papermill": {
     "duration": 0.053469,
     "end_time": "2023-08-16T14:27:34.535014",
     "exception": false,
     "start_time": "2023-08-16T14:27:34.481545",
     "status": "completed"
    },
    "tags": []
   },
   "outputs": [
    {
     "name": "stdout",
     "output_type": "stream",
     "text": [
      "0.34539473684210525\n",
      "0.5358851674641149\n",
      "0.4642857142857143\n",
      "0.25\n",
      "0.16666666666666666\n",
      "0.0\n",
      "0.0\n"
     ]
    }
   ],
   "source": [
    "df_train['SibSp'].value_counts()\n",
    "\n",
    "print(df_train[df_train['SibSp'] == 0]['Survived'].sum()/len(df_train[df_train['SibSp'] == 0]))\n",
    "print(df_train[df_train['SibSp'] == 1]['Survived'].sum()/len(df_train[df_train['SibSp'] == 1]))\n",
    "print(df_train[df_train['SibSp'] == 2]['Survived'].sum()/len(df_train[df_train['SibSp'] == 2]))\n",
    "print(df_train[df_train['SibSp'] == 3]['Survived'].sum()/len(df_train[df_train['SibSp'] == 3]))\n",
    "print(df_train[df_train['SibSp'] == 4]['Survived'].sum()/len(df_train[df_train['SibSp'] == 4]))\n",
    "print(df_train[df_train['SibSp'] == 8]['Survived'].sum()/len(df_train[df_train['SibSp'] == 8]))\n",
    "print(df_train[df_train['SibSp'] == 5]['Survived'].sum()/len(df_train[df_train['SibSp'] == 5]))"
   ]
  },
  {
   "cell_type": "code",
   "execution_count": 7,
   "id": "61c66afd",
   "metadata": {
    "execution": {
     "iopub.execute_input": "2023-08-16T14:27:34.569966Z",
     "iopub.status.busy": "2023-08-16T14:27:34.569549Z",
     "iopub.status.idle": "2023-08-16T14:27:34.902452Z",
     "shell.execute_reply": "2023-08-16T14:27:34.901209Z"
    },
    "papermill": {
     "duration": 0.353596,
     "end_time": "2023-08-16T14:27:34.904884",
     "exception": false,
     "start_time": "2023-08-16T14:27:34.551288",
     "status": "completed"
    },
    "tags": []
   },
   "outputs": [
    {
     "data": {
      "text/plain": [
       "(array([372., 119.]),\n",
       " array([0. , 0.5, 1. ]),\n",
       " <BarContainer object of 2 artists>)"
      ]
     },
     "execution_count": 7,
     "metadata": {},
     "output_type": "execute_result"
    },
    {
     "data": {
      "image/png": "[encoded data removed]",
      "text/plain": [
       "<Figure size 640x480 with 1 Axes>"
      ]
     },
     "metadata": {},
     "output_type": "display_data"
    }
   ],
   "source": [
    "plt.hist(df_train[df_train['Pclass'] == 1]['Survived'], bins=2, color='r', stacked=True)\n",
    "plt.hist(df_train[df_train['Pclass'] == 2]['Survived'], bins=2, color='b', stacked=True)\n",
    "plt.hist(df_train[df_train['Pclass'] == 3]['Survived'], bins=2, color='y', stacked=True)"
   ]
  },
  {
   "cell_type": "code",
   "execution_count": 8,
   "id": "4fddcc3d",
   "metadata": {
    "execution": {
     "iopub.execute_input": "2023-08-16T14:27:34.941010Z",
     "iopub.status.busy": "2023-08-16T14:27:34.939861Z",
     "iopub.status.idle": "2023-08-16T14:27:35.690313Z",
     "shell.execute_reply": "2023-08-16T14:27:35.689043Z"
    },
    "papermill": {
     "duration": 0.771317,
     "end_time": "2023-08-16T14:27:35.693148",
     "exception": false,
     "start_time": "2023-08-16T14:27:34.921831",
     "status": "completed"
    },
    "tags": []
   },
   "outputs": [
    {
     "data": {
      "text/plain": [
       "(array([372.,   0.,   0.,   0.,   0.,   0.,   0.,   0.,   0., 119.]),\n",
       " array([0. , 0.1, 0.2, 0.3, 0.4, 0.5, 0.6, 0.7, 0.8, 0.9, 1. ]),\n",
       " <BarContainer object of 10 artists>)"
      ]
     },
     "execution_count": 8,
     "metadata": {},
     "output_type": "execute_result"
    },
    {
     "data": {
      "image/png": "[encoded data removed]",
      "text/plain": [
       "<Figure size 768x576 with 3 Axes>"
      ]
     },
     "metadata": {},
     "output_type": "display_data"
    }
   ],
   "source": [
    "fix, ax = plt.subplots(3)\n",
    "fix.dpi=120\n",
    "ax[0].hist(df_train[df_train['Pclass'] == 1]['Survived'], color='r')\n",
    "ax[1].hist(df_train[df_train['Pclass'] == 2]['Survived'], color='b')\n",
    "ax[2].hist(df_train[df_train['Pclass'] == 3]['Survived'], color='y')"
   ]
  },
  {
   "cell_type": "code",
   "execution_count": 9,
   "id": "028b35d4",
   "metadata": {
    "execution": {
     "iopub.execute_input": "2023-08-16T14:27:35.730446Z",
     "iopub.status.busy": "2023-08-16T14:27:35.730055Z",
     "iopub.status.idle": "2023-08-16T14:27:35.741940Z",
     "shell.execute_reply": "2023-08-16T14:27:35.740975Z"
    },
    "papermill": {
     "duration": 0.033503,
     "end_time": "2023-08-16T14:27:35.744222",
     "exception": false,
     "start_time": "2023-08-16T14:27:35.710719",
     "status": "completed"
    },
    "tags": []
   },
   "outputs": [],
   "source": [
    "female_rate = (df_train[df_train['Sex']=='female']['Survived'].sum()/len(df_train[df_train['Sex']=='female']))\n",
    "male_rate = (df_train[df_train['Sex']=='male']['Survived'].sum()/len(df_train[df_train['Sex']=='female']))"
   ]
  },
  {
   "cell_type": "code",
   "execution_count": 10,
   "id": "339dcac2",
   "metadata": {
    "execution": {
     "iopub.execute_input": "2023-08-16T14:27:35.781100Z",
     "iopub.status.busy": "2023-08-16T14:27:35.780282Z",
     "iopub.status.idle": "2023-08-16T14:27:35.785122Z",
     "shell.execute_reply": "2023-08-16T14:27:35.784064Z"
    },
    "papermill": {
     "duration": 0.026074,
     "end_time": "2023-08-16T14:27:35.787611",
     "exception": false,
     "start_time": "2023-08-16T14:27:35.761537",
     "status": "completed"
    },
    "tags": []
   },
   "outputs": [],
   "source": [
    "# plt.hist(, color='r', stacked=True, align='mid')"
   ]
  },
  {
   "cell_type": "code",
   "execution_count": 11,
   "id": "58521818",
   "metadata": {
    "execution": {
     "iopub.execute_input": "2023-08-16T14:27:35.825208Z",
     "iopub.status.busy": "2023-08-16T14:27:35.824068Z",
     "iopub.status.idle": "2023-08-16T14:27:35.861728Z",
     "shell.execute_reply": "2023-08-16T14:27:35.860856Z"
    },
    "papermill": {
     "duration": 0.058634,
     "end_time": "2023-08-16T14:27:35.863966",
     "exception": false,
     "start_time": "2023-08-16T14:27:35.805332",
     "status": "completed"
    },
    "tags": []
   },
   "outputs": [
    {
     "data": {
      "text/html": [
       "<div>\n",
       "<style scoped>\n",
       "    .dataframe tbody tr th:only-of-type {\n",
       "        vertical-align: middle;\n",
       "    }\n",
       "\n",
       "    .dataframe tbody tr th {\n",
       "        vertical-align: top;\n",
       "    }\n",
       "\n",
       "    .dataframe thead th {\n",
       "        text-align: right;\n",
       "    }\n",
       "</style>\n",
       "<table border=\"1\" class=\"dataframe\">\n",
       "  <thead>\n",
       "    <tr style=\"text-align: right;\">\n",
       "      <th></th>\n",
       "      <th>PassengerId</th>\n",
       "      <th>Survived</th>\n",
       "      <th>Pclass</th>\n",
       "      <th>Age</th>\n",
       "      <th>SibSp</th>\n",
       "      <th>Parch</th>\n",
       "      <th>Fare</th>\n",
       "    </tr>\n",
       "  </thead>\n",
       "  <tbody>\n",
       "    <tr>\n",
       "      <th>count</th>\n",
       "      <td>891.000000</td>\n",
       "      <td>891.000000</td>\n",
       "      <td>891.000000</td>\n",
       "      <td>714.000000</td>\n",
       "      <td>891.000000</td>\n",
       "      <td>891.000000</td>\n",
       "      <td>891.000000</td>\n",
       "    </tr>\n",
       "    <tr>\n",
       "      <th>mean</th>\n",
       "      <td>446.000000</td>\n",
       "      <td>0.383838</td>\n",
       "      <td>2.308642</td>\n",
       "      <td>29.699118</td>\n",
       "      <td>0.523008</td>\n",
       "      <td>0.381594</td>\n",
       "      <td>32.204208</td>\n",
       "    </tr>\n",
       "    <tr>\n",
       "      <th>std</th>\n",
       "      <td>257.353842</td>\n",
       "      <td>0.486592</td>\n",
       "      <td>0.836071</td>\n",
       "      <td>14.526497</td>\n",
       "      <td>1.102743</td>\n",
       "      <td>0.806057</td>\n",
       "      <td>49.693429</td>\n",
       "    </tr>\n",
       "    <tr>\n",
       "      <th>min</th>\n",
       "      <td>1.000000</td>\n",
       "      <td>0.000000</td>\n",
       "      <td>1.000000</td>\n",
       "      <td>0.420000</td>\n",
       "      <td>0.000000</td>\n",
       "      <td>0.000000</td>\n",
       "      <td>0.000000</td>\n",
       "    </tr>\n",
       "    <tr>\n",
       "      <th>25%</th>\n",
       "      <td>223.500000</td>\n",
       "      <td>0.000000</td>\n",
       "      <td>2.000000</td>\n",
       "      <td>20.125000</td>\n",
       "      <td>0.000000</td>\n",
       "      <td>0.000000</td>\n",
       "      <td>7.910400</td>\n",
       "    </tr>\n",
       "    <tr>\n",
       "      <th>50%</th>\n",
       "      <td>446.000000</td>\n",
       "      <td>0.000000</td>\n",
       "      <td>3.000000</td>\n",
       "      <td>28.000000</td>\n",
       "      <td>0.000000</td>\n",
       "      <td>0.000000</td>\n",
       "      <td>14.454200</td>\n",
       "    </tr>\n",
       "    <tr>\n",
       "      <th>75%</th>\n",
       "      <td>668.500000</td>\n",
       "      <td>1.000000</td>\n",
       "      <td>3.000000</td>\n",
       "      <td>38.000000</td>\n",
       "      <td>1.000000</td>\n",
       "      <td>0.000000</td>\n",
       "      <td>31.000000</td>\n",
       "    </tr>\n",
       "    <tr>\n",
       "      <th>max</th>\n",
       "      <td>891.000000</td>\n",
       "      <td>1.000000</td>\n",
       "      <td>3.000000</td>\n",
       "      <td>80.000000</td>\n",
       "      <td>8.000000</td>\n",
       "      <td>6.000000</td>\n",
       "      <td>512.329200</td>\n",
       "    </tr>\n",
       "  </tbody>\n",
       "</table>\n",
       "</div>"
      ],
      "text/plain": [
       "       PassengerId    Survived      Pclass         Age       SibSp  \\\n",
       "count   891.000000  891.000000  891.000000  714.000000  891.000000   \n",
       "mean    446.000000    0.383838    2.308642   29.699118    0.523008   \n",
       "std     257.353842    0.486592    0.836071   14.526497    1.102743   \n",
       "min       1.000000    0.000000    1.000000    0.420000    0.000000   \n",
       "25%     223.500000    0.000000    2.000000   20.125000    0.000000   \n",
       "50%     446.000000    0.000000    3.000000   28.000000    0.000000   \n",
       "75%     668.500000    1.000000    3.000000   38.000000    1.000000   \n",
       "max     891.000000    1.000000    3.000000   80.000000    8.000000   \n",
       "\n",
       "            Parch        Fare  \n",
       "count  891.000000  891.000000  \n",
       "mean     0.381594   32.204208  \n",
       "std      0.806057   49.693429  \n",
       "min      0.000000    0.000000  \n",
       "25%      0.000000    7.910400  \n",
       "50%      0.000000   14.454200  \n",
       "75%      0.000000   31.000000  \n",
       "max      6.000000  512.329200  "
      ]
     },
     "execution_count": 11,
     "metadata": {},
     "output_type": "execute_result"
    }
   ],
   "source": [
    "df_train.describe()"
   ]
  },
  {
   "cell_type": "code",
   "execution_count": 12,
   "id": "513bf772",
   "metadata": {
    "execution": {
     "iopub.execute_input": "2023-08-16T14:27:35.901361Z",
     "iopub.status.busy": "2023-08-16T14:27:35.900517Z",
     "iopub.status.idle": "2023-08-16T14:27:35.911925Z",
     "shell.execute_reply": "2023-08-16T14:27:35.910829Z"
    },
    "papermill": {
     "duration": 0.032517,
     "end_time": "2023-08-16T14:27:35.914308",
     "exception": false,
     "start_time": "2023-08-16T14:27:35.881791",
     "status": "completed"
    },
    "tags": []
   },
   "outputs": [
    {
     "data": {
      "text/plain": [
       "PassengerId    False\n",
       "Survived       False\n",
       "Pclass         False\n",
       "Name           False\n",
       "Sex            False\n",
       "Age             True\n",
       "SibSp          False\n",
       "Parch          False\n",
       "Ticket         False\n",
       "Fare           False\n",
       "Cabin           True\n",
       "Embarked        True\n",
       "dtype: bool"
      ]
     },
     "execution_count": 12,
     "metadata": {},
     "output_type": "execute_result"
    }
   ],
   "source": [
    "# Typical null check\n",
    "df_train.isnull().any()"
   ]
  },
  {
   "cell_type": "code",
   "execution_count": 13,
   "id": "5bbc09b9",
   "metadata": {
    "execution": {
     "iopub.execute_input": "2023-08-16T14:27:35.952178Z",
     "iopub.status.busy": "2023-08-16T14:27:35.951402Z",
     "iopub.status.idle": "2023-08-16T14:27:35.960263Z",
     "shell.execute_reply": "2023-08-16T14:27:35.959260Z"
    },
    "papermill": {
     "duration": 0.030734,
     "end_time": "2023-08-16T14:27:35.962667",
     "exception": false,
     "start_time": "2023-08-16T14:27:35.931933",
     "status": "completed"
    },
    "tags": []
   },
   "outputs": [
    {
     "data": {
      "text/plain": [
       "'S'"
      ]
     },
     "execution_count": 13,
     "metadata": {},
     "output_type": "execute_result"
    }
   ],
   "source": [
    "df_train['Embarked'].mode()[0]"
   ]
  },
  {
   "cell_type": "code",
   "execution_count": 14,
   "id": "1c12809c",
   "metadata": {
    "execution": {
     "iopub.execute_input": "2023-08-16T14:27:36.000793Z",
     "iopub.status.busy": "2023-08-16T14:27:36.000381Z",
     "iopub.status.idle": "2023-08-16T14:27:36.010865Z",
     "shell.execute_reply": "2023-08-16T14:27:36.009994Z"
    },
    "papermill": {
     "duration": 0.033041,
     "end_time": "2023-08-16T14:27:36.014053",
     "exception": false,
     "start_time": "2023-08-16T14:27:35.981012",
     "status": "completed"
    },
    "tags": []
   },
   "outputs": [],
   "source": [
    "df_train['Embarked'] = df_train['Embarked'].fillna('S')\n",
    "df_train['Age'] = df_train['Age'].fillna(df_train['Age'].mean())\n",
    "\n",
    "# We don't use Cabin column."
   ]
  },
  {
   "cell_type": "code",
   "execution_count": 15,
   "id": "32dfbb74",
   "metadata": {
    "execution": {
     "iopub.execute_input": "2023-08-16T14:27:36.054192Z",
     "iopub.status.busy": "2023-08-16T14:27:36.053141Z",
     "iopub.status.idle": "2023-08-16T14:27:36.064310Z",
     "shell.execute_reply": "2023-08-16T14:27:36.063476Z"
    },
    "papermill": {
     "duration": 0.033876,
     "end_time": "2023-08-16T14:27:36.066587",
     "exception": false,
     "start_time": "2023-08-16T14:27:36.032711",
     "status": "completed"
    },
    "tags": []
   },
   "outputs": [
    {
     "data": {
      "text/plain": [
       "PassengerId    False\n",
       "Survived       False\n",
       "Pclass         False\n",
       "Name           False\n",
       "Sex            False\n",
       "Age            False\n",
       "SibSp          False\n",
       "Parch          False\n",
       "Ticket         False\n",
       "Fare           False\n",
       "Cabin           True\n",
       "Embarked       False\n",
       "dtype: bool"
      ]
     },
     "execution_count": 15,
     "metadata": {},
     "output_type": "execute_result"
    }
   ],
   "source": [
    "df_train.isnull().any()"
   ]
  },
  {
   "cell_type": "code",
   "execution_count": 16,
   "id": "38c1261f",
   "metadata": {
    "execution": {
     "iopub.execute_input": "2023-08-16T14:27:36.110238Z",
     "iopub.status.busy": "2023-08-16T14:27:36.109222Z",
     "iopub.status.idle": "2023-08-16T14:27:36.118630Z",
     "shell.execute_reply": "2023-08-16T14:27:36.117584Z"
    },
    "papermill": {
     "duration": 0.035528,
     "end_time": "2023-08-16T14:27:36.122493",
     "exception": false,
     "start_time": "2023-08-16T14:27:36.086965",
     "status": "completed"
    },
    "tags": []
   },
   "outputs": [],
   "source": [
    "df_test['Embarked'] = df_test['Embarked'].fillna(df_test['Embarked'].mode())\n",
    "df_test['Age'] = df_test['Age'].fillna(df_test['Age'].mean())\n",
    "df_test['Fare'] = df_test['Fare'].fillna(df_test['Fare'].mean())\n",
    "\n",
    "# We don't use Cabin column."
   ]
  },
  {
   "cell_type": "code",
   "execution_count": 17,
   "id": "74078995",
   "metadata": {
    "execution": {
     "iopub.execute_input": "2023-08-16T14:27:36.179691Z",
     "iopub.status.busy": "2023-08-16T14:27:36.179129Z",
     "iopub.status.idle": "2023-08-16T14:27:36.191499Z",
     "shell.execute_reply": "2023-08-16T14:27:36.190383Z"
    },
    "papermill": {
     "duration": 0.044377,
     "end_time": "2023-08-16T14:27:36.193871",
     "exception": false,
     "start_time": "2023-08-16T14:27:36.149494",
     "status": "completed"
    },
    "tags": []
   },
   "outputs": [
    {
     "data": {
      "text/plain": [
       "PassengerId    False\n",
       "Pclass         False\n",
       "Name           False\n",
       "Sex            False\n",
       "Age            False\n",
       "SibSp          False\n",
       "Parch          False\n",
       "Ticket         False\n",
       "Fare           False\n",
       "Cabin           True\n",
       "Embarked       False\n",
       "dtype: bool"
      ]
     },
     "execution_count": 17,
     "metadata": {},
     "output_type": "execute_result"
    }
   ],
   "source": [
    "df_test.isnull().any()"
   ]
  },
  {
   "cell_type": "code",
   "execution_count": 18,
   "id": "fe10fad2",
   "metadata": {
    "execution": {
     "iopub.execute_input": "2023-08-16T14:27:36.232246Z",
     "iopub.status.busy": "2023-08-16T14:27:36.231331Z",
     "iopub.status.idle": "2023-08-16T14:27:36.241370Z",
     "shell.execute_reply": "2023-08-16T14:27:36.240063Z"
    },
    "papermill": {
     "duration": 0.032069,
     "end_time": "2023-08-16T14:27:36.243783",
     "exception": false,
     "start_time": "2023-08-16T14:27:36.211714",
     "status": "completed"
    },
    "tags": []
   },
   "outputs": [
    {
     "name": "stdout",
     "output_type": "stream",
     "text": [
      "48.39540760233918\n",
      "22.117886885245902\n"
     ]
    }
   ],
   "source": [
    "survived_avg_fare = df_train[df_train['Survived']==1]['Fare'].mean()\n",
    "not_survived_avg_fare = df_train[df_train['Survived']==0]['Fare'].mean()\n",
    "print(survived_avg_fare)\n",
    "print(not_survived_avg_fare)"
   ]
  },
  {
   "cell_type": "code",
   "execution_count": 19,
   "id": "0e62c93e",
   "metadata": {
    "execution": {
     "iopub.execute_input": "2023-08-16T14:27:36.282259Z",
     "iopub.status.busy": "2023-08-16T14:27:36.281558Z",
     "iopub.status.idle": "2023-08-16T14:27:36.521244Z",
     "shell.execute_reply": "2023-08-16T14:27:36.520076Z"
    },
    "papermill": {
     "duration": 0.261748,
     "end_time": "2023-08-16T14:27:36.523655",
     "exception": false,
     "start_time": "2023-08-16T14:27:36.261907",
     "status": "completed"
    },
    "tags": []
   },
   "outputs": [
    {
     "data": {
      "text/plain": [
       "([<matplotlib.axis.YTick at 0x79eada977b20>,\n",
       "  <matplotlib.axis.YTick at 0x79eada9774c0>],\n",
       " [Text(0, 0.0, '0'), Text(0, 1.0, '1')])"
      ]
     },
     "execution_count": 19,
     "metadata": {},
     "output_type": "execute_result"
    },
    {
     "data": {
      "image/png": "[encoded data removed]",
      "text/plain": [
       "<Figure size 1100x100 with 1 Axes>"
      ]
     },
     "metadata": {},
     "output_type": "display_data"
    }
   ],
   "source": [
    "from matplotlib.pyplot import figure\n",
    "figure(figsize=(11, 1))\n",
    "plt.scatter(df_train['Fare'], df_train['Survived'], s=0.9, alpha=0.9)\n",
    "plt.ylim(top=1.1)\n",
    "plt.yticks(np.arange(0, 1.1, step=1))\n",
    "\n",
    "# OK maybe scatter is not the best way to show the data. Let's try hist."
   ]
  },
  {
   "cell_type": "code",
   "execution_count": 20,
   "id": "f6ef4b29",
   "metadata": {
    "execution": {
     "iopub.execute_input": "2023-08-16T14:27:36.563143Z",
     "iopub.status.busy": "2023-08-16T14:27:36.562024Z",
     "iopub.status.idle": "2023-08-16T14:27:36.816199Z",
     "shell.execute_reply": "2023-08-16T14:27:36.814683Z"
    },
    "papermill": {
     "duration": 0.278252,
     "end_time": "2023-08-16T14:27:36.820349",
     "exception": false,
     "start_time": "2023-08-16T14:27:36.542097",
     "status": "completed"
    },
    "tags": []
   },
   "outputs": [
    {
     "data": {
      "text/plain": [
       "([<matplotlib.axis.YTick at 0x79eada9c3ac0>,\n",
       "  <matplotlib.axis.YTick at 0x79eada9c1690>,\n",
       "  <matplotlib.axis.YTick at 0x79eadab99750>,\n",
       "  <matplotlib.axis.YTick at 0x79eadaa428c0>,\n",
       "  <matplotlib.axis.YTick at 0x79eadaa401f0>,\n",
       "  <matplotlib.axis.YTick at 0x79eadaa776d0>,\n",
       "  <matplotlib.axis.YTick at 0x79eadad89570>,\n",
       "  <matplotlib.axis.YTick at 0x79eadad88b20>,\n",
       "  <matplotlib.axis.YTick at 0x79eadaa43ee0>,\n",
       "  <matplotlib.axis.YTick at 0x79eada8a2410>,\n",
       "  <matplotlib.axis.YTick at 0x79eada8a0af0>,\n",
       "  <matplotlib.axis.YTick at 0x79eada6791e0>,\n",
       "  <matplotlib.axis.YTick at 0x79eada8a0c70>],\n",
       " [Text(0, 0, '0'),\n",
       "  Text(0, 50, '50'),\n",
       "  Text(0, 100, '100'),\n",
       "  Text(0, 150, '150'),\n",
       "  Text(0, 200, '200'),\n",
       "  Text(0, 250, '250'),\n",
       "  Text(0, 300, '300'),\n",
       "  Text(0, 350, '350'),\n",
       "  Text(0, 400, '400'),\n",
       "  Text(0, 450, '450'),\n",
       "  Text(0, 500, '500'),\n",
       "  Text(0, 550, '550'),\n",
       "  Text(0, 600, '600')])"
      ]
     },
     "execution_count": 20,
     "metadata": {},
     "output_type": "execute_result"
    },
    {
     "data": {
      "image/png": "[encoded data removed]",
      "text/plain": [
       "<Figure size 640x480 with 1 Axes>"
      ]
     },
     "metadata": {},
     "output_type": "display_data"
    }
   ],
   "source": [
    "# figure(figsize=(1, 4))\n",
    "plt.hist(df_train['Survived'], bins=2, range=(0, 1,))\n",
    "plt.xticks(np.arange(0, 1.1, step=1))\n",
    "plt.yticks(np.arange(0, 610, step=50))"
   ]
  },
  {
   "cell_type": "code",
   "execution_count": 21,
   "id": "604e62f7",
   "metadata": {
    "execution": {
     "iopub.execute_input": "2023-08-16T14:27:36.869227Z",
     "iopub.status.busy": "2023-08-16T14:27:36.868049Z",
     "iopub.status.idle": "2023-08-16T14:27:37.167307Z",
     "shell.execute_reply": "2023-08-16T14:27:37.166138Z"
    },
    "papermill": {
     "duration": 0.322996,
     "end_time": "2023-08-16T14:27:37.170532",
     "exception": false,
     "start_time": "2023-08-16T14:27:36.847536",
     "status": "completed"
    },
    "tags": []
   },
   "outputs": [
    {
     "data": {
      "text/plain": [
       "(array([732., 106.,  31.,   2.,  11.,   6.,   0.,   0.,   0.,   3.]),\n",
       " array([  0.     ,  51.23292, 102.46584, 153.69876, 204.93168, 256.1646 ,\n",
       "        307.39752, 358.63044, 409.86336, 461.09628, 512.3292 ]),\n",
       " <BarContainer object of 10 artists>)"
      ]
     },
     "execution_count": 21,
     "metadata": {},
     "output_type": "execute_result"
    },
    {
     "data": {
      "image/png": "[encoded data removed]",
      "text/plain": [
       "<Figure size 640x480 with 1 Axes>"
      ]
     },
     "metadata": {},
     "output_type": "display_data"
    }
   ],
   "source": [
    "plt.hist(df_train['Fare'])"
   ]
  },
  {
   "cell_type": "code",
   "execution_count": 22,
   "id": "88be59cd",
   "metadata": {
    "execution": {
     "iopub.execute_input": "2023-08-16T14:27:37.212312Z",
     "iopub.status.busy": "2023-08-16T14:27:37.211915Z",
     "iopub.status.idle": "2023-08-16T14:27:37.216966Z",
     "shell.execute_reply": "2023-08-16T14:27:37.215927Z"
    },
    "papermill": {
     "duration": 0.028254,
     "end_time": "2023-08-16T14:27:37.219437",
     "exception": false,
     "start_time": "2023-08-16T14:27:37.191183",
     "status": "completed"
    },
    "tags": []
   },
   "outputs": [],
   "source": [
    "# >>> from sklearn import preprocessing\n",
    "# >>> le = preprocessing.LabelEncoder()\n",
    "# >>> le.fit([1, 2, 2, 6])\n",
    "# LabelEncoder()\n",
    "# >>> le.classes_\n",
    "# array([1, 2, 6])\n",
    "# >>> le.transform([1, 1, 2, 6])\n",
    "# array([0, 0, 1, 2]...)\n",
    "# >>> le.inverse_transform([0, 0, 1, 2])\n",
    "# array([1, 1, 2, 6])"
   ]
  },
  {
   "cell_type": "code",
   "execution_count": 23,
   "id": "07780c5f",
   "metadata": {
    "execution": {
     "iopub.execute_input": "2023-08-16T14:27:37.260681Z",
     "iopub.status.busy": "2023-08-16T14:27:37.260304Z",
     "iopub.status.idle": "2023-08-16T14:27:38.521618Z",
     "shell.execute_reply": "2023-08-16T14:27:38.520402Z"
    },
    "papermill": {
     "duration": 1.285392,
     "end_time": "2023-08-16T14:27:38.524664",
     "exception": false,
     "start_time": "2023-08-16T14:27:37.239272",
     "status": "completed"
    },
    "tags": []
   },
   "outputs": [],
   "source": [
    "from sklearn import preprocessing\n",
    "le = preprocessing.LabelEncoder()\n",
    "z = le.fit_transform(df_train['Sex'])\n",
    "df_train['SexCat'] = z"
   ]
  },
  {
   "cell_type": "code",
   "execution_count": 24,
   "id": "4e12d58e",
   "metadata": {
    "execution": {
     "iopub.execute_input": "2023-08-16T14:27:38.566683Z",
     "iopub.status.busy": "2023-08-16T14:27:38.565935Z",
     "iopub.status.idle": "2023-08-16T14:27:38.574086Z",
     "shell.execute_reply": "2023-08-16T14:27:38.573190Z"
    },
    "papermill": {
     "duration": 0.03173,
     "end_time": "2023-08-16T14:27:38.576520",
     "exception": false,
     "start_time": "2023-08-16T14:27:38.544790",
     "status": "completed"
    },
    "tags": []
   },
   "outputs": [],
   "source": [
    "test_le = preprocessing.LabelEncoder()\n",
    "zz = test_le.fit_transform(df_test['Sex'])\n",
    "df_test['SexCat'] = zz"
   ]
  },
  {
   "cell_type": "code",
   "execution_count": 25,
   "id": "7eda371e",
   "metadata": {
    "execution": {
     "iopub.execute_input": "2023-08-16T14:27:38.618244Z",
     "iopub.status.busy": "2023-08-16T14:27:38.617335Z",
     "iopub.status.idle": "2023-08-16T14:27:38.626456Z",
     "shell.execute_reply": "2023-08-16T14:27:38.625452Z"
    },
    "papermill": {
     "duration": 0.032416,
     "end_time": "2023-08-16T14:27:38.628929",
     "exception": false,
     "start_time": "2023-08-16T14:27:38.596513",
     "status": "completed"
    },
    "tags": []
   },
   "outputs": [],
   "source": [
    "em_le = preprocessing.LabelEncoder()\n",
    "em_cat = em_le.fit_transform(df_train['Embarked'])\n",
    "df_train['EmCat'] = em_cat\n",
    "\n",
    "em_test_le = preprocessing.LabelEncoder()\n",
    "em_cat = em_test_le.fit_transform(df_test['Embarked'])\n",
    "df_test['EmCat'] = em_cat"
   ]
  },
  {
   "cell_type": "code",
   "execution_count": 26,
   "id": "409b3a5e",
   "metadata": {
    "execution": {
     "iopub.execute_input": "2023-08-16T14:27:38.670223Z",
     "iopub.status.busy": "2023-08-16T14:27:38.669115Z",
     "iopub.status.idle": "2023-08-16T14:27:38.701808Z",
     "shell.execute_reply": "2023-08-16T14:27:38.700945Z"
    },
    "papermill": {
     "duration": 0.055743,
     "end_time": "2023-08-16T14:27:38.704318",
     "exception": false,
     "start_time": "2023-08-16T14:27:38.648575",
     "status": "completed"
    },
    "tags": []
   },
   "outputs": [
    {
     "name": "stderr",
     "output_type": "stream",
     "text": [
      "/tmp/ipykernel_21/185210738.py:6: FutureWarning: The default value of numeric_only in DataFrameGroupBy.sum is deprecated. In a future version, numeric_only will default to False. Either specify numeric_only or select only columns which should be valid for the function.\n",
      "  df_train.groupby(['Cabin']).sum().sort_values(by=['Survived'], ascending=False)\n"
     ]
    },
    {
     "data": {
      "text/html": [
       "<div>\n",
       "<style scoped>\n",
       "    .dataframe tbody tr th:only-of-type {\n",
       "        vertical-align: middle;\n",
       "    }\n",
       "\n",
       "    .dataframe tbody tr th {\n",
       "        vertical-align: top;\n",
       "    }\n",
       "\n",
       "    .dataframe thead th {\n",
       "        text-align: right;\n",
       "    }\n",
       "</style>\n",
       "<table border=\"1\" class=\"dataframe\">\n",
       "  <thead>\n",
       "    <tr style=\"text-align: right;\">\n",
       "      <th></th>\n",
       "      <th>PassengerId</th>\n",
       "      <th>Survived</th>\n",
       "      <th>Pclass</th>\n",
       "      <th>Age</th>\n",
       "      <th>SibSp</th>\n",
       "      <th>Parch</th>\n",
       "      <th>Fare</th>\n",
       "      <th>SexCat</th>\n",
       "      <th>EmCat</th>\n",
       "    </tr>\n",
       "    <tr>\n",
       "      <th>Cabin</th>\n",
       "      <th></th>\n",
       "      <th></th>\n",
       "      <th></th>\n",
       "      <th></th>\n",
       "      <th></th>\n",
       "      <th></th>\n",
       "      <th></th>\n",
       "      <th></th>\n",
       "      <th></th>\n",
       "    </tr>\n",
       "  </thead>\n",
       "  <tbody>\n",
       "    <tr>\n",
       "      <th>B96 B98</th>\n",
       "      <td>2394</td>\n",
       "      <td>4</td>\n",
       "      <td>4</td>\n",
       "      <td>97.000000</td>\n",
       "      <td>4</td>\n",
       "      <td>8</td>\n",
       "      <td>480.00</td>\n",
       "      <td>2</td>\n",
       "      <td>8</td>\n",
       "    </tr>\n",
       "    <tr>\n",
       "      <th>E101</th>\n",
       "      <td>1146</td>\n",
       "      <td>3</td>\n",
       "      <td>6</td>\n",
       "      <td>89.199118</td>\n",
       "      <td>0</td>\n",
       "      <td>0</td>\n",
       "      <td>35.85</td>\n",
       "      <td>0</td>\n",
       "      <td>5</td>\n",
       "    </tr>\n",
       "    <tr>\n",
       "      <th>F33</th>\n",
       "      <td>930</td>\n",
       "      <td>3</td>\n",
       "      <td>6</td>\n",
       "      <td>87.000000</td>\n",
       "      <td>0</td>\n",
       "      <td>0</td>\n",
       "      <td>34.00</td>\n",
       "      <td>0</td>\n",
       "      <td>6</td>\n",
       "    </tr>\n",
       "    <tr>\n",
       "      <th>C23 C25 C27</th>\n",
       "      <td>898</td>\n",
       "      <td>2</td>\n",
       "      <td>4</td>\n",
       "      <td>130.000000</td>\n",
       "      <td>10</td>\n",
       "      <td>10</td>\n",
       "      <td>1052.00</td>\n",
       "      <td>2</td>\n",
       "      <td>8</td>\n",
       "    </tr>\n",
       "    <tr>\n",
       "      <th>C52</th>\n",
       "      <td>487</td>\n",
       "      <td>2</td>\n",
       "      <td>2</td>\n",
       "      <td>57.699118</td>\n",
       "      <td>0</td>\n",
       "      <td>0</td>\n",
       "      <td>62.05</td>\n",
       "      <td>2</td>\n",
       "      <td>4</td>\n",
       "    </tr>\n",
       "    <tr>\n",
       "      <th>...</th>\n",
       "      <td>...</td>\n",
       "      <td>...</td>\n",
       "      <td>...</td>\n",
       "      <td>...</td>\n",
       "      <td>...</td>\n",
       "      <td>...</td>\n",
       "      <td>...</td>\n",
       "      <td>...</td>\n",
       "      <td>...</td>\n",
       "    </tr>\n",
       "    <tr>\n",
       "      <th>C46</th>\n",
       "      <td>742</td>\n",
       "      <td>0</td>\n",
       "      <td>1</td>\n",
       "      <td>36.000000</td>\n",
       "      <td>1</td>\n",
       "      <td>0</td>\n",
       "      <td>78.85</td>\n",
       "      <td>1</td>\n",
       "      <td>2</td>\n",
       "    </tr>\n",
       "    <tr>\n",
       "      <th>C30</th>\n",
       "      <td>493</td>\n",
       "      <td>0</td>\n",
       "      <td>1</td>\n",
       "      <td>55.000000</td>\n",
       "      <td>0</td>\n",
       "      <td>0</td>\n",
       "      <td>30.50</td>\n",
       "      <td>1</td>\n",
       "      <td>2</td>\n",
       "    </tr>\n",
       "    <tr>\n",
       "      <th>C128</th>\n",
       "      <td>352</td>\n",
       "      <td>0</td>\n",
       "      <td>1</td>\n",
       "      <td>29.699118</td>\n",
       "      <td>0</td>\n",
       "      <td>0</td>\n",
       "      <td>35.00</td>\n",
       "      <td>1</td>\n",
       "      <td>2</td>\n",
       "    </tr>\n",
       "    <tr>\n",
       "      <th>C124</th>\n",
       "      <td>1044</td>\n",
       "      <td>0</td>\n",
       "      <td>2</td>\n",
       "      <td>75.199118</td>\n",
       "      <td>0</td>\n",
       "      <td>0</td>\n",
       "      <td>55.05</td>\n",
       "      <td>2</td>\n",
       "      <td>4</td>\n",
       "    </tr>\n",
       "    <tr>\n",
       "      <th>T</th>\n",
       "      <td>340</td>\n",
       "      <td>0</td>\n",
       "      <td>1</td>\n",
       "      <td>45.000000</td>\n",
       "      <td>0</td>\n",
       "      <td>0</td>\n",
       "      <td>35.50</td>\n",
       "      <td>1</td>\n",
       "      <td>2</td>\n",
       "    </tr>\n",
       "  </tbody>\n",
       "</table>\n",
       "<p>147 rows × 9 columns</p>\n",
       "</div>"
      ],
      "text/plain": [
       "             PassengerId  Survived  Pclass         Age  SibSp  Parch     Fare  \\\n",
       "Cabin                                                                           \n",
       "B96 B98             2394         4       4   97.000000      4      8   480.00   \n",
       "E101                1146         3       6   89.199118      0      0    35.85   \n",
       "F33                  930         3       6   87.000000      0      0    34.00   \n",
       "C23 C25 C27          898         2       4  130.000000     10     10  1052.00   \n",
       "C52                  487         2       2   57.699118      0      0    62.05   \n",
       "...                  ...       ...     ...         ...    ...    ...      ...   \n",
       "C46                  742         0       1   36.000000      1      0    78.85   \n",
       "C30                  493         0       1   55.000000      0      0    30.50   \n",
       "C128                 352         0       1   29.699118      0      0    35.00   \n",
       "C124                1044         0       2   75.199118      0      0    55.05   \n",
       "T                    340         0       1   45.000000      0      0    35.50   \n",
       "\n",
       "             SexCat  EmCat  \n",
       "Cabin                       \n",
       "B96 B98           2      8  \n",
       "E101              0      5  \n",
       "F33               0      6  \n",
       "C23 C25 C27       2      8  \n",
       "C52               2      4  \n",
       "...             ...    ...  \n",
       "C46               1      2  \n",
       "C30               1      2  \n",
       "C128              1      2  \n",
       "C124              2      4  \n",
       "T                 1      2  \n",
       "\n",
       "[147 rows x 9 columns]"
      ]
     },
     "execution_count": 26,
     "metadata": {},
     "output_type": "execute_result"
    }
   ],
   "source": [
    "# Checking the relationship between cabin and survived? Maybe class is enough.\n",
    "\n",
    "df_train['Cabin'].value_counts()\n",
    "cabin_values = df_train['Cabin'].dropna().values\n",
    "cab_sorted = sorted(cabin_values.astype(str))\n",
    "df_train.groupby(['Cabin']).sum().sort_values(by=['Survived'], ascending=False)\n",
    "\n",
    "# There can be relationship between the first letter of Cabin with survived\n",
    "# TODO check this."
   ]
  },
  {
   "cell_type": "code",
   "execution_count": 27,
   "id": "215593c3",
   "metadata": {
    "execution": {
     "iopub.execute_input": "2023-08-16T14:27:38.748567Z",
     "iopub.status.busy": "2023-08-16T14:27:38.747839Z",
     "iopub.status.idle": "2023-08-16T14:27:38.773215Z",
     "shell.execute_reply": "2023-08-16T14:27:38.771891Z"
    },
    "papermill": {
     "duration": 0.050548,
     "end_time": "2023-08-16T14:27:38.775583",
     "exception": false,
     "start_time": "2023-08-16T14:27:38.725035",
     "status": "completed"
    },
    "tags": []
   },
   "outputs": [
    {
     "data": {
      "text/html": [
       "<div>\n",
       "<style scoped>\n",
       "    .dataframe tbody tr th:only-of-type {\n",
       "        vertical-align: middle;\n",
       "    }\n",
       "\n",
       "    .dataframe tbody tr th {\n",
       "        vertical-align: top;\n",
       "    }\n",
       "\n",
       "    .dataframe thead th {\n",
       "        text-align: right;\n",
       "    }\n",
       "</style>\n",
       "<table border=\"1\" class=\"dataframe\">\n",
       "  <thead>\n",
       "    <tr style=\"text-align: right;\">\n",
       "      <th></th>\n",
       "      <th>PassengerId</th>\n",
       "      <th>Survived</th>\n",
       "      <th>Pclass</th>\n",
       "      <th>Name</th>\n",
       "      <th>Sex</th>\n",
       "      <th>Age</th>\n",
       "      <th>SibSp</th>\n",
       "      <th>Parch</th>\n",
       "      <th>Ticket</th>\n",
       "      <th>Fare</th>\n",
       "      <th>Cabin</th>\n",
       "      <th>Embarked</th>\n",
       "      <th>SexCat</th>\n",
       "      <th>EmCat</th>\n",
       "    </tr>\n",
       "  </thead>\n",
       "  <tbody>\n",
       "    <tr>\n",
       "      <th>0</th>\n",
       "      <td>1</td>\n",
       "      <td>0</td>\n",
       "      <td>3</td>\n",
       "      <td>Braund, Mr. Owen Harris</td>\n",
       "      <td>male</td>\n",
       "      <td>22.000000</td>\n",
       "      <td>1</td>\n",
       "      <td>0</td>\n",
       "      <td>A/5 21171</td>\n",
       "      <td>7.2500</td>\n",
       "      <td>NaN</td>\n",
       "      <td>S</td>\n",
       "      <td>1</td>\n",
       "      <td>2</td>\n",
       "    </tr>\n",
       "    <tr>\n",
       "      <th>1</th>\n",
       "      <td>2</td>\n",
       "      <td>1</td>\n",
       "      <td>1</td>\n",
       "      <td>Cumings, Mrs. John Bradley (Florence Briggs Th...</td>\n",
       "      <td>female</td>\n",
       "      <td>38.000000</td>\n",
       "      <td>1</td>\n",
       "      <td>0</td>\n",
       "      <td>PC 17599</td>\n",
       "      <td>71.2833</td>\n",
       "      <td>C85</td>\n",
       "      <td>C</td>\n",
       "      <td>0</td>\n",
       "      <td>0</td>\n",
       "    </tr>\n",
       "    <tr>\n",
       "      <th>2</th>\n",
       "      <td>3</td>\n",
       "      <td>1</td>\n",
       "      <td>3</td>\n",
       "      <td>Heikkinen, Miss. Laina</td>\n",
       "      <td>female</td>\n",
       "      <td>26.000000</td>\n",
       "      <td>0</td>\n",
       "      <td>0</td>\n",
       "      <td>STON/O2. 3101282</td>\n",
       "      <td>7.9250</td>\n",
       "      <td>NaN</td>\n",
       "      <td>S</td>\n",
       "      <td>0</td>\n",
       "      <td>2</td>\n",
       "    </tr>\n",
       "    <tr>\n",
       "      <th>3</th>\n",
       "      <td>4</td>\n",
       "      <td>1</td>\n",
       "      <td>1</td>\n",
       "      <td>Futrelle, Mrs. Jacques Heath (Lily May Peel)</td>\n",
       "      <td>female</td>\n",
       "      <td>35.000000</td>\n",
       "      <td>1</td>\n",
       "      <td>0</td>\n",
       "      <td>113803</td>\n",
       "      <td>53.1000</td>\n",
       "      <td>C123</td>\n",
       "      <td>S</td>\n",
       "      <td>0</td>\n",
       "      <td>2</td>\n",
       "    </tr>\n",
       "    <tr>\n",
       "      <th>4</th>\n",
       "      <td>5</td>\n",
       "      <td>0</td>\n",
       "      <td>3</td>\n",
       "      <td>Allen, Mr. William Henry</td>\n",
       "      <td>male</td>\n",
       "      <td>35.000000</td>\n",
       "      <td>0</td>\n",
       "      <td>0</td>\n",
       "      <td>373450</td>\n",
       "      <td>8.0500</td>\n",
       "      <td>NaN</td>\n",
       "      <td>S</td>\n",
       "      <td>1</td>\n",
       "      <td>2</td>\n",
       "    </tr>\n",
       "    <tr>\n",
       "      <th>...</th>\n",
       "      <td>...</td>\n",
       "      <td>...</td>\n",
       "      <td>...</td>\n",
       "      <td>...</td>\n",
       "      <td>...</td>\n",
       "      <td>...</td>\n",
       "      <td>...</td>\n",
       "      <td>...</td>\n",
       "      <td>...</td>\n",
       "      <td>...</td>\n",
       "      <td>...</td>\n",
       "      <td>...</td>\n",
       "      <td>...</td>\n",
       "      <td>...</td>\n",
       "    </tr>\n",
       "    <tr>\n",
       "      <th>886</th>\n",
       "      <td>887</td>\n",
       "      <td>0</td>\n",
       "      <td>2</td>\n",
       "      <td>Montvila, Rev. Juozas</td>\n",
       "      <td>male</td>\n",
       "      <td>27.000000</td>\n",
       "      <td>0</td>\n",
       "      <td>0</td>\n",
       "      <td>211536</td>\n",
       "      <td>13.0000</td>\n",
       "      <td>NaN</td>\n",
       "      <td>S</td>\n",
       "      <td>1</td>\n",
       "      <td>2</td>\n",
       "    </tr>\n",
       "    <tr>\n",
       "      <th>887</th>\n",
       "      <td>888</td>\n",
       "      <td>1</td>\n",
       "      <td>1</td>\n",
       "      <td>Graham, Miss. Margaret Edith</td>\n",
       "      <td>female</td>\n",
       "      <td>19.000000</td>\n",
       "      <td>0</td>\n",
       "      <td>0</td>\n",
       "      <td>112053</td>\n",
       "      <td>30.0000</td>\n",
       "      <td>B42</td>\n",
       "      <td>S</td>\n",
       "      <td>0</td>\n",
       "      <td>2</td>\n",
       "    </tr>\n",
       "    <tr>\n",
       "      <th>888</th>\n",
       "      <td>889</td>\n",
       "      <td>0</td>\n",
       "      <td>3</td>\n",
       "      <td>Johnston, Miss. Catherine Helen \"Carrie\"</td>\n",
       "      <td>female</td>\n",
       "      <td>29.699118</td>\n",
       "      <td>1</td>\n",
       "      <td>2</td>\n",
       "      <td>W./C. 6607</td>\n",
       "      <td>23.4500</td>\n",
       "      <td>NaN</td>\n",
       "      <td>S</td>\n",
       "      <td>0</td>\n",
       "      <td>2</td>\n",
       "    </tr>\n",
       "    <tr>\n",
       "      <th>889</th>\n",
       "      <td>890</td>\n",
       "      <td>1</td>\n",
       "      <td>1</td>\n",
       "      <td>Behr, Mr. Karl Howell</td>\n",
       "      <td>male</td>\n",
       "      <td>26.000000</td>\n",
       "      <td>0</td>\n",
       "      <td>0</td>\n",
       "      <td>111369</td>\n",
       "      <td>30.0000</td>\n",
       "      <td>C148</td>\n",
       "      <td>C</td>\n",
       "      <td>1</td>\n",
       "      <td>0</td>\n",
       "    </tr>\n",
       "    <tr>\n",
       "      <th>890</th>\n",
       "      <td>891</td>\n",
       "      <td>0</td>\n",
       "      <td>3</td>\n",
       "      <td>Dooley, Mr. Patrick</td>\n",
       "      <td>male</td>\n",
       "      <td>32.000000</td>\n",
       "      <td>0</td>\n",
       "      <td>0</td>\n",
       "      <td>370376</td>\n",
       "      <td>7.7500</td>\n",
       "      <td>NaN</td>\n",
       "      <td>Q</td>\n",
       "      <td>1</td>\n",
       "      <td>1</td>\n",
       "    </tr>\n",
       "  </tbody>\n",
       "</table>\n",
       "<p>891 rows × 14 columns</p>\n",
       "</div>"
      ],
      "text/plain": [
       "     PassengerId  Survived  Pclass  \\\n",
       "0              1         0       3   \n",
       "1              2         1       1   \n",
       "2              3         1       3   \n",
       "3              4         1       1   \n",
       "4              5         0       3   \n",
       "..           ...       ...     ...   \n",
       "886          887         0       2   \n",
       "887          888         1       1   \n",
       "888          889         0       3   \n",
       "889          890         1       1   \n",
       "890          891         0       3   \n",
       "\n",
       "                                                  Name     Sex        Age  \\\n",
       "0                              Braund, Mr. Owen Harris    male  22.000000   \n",
       "1    Cumings, Mrs. John Bradley (Florence Briggs Th...  female  38.000000   \n",
       "2                               Heikkinen, Miss. Laina  female  26.000000   \n",
       "3         Futrelle, Mrs. Jacques Heath (Lily May Peel)  female  35.000000   \n",
       "4                             Allen, Mr. William Henry    male  35.000000   \n",
       "..                                                 ...     ...        ...   \n",
       "886                              Montvila, Rev. Juozas    male  27.000000   \n",
       "887                       Graham, Miss. Margaret Edith  female  19.000000   \n",
       "888           Johnston, Miss. Catherine Helen \"Carrie\"  female  29.699118   \n",
       "889                              Behr, Mr. Karl Howell    male  26.000000   \n",
       "890                                Dooley, Mr. Patrick    male  32.000000   \n",
       "\n",
       "     SibSp  Parch            Ticket     Fare Cabin Embarked  SexCat  EmCat  \n",
       "0        1      0         A/5 21171   7.2500   NaN        S       1      2  \n",
       "1        1      0          PC 17599  71.2833   C85        C       0      0  \n",
       "2        0      0  STON/O2. 3101282   7.9250   NaN        S       0      2  \n",
       "3        1      0            113803  53.1000  C123        S       0      2  \n",
       "4        0      0            373450   8.0500   NaN        S       1      2  \n",
       "..     ...    ...               ...      ...   ...      ...     ...    ...  \n",
       "886      0      0            211536  13.0000   NaN        S       1      2  \n",
       "887      0      0            112053  30.0000   B42        S       0      2  \n",
       "888      1      2        W./C. 6607  23.4500   NaN        S       0      2  \n",
       "889      0      0            111369  30.0000  C148        C       1      0  \n",
       "890      0      0            370376   7.7500   NaN        Q       1      1  \n",
       "\n",
       "[891 rows x 14 columns]"
      ]
     },
     "execution_count": 27,
     "metadata": {},
     "output_type": "execute_result"
    }
   ],
   "source": [
    "df_train"
   ]
  },
  {
   "cell_type": "code",
   "execution_count": 28,
   "id": "23867f42",
   "metadata": {
    "execution": {
     "iopub.execute_input": "2023-08-16T14:27:38.818964Z",
     "iopub.status.busy": "2023-08-16T14:27:38.818545Z",
     "iopub.status.idle": "2023-08-16T14:27:38.842332Z",
     "shell.execute_reply": "2023-08-16T14:27:38.841500Z"
    },
    "papermill": {
     "duration": 0.048599,
     "end_time": "2023-08-16T14:27:38.844790",
     "exception": false,
     "start_time": "2023-08-16T14:27:38.796191",
     "status": "completed"
    },
    "tags": []
   },
   "outputs": [
    {
     "data": {
      "text/html": [
       "<div>\n",
       "<style scoped>\n",
       "    .dataframe tbody tr th:only-of-type {\n",
       "        vertical-align: middle;\n",
       "    }\n",
       "\n",
       "    .dataframe tbody tr th {\n",
       "        vertical-align: top;\n",
       "    }\n",
       "\n",
       "    .dataframe thead th {\n",
       "        text-align: right;\n",
       "    }\n",
       "</style>\n",
       "<table border=\"1\" class=\"dataframe\">\n",
       "  <thead>\n",
       "    <tr style=\"text-align: right;\">\n",
       "      <th></th>\n",
       "      <th>PassengerId</th>\n",
       "      <th>Pclass</th>\n",
       "      <th>Name</th>\n",
       "      <th>Sex</th>\n",
       "      <th>Age</th>\n",
       "      <th>SibSp</th>\n",
       "      <th>Parch</th>\n",
       "      <th>Ticket</th>\n",
       "      <th>Fare</th>\n",
       "      <th>Cabin</th>\n",
       "      <th>Embarked</th>\n",
       "      <th>SexCat</th>\n",
       "      <th>EmCat</th>\n",
       "    </tr>\n",
       "  </thead>\n",
       "  <tbody>\n",
       "    <tr>\n",
       "      <th>0</th>\n",
       "      <td>892</td>\n",
       "      <td>3</td>\n",
       "      <td>Kelly, Mr. James</td>\n",
       "      <td>male</td>\n",
       "      <td>34.50000</td>\n",
       "      <td>0</td>\n",
       "      <td>0</td>\n",
       "      <td>330911</td>\n",
       "      <td>7.8292</td>\n",
       "      <td>NaN</td>\n",
       "      <td>Q</td>\n",
       "      <td>1</td>\n",
       "      <td>1</td>\n",
       "    </tr>\n",
       "    <tr>\n",
       "      <th>1</th>\n",
       "      <td>893</td>\n",
       "      <td>3</td>\n",
       "      <td>Wilkes, Mrs. James (Ellen Needs)</td>\n",
       "      <td>female</td>\n",
       "      <td>47.00000</td>\n",
       "      <td>1</td>\n",
       "      <td>0</td>\n",
       "      <td>363272</td>\n",
       "      <td>7.0000</td>\n",
       "      <td>NaN</td>\n",
       "      <td>S</td>\n",
       "      <td>0</td>\n",
       "      <td>2</td>\n",
       "    </tr>\n",
       "    <tr>\n",
       "      <th>2</th>\n",
       "      <td>894</td>\n",
       "      <td>2</td>\n",
       "      <td>Myles, Mr. Thomas Francis</td>\n",
       "      <td>male</td>\n",
       "      <td>62.00000</td>\n",
       "      <td>0</td>\n",
       "      <td>0</td>\n",
       "      <td>240276</td>\n",
       "      <td>9.6875</td>\n",
       "      <td>NaN</td>\n",
       "      <td>Q</td>\n",
       "      <td>1</td>\n",
       "      <td>1</td>\n",
       "    </tr>\n",
       "    <tr>\n",
       "      <th>3</th>\n",
       "      <td>895</td>\n",
       "      <td>3</td>\n",
       "      <td>Wirz, Mr. Albert</td>\n",
       "      <td>male</td>\n",
       "      <td>27.00000</td>\n",
       "      <td>0</td>\n",
       "      <td>0</td>\n",
       "      <td>315154</td>\n",
       "      <td>8.6625</td>\n",
       "      <td>NaN</td>\n",
       "      <td>S</td>\n",
       "      <td>1</td>\n",
       "      <td>2</td>\n",
       "    </tr>\n",
       "    <tr>\n",
       "      <th>4</th>\n",
       "      <td>896</td>\n",
       "      <td>3</td>\n",
       "      <td>Hirvonen, Mrs. Alexander (Helga E Lindqvist)</td>\n",
       "      <td>female</td>\n",
       "      <td>22.00000</td>\n",
       "      <td>1</td>\n",
       "      <td>1</td>\n",
       "      <td>3101298</td>\n",
       "      <td>12.2875</td>\n",
       "      <td>NaN</td>\n",
       "      <td>S</td>\n",
       "      <td>0</td>\n",
       "      <td>2</td>\n",
       "    </tr>\n",
       "    <tr>\n",
       "      <th>...</th>\n",
       "      <td>...</td>\n",
       "      <td>...</td>\n",
       "      <td>...</td>\n",
       "      <td>...</td>\n",
       "      <td>...</td>\n",
       "      <td>...</td>\n",
       "      <td>...</td>\n",
       "      <td>...</td>\n",
       "      <td>...</td>\n",
       "      <td>...</td>\n",
       "      <td>...</td>\n",
       "      <td>...</td>\n",
       "      <td>...</td>\n",
       "    </tr>\n",
       "    <tr>\n",
       "      <th>413</th>\n",
       "      <td>1305</td>\n",
       "      <td>3</td>\n",
       "      <td>Spector, Mr. Woolf</td>\n",
       "      <td>male</td>\n",
       "      <td>30.27259</td>\n",
       "      <td>0</td>\n",
       "      <td>0</td>\n",
       "      <td>A.5. 3236</td>\n",
       "      <td>8.0500</td>\n",
       "      <td>NaN</td>\n",
       "      <td>S</td>\n",
       "      <td>1</td>\n",
       "      <td>2</td>\n",
       "    </tr>\n",
       "    <tr>\n",
       "      <th>414</th>\n",
       "      <td>1306</td>\n",
       "      <td>1</td>\n",
       "      <td>Oliva y Ocana, Dona. Fermina</td>\n",
       "      <td>female</td>\n",
       "      <td>39.00000</td>\n",
       "      <td>0</td>\n",
       "      <td>0</td>\n",
       "      <td>PC 17758</td>\n",
       "      <td>108.9000</td>\n",
       "      <td>C105</td>\n",
       "      <td>C</td>\n",
       "      <td>0</td>\n",
       "      <td>0</td>\n",
       "    </tr>\n",
       "    <tr>\n",
       "      <th>415</th>\n",
       "      <td>1307</td>\n",
       "      <td>3</td>\n",
       "      <td>Saether, Mr. Simon Sivertsen</td>\n",
       "      <td>male</td>\n",
       "      <td>38.50000</td>\n",
       "      <td>0</td>\n",
       "      <td>0</td>\n",
       "      <td>SOTON/O.Q. 3101262</td>\n",
       "      <td>7.2500</td>\n",
       "      <td>NaN</td>\n",
       "      <td>S</td>\n",
       "      <td>1</td>\n",
       "      <td>2</td>\n",
       "    </tr>\n",
       "    <tr>\n",
       "      <th>416</th>\n",
       "      <td>1308</td>\n",
       "      <td>3</td>\n",
       "      <td>Ware, Mr. Frederick</td>\n",
       "      <td>male</td>\n",
       "      <td>30.27259</td>\n",
       "      <td>0</td>\n",
       "      <td>0</td>\n",
       "      <td>359309</td>\n",
       "      <td>8.0500</td>\n",
       "      <td>NaN</td>\n",
       "      <td>S</td>\n",
       "      <td>1</td>\n",
       "      <td>2</td>\n",
       "    </tr>\n",
       "    <tr>\n",
       "      <th>417</th>\n",
       "      <td>1309</td>\n",
       "      <td>3</td>\n",
       "      <td>Peter, Master. Michael J</td>\n",
       "      <td>male</td>\n",
       "      <td>30.27259</td>\n",
       "      <td>1</td>\n",
       "      <td>1</td>\n",
       "      <td>2668</td>\n",
       "      <td>22.3583</td>\n",
       "      <td>NaN</td>\n",
       "      <td>C</td>\n",
       "      <td>1</td>\n",
       "      <td>0</td>\n",
       "    </tr>\n",
       "  </tbody>\n",
       "</table>\n",
       "<p>418 rows × 13 columns</p>\n",
       "</div>"
      ],
      "text/plain": [
       "     PassengerId  Pclass                                          Name  \\\n",
       "0            892       3                              Kelly, Mr. James   \n",
       "1            893       3              Wilkes, Mrs. James (Ellen Needs)   \n",
       "2            894       2                     Myles, Mr. Thomas Francis   \n",
       "3            895       3                              Wirz, Mr. Albert   \n",
       "4            896       3  Hirvonen, Mrs. Alexander (Helga E Lindqvist)   \n",
       "..           ...     ...                                           ...   \n",
       "413         1305       3                            Spector, Mr. Woolf   \n",
       "414         1306       1                  Oliva y Ocana, Dona. Fermina   \n",
       "415         1307       3                  Saether, Mr. Simon Sivertsen   \n",
       "416         1308       3                           Ware, Mr. Frederick   \n",
       "417         1309       3                      Peter, Master. Michael J   \n",
       "\n",
       "        Sex       Age  SibSp  Parch              Ticket      Fare Cabin  \\\n",
       "0      male  34.50000      0      0              330911    7.8292   NaN   \n",
       "1    female  47.00000      1      0              363272    7.0000   NaN   \n",
       "2      male  62.00000      0      0              240276    9.6875   NaN   \n",
       "3      male  27.00000      0      0              315154    8.6625   NaN   \n",
       "4    female  22.00000      1      1             3101298   12.2875   NaN   \n",
       "..      ...       ...    ...    ...                 ...       ...   ...   \n",
       "413    male  30.27259      0      0           A.5. 3236    8.0500   NaN   \n",
       "414  female  39.00000      0      0            PC 17758  108.9000  C105   \n",
       "415    male  38.50000      0      0  SOTON/O.Q. 3101262    7.2500   NaN   \n",
       "416    male  30.27259      0      0              359309    8.0500   NaN   \n",
       "417    male  30.27259      1      1                2668   22.3583   NaN   \n",
       "\n",
       "    Embarked  SexCat  EmCat  \n",
       "0          Q       1      1  \n",
       "1          S       0      2  \n",
       "2          Q       1      1  \n",
       "3          S       1      2  \n",
       "4          S       0      2  \n",
       "..       ...     ...    ...  \n",
       "413        S       1      2  \n",
       "414        C       0      0  \n",
       "415        S       1      2  \n",
       "416        S       1      2  \n",
       "417        C       1      0  \n",
       "\n",
       "[418 rows x 13 columns]"
      ]
     },
     "execution_count": 28,
     "metadata": {},
     "output_type": "execute_result"
    }
   ],
   "source": [
    "df_test"
   ]
  },
  {
   "cell_type": "code",
   "execution_count": 29,
   "id": "60119bff",
   "metadata": {
    "execution": {
     "iopub.execute_input": "2023-08-16T14:27:38.889138Z",
     "iopub.status.busy": "2023-08-16T14:27:38.888108Z",
     "iopub.status.idle": "2023-08-16T14:27:38.894919Z",
     "shell.execute_reply": "2023-08-16T14:27:38.894075Z"
    },
    "papermill": {
     "duration": 0.031501,
     "end_time": "2023-08-16T14:27:38.897191",
     "exception": false,
     "start_time": "2023-08-16T14:27:38.865690",
     "status": "completed"
    },
    "tags": []
   },
   "outputs": [],
   "source": [
    "# Turning Embarked to one-hot vector\n",
    "# Drop the ticket and cabin, maybe even drop the SibSp and Parch???\n",
    "# TODO test this.\n",
    "\n",
    "corr_labels = ['PassengerId', 'Pclass', 'Age', 'SibSp', 'Parch', 'Fare', 'EmCat', 'SexCat']\n",
    "corrected_df = df_train[corr_labels + [\"Survived\"]]"
   ]
  },
  {
   "cell_type": "code",
   "execution_count": 30,
   "id": "f7fa4820",
   "metadata": {
    "execution": {
     "iopub.execute_input": "2023-08-16T14:27:38.941085Z",
     "iopub.status.busy": "2023-08-16T14:27:38.940634Z",
     "iopub.status.idle": "2023-08-16T14:27:38.959865Z",
     "shell.execute_reply": "2023-08-16T14:27:38.959047Z"
    },
    "papermill": {
     "duration": 0.043724,
     "end_time": "2023-08-16T14:27:38.961940",
     "exception": false,
     "start_time": "2023-08-16T14:27:38.918216",
     "status": "completed"
    },
    "tags": []
   },
   "outputs": [
    {
     "data": {
      "text/html": [
       "<div>\n",
       "<style scoped>\n",
       "    .dataframe tbody tr th:only-of-type {\n",
       "        vertical-align: middle;\n",
       "    }\n",
       "\n",
       "    .dataframe tbody tr th {\n",
       "        vertical-align: top;\n",
       "    }\n",
       "\n",
       "    .dataframe thead th {\n",
       "        text-align: right;\n",
       "    }\n",
       "</style>\n",
       "<table border=\"1\" class=\"dataframe\">\n",
       "  <thead>\n",
       "    <tr style=\"text-align: right;\">\n",
       "      <th></th>\n",
       "      <th>PassengerId</th>\n",
       "      <th>Pclass</th>\n",
       "      <th>Age</th>\n",
       "      <th>SibSp</th>\n",
       "      <th>Parch</th>\n",
       "      <th>Fare</th>\n",
       "      <th>EmCat</th>\n",
       "      <th>SexCat</th>\n",
       "      <th>Survived</th>\n",
       "    </tr>\n",
       "  </thead>\n",
       "  <tbody>\n",
       "    <tr>\n",
       "      <th>0</th>\n",
       "      <td>1</td>\n",
       "      <td>3</td>\n",
       "      <td>22.000000</td>\n",
       "      <td>1</td>\n",
       "      <td>0</td>\n",
       "      <td>7.2500</td>\n",
       "      <td>2</td>\n",
       "      <td>1</td>\n",
       "      <td>0</td>\n",
       "    </tr>\n",
       "    <tr>\n",
       "      <th>1</th>\n",
       "      <td>2</td>\n",
       "      <td>1</td>\n",
       "      <td>38.000000</td>\n",
       "      <td>1</td>\n",
       "      <td>0</td>\n",
       "      <td>71.2833</td>\n",
       "      <td>0</td>\n",
       "      <td>0</td>\n",
       "      <td>1</td>\n",
       "    </tr>\n",
       "    <tr>\n",
       "      <th>2</th>\n",
       "      <td>3</td>\n",
       "      <td>3</td>\n",
       "      <td>26.000000</td>\n",
       "      <td>0</td>\n",
       "      <td>0</td>\n",
       "      <td>7.9250</td>\n",
       "      <td>2</td>\n",
       "      <td>0</td>\n",
       "      <td>1</td>\n",
       "    </tr>\n",
       "    <tr>\n",
       "      <th>3</th>\n",
       "      <td>4</td>\n",
       "      <td>1</td>\n",
       "      <td>35.000000</td>\n",
       "      <td>1</td>\n",
       "      <td>0</td>\n",
       "      <td>53.1000</td>\n",
       "      <td>2</td>\n",
       "      <td>0</td>\n",
       "      <td>1</td>\n",
       "    </tr>\n",
       "    <tr>\n",
       "      <th>4</th>\n",
       "      <td>5</td>\n",
       "      <td>3</td>\n",
       "      <td>35.000000</td>\n",
       "      <td>0</td>\n",
       "      <td>0</td>\n",
       "      <td>8.0500</td>\n",
       "      <td>2</td>\n",
       "      <td>1</td>\n",
       "      <td>0</td>\n",
       "    </tr>\n",
       "    <tr>\n",
       "      <th>...</th>\n",
       "      <td>...</td>\n",
       "      <td>...</td>\n",
       "      <td>...</td>\n",
       "      <td>...</td>\n",
       "      <td>...</td>\n",
       "      <td>...</td>\n",
       "      <td>...</td>\n",
       "      <td>...</td>\n",
       "      <td>...</td>\n",
       "    </tr>\n",
       "    <tr>\n",
       "      <th>886</th>\n",
       "      <td>887</td>\n",
       "      <td>2</td>\n",
       "      <td>27.000000</td>\n",
       "      <td>0</td>\n",
       "      <td>0</td>\n",
       "      <td>13.0000</td>\n",
       "      <td>2</td>\n",
       "      <td>1</td>\n",
       "      <td>0</td>\n",
       "    </tr>\n",
       "    <tr>\n",
       "      <th>887</th>\n",
       "      <td>888</td>\n",
       "      <td>1</td>\n",
       "      <td>19.000000</td>\n",
       "      <td>0</td>\n",
       "      <td>0</td>\n",
       "      <td>30.0000</td>\n",
       "      <td>2</td>\n",
       "      <td>0</td>\n",
       "      <td>1</td>\n",
       "    </tr>\n",
       "    <tr>\n",
       "      <th>888</th>\n",
       "      <td>889</td>\n",
       "      <td>3</td>\n",
       "      <td>29.699118</td>\n",
       "      <td>1</td>\n",
       "      <td>2</td>\n",
       "      <td>23.4500</td>\n",
       "      <td>2</td>\n",
       "      <td>0</td>\n",
       "      <td>0</td>\n",
       "    </tr>\n",
       "    <tr>\n",
       "      <th>889</th>\n",
       "      <td>890</td>\n",
       "      <td>1</td>\n",
       "      <td>26.000000</td>\n",
       "      <td>0</td>\n",
       "      <td>0</td>\n",
       "      <td>30.0000</td>\n",
       "      <td>0</td>\n",
       "      <td>1</td>\n",
       "      <td>1</td>\n",
       "    </tr>\n",
       "    <tr>\n",
       "      <th>890</th>\n",
       "      <td>891</td>\n",
       "      <td>3</td>\n",
       "      <td>32.000000</td>\n",
       "      <td>0</td>\n",
       "      <td>0</td>\n",
       "      <td>7.7500</td>\n",
       "      <td>1</td>\n",
       "      <td>1</td>\n",
       "      <td>0</td>\n",
       "    </tr>\n",
       "  </tbody>\n",
       "</table>\n",
       "<p>891 rows × 9 columns</p>\n",
       "</div>"
      ],
      "text/plain": [
       "     PassengerId  Pclass        Age  SibSp  Parch     Fare  EmCat  SexCat  \\\n",
       "0              1       3  22.000000      1      0   7.2500      2       1   \n",
       "1              2       1  38.000000      1      0  71.2833      0       0   \n",
       "2              3       3  26.000000      0      0   7.9250      2       0   \n",
       "3              4       1  35.000000      1      0  53.1000      2       0   \n",
       "4              5       3  35.000000      0      0   8.0500      2       1   \n",
       "..           ...     ...        ...    ...    ...      ...    ...     ...   \n",
       "886          887       2  27.000000      0      0  13.0000      2       1   \n",
       "887          888       1  19.000000      0      0  30.0000      2       0   \n",
       "888          889       3  29.699118      1      2  23.4500      2       0   \n",
       "889          890       1  26.000000      0      0  30.0000      0       1   \n",
       "890          891       3  32.000000      0      0   7.7500      1       1   \n",
       "\n",
       "     Survived  \n",
       "0           0  \n",
       "1           1  \n",
       "2           1  \n",
       "3           1  \n",
       "4           0  \n",
       "..        ...  \n",
       "886         0  \n",
       "887         1  \n",
       "888         0  \n",
       "889         1  \n",
       "890         0  \n",
       "\n",
       "[891 rows x 9 columns]"
      ]
     },
     "execution_count": 30,
     "metadata": {},
     "output_type": "execute_result"
    }
   ],
   "source": [
    "corrected_df"
   ]
  },
  {
   "cell_type": "code",
   "execution_count": 31,
   "id": "d5d2e3ab",
   "metadata": {
    "execution": {
     "iopub.execute_input": "2023-08-16T14:27:39.008733Z",
     "iopub.status.busy": "2023-08-16T14:27:39.007322Z",
     "iopub.status.idle": "2023-08-16T14:27:39.014972Z",
     "shell.execute_reply": "2023-08-16T14:27:39.013706Z"
    },
    "papermill": {
     "duration": 0.033786,
     "end_time": "2023-08-16T14:27:39.017516",
     "exception": false,
     "start_time": "2023-08-16T14:27:38.983730",
     "status": "completed"
    },
    "tags": []
   },
   "outputs": [],
   "source": [
    "n_fare = (corrected_df['Fare']-corrected_df['Fare'].mean()) / corrected_df['Fare'].std()"
   ]
  },
  {
   "cell_type": "code",
   "execution_count": 32,
   "id": "0c721e6e",
   "metadata": {
    "execution": {
     "iopub.execute_input": "2023-08-16T14:27:39.063679Z",
     "iopub.status.busy": "2023-08-16T14:27:39.063293Z",
     "iopub.status.idle": "2023-08-16T14:27:39.069805Z",
     "shell.execute_reply": "2023-08-16T14:27:39.068441Z"
    },
    "papermill": {
     "duration": 0.033162,
     "end_time": "2023-08-16T14:27:39.072408",
     "exception": false,
     "start_time": "2023-08-16T14:27:39.039246",
     "status": "completed"
    },
    "tags": []
   },
   "outputs": [
    {
     "name": "stderr",
     "output_type": "stream",
     "text": [
      "/tmp/ipykernel_21/1335998669.py:1: SettingWithCopyWarning: \n",
      "A value is trying to be set on a copy of a slice from a DataFrame.\n",
      "Try using .loc[row_indexer,col_indexer] = value instead\n",
      "\n",
      "See the caveats in the documentation: https://pandas.pydata.org/pandas-docs/stable/user_guide/indexing.html#returning-a-view-versus-a-copy\n",
      "  corrected_df['Fare'] = n_fare\n"
     ]
    }
   ],
   "source": [
    "corrected_df['Fare'] = n_fare"
   ]
  },
  {
   "cell_type": "code",
   "execution_count": 33,
   "id": "44f138e0",
   "metadata": {
    "execution": {
     "iopub.execute_input": "2023-08-16T14:27:39.117803Z",
     "iopub.status.busy": "2023-08-16T14:27:39.117272Z",
     "iopub.status.idle": "2023-08-16T14:27:39.245112Z",
     "shell.execute_reply": "2023-08-16T14:27:39.243952Z"
    },
    "papermill": {
     "duration": 0.153718,
     "end_time": "2023-08-16T14:27:39.247829",
     "exception": false,
     "start_time": "2023-08-16T14:27:39.094111",
     "status": "completed"
    },
    "tags": []
   },
   "outputs": [],
   "source": [
    "from sklearn.model_selection import train_test_split\n",
    "\n",
    "corr_y = corrected_df['Survived']\n",
    "corr_x = corrected_df[corr_labels]\n",
    "\n",
    "x_train, x_test, y_train, y_test = train_test_split(corr_x, corr_y, test_size=0.2, random_state=1)"
   ]
  },
  {
   "cell_type": "code",
   "execution_count": 34,
   "id": "084e279d",
   "metadata": {
    "execution": {
     "iopub.execute_input": "2023-08-16T14:27:39.293901Z",
     "iopub.status.busy": "2023-08-16T14:27:39.293499Z",
     "iopub.status.idle": "2023-08-16T14:27:39.298806Z",
     "shell.execute_reply": "2023-08-16T14:27:39.297406Z"
    },
    "papermill": {
     "duration": 0.031131,
     "end_time": "2023-08-16T14:27:39.300938",
     "exception": false,
     "start_time": "2023-08-16T14:27:39.269807",
     "status": "completed"
    },
    "tags": []
   },
   "outputs": [],
   "source": [
    "# No need to one hot, since we are using LabelEncoder\n",
    "\n",
    "# from sklearn.preprocessing import OneHotEncoder\n",
    "# onehot_encoder = OneHotEncoder(sparse=False)\n",
    "# x_train = onehot_encoder.fit_transform(x_train)\n",
    "# x_test = onehot_encoder.fit_transform(x_test)"
   ]
  },
  {
   "cell_type": "code",
   "execution_count": 35,
   "id": "4731d0c0",
   "metadata": {
    "execution": {
     "iopub.execute_input": "2023-08-16T14:27:39.347953Z",
     "iopub.status.busy": "2023-08-16T14:27:39.347570Z",
     "iopub.status.idle": "2023-08-16T14:27:39.475496Z",
     "shell.execute_reply": "2023-08-16T14:27:39.474210Z"
    },
    "papermill": {
     "duration": 0.154451,
     "end_time": "2023-08-16T14:27:39.478208",
     "exception": false,
     "start_time": "2023-08-16T14:27:39.323757",
     "status": "completed"
    },
    "tags": []
   },
   "outputs": [
    {
     "data": {
      "text/html": [
       "<style>#sk-container-id-1 {color: black;background-color: white;}#sk-container-id-1 pre{padding: 0;}#sk-container-id-1 div.sk-toggleable {background-color: white;}#sk-container-id-1 label.sk-toggleable__label {cursor: pointer;display: block;width: 100%;margin-bottom: 0;padding: 0.3em;box-sizing: border-box;text-align: center;}#sk-container-id-1 label.sk-toggleable__label-arrow:before {content: \"▸\";float: left;margin-right: 0.25em;color: #696969;}#sk-container-id-1 label.sk-toggleable__label-arrow:hover:before {color: black;}#sk-container-id-1 div.sk-estimator:hover label.sk-toggleable__label-arrow:before {color: black;}#sk-container-id-1 div.sk-toggleable__content {max-height: 0;max-width: 0;overflow: hidden;text-align: left;background-color: #f0f8ff;}#sk-container-id-1 div.sk-toggleable__content pre {margin: 0.2em;color: black;border-radius: 0.25em;background-color: #f0f8ff;}#sk-container-id-1 input.sk-toggleable__control:checked~div.sk-toggleable__content {max-height: 200px;max-width: 100%;overflow: auto;}#sk-container-id-1 input.sk-toggleable__control:checked~label.sk-toggleable__label-arrow:before {content: \"▾\";}#sk-container-id-1 div.sk-estimator input.sk-toggleable__control:checked~label.sk-toggleable__label {background-color: #d4ebff;}#sk-container-id-1 div.sk-label input.sk-toggleable__control:checked~label.sk-toggleable__label {background-color: #d4ebff;}#sk-container-id-1 input.sk-hidden--visually {border: 0;clip: rect(1px 1px 1px 1px);clip: rect(1px, 1px, 1px, 1px);height: 1px;margin: -1px;overflow: hidden;padding: 0;position: absolute;width: 1px;}#sk-container-id-1 div.sk-estimator {font-family: monospace;background-color: #f0f8ff;border: 1px dotted black;border-radius: 0.25em;box-sizing: border-box;margin-bottom: 0.5em;}#sk-container-id-1 div.sk-estimator:hover {background-color: #d4ebff;}#sk-container-id-1 div.sk-parallel-item::after {content: \"\";width: 100%;border-bottom: 1px solid gray;flex-grow: 1;}#sk-container-id-1 div.sk-label:hover label.sk-toggleable__label {background-color: #d4ebff;}#sk-container-id-1 div.sk-serial::before {content: \"\";position: absolute;border-left: 1px solid gray;box-sizing: border-box;top: 0;bottom: 0;left: 50%;z-index: 0;}#sk-container-id-1 div.sk-serial {display: flex;flex-direction: column;align-items: center;background-color: white;padding-right: 0.2em;padding-left: 0.2em;position: relative;}#sk-container-id-1 div.sk-item {position: relative;z-index: 1;}#sk-container-id-1 div.sk-parallel {display: flex;align-items: stretch;justify-content: center;background-color: white;position: relative;}#sk-container-id-1 div.sk-item::before, #sk-container-id-1 div.sk-parallel-item::before {content: \"\";position: absolute;border-left: 1px solid gray;box-sizing: border-box;top: 0;bottom: 0;left: 50%;z-index: -1;}#sk-container-id-1 div.sk-parallel-item {display: flex;flex-direction: column;z-index: 1;position: relative;background-color: white;}#sk-container-id-1 div.sk-parallel-item:first-child::after {align-self: flex-end;width: 50%;}#sk-container-id-1 div.sk-parallel-item:last-child::after {align-self: flex-start;width: 50%;}#sk-container-id-1 div.sk-parallel-item:only-child::after {width: 0;}#sk-container-id-1 div.sk-dashed-wrapped {border: 1px dashed gray;margin: 0 0.4em 0.5em 0.4em;box-sizing: border-box;padding-bottom: 0.4em;background-color: white;}#sk-container-id-1 div.sk-label label {font-family: monospace;font-weight: bold;display: inline-block;line-height: 1.2em;}#sk-container-id-1 div.sk-label-container {text-align: center;}#sk-container-id-1 div.sk-container {/* jupyter's `normalize.less` sets `[hidden] { display: none; }` but bootstrap.min.css set `[hidden] { display: none !important; }` so we also need the `!important` here to be able to override the default hidden behavior on the sphinx rendered scikit-learn.org. See: https://github.com/scikit-learn/scikit-learn/issues/21755 */display: inline-block !important;position: relative;}#sk-container-id-1 div.sk-text-repr-fallback {display: none;}</style><div id=\"sk-container-id-1\" class=\"sk-top-container\"><div class=\"sk-text-repr-fallback\"><pre>LinearSVR(epsilon=1.5)</pre><b>In a Jupyter environment, please rerun this cell to show the HTML representation or trust the notebook. <br />On GitHub, the HTML representation is unable to render, please try loading this page with nbviewer.org.</b></div><div class=\"sk-container\" hidden><div class=\"sk-item\"><div class=\"sk-estimator sk-toggleable\"><input class=\"sk-toggleable__control sk-hidden--visually\" id=\"sk-estimator-id-1\" type=\"checkbox\" checked><label for=\"sk-estimator-id-1\" class=\"sk-toggleable__label sk-toggleable__label-arrow\">LinearSVR</label><div class=\"sk-toggleable__content\"><pre>LinearSVR(epsilon=1.5)</pre></div></div></div></div></div>"
      ],
      "text/plain": [
       "LinearSVR(epsilon=1.5)"
      ]
     },
     "execution_count": 35,
     "metadata": {},
     "output_type": "execute_result"
    }
   ],
   "source": [
    "from sklearn.svm import LinearSVR\n",
    "svm_reg = LinearSVR(epsilon=1.5)\n",
    "svm_reg.fit(x_train, y_train)"
   ]
  },
  {
   "cell_type": "code",
   "execution_count": 36,
   "id": "943f10ee",
   "metadata": {
    "execution": {
     "iopub.execute_input": "2023-08-16T14:27:39.524265Z",
     "iopub.status.busy": "2023-08-16T14:27:39.523841Z",
     "iopub.status.idle": "2023-08-16T14:27:39.534384Z",
     "shell.execute_reply": "2023-08-16T14:27:39.533548Z"
    },
    "papermill": {
     "duration": 0.036135,
     "end_time": "2023-08-16T14:27:39.536651",
     "exception": false,
     "start_time": "2023-08-16T14:27:39.500516",
     "status": "completed"
    },
    "tags": []
   },
   "outputs": [
    {
     "data": {
      "text/plain": [
       "0.5921787709497207"
      ]
     },
     "execution_count": 36,
     "metadata": {},
     "output_type": "execute_result"
    }
   ],
   "source": [
    "from sklearn.metrics import accuracy_score\n",
    "\n",
    "svm_pred = svm_reg.predict(x_test)\n",
    "accuracy_score(y_test, svm_pred)\n"
   ]
  },
  {
   "cell_type": "code",
   "execution_count": 37,
   "id": "b6ae1b1b",
   "metadata": {
    "execution": {
     "iopub.execute_input": "2023-08-16T14:27:39.582668Z",
     "iopub.status.busy": "2023-08-16T14:27:39.582288Z",
     "iopub.status.idle": "2023-08-16T14:27:39.589169Z",
     "shell.execute_reply": "2023-08-16T14:27:39.588049Z"
    },
    "papermill": {
     "duration": 0.032753,
     "end_time": "2023-08-16T14:27:39.591567",
     "exception": false,
     "start_time": "2023-08-16T14:27:39.558814",
     "status": "completed"
    },
    "tags": []
   },
   "outputs": [
    {
     "data": {
      "text/plain": [
       "array([0., 0., 0., 0., 0., 0., 0., 0., 0., 0.])"
      ]
     },
     "execution_count": 37,
     "metadata": {},
     "output_type": "execute_result"
    }
   ],
   "source": [
    "svm_pred[:10]"
   ]
  },
  {
   "cell_type": "code",
   "execution_count": 38,
   "id": "8debc616",
   "metadata": {
    "execution": {
     "iopub.execute_input": "2023-08-16T14:27:39.638729Z",
     "iopub.status.busy": "2023-08-16T14:27:39.638338Z",
     "iopub.status.idle": "2023-08-16T14:27:39.658624Z",
     "shell.execute_reply": "2023-08-16T14:27:39.657478Z"
    },
    "papermill": {
     "duration": 0.046842,
     "end_time": "2023-08-16T14:27:39.661087",
     "exception": false,
     "start_time": "2023-08-16T14:27:39.614245",
     "status": "completed"
    },
    "tags": []
   },
   "outputs": [
    {
     "data": {
      "text/html": [
       "<style>#sk-container-id-2 {color: black;background-color: white;}#sk-container-id-2 pre{padding: 0;}#sk-container-id-2 div.sk-toggleable {background-color: white;}#sk-container-id-2 label.sk-toggleable__label {cursor: pointer;display: block;width: 100%;margin-bottom: 0;padding: 0.3em;box-sizing: border-box;text-align: center;}#sk-container-id-2 label.sk-toggleable__label-arrow:before {content: \"▸\";float: left;margin-right: 0.25em;color: #696969;}#sk-container-id-2 label.sk-toggleable__label-arrow:hover:before {color: black;}#sk-container-id-2 div.sk-estimator:hover label.sk-toggleable__label-arrow:before {color: black;}#sk-container-id-2 div.sk-toggleable__content {max-height: 0;max-width: 0;overflow: hidden;text-align: left;background-color: #f0f8ff;}#sk-container-id-2 div.sk-toggleable__content pre {margin: 0.2em;color: black;border-radius: 0.25em;background-color: #f0f8ff;}#sk-container-id-2 input.sk-toggleable__control:checked~div.sk-toggleable__content {max-height: 200px;max-width: 100%;overflow: auto;}#sk-container-id-2 input.sk-toggleable__control:checked~label.sk-toggleable__label-arrow:before {content: \"▾\";}#sk-container-id-2 div.sk-estimator input.sk-toggleable__control:checked~label.sk-toggleable__label {background-color: #d4ebff;}#sk-container-id-2 div.sk-label input.sk-toggleable__control:checked~label.sk-toggleable__label {background-color: #d4ebff;}#sk-container-id-2 input.sk-hidden--visually {border: 0;clip: rect(1px 1px 1px 1px);clip: rect(1px, 1px, 1px, 1px);height: 1px;margin: -1px;overflow: hidden;padding: 0;position: absolute;width: 1px;}#sk-container-id-2 div.sk-estimator {font-family: monospace;background-color: #f0f8ff;border: 1px dotted black;border-radius: 0.25em;box-sizing: border-box;margin-bottom: 0.5em;}#sk-container-id-2 div.sk-estimator:hover {background-color: #d4ebff;}#sk-container-id-2 div.sk-parallel-item::after {content: \"\";width: 100%;border-bottom: 1px solid gray;flex-grow: 1;}#sk-container-id-2 div.sk-label:hover label.sk-toggleable__label {background-color: #d4ebff;}#sk-container-id-2 div.sk-serial::before {content: \"\";position: absolute;border-left: 1px solid gray;box-sizing: border-box;top: 0;bottom: 0;left: 50%;z-index: 0;}#sk-container-id-2 div.sk-serial {display: flex;flex-direction: column;align-items: center;background-color: white;padding-right: 0.2em;padding-left: 0.2em;position: relative;}#sk-container-id-2 div.sk-item {position: relative;z-index: 1;}#sk-container-id-2 div.sk-parallel {display: flex;align-items: stretch;justify-content: center;background-color: white;position: relative;}#sk-container-id-2 div.sk-item::before, #sk-container-id-2 div.sk-parallel-item::before {content: \"\";position: absolute;border-left: 1px solid gray;box-sizing: border-box;top: 0;bottom: 0;left: 50%;z-index: -1;}#sk-container-id-2 div.sk-parallel-item {display: flex;flex-direction: column;z-index: 1;position: relative;background-color: white;}#sk-container-id-2 div.sk-parallel-item:first-child::after {align-self: flex-end;width: 50%;}#sk-container-id-2 div.sk-parallel-item:last-child::after {align-self: flex-start;width: 50%;}#sk-container-id-2 div.sk-parallel-item:only-child::after {width: 0;}#sk-container-id-2 div.sk-dashed-wrapped {border: 1px dashed gray;margin: 0 0.4em 0.5em 0.4em;box-sizing: border-box;padding-bottom: 0.4em;background-color: white;}#sk-container-id-2 div.sk-label label {font-family: monospace;font-weight: bold;display: inline-block;line-height: 1.2em;}#sk-container-id-2 div.sk-label-container {text-align: center;}#sk-container-id-2 div.sk-container {/* jupyter's `normalize.less` sets `[hidden] { display: none; }` but bootstrap.min.css set `[hidden] { display: none !important; }` so we also need the `!important` here to be able to override the default hidden behavior on the sphinx rendered scikit-learn.org. See: https://github.com/scikit-learn/scikit-learn/issues/21755 */display: inline-block !important;position: relative;}#sk-container-id-2 div.sk-text-repr-fallback {display: none;}</style><div id=\"sk-container-id-2\" class=\"sk-top-container\"><div class=\"sk-text-repr-fallback\"><pre>SGDClassifier(alpha=0.001, random_state=11)</pre><b>In a Jupyter environment, please rerun this cell to show the HTML representation or trust the notebook. <br />On GitHub, the HTML representation is unable to render, please try loading this page with nbviewer.org.</b></div><div class=\"sk-container\" hidden><div class=\"sk-item\"><div class=\"sk-estimator sk-toggleable\"><input class=\"sk-toggleable__control sk-hidden--visually\" id=\"sk-estimator-id-2\" type=\"checkbox\" checked><label for=\"sk-estimator-id-2\" class=\"sk-toggleable__label sk-toggleable__label-arrow\">SGDClassifier</label><div class=\"sk-toggleable__content\"><pre>SGDClassifier(alpha=0.001, random_state=11)</pre></div></div></div></div></div>"
      ],
      "text/plain": [
       "SGDClassifier(alpha=0.001, random_state=11)"
      ]
     },
     "execution_count": 38,
     "metadata": {},
     "output_type": "execute_result"
    }
   ],
   "source": [
    "# Implementing Stochastic Gradient Descent\n",
    "\n",
    "from sklearn.linear_model import SGDClassifier\n",
    "\n",
    "classifier = SGDClassifier(random_state=11, alpha=0.001)\n",
    "classifier.fit(x_train, y_train)\n"
   ]
  },
  {
   "cell_type": "code",
   "execution_count": 39,
   "id": "05d797b2",
   "metadata": {
    "execution": {
     "iopub.execute_input": "2023-08-16T14:27:39.709373Z",
     "iopub.status.busy": "2023-08-16T14:27:39.708908Z",
     "iopub.status.idle": "2023-08-16T14:27:39.792733Z",
     "shell.execute_reply": "2023-08-16T14:27:39.791412Z"
    },
    "papermill": {
     "duration": 0.110887,
     "end_time": "2023-08-16T14:27:39.795664",
     "exception": false,
     "start_time": "2023-08-16T14:27:39.684777",
     "status": "completed"
    },
    "tags": []
   },
   "outputs": [],
   "source": [
    "SGDClassifier?"
   ]
  },
  {
   "cell_type": "code",
   "execution_count": 40,
   "id": "0b7e2223",
   "metadata": {
    "execution": {
     "iopub.execute_input": "2023-08-16T14:27:39.842955Z",
     "iopub.status.busy": "2023-08-16T14:27:39.842543Z",
     "iopub.status.idle": "2023-08-16T14:27:39.850436Z",
     "shell.execute_reply": "2023-08-16T14:27:39.849162Z"
    },
    "papermill": {
     "duration": 0.034411,
     "end_time": "2023-08-16T14:27:39.852725",
     "exception": false,
     "start_time": "2023-08-16T14:27:39.818314",
     "status": "completed"
    },
    "tags": []
   },
   "outputs": [],
   "source": [
    "sgd_pred = classifier.predict(x_test)"
   ]
  },
  {
   "cell_type": "code",
   "execution_count": 41,
   "id": "39354a77",
   "metadata": {
    "execution": {
     "iopub.execute_input": "2023-08-16T14:27:39.899470Z",
     "iopub.status.busy": "2023-08-16T14:27:39.899051Z",
     "iopub.status.idle": "2023-08-16T14:27:39.907247Z",
     "shell.execute_reply": "2023-08-16T14:27:39.906283Z"
    },
    "papermill": {
     "duration": 0.034121,
     "end_time": "2023-08-16T14:27:39.909420",
     "exception": false,
     "start_time": "2023-08-16T14:27:39.875299",
     "status": "completed"
    },
    "tags": []
   },
   "outputs": [
    {
     "data": {
      "text/plain": [
       "0.4022346368715084"
      ]
     },
     "execution_count": 41,
     "metadata": {},
     "output_type": "execute_result"
    }
   ],
   "source": [
    "accuracy_score(y_test, sgd_pred)"
   ]
  },
  {
   "cell_type": "code",
   "execution_count": 42,
   "id": "366f18f4",
   "metadata": {
    "execution": {
     "iopub.execute_input": "2023-08-16T14:27:39.957224Z",
     "iopub.status.busy": "2023-08-16T14:27:39.956298Z",
     "iopub.status.idle": "2023-08-16T14:27:39.963809Z",
     "shell.execute_reply": "2023-08-16T14:27:39.962759Z"
    },
    "papermill": {
     "duration": 0.033637,
     "end_time": "2023-08-16T14:27:39.966086",
     "exception": false,
     "start_time": "2023-08-16T14:27:39.932449",
     "status": "completed"
    },
    "tags": []
   },
   "outputs": [
    {
     "data": {
      "text/plain": [
       "array([1, 1, 1, 1, 1, 1, 1, 1, 1, 1])"
      ]
     },
     "execution_count": 42,
     "metadata": {},
     "output_type": "execute_result"
    }
   ],
   "source": [
    "sgd_pred[:10]"
   ]
  },
  {
   "cell_type": "markdown",
   "id": "12fd1593",
   "metadata": {
    "papermill": {
     "duration": 0.025044,
     "end_time": "2023-08-16T14:27:40.014329",
     "exception": false,
     "start_time": "2023-08-16T14:27:39.989285",
     "status": "completed"
    },
    "tags": []
   },
   "source": [
    "# Report 8/16/23:\n",
    "\n",
    "Got 78 percent accuracy with SDGClassifier while getting only 59 percent accuracy score with SVR, couldn't make the one hot encoder work with test and train. Let's try non sparse model and then a label or odinal encoder, however these would imply an order."
   ]
  },
  {
   "cell_type": "code",
   "execution_count": 43,
   "id": "a217a741",
   "metadata": {
    "execution": {
     "iopub.execute_input": "2023-08-16T14:27:40.065157Z",
     "iopub.status.busy": "2023-08-16T14:27:40.064017Z",
     "iopub.status.idle": "2023-08-16T14:27:40.090498Z",
     "shell.execute_reply": "2023-08-16T14:27:40.089182Z"
    },
    "papermill": {
     "duration": 0.054455,
     "end_time": "2023-08-16T14:27:40.093031",
     "exception": false,
     "start_time": "2023-08-16T14:27:40.038576",
     "status": "completed"
    },
    "tags": []
   },
   "outputs": [
    {
     "data": {
      "text/html": [
       "<div>\n",
       "<style scoped>\n",
       "    .dataframe tbody tr th:only-of-type {\n",
       "        vertical-align: middle;\n",
       "    }\n",
       "\n",
       "    .dataframe tbody tr th {\n",
       "        vertical-align: top;\n",
       "    }\n",
       "\n",
       "    .dataframe thead th {\n",
       "        text-align: right;\n",
       "    }\n",
       "</style>\n",
       "<table border=\"1\" class=\"dataframe\">\n",
       "  <thead>\n",
       "    <tr style=\"text-align: right;\">\n",
       "      <th></th>\n",
       "      <th>PassengerId</th>\n",
       "      <th>Pclass</th>\n",
       "      <th>Name</th>\n",
       "      <th>Sex</th>\n",
       "      <th>Age</th>\n",
       "      <th>SibSp</th>\n",
       "      <th>Parch</th>\n",
       "      <th>Ticket</th>\n",
       "      <th>Fare</th>\n",
       "      <th>Cabin</th>\n",
       "      <th>Embarked</th>\n",
       "      <th>SexCat</th>\n",
       "      <th>EmCat</th>\n",
       "    </tr>\n",
       "  </thead>\n",
       "  <tbody>\n",
       "    <tr>\n",
       "      <th>0</th>\n",
       "      <td>892</td>\n",
       "      <td>3</td>\n",
       "      <td>Kelly, Mr. James</td>\n",
       "      <td>male</td>\n",
       "      <td>34.50000</td>\n",
       "      <td>0</td>\n",
       "      <td>0</td>\n",
       "      <td>330911</td>\n",
       "      <td>7.8292</td>\n",
       "      <td>NaN</td>\n",
       "      <td>Q</td>\n",
       "      <td>1</td>\n",
       "      <td>1</td>\n",
       "    </tr>\n",
       "    <tr>\n",
       "      <th>1</th>\n",
       "      <td>893</td>\n",
       "      <td>3</td>\n",
       "      <td>Wilkes, Mrs. James (Ellen Needs)</td>\n",
       "      <td>female</td>\n",
       "      <td>47.00000</td>\n",
       "      <td>1</td>\n",
       "      <td>0</td>\n",
       "      <td>363272</td>\n",
       "      <td>7.0000</td>\n",
       "      <td>NaN</td>\n",
       "      <td>S</td>\n",
       "      <td>0</td>\n",
       "      <td>2</td>\n",
       "    </tr>\n",
       "    <tr>\n",
       "      <th>2</th>\n",
       "      <td>894</td>\n",
       "      <td>2</td>\n",
       "      <td>Myles, Mr. Thomas Francis</td>\n",
       "      <td>male</td>\n",
       "      <td>62.00000</td>\n",
       "      <td>0</td>\n",
       "      <td>0</td>\n",
       "      <td>240276</td>\n",
       "      <td>9.6875</td>\n",
       "      <td>NaN</td>\n",
       "      <td>Q</td>\n",
       "      <td>1</td>\n",
       "      <td>1</td>\n",
       "    </tr>\n",
       "    <tr>\n",
       "      <th>3</th>\n",
       "      <td>895</td>\n",
       "      <td>3</td>\n",
       "      <td>Wirz, Mr. Albert</td>\n",
       "      <td>male</td>\n",
       "      <td>27.00000</td>\n",
       "      <td>0</td>\n",
       "      <td>0</td>\n",
       "      <td>315154</td>\n",
       "      <td>8.6625</td>\n",
       "      <td>NaN</td>\n",
       "      <td>S</td>\n",
       "      <td>1</td>\n",
       "      <td>2</td>\n",
       "    </tr>\n",
       "    <tr>\n",
       "      <th>4</th>\n",
       "      <td>896</td>\n",
       "      <td>3</td>\n",
       "      <td>Hirvonen, Mrs. Alexander (Helga E Lindqvist)</td>\n",
       "      <td>female</td>\n",
       "      <td>22.00000</td>\n",
       "      <td>1</td>\n",
       "      <td>1</td>\n",
       "      <td>3101298</td>\n",
       "      <td>12.2875</td>\n",
       "      <td>NaN</td>\n",
       "      <td>S</td>\n",
       "      <td>0</td>\n",
       "      <td>2</td>\n",
       "    </tr>\n",
       "    <tr>\n",
       "      <th>...</th>\n",
       "      <td>...</td>\n",
       "      <td>...</td>\n",
       "      <td>...</td>\n",
       "      <td>...</td>\n",
       "      <td>...</td>\n",
       "      <td>...</td>\n",
       "      <td>...</td>\n",
       "      <td>...</td>\n",
       "      <td>...</td>\n",
       "      <td>...</td>\n",
       "      <td>...</td>\n",
       "      <td>...</td>\n",
       "      <td>...</td>\n",
       "    </tr>\n",
       "    <tr>\n",
       "      <th>413</th>\n",
       "      <td>1305</td>\n",
       "      <td>3</td>\n",
       "      <td>Spector, Mr. Woolf</td>\n",
       "      <td>male</td>\n",
       "      <td>30.27259</td>\n",
       "      <td>0</td>\n",
       "      <td>0</td>\n",
       "      <td>A.5. 3236</td>\n",
       "      <td>8.0500</td>\n",
       "      <td>NaN</td>\n",
       "      <td>S</td>\n",
       "      <td>1</td>\n",
       "      <td>2</td>\n",
       "    </tr>\n",
       "    <tr>\n",
       "      <th>414</th>\n",
       "      <td>1306</td>\n",
       "      <td>1</td>\n",
       "      <td>Oliva y Ocana, Dona. Fermina</td>\n",
       "      <td>female</td>\n",
       "      <td>39.00000</td>\n",
       "      <td>0</td>\n",
       "      <td>0</td>\n",
       "      <td>PC 17758</td>\n",
       "      <td>108.9000</td>\n",
       "      <td>C105</td>\n",
       "      <td>C</td>\n",
       "      <td>0</td>\n",
       "      <td>0</td>\n",
       "    </tr>\n",
       "    <tr>\n",
       "      <th>415</th>\n",
       "      <td>1307</td>\n",
       "      <td>3</td>\n",
       "      <td>Saether, Mr. Simon Sivertsen</td>\n",
       "      <td>male</td>\n",
       "      <td>38.50000</td>\n",
       "      <td>0</td>\n",
       "      <td>0</td>\n",
       "      <td>SOTON/O.Q. 3101262</td>\n",
       "      <td>7.2500</td>\n",
       "      <td>NaN</td>\n",
       "      <td>S</td>\n",
       "      <td>1</td>\n",
       "      <td>2</td>\n",
       "    </tr>\n",
       "    <tr>\n",
       "      <th>416</th>\n",
       "      <td>1308</td>\n",
       "      <td>3</td>\n",
       "      <td>Ware, Mr. Frederick</td>\n",
       "      <td>male</td>\n",
       "      <td>30.27259</td>\n",
       "      <td>0</td>\n",
       "      <td>0</td>\n",
       "      <td>359309</td>\n",
       "      <td>8.0500</td>\n",
       "      <td>NaN</td>\n",
       "      <td>S</td>\n",
       "      <td>1</td>\n",
       "      <td>2</td>\n",
       "    </tr>\n",
       "    <tr>\n",
       "      <th>417</th>\n",
       "      <td>1309</td>\n",
       "      <td>3</td>\n",
       "      <td>Peter, Master. Michael J</td>\n",
       "      <td>male</td>\n",
       "      <td>30.27259</td>\n",
       "      <td>1</td>\n",
       "      <td>1</td>\n",
       "      <td>2668</td>\n",
       "      <td>22.3583</td>\n",
       "      <td>NaN</td>\n",
       "      <td>C</td>\n",
       "      <td>1</td>\n",
       "      <td>0</td>\n",
       "    </tr>\n",
       "  </tbody>\n",
       "</table>\n",
       "<p>418 rows × 13 columns</p>\n",
       "</div>"
      ],
      "text/plain": [
       "     PassengerId  Pclass                                          Name  \\\n",
       "0            892       3                              Kelly, Mr. James   \n",
       "1            893       3              Wilkes, Mrs. James (Ellen Needs)   \n",
       "2            894       2                     Myles, Mr. Thomas Francis   \n",
       "3            895       3                              Wirz, Mr. Albert   \n",
       "4            896       3  Hirvonen, Mrs. Alexander (Helga E Lindqvist)   \n",
       "..           ...     ...                                           ...   \n",
       "413         1305       3                            Spector, Mr. Woolf   \n",
       "414         1306       1                  Oliva y Ocana, Dona. Fermina   \n",
       "415         1307       3                  Saether, Mr. Simon Sivertsen   \n",
       "416         1308       3                           Ware, Mr. Frederick   \n",
       "417         1309       3                      Peter, Master. Michael J   \n",
       "\n",
       "        Sex       Age  SibSp  Parch              Ticket      Fare Cabin  \\\n",
       "0      male  34.50000      0      0              330911    7.8292   NaN   \n",
       "1    female  47.00000      1      0              363272    7.0000   NaN   \n",
       "2      male  62.00000      0      0              240276    9.6875   NaN   \n",
       "3      male  27.00000      0      0              315154    8.6625   NaN   \n",
       "4    female  22.00000      1      1             3101298   12.2875   NaN   \n",
       "..      ...       ...    ...    ...                 ...       ...   ...   \n",
       "413    male  30.27259      0      0           A.5. 3236    8.0500   NaN   \n",
       "414  female  39.00000      0      0            PC 17758  108.9000  C105   \n",
       "415    male  38.50000      0      0  SOTON/O.Q. 3101262    7.2500   NaN   \n",
       "416    male  30.27259      0      0              359309    8.0500   NaN   \n",
       "417    male  30.27259      1      1                2668   22.3583   NaN   \n",
       "\n",
       "    Embarked  SexCat  EmCat  \n",
       "0          Q       1      1  \n",
       "1          S       0      2  \n",
       "2          Q       1      1  \n",
       "3          S       1      2  \n",
       "4          S       0      2  \n",
       "..       ...     ...    ...  \n",
       "413        S       1      2  \n",
       "414        C       0      0  \n",
       "415        S       1      2  \n",
       "416        S       1      2  \n",
       "417        C       1      0  \n",
       "\n",
       "[418 rows x 13 columns]"
      ]
     },
     "execution_count": 43,
     "metadata": {},
     "output_type": "execute_result"
    }
   ],
   "source": [
    "df_test"
   ]
  },
  {
   "cell_type": "code",
   "execution_count": 44,
   "id": "b97a353b",
   "metadata": {
    "execution": {
     "iopub.execute_input": "2023-08-16T14:27:40.142759Z",
     "iopub.status.busy": "2023-08-16T14:27:40.142372Z",
     "iopub.status.idle": "2023-08-16T14:27:40.149393Z",
     "shell.execute_reply": "2023-08-16T14:27:40.148096Z"
    },
    "papermill": {
     "duration": 0.034555,
     "end_time": "2023-08-16T14:27:40.151676",
     "exception": false,
     "start_time": "2023-08-16T14:27:40.117121",
     "status": "completed"
    },
    "tags": []
   },
   "outputs": [],
   "source": [
    "corr_test_x = df_test[corr_labels]"
   ]
  },
  {
   "cell_type": "code",
   "execution_count": 45,
   "id": "31dd085f",
   "metadata": {
    "execution": {
     "iopub.execute_input": "2023-08-16T14:27:40.201626Z",
     "iopub.status.busy": "2023-08-16T14:27:40.200716Z",
     "iopub.status.idle": "2023-08-16T14:27:40.208523Z",
     "shell.execute_reply": "2023-08-16T14:27:40.207153Z"
    },
    "papermill": {
     "duration": 0.03527,
     "end_time": "2023-08-16T14:27:40.211055",
     "exception": false,
     "start_time": "2023-08-16T14:27:40.175785",
     "status": "completed"
    },
    "tags": []
   },
   "outputs": [
    {
     "name": "stderr",
     "output_type": "stream",
     "text": [
      "/tmp/ipykernel_21/3624540031.py:2: SettingWithCopyWarning: \n",
      "A value is trying to be set on a copy of a slice from a DataFrame.\n",
      "Try using .loc[row_indexer,col_indexer] = value instead\n",
      "\n",
      "See the caveats in the documentation: https://pandas.pydata.org/pandas-docs/stable/user_guide/indexing.html#returning-a-view-versus-a-copy\n",
      "  corr_test_x['Fare'] = nt_fare\n"
     ]
    }
   ],
   "source": [
    "nt_fare = (corr_test_x['Fare'] - corr_test_x['Fare'].mean()) / corr_test_x['Fare'].std()\n",
    "corr_test_x['Fare'] = nt_fare"
   ]
  },
  {
   "cell_type": "code",
   "execution_count": 46,
   "id": "be936279",
   "metadata": {
    "execution": {
     "iopub.execute_input": "2023-08-16T14:27:40.259340Z",
     "iopub.status.busy": "2023-08-16T14:27:40.258880Z",
     "iopub.status.idle": "2023-08-16T14:27:40.266536Z",
     "shell.execute_reply": "2023-08-16T14:27:40.265172Z"
    },
    "papermill": {
     "duration": 0.034606,
     "end_time": "2023-08-16T14:27:40.268935",
     "exception": false,
     "start_time": "2023-08-16T14:27:40.234329",
     "status": "completed"
    },
    "tags": []
   },
   "outputs": [],
   "source": [
    "final_pred = classifier.predict(x_test)"
   ]
  },
  {
   "cell_type": "code",
   "execution_count": 47,
   "id": "399cd55a",
   "metadata": {
    "execution": {
     "iopub.execute_input": "2023-08-16T14:27:40.318405Z",
     "iopub.status.busy": "2023-08-16T14:27:40.317947Z",
     "iopub.status.idle": "2023-08-16T14:27:40.325617Z",
     "shell.execute_reply": "2023-08-16T14:27:40.324799Z"
    },
    "papermill": {
     "duration": 0.03486,
     "end_time": "2023-08-16T14:27:40.327806",
     "exception": false,
     "start_time": "2023-08-16T14:27:40.292946",
     "status": "completed"
    },
    "tags": []
   },
   "outputs": [
    {
     "data": {
      "text/plain": [
       "0.4022346368715084"
      ]
     },
     "execution_count": 47,
     "metadata": {},
     "output_type": "execute_result"
    }
   ],
   "source": [
    "accuracy_score(y_test, final_pred)"
   ]
  },
  {
   "cell_type": "markdown",
   "id": "4306da61",
   "metadata": {
    "papermill": {
     "duration": 0.022924,
     "end_time": "2023-08-16T14:27:40.374616",
     "exception": false,
     "start_time": "2023-08-16T14:27:40.351692",
     "status": "completed"
    },
    "tags": []
   },
   "source": [
    "The results with label encoder aren't very good."
   ]
  },
  {
   "cell_type": "code",
   "execution_count": 48,
   "id": "8f400a53",
   "metadata": {
    "execution": {
     "iopub.execute_input": "2023-08-16T14:27:40.424209Z",
     "iopub.status.busy": "2023-08-16T14:27:40.423071Z",
     "iopub.status.idle": "2023-08-16T14:27:40.434153Z",
     "shell.execute_reply": "2023-08-16T14:27:40.432853Z"
    },
    "papermill": {
     "duration": 0.038973,
     "end_time": "2023-08-16T14:27:40.437370",
     "exception": false,
     "start_time": "2023-08-16T14:27:40.398397",
     "status": "completed"
    },
    "tags": []
   },
   "outputs": [
    {
     "data": {
      "text/plain": [
       "array([1, 1, 1, 1, 1, 1, 1, 1, 1, 1, 1, 1, 1, 1, 1, 1, 1, 1, 1, 1, 1, 1,\n",
       "       1, 1, 1, 1, 1, 1, 1, 1, 1, 1, 1, 1, 1, 1, 1, 1, 1, 1, 1, 1, 1, 1,\n",
       "       1, 1, 1, 1, 1, 1, 1, 1, 1, 1, 1, 1, 1, 1, 1, 1, 1, 1, 1, 1, 1, 1,\n",
       "       1, 1, 1, 1, 1, 1, 1, 1, 1, 1, 1, 1, 1, 1, 1, 1, 1, 1, 1, 1, 1, 1,\n",
       "       1, 1, 1, 1, 1, 1, 1, 1, 1, 1, 1, 1, 1, 1, 1, 1, 1, 1, 1, 1, 1, 1,\n",
       "       1, 1, 1, 1, 1, 1, 1, 1, 1, 1, 1, 1, 1, 1, 1, 1, 1, 1, 1, 1, 1, 1,\n",
       "       1, 1, 1, 1, 1, 1, 1, 1, 1, 1, 1, 1, 1, 1, 1, 1, 1, 1, 1, 1, 1, 1,\n",
       "       1, 1, 1, 1, 1, 1, 1, 1, 1, 1, 1, 1, 1, 1, 1, 1, 1, 1, 1, 1, 1, 1,\n",
       "       1, 1, 1, 1, 1, 1, 1, 1, 1, 1, 1, 1, 1, 1, 1, 1, 1, 1, 1, 1, 1, 1,\n",
       "       1, 1, 1, 1, 1, 1, 1, 1, 1, 1, 1, 1, 1, 1, 1, 1, 1, 1, 1, 1, 1, 1,\n",
       "       1, 1, 1, 1, 1, 1, 1, 1, 1, 1, 1, 1, 1, 1, 1, 1, 1, 1, 1, 1, 1, 1,\n",
       "       1, 1, 1, 1, 1, 1, 1, 1, 1, 1, 1, 1, 1, 1, 1, 1, 1, 1, 1, 1, 1, 1,\n",
       "       1, 1, 1, 1, 1, 1, 1, 1, 1, 1, 1, 1, 1, 1, 1, 1, 1, 1, 1, 1, 1, 1,\n",
       "       1, 1, 1, 1, 1, 1, 1, 1, 1, 1, 1, 1, 1, 1, 1, 1, 1, 1, 1, 1, 1, 1,\n",
       "       1, 1, 1, 1, 1, 1, 1, 1, 1, 1, 1, 1, 1, 1, 1, 1, 1, 1, 1, 1, 1, 1,\n",
       "       1, 1, 1, 1, 1, 1, 1, 1, 1, 1, 1, 1, 1, 1, 1, 1, 1, 1, 1, 1, 1, 1,\n",
       "       1, 1, 1, 1, 1, 1, 1, 1, 1, 1, 1, 1, 1, 1, 1, 1, 1, 1, 1, 1, 1, 1,\n",
       "       1, 1, 1, 1, 1, 1, 1, 1, 1, 1, 1, 1, 1, 1, 1, 1, 1, 1, 1, 1, 1, 1,\n",
       "       1, 1, 1, 1, 1, 1, 1, 1, 1, 1, 1, 1, 1, 1, 1, 1, 1, 1, 1, 1, 1, 1])"
      ]
     },
     "execution_count": 48,
     "metadata": {},
     "output_type": "execute_result"
    }
   ],
   "source": [
    "classifier.predict(corr_test_x)"
   ]
  },
  {
   "cell_type": "code",
   "execution_count": 49,
   "id": "05f9b65b",
   "metadata": {
    "execution": {
     "iopub.execute_input": "2023-08-16T14:27:40.486867Z",
     "iopub.status.busy": "2023-08-16T14:27:40.486347Z",
     "iopub.status.idle": "2023-08-16T14:27:40.491130Z",
     "shell.execute_reply": "2023-08-16T14:27:40.489962Z"
    },
    "papermill": {
     "duration": 0.032385,
     "end_time": "2023-08-16T14:27:40.493342",
     "exception": false,
     "start_time": "2023-08-16T14:27:40.460957",
     "status": "completed"
    },
    "tags": []
   },
   "outputs": [],
   "source": [
    "# TODO ADD GRID SEARCH"
   ]
  },
  {
   "cell_type": "code",
   "execution_count": null,
   "id": "58896301",
   "metadata": {
    "papermill": {
     "duration": 0.023023,
     "end_time": "2023-08-16T14:27:40.540825",
     "exception": false,
     "start_time": "2023-08-16T14:27:40.517802",
     "status": "completed"
    },
    "tags": []
   },
   "outputs": [],
   "source": []
  }
 ],
 "metadata": {
  "kernelspec": {
   "display_name": "Python 3",
   "language": "python",
   "name": "python3"
  },
  "language_info": {
   "codemirror_mode": {
    "name": "ipython",
    "version": 3
   },
   "file_extension": ".py",
   "mimetype": "text/x-python",
   "name": "python",
   "nbconvert_exporter": "python",
   "pygments_lexer": "ipython3",
   "version": "3.10.10"
  },
  "papermill": {
   "default_parameters": {},
   "duration": 21.778791,
   "end_time": "2023-08-16T14:27:41.587309",
   "environment_variables": {},
   "exception": null,
   "input_path": "__notebook__.ipynb",
   "output_path": "__notebook__.ipynb",
   "parameters": {},
   "start_time": "2023-08-16T14:27:19.808518",
   "version": "2.4.0"
  }
 },
 "nbformat": 4,
 "nbformat_minor": 5
}
