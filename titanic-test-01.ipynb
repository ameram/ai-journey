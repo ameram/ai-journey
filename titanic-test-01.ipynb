{
 "cells": [
  {
   "cell_type": "code",
   "execution_count": 1,
   "id": "03943971",
   "metadata": {
    "_cell_guid": "b1076dfc-b9ad-4769-8c92-a6c4dae69d19",
    "_uuid": "8f2839f25d086af736a60e9eeb907d3b93b6e0e5",
    "execution": {
     "iopub.execute_input": "2023-08-17T08:57:32.033566Z",
     "iopub.status.busy": "2023-08-17T08:57:32.032526Z",
     "iopub.status.idle": "2023-08-17T08:57:32.049489Z",
     "shell.execute_reply": "2023-08-17T08:57:32.048089Z"
    },
    "papermill": {
     "duration": 0.038943,
     "end_time": "2023-08-17T08:57:32.052686",
     "exception": false,
     "start_time": "2023-08-17T08:57:32.013743",
     "status": "completed"
    },
    "tags": []
   },
   "outputs": [
    {
     "name": "stdout",
     "output_type": "stream",
     "text": [
      "/kaggle/input/titanic/train.csv\n",
      "/kaggle/input/titanic/test.csv\n",
      "/kaggle/input/titanic/gender_submission.csv\n"
     ]
    }
   ],
   "source": [
    "# This Python 3 environment comes with many helpful analytics libraries installed\n",
    "# It is defined by the kaggle/python Docker image: https://github.com/kaggle/docker-python\n",
    "# For example, here's several helpful packages to load\n",
    "\n",
    "import numpy as np # linear algebra\n",
    "import pandas as pd # data processing, CSV file I/O (e.g. pd.read_csv)\n",
    "\n",
    "# Input data files are available in the read-only \"../input/\" directory\n",
    "# For example, running this (by clicking run or pressing Shift+Enter) will list all files under the input directory\n",
    "\n",
    "import os\n",
    "for dirname, _, filenames in os.walk('/kaggle/input'):\n",
    "    for filename in filenames:\n",
    "        print(os.path.join(dirname, filename))\n",
    "\n",
    "# You can write up to 20GB to the current directory (/kaggle/working/) that gets preserved as output when you create a version using \"Save & Run All\" \n",
    "# You can also write temporary files to /kaggle/temp/, but they won't be saved outside of the current session"
   ]
  },
  {
   "cell_type": "markdown",
   "id": "6570d522",
   "metadata": {
    "papermill": {
     "duration": 0.015975,
     "end_time": "2023-08-17T08:57:32.085758",
     "exception": false,
     "start_time": "2023-08-17T08:57:32.069783",
     "status": "completed"
    },
    "tags": []
   },
   "source": [
    "# First phase let's build a SVM\n",
    "\n",
    "1. Look at the big picture.\n",
    "2. Get the data.\n",
    "3. Discover and visualize the data to gain insights.\n",
    "4. Prepare the data for Machine Learning algorithms.\n",
    "5. Select a model and train it.\n",
    "6. Fine-tune your model.\n",
    "7. Present your solution.\n",
    "8. Launch, monitor, and maintain your system."
   ]
  },
  {
   "cell_type": "code",
   "execution_count": 2,
   "id": "d58b688c",
   "metadata": {
    "execution": {
     "iopub.execute_input": "2023-08-17T08:57:32.119561Z",
     "iopub.status.busy": "2023-08-17T08:57:32.119014Z",
     "iopub.status.idle": "2023-08-17T08:57:32.124720Z",
     "shell.execute_reply": "2023-08-17T08:57:32.123478Z"
    },
    "papermill": {
     "duration": 0.02571,
     "end_time": "2023-08-17T08:57:32.127212",
     "exception": false,
     "start_time": "2023-08-17T08:57:32.101502",
     "status": "completed"
    },
    "tags": []
   },
   "outputs": [],
   "source": [
    "import matplotlib as mpl\n",
    "import matplotlib.pyplot as plt"
   ]
  },
  {
   "cell_type": "code",
   "execution_count": 3,
   "id": "44b74ddd",
   "metadata": {
    "execution": {
     "iopub.execute_input": "2023-08-17T08:57:32.161785Z",
     "iopub.status.busy": "2023-08-17T08:57:32.161400Z",
     "iopub.status.idle": "2023-08-17T08:57:33.168829Z",
     "shell.execute_reply": "2023-08-17T08:57:33.167663Z"
    },
    "papermill": {
     "duration": 1.027369,
     "end_time": "2023-08-17T08:57:33.171393",
     "exception": false,
     "start_time": "2023-08-17T08:57:32.144024",
     "status": "completed"
    },
    "tags": []
   },
   "outputs": [
    {
     "name": "stdout",
     "output_type": "stream",
     "text": [
      "/kaggle/working\r\n"
     ]
    }
   ],
   "source": [
    "!pwd"
   ]
  },
  {
   "cell_type": "code",
   "execution_count": 4,
   "id": "8f284bd8",
   "metadata": {
    "execution": {
     "iopub.execute_input": "2023-08-17T08:57:33.206733Z",
     "iopub.status.busy": "2023-08-17T08:57:33.205753Z",
     "iopub.status.idle": "2023-08-17T08:57:33.247838Z",
     "shell.execute_reply": "2023-08-17T08:57:33.246644Z"
    },
    "papermill": {
     "duration": 0.062659,
     "end_time": "2023-08-17T08:57:33.250771",
     "exception": false,
     "start_time": "2023-08-17T08:57:33.188112",
     "status": "completed"
    },
    "tags": []
   },
   "outputs": [],
   "source": [
    "df_train = pd.read_csv('/kaggle/input/titanic/train.csv')\n",
    "df_test = pd.read_csv('/kaggle/input/titanic/test.csv')"
   ]
  },
  {
   "cell_type": "code",
   "execution_count": 5,
   "id": "6dab8f73",
   "metadata": {
    "execution": {
     "iopub.execute_input": "2023-08-17T08:57:33.285092Z",
     "iopub.status.busy": "2023-08-17T08:57:33.284704Z",
     "iopub.status.idle": "2023-08-17T08:57:33.325060Z",
     "shell.execute_reply": "2023-08-17T08:57:33.324024Z"
    },
    "papermill": {
     "duration": 0.060786,
     "end_time": "2023-08-17T08:57:33.327568",
     "exception": false,
     "start_time": "2023-08-17T08:57:33.266782",
     "status": "completed"
    },
    "tags": []
   },
   "outputs": [
    {
     "data": {
      "text/html": [
       "<div>\n",
       "<style scoped>\n",
       "    .dataframe tbody tr th:only-of-type {\n",
       "        vertical-align: middle;\n",
       "    }\n",
       "\n",
       "    .dataframe tbody tr th {\n",
       "        vertical-align: top;\n",
       "    }\n",
       "\n",
       "    .dataframe thead th {\n",
       "        text-align: right;\n",
       "    }\n",
       "</style>\n",
       "<table border=\"1\" class=\"dataframe\">\n",
       "  <thead>\n",
       "    <tr style=\"text-align: right;\">\n",
       "      <th></th>\n",
       "      <th>PassengerId</th>\n",
       "      <th>Survived</th>\n",
       "      <th>Pclass</th>\n",
       "      <th>Name</th>\n",
       "      <th>Sex</th>\n",
       "      <th>Age</th>\n",
       "      <th>SibSp</th>\n",
       "      <th>Parch</th>\n",
       "      <th>Ticket</th>\n",
       "      <th>Fare</th>\n",
       "      <th>Cabin</th>\n",
       "      <th>Embarked</th>\n",
       "    </tr>\n",
       "  </thead>\n",
       "  <tbody>\n",
       "    <tr>\n",
       "      <th>0</th>\n",
       "      <td>1</td>\n",
       "      <td>0</td>\n",
       "      <td>3</td>\n",
       "      <td>Braund, Mr. Owen Harris</td>\n",
       "      <td>male</td>\n",
       "      <td>22.0</td>\n",
       "      <td>1</td>\n",
       "      <td>0</td>\n",
       "      <td>A/5 21171</td>\n",
       "      <td>7.2500</td>\n",
       "      <td>NaN</td>\n",
       "      <td>S</td>\n",
       "    </tr>\n",
       "    <tr>\n",
       "      <th>1</th>\n",
       "      <td>2</td>\n",
       "      <td>1</td>\n",
       "      <td>1</td>\n",
       "      <td>Cumings, Mrs. John Bradley (Florence Briggs Th...</td>\n",
       "      <td>female</td>\n",
       "      <td>38.0</td>\n",
       "      <td>1</td>\n",
       "      <td>0</td>\n",
       "      <td>PC 17599</td>\n",
       "      <td>71.2833</td>\n",
       "      <td>C85</td>\n",
       "      <td>C</td>\n",
       "    </tr>\n",
       "    <tr>\n",
       "      <th>2</th>\n",
       "      <td>3</td>\n",
       "      <td>1</td>\n",
       "      <td>3</td>\n",
       "      <td>Heikkinen, Miss. Laina</td>\n",
       "      <td>female</td>\n",
       "      <td>26.0</td>\n",
       "      <td>0</td>\n",
       "      <td>0</td>\n",
       "      <td>STON/O2. 3101282</td>\n",
       "      <td>7.9250</td>\n",
       "      <td>NaN</td>\n",
       "      <td>S</td>\n",
       "    </tr>\n",
       "    <tr>\n",
       "      <th>3</th>\n",
       "      <td>4</td>\n",
       "      <td>1</td>\n",
       "      <td>1</td>\n",
       "      <td>Futrelle, Mrs. Jacques Heath (Lily May Peel)</td>\n",
       "      <td>female</td>\n",
       "      <td>35.0</td>\n",
       "      <td>1</td>\n",
       "      <td>0</td>\n",
       "      <td>113803</td>\n",
       "      <td>53.1000</td>\n",
       "      <td>C123</td>\n",
       "      <td>S</td>\n",
       "    </tr>\n",
       "    <tr>\n",
       "      <th>4</th>\n",
       "      <td>5</td>\n",
       "      <td>0</td>\n",
       "      <td>3</td>\n",
       "      <td>Allen, Mr. William Henry</td>\n",
       "      <td>male</td>\n",
       "      <td>35.0</td>\n",
       "      <td>0</td>\n",
       "      <td>0</td>\n",
       "      <td>373450</td>\n",
       "      <td>8.0500</td>\n",
       "      <td>NaN</td>\n",
       "      <td>S</td>\n",
       "    </tr>\n",
       "  </tbody>\n",
       "</table>\n",
       "</div>"
      ],
      "text/plain": [
       "   PassengerId  Survived  Pclass  \\\n",
       "0            1         0       3   \n",
       "1            2         1       1   \n",
       "2            3         1       3   \n",
       "3            4         1       1   \n",
       "4            5         0       3   \n",
       "\n",
       "                                                Name     Sex   Age  SibSp  \\\n",
       "0                            Braund, Mr. Owen Harris    male  22.0      1   \n",
       "1  Cumings, Mrs. John Bradley (Florence Briggs Th...  female  38.0      1   \n",
       "2                             Heikkinen, Miss. Laina  female  26.0      0   \n",
       "3       Futrelle, Mrs. Jacques Heath (Lily May Peel)  female  35.0      1   \n",
       "4                           Allen, Mr. William Henry    male  35.0      0   \n",
       "\n",
       "   Parch            Ticket     Fare Cabin Embarked  \n",
       "0      0         A/5 21171   7.2500   NaN        S  \n",
       "1      0          PC 17599  71.2833   C85        C  \n",
       "2      0  STON/O2. 3101282   7.9250   NaN        S  \n",
       "3      0            113803  53.1000  C123        S  \n",
       "4      0            373450   8.0500   NaN        S  "
      ]
     },
     "execution_count": 5,
     "metadata": {},
     "output_type": "execute_result"
    }
   ],
   "source": [
    "df_train.head()"
   ]
  },
  {
   "cell_type": "code",
   "execution_count": 6,
   "id": "43b10b70",
   "metadata": {
    "_kg_hide-input": true,
    "execution": {
     "iopub.execute_input": "2023-08-17T08:57:33.363145Z",
     "iopub.status.busy": "2023-08-17T08:57:33.362730Z",
     "iopub.status.idle": "2023-08-17T08:57:33.394627Z",
     "shell.execute_reply": "2023-08-17T08:57:33.392929Z"
    },
    "papermill": {
     "duration": 0.052553,
     "end_time": "2023-08-17T08:57:33.397201",
     "exception": false,
     "start_time": "2023-08-17T08:57:33.344648",
     "status": "completed"
    },
    "tags": []
   },
   "outputs": [
    {
     "name": "stdout",
     "output_type": "stream",
     "text": [
      "0.34539473684210525\n",
      "0.5358851674641149\n",
      "0.4642857142857143\n",
      "0.25\n",
      "0.16666666666666666\n",
      "0.0\n",
      "0.0\n"
     ]
    }
   ],
   "source": [
    "df_train['SibSp'].value_counts()\n",
    "\n",
    "print(df_train[df_train['SibSp'] == 0]['Survived'].sum()/len(df_train[df_train['SibSp'] == 0]))\n",
    "print(df_train[df_train['SibSp'] == 1]['Survived'].sum()/len(df_train[df_train['SibSp'] == 1]))\n",
    "print(df_train[df_train['SibSp'] == 2]['Survived'].sum()/len(df_train[df_train['SibSp'] == 2]))\n",
    "print(df_train[df_train['SibSp'] == 3]['Survived'].sum()/len(df_train[df_train['SibSp'] == 3]))\n",
    "print(df_train[df_train['SibSp'] == 4]['Survived'].sum()/len(df_train[df_train['SibSp'] == 4]))\n",
    "print(df_train[df_train['SibSp'] == 8]['Survived'].sum()/len(df_train[df_train['SibSp'] == 8]))\n",
    "print(df_train[df_train['SibSp'] == 5]['Survived'].sum()/len(df_train[df_train['SibSp'] == 5]))"
   ]
  },
  {
   "cell_type": "code",
   "execution_count": 7,
   "id": "6a0c436b",
   "metadata": {
    "execution": {
     "iopub.execute_input": "2023-08-17T08:57:33.433569Z",
     "iopub.status.busy": "2023-08-17T08:57:33.433065Z",
     "iopub.status.idle": "2023-08-17T08:57:33.734447Z",
     "shell.execute_reply": "2023-08-17T08:57:33.733448Z"
    },
    "papermill": {
     "duration": 0.322621,
     "end_time": "2023-08-17T08:57:33.737030",
     "exception": false,
     "start_time": "2023-08-17T08:57:33.414409",
     "status": "completed"
    },
    "tags": []
   },
   "outputs": [
    {
     "data": {
      "text/plain": [
       "(array([372., 119.]),\n",
       " array([0. , 0.5, 1. ]),\n",
       " <BarContainer object of 2 artists>)"
      ]
     },
     "execution_count": 7,
     "metadata": {},
     "output_type": "execute_result"
    },
    {
     "data": {
      "image/png": "[encoded data removed]",
      "text/plain": [
       "<Figure size 640x480 with 1 Axes>"
      ]
     },
     "metadata": {},
     "output_type": "display_data"
    }
   ],
   "source": [
    "plt.hist(df_train[df_train['Pclass'] == 1]['Survived'], bins=2, color='r', stacked=True)\n",
    "plt.hist(df_train[df_train['Pclass'] == 2]['Survived'], bins=2, color='b', stacked=True)\n",
    "plt.hist(df_train[df_train['Pclass'] == 3]['Survived'], bins=2, color='y', stacked=True)"
   ]
  },
  {
   "cell_type": "code",
   "execution_count": 8,
   "id": "0ec75857",
   "metadata": {
    "execution": {
     "iopub.execute_input": "2023-08-17T08:57:33.772083Z",
     "iopub.status.busy": "2023-08-17T08:57:33.771689Z",
     "iopub.status.idle": "2023-08-17T08:57:34.506831Z",
     "shell.execute_reply": "2023-08-17T08:57:34.505907Z"
    },
    "papermill": {
     "duration": 0.755814,
     "end_time": "2023-08-17T08:57:34.509678",
     "exception": false,
     "start_time": "2023-08-17T08:57:33.753864",
     "status": "completed"
    },
    "tags": []
   },
   "outputs": [
    {
     "data": {
      "text/plain": [
       "(array([372.,   0.,   0.,   0.,   0.,   0.,   0.,   0.,   0., 119.]),\n",
       " array([0. , 0.1, 0.2, 0.3, 0.4, 0.5, 0.6, 0.7, 0.8, 0.9, 1. ]),\n",
       " <BarContainer object of 10 artists>)"
      ]
     },
     "execution_count": 8,
     "metadata": {},
     "output_type": "execute_result"
    },
    {
     "data": {
      "image/png": "[encoded data removed]",
      "text/plain": [
       "<Figure size 768x576 with 3 Axes>"
      ]
     },
     "metadata": {},
     "output_type": "display_data"
    }
   ],
   "source": [
    "fix, ax = plt.subplots(3)\n",
    "fix.dpi=120\n",
    "ax[0].hist(df_train[df_train['Pclass'] == 1]['Survived'], color='r')\n",
    "ax[1].hist(df_train[df_train['Pclass'] == 2]['Survived'], color='b')\n",
    "ax[2].hist(df_train[df_train['Pclass'] == 3]['Survived'], color='y')"
   ]
  },
  {
   "cell_type": "code",
   "execution_count": 9,
   "id": "578b5b46",
   "metadata": {
    "execution": {
     "iopub.execute_input": "2023-08-17T08:57:34.547949Z",
     "iopub.status.busy": "2023-08-17T08:57:34.546795Z",
     "iopub.status.idle": "2023-08-17T08:57:34.558022Z",
     "shell.execute_reply": "2023-08-17T08:57:34.556959Z"
    },
    "papermill": {
     "duration": 0.032793,
     "end_time": "2023-08-17T08:57:34.560558",
     "exception": false,
     "start_time": "2023-08-17T08:57:34.527765",
     "status": "completed"
    },
    "tags": []
   },
   "outputs": [],
   "source": [
    "female_rate = (df_train[df_train['Sex']=='female']['Survived'].sum()/len(df_train[df_train['Sex']=='female']))\n",
    "male_rate = (df_train[df_train['Sex']=='male']['Survived'].sum()/len(df_train[df_train['Sex']=='female']))"
   ]
  },
  {
   "cell_type": "code",
   "execution_count": 10,
   "id": "cb49e0b8",
   "metadata": {
    "execution": {
     "iopub.execute_input": "2023-08-17T08:57:34.597722Z",
     "iopub.status.busy": "2023-08-17T08:57:34.597325Z",
     "iopub.status.idle": "2023-08-17T08:57:34.601667Z",
     "shell.execute_reply": "2023-08-17T08:57:34.600622Z"
    },
    "papermill": {
     "duration": 0.025136,
     "end_time": "2023-08-17T08:57:34.603700",
     "exception": false,
     "start_time": "2023-08-17T08:57:34.578564",
     "status": "completed"
    },
    "tags": []
   },
   "outputs": [],
   "source": [
    "# plt.hist(, color='r', stacked=True, align='mid')"
   ]
  },
  {
   "cell_type": "code",
   "execution_count": 11,
   "id": "c3d090a4",
   "metadata": {
    "execution": {
     "iopub.execute_input": "2023-08-17T08:57:34.641359Z",
     "iopub.status.busy": "2023-08-17T08:57:34.640592Z",
     "iopub.status.idle": "2023-08-17T08:57:34.678792Z",
     "shell.execute_reply": "2023-08-17T08:57:34.677660Z"
    },
    "papermill": {
     "duration": 0.059949,
     "end_time": "2023-08-17T08:57:34.681340",
     "exception": false,
     "start_time": "2023-08-17T08:57:34.621391",
     "status": "completed"
    },
    "tags": []
   },
   "outputs": [
    {
     "data": {
      "text/html": [
       "<div>\n",
       "<style scoped>\n",
       "    .dataframe tbody tr th:only-of-type {\n",
       "        vertical-align: middle;\n",
       "    }\n",
       "\n",
       "    .dataframe tbody tr th {\n",
       "        vertical-align: top;\n",
       "    }\n",
       "\n",
       "    .dataframe thead th {\n",
       "        text-align: right;\n",
       "    }\n",
       "</style>\n",
       "<table border=\"1\" class=\"dataframe\">\n",
       "  <thead>\n",
       "    <tr style=\"text-align: right;\">\n",
       "      <th></th>\n",
       "      <th>PassengerId</th>\n",
       "      <th>Survived</th>\n",
       "      <th>Pclass</th>\n",
       "      <th>Age</th>\n",
       "      <th>SibSp</th>\n",
       "      <th>Parch</th>\n",
       "      <th>Fare</th>\n",
       "    </tr>\n",
       "  </thead>\n",
       "  <tbody>\n",
       "    <tr>\n",
       "      <th>count</th>\n",
       "      <td>891.000000</td>\n",
       "      <td>891.000000</td>\n",
       "      <td>891.000000</td>\n",
       "      <td>714.000000</td>\n",
       "      <td>891.000000</td>\n",
       "      <td>891.000000</td>\n",
       "      <td>891.000000</td>\n",
       "    </tr>\n",
       "    <tr>\n",
       "      <th>mean</th>\n",
       "      <td>446.000000</td>\n",
       "      <td>0.383838</td>\n",
       "      <td>2.308642</td>\n",
       "      <td>29.699118</td>\n",
       "      <td>0.523008</td>\n",
       "      <td>0.381594</td>\n",
       "      <td>32.204208</td>\n",
       "    </tr>\n",
       "    <tr>\n",
       "      <th>std</th>\n",
       "      <td>257.353842</td>\n",
       "      <td>0.486592</td>\n",
       "      <td>0.836071</td>\n",
       "      <td>14.526497</td>\n",
       "      <td>1.102743</td>\n",
       "      <td>0.806057</td>\n",
       "      <td>49.693429</td>\n",
       "    </tr>\n",
       "    <tr>\n",
       "      <th>min</th>\n",
       "      <td>1.000000</td>\n",
       "      <td>0.000000</td>\n",
       "      <td>1.000000</td>\n",
       "      <td>0.420000</td>\n",
       "      <td>0.000000</td>\n",
       "      <td>0.000000</td>\n",
       "      <td>0.000000</td>\n",
       "    </tr>\n",
       "    <tr>\n",
       "      <th>25%</th>\n",
       "      <td>223.500000</td>\n",
       "      <td>0.000000</td>\n",
       "      <td>2.000000</td>\n",
       "      <td>20.125000</td>\n",
       "      <td>0.000000</td>\n",
       "      <td>0.000000</td>\n",
       "      <td>7.910400</td>\n",
       "    </tr>\n",
       "    <tr>\n",
       "      <th>50%</th>\n",
       "      <td>446.000000</td>\n",
       "      <td>0.000000</td>\n",
       "      <td>3.000000</td>\n",
       "      <td>28.000000</td>\n",
       "      <td>0.000000</td>\n",
       "      <td>0.000000</td>\n",
       "      <td>14.454200</td>\n",
       "    </tr>\n",
       "    <tr>\n",
       "      <th>75%</th>\n",
       "      <td>668.500000</td>\n",
       "      <td>1.000000</td>\n",
       "      <td>3.000000</td>\n",
       "      <td>38.000000</td>\n",
       "      <td>1.000000</td>\n",
       "      <td>0.000000</td>\n",
       "      <td>31.000000</td>\n",
       "    </tr>\n",
       "    <tr>\n",
       "      <th>max</th>\n",
       "      <td>891.000000</td>\n",
       "      <td>1.000000</td>\n",
       "      <td>3.000000</td>\n",
       "      <td>80.000000</td>\n",
       "      <td>8.000000</td>\n",
       "      <td>6.000000</td>\n",
       "      <td>512.329200</td>\n",
       "    </tr>\n",
       "  </tbody>\n",
       "</table>\n",
       "</div>"
      ],
      "text/plain": [
       "       PassengerId    Survived      Pclass         Age       SibSp  \\\n",
       "count   891.000000  891.000000  891.000000  714.000000  891.000000   \n",
       "mean    446.000000    0.383838    2.308642   29.699118    0.523008   \n",
       "std     257.353842    0.486592    0.836071   14.526497    1.102743   \n",
       "min       1.000000    0.000000    1.000000    0.420000    0.000000   \n",
       "25%     223.500000    0.000000    2.000000   20.125000    0.000000   \n",
       "50%     446.000000    0.000000    3.000000   28.000000    0.000000   \n",
       "75%     668.500000    1.000000    3.000000   38.000000    1.000000   \n",
       "max     891.000000    1.000000    3.000000   80.000000    8.000000   \n",
       "\n",
       "            Parch        Fare  \n",
       "count  891.000000  891.000000  \n",
       "mean     0.381594   32.204208  \n",
       "std      0.806057   49.693429  \n",
       "min      0.000000    0.000000  \n",
       "25%      0.000000    7.910400  \n",
       "50%      0.000000   14.454200  \n",
       "75%      0.000000   31.000000  \n",
       "max      6.000000  512.329200  "
      ]
     },
     "execution_count": 11,
     "metadata": {},
     "output_type": "execute_result"
    }
   ],
   "source": [
    "df_train.describe()"
   ]
  },
  {
   "cell_type": "code",
   "execution_count": 12,
   "id": "18cf8a9a",
   "metadata": {
    "execution": {
     "iopub.execute_input": "2023-08-17T08:57:34.718231Z",
     "iopub.status.busy": "2023-08-17T08:57:34.717610Z",
     "iopub.status.idle": "2023-08-17T08:57:34.726579Z",
     "shell.execute_reply": "2023-08-17T08:57:34.725572Z"
    },
    "papermill": {
     "duration": 0.030109,
     "end_time": "2023-08-17T08:57:34.728743",
     "exception": false,
     "start_time": "2023-08-17T08:57:34.698634",
     "status": "completed"
    },
    "tags": []
   },
   "outputs": [
    {
     "data": {
      "text/plain": [
       "PassengerId    False\n",
       "Survived       False\n",
       "Pclass         False\n",
       "Name           False\n",
       "Sex            False\n",
       "Age             True\n",
       "SibSp          False\n",
       "Parch          False\n",
       "Ticket         False\n",
       "Fare           False\n",
       "Cabin           True\n",
       "Embarked        True\n",
       "dtype: bool"
      ]
     },
     "execution_count": 12,
     "metadata": {},
     "output_type": "execute_result"
    }
   ],
   "source": [
    "# Typical null check\n",
    "df_train.isnull().any()"
   ]
  },
  {
   "cell_type": "code",
   "execution_count": 13,
   "id": "dc2d9d56",
   "metadata": {
    "execution": {
     "iopub.execute_input": "2023-08-17T08:57:34.767384Z",
     "iopub.status.busy": "2023-08-17T08:57:34.766566Z",
     "iopub.status.idle": "2023-08-17T08:57:34.773486Z",
     "shell.execute_reply": "2023-08-17T08:57:34.772548Z"
    },
    "papermill": {
     "duration": 0.028749,
     "end_time": "2023-08-17T08:57:34.776012",
     "exception": false,
     "start_time": "2023-08-17T08:57:34.747263",
     "status": "completed"
    },
    "tags": []
   },
   "outputs": [
    {
     "data": {
      "text/plain": [
       "'S'"
      ]
     },
     "execution_count": 13,
     "metadata": {},
     "output_type": "execute_result"
    }
   ],
   "source": [
    "df_train['Embarked'].mode()[0]"
   ]
  },
  {
   "cell_type": "code",
   "execution_count": 14,
   "id": "1b5efd18",
   "metadata": {
    "execution": {
     "iopub.execute_input": "2023-08-17T08:57:34.815426Z",
     "iopub.status.busy": "2023-08-17T08:57:34.814989Z",
     "iopub.status.idle": "2023-08-17T08:57:34.821925Z",
     "shell.execute_reply": "2023-08-17T08:57:34.821146Z"
    },
    "papermill": {
     "duration": 0.030205,
     "end_time": "2023-08-17T08:57:34.824057",
     "exception": false,
     "start_time": "2023-08-17T08:57:34.793852",
     "status": "completed"
    },
    "tags": []
   },
   "outputs": [],
   "source": [
    "df_train['Embarked'] = df_train['Embarked'].fillna('S')\n",
    "df_train['Age'] = df_train['Age'].fillna(df_train['Age'].mean())\n",
    "\n",
    "# We don't use Cabin column."
   ]
  },
  {
   "cell_type": "code",
   "execution_count": 15,
   "id": "2588f782",
   "metadata": {
    "execution": {
     "iopub.execute_input": "2023-08-17T08:57:34.862580Z",
     "iopub.status.busy": "2023-08-17T08:57:34.861559Z",
     "iopub.status.idle": "2023-08-17T08:57:34.872128Z",
     "shell.execute_reply": "2023-08-17T08:57:34.870933Z"
    },
    "papermill": {
     "duration": 0.032225,
     "end_time": "2023-08-17T08:57:34.874398",
     "exception": false,
     "start_time": "2023-08-17T08:57:34.842173",
     "status": "completed"
    },
    "tags": []
   },
   "outputs": [
    {
     "data": {
      "text/plain": [
       "PassengerId    False\n",
       "Survived       False\n",
       "Pclass         False\n",
       "Name           False\n",
       "Sex            False\n",
       "Age            False\n",
       "SibSp          False\n",
       "Parch          False\n",
       "Ticket         False\n",
       "Fare           False\n",
       "Cabin           True\n",
       "Embarked       False\n",
       "dtype: bool"
      ]
     },
     "execution_count": 15,
     "metadata": {},
     "output_type": "execute_result"
    }
   ],
   "source": [
    "df_train.isnull().any()"
   ]
  },
  {
   "cell_type": "code",
   "execution_count": 16,
   "id": "75e6569a",
   "metadata": {
    "execution": {
     "iopub.execute_input": "2023-08-17T08:57:34.914461Z",
     "iopub.status.busy": "2023-08-17T08:57:34.913769Z",
     "iopub.status.idle": "2023-08-17T08:57:34.927434Z",
     "shell.execute_reply": "2023-08-17T08:57:34.925950Z"
    },
    "papermill": {
     "duration": 0.038155,
     "end_time": "2023-08-17T08:57:34.931977",
     "exception": false,
     "start_time": "2023-08-17T08:57:34.893822",
     "status": "completed"
    },
    "tags": []
   },
   "outputs": [],
   "source": [
    "df_test['Embarked'] = df_test['Embarked'].fillna(df_test['Embarked'].mode())\n",
    "df_test['Age'] = df_test['Age'].fillna(df_test['Age'].mean())\n",
    "df_test['Fare'] = df_test['Fare'].fillna(df_test['Fare'].mean())\n",
    "\n",
    "# We don't use Cabin column."
   ]
  },
  {
   "cell_type": "code",
   "execution_count": 17,
   "id": "ad0d08ee",
   "metadata": {
    "execution": {
     "iopub.execute_input": "2023-08-17T08:57:34.977966Z",
     "iopub.status.busy": "2023-08-17T08:57:34.976622Z",
     "iopub.status.idle": "2023-08-17T08:57:35.001094Z",
     "shell.execute_reply": "2023-08-17T08:57:34.993463Z"
    },
    "papermill": {
     "duration": 0.051873,
     "end_time": "2023-08-17T08:57:35.003780",
     "exception": false,
     "start_time": "2023-08-17T08:57:34.951907",
     "status": "completed"
    },
    "tags": []
   },
   "outputs": [
    {
     "data": {
      "text/plain": [
       "PassengerId    False\n",
       "Pclass         False\n",
       "Name           False\n",
       "Sex            False\n",
       "Age            False\n",
       "SibSp          False\n",
       "Parch          False\n",
       "Ticket         False\n",
       "Fare           False\n",
       "Cabin           True\n",
       "Embarked       False\n",
       "dtype: bool"
      ]
     },
     "execution_count": 17,
     "metadata": {},
     "output_type": "execute_result"
    }
   ],
   "source": [
    "df_test.isnull().any()"
   ]
  },
  {
   "cell_type": "code",
   "execution_count": 18,
   "id": "086984a8",
   "metadata": {
    "execution": {
     "iopub.execute_input": "2023-08-17T08:57:35.044621Z",
     "iopub.status.busy": "2023-08-17T08:57:35.043446Z",
     "iopub.status.idle": "2023-08-17T08:57:35.055770Z",
     "shell.execute_reply": "2023-08-17T08:57:35.054173Z"
    },
    "papermill": {
     "duration": 0.036835,
     "end_time": "2023-08-17T08:57:35.058532",
     "exception": false,
     "start_time": "2023-08-17T08:57:35.021697",
     "status": "completed"
    },
    "tags": []
   },
   "outputs": [
    {
     "name": "stdout",
     "output_type": "stream",
     "text": [
      "48.39540760233918\n",
      "22.117886885245902\n"
     ]
    }
   ],
   "source": [
    "survived_avg_fare = df_train[df_train['Survived']==1]['Fare'].mean()\n",
    "not_survived_avg_fare = df_train[df_train['Survived']==0]['Fare'].mean()\n",
    "print(survived_avg_fare)\n",
    "print(not_survived_avg_fare)"
   ]
  },
  {
   "cell_type": "code",
   "execution_count": 19,
   "id": "32ddcddd",
   "metadata": {
    "execution": {
     "iopub.execute_input": "2023-08-17T08:57:35.099499Z",
     "iopub.status.busy": "2023-08-17T08:57:35.098959Z",
     "iopub.status.idle": "2023-08-17T08:57:35.330011Z",
     "shell.execute_reply": "2023-08-17T08:57:35.325488Z"
    },
    "papermill": {
     "duration": 0.254473,
     "end_time": "2023-08-17T08:57:35.332974",
     "exception": false,
     "start_time": "2023-08-17T08:57:35.078501",
     "status": "completed"
    },
    "tags": []
   },
   "outputs": [
    {
     "data": {
      "text/plain": [
       "([<matplotlib.axis.YTick at 0x7f202add8640>,\n",
       "  <matplotlib.axis.YTick at 0x7f202addb0a0>],\n",
       " [Text(0, 0.0, '0'), Text(0, 1.0, '1')])"
      ]
     },
     "execution_count": 19,
     "metadata": {},
     "output_type": "execute_result"
    },
    {
     "data": {
      "image/png": "[encoded data removed]",
      "text/plain": [
       "<Figure size 1100x100 with 1 Axes>"
      ]
     },
     "metadata": {},
     "output_type": "display_data"
    }
   ],
   "source": [
    "from matplotlib.pyplot import figure\n",
    "figure(figsize=(11, 1))\n",
    "plt.scatter(df_train['Fare'], df_train['Survived'], s=0.9, alpha=0.9)\n",
    "plt.ylim(top=1.1)\n",
    "plt.yticks(np.arange(0, 1.1, step=1))\n",
    "\n",
    "# OK maybe scatter is not the best way to show the data. Let's try hist."
   ]
  },
  {
   "cell_type": "code",
   "execution_count": 20,
   "id": "36c94053",
   "metadata": {
    "execution": {
     "iopub.execute_input": "2023-08-17T08:57:35.372529Z",
     "iopub.status.busy": "2023-08-17T08:57:35.371600Z",
     "iopub.status.idle": "2023-08-17T08:57:35.604936Z",
     "shell.execute_reply": "2023-08-17T08:57:35.603528Z"
    },
    "papermill": {
     "duration": 0.257769,
     "end_time": "2023-08-17T08:57:35.609156",
     "exception": false,
     "start_time": "2023-08-17T08:57:35.351387",
     "status": "completed"
    },
    "tags": []
   },
   "outputs": [
    {
     "data": {
      "text/plain": [
       "([<matplotlib.axis.YTick at 0x7f202b30a980>,\n",
       "  <matplotlib.axis.YTick at 0x7f202b21eb00>,\n",
       "  <matplotlib.axis.YTick at 0x7f202b21f940>,\n",
       "  <matplotlib.axis.YTick at 0x7f202adea2c0>,\n",
       "  <matplotlib.axis.YTick at 0x7f202b1f5660>,\n",
       "  <matplotlib.axis.YTick at 0x7f202b1f6bc0>,\n",
       "  <matplotlib.axis.YTick at 0x7f202af030d0>,\n",
       "  <matplotlib.axis.YTick at 0x7f202af02770>,\n",
       "  <matplotlib.axis.YTick at 0x7f202b1f4df0>,\n",
       "  <matplotlib.axis.YTick at 0x7f202af01570>,\n",
       "  <matplotlib.axis.YTick at 0x7f202af01030>,\n",
       "  <matplotlib.axis.YTick at 0x7f202b4c2f20>,\n",
       "  <matplotlib.axis.YTick at 0x7f202b4aebf0>],\n",
       " [Text(0, 0, '0'),\n",
       "  Text(0, 50, '50'),\n",
       "  Text(0, 100, '100'),\n",
       "  Text(0, 150, '150'),\n",
       "  Text(0, 200, '200'),\n",
       "  Text(0, 250, '250'),\n",
       "  Text(0, 300, '300'),\n",
       "  Text(0, 350, '350'),\n",
       "  Text(0, 400, '400'),\n",
       "  Text(0, 450, '450'),\n",
       "  Text(0, 500, '500'),\n",
       "  Text(0, 550, '550'),\n",
       "  Text(0, 600, '600')])"
      ]
     },
     "execution_count": 20,
     "metadata": {},
     "output_type": "execute_result"
    },
    {
     "data": {
      "image/png": "[encoded data removed]",
      "text/plain": [
       "<Figure size 640x480 with 1 Axes>"
      ]
     },
     "metadata": {},
     "output_type": "display_data"
    }
   ],
   "source": [
    "# figure(figsize=(1, 4))\n",
    "plt.hist(df_train['Survived'], bins=2, range=(0, 1,))\n",
    "plt.xticks(np.arange(0, 1.1, step=1))\n",
    "plt.yticks(np.arange(0, 610, step=50))"
   ]
  },
  {
   "cell_type": "code",
   "execution_count": 21,
   "id": "d21294d3",
   "metadata": {
    "execution": {
     "iopub.execute_input": "2023-08-17T08:57:35.660758Z",
     "iopub.status.busy": "2023-08-17T08:57:35.660384Z",
     "iopub.status.idle": "2023-08-17T08:57:35.953758Z",
     "shell.execute_reply": "2023-08-17T08:57:35.952601Z"
    },
    "papermill": {
     "duration": 0.315902,
     "end_time": "2023-08-17T08:57:35.956231",
     "exception": false,
     "start_time": "2023-08-17T08:57:35.640329",
     "status": "completed"
    },
    "tags": []
   },
   "outputs": [
    {
     "data": {
      "text/plain": [
       "(array([732., 106.,  31.,   2.,  11.,   6.,   0.,   0.,   0.,   3.]),\n",
       " array([  0.     ,  51.23292, 102.46584, 153.69876, 204.93168, 256.1646 ,\n",
       "        307.39752, 358.63044, 409.86336, 461.09628, 512.3292 ]),\n",
       " <BarContainer object of 10 artists>)"
      ]
     },
     "execution_count": 21,
     "metadata": {},
     "output_type": "execute_result"
    },
    {
     "data": {
      "image/png": "[encoded data removed]",
      "text/plain": [
       "<Figure size 640x480 with 1 Axes>"
      ]
     },
     "metadata": {},
     "output_type": "display_data"
    }
   ],
   "source": [
    "plt.hist(df_train['Fare'])"
   ]
  },
  {
   "cell_type": "code",
   "execution_count": 22,
   "id": "a53d2bce",
   "metadata": {
    "execution": {
     "iopub.execute_input": "2023-08-17T08:57:35.997031Z",
     "iopub.status.busy": "2023-08-17T08:57:35.996223Z",
     "iopub.status.idle": "2023-08-17T08:57:36.001561Z",
     "shell.execute_reply": "2023-08-17T08:57:36.000341Z"
    },
    "papermill": {
     "duration": 0.028131,
     "end_time": "2023-08-17T08:57:36.003761",
     "exception": false,
     "start_time": "2023-08-17T08:57:35.975630",
     "status": "completed"
    },
    "tags": []
   },
   "outputs": [],
   "source": [
    "# >>> from sklearn import preprocessing\n",
    "# >>> le = preprocessing.LabelEncoder()\n",
    "# >>> le.fit([1, 2, 2, 6])\n",
    "# LabelEncoder()\n",
    "# >>> le.classes_\n",
    "# array([1, 2, 6])\n",
    "# >>> le.transform([1, 1, 2, 6])\n",
    "# array([0, 0, 1, 2]...)\n",
    "# >>> le.inverse_transform([0, 0, 1, 2])\n",
    "# array([1, 1, 2, 6])"
   ]
  },
  {
   "cell_type": "code",
   "execution_count": 23,
   "id": "4e7ede1b",
   "metadata": {
    "execution": {
     "iopub.execute_input": "2023-08-17T08:57:36.044369Z",
     "iopub.status.busy": "2023-08-17T08:57:36.043962Z",
     "iopub.status.idle": "2023-08-17T08:57:37.321313Z",
     "shell.execute_reply": "2023-08-17T08:57:37.320225Z"
    },
    "papermill": {
     "duration": 1.300937,
     "end_time": "2023-08-17T08:57:37.323950",
     "exception": false,
     "start_time": "2023-08-17T08:57:36.023013",
     "status": "completed"
    },
    "tags": []
   },
   "outputs": [],
   "source": [
    "from sklearn import preprocessing\n",
    "le = preprocessing.LabelEncoder()\n",
    "z = le.fit_transform(df_train['Sex'])\n",
    "df_train['SexCat'] = z"
   ]
  },
  {
   "cell_type": "code",
   "execution_count": 24,
   "id": "b98b2322",
   "metadata": {
    "execution": {
     "iopub.execute_input": "2023-08-17T08:57:37.365011Z",
     "iopub.status.busy": "2023-08-17T08:57:37.364411Z",
     "iopub.status.idle": "2023-08-17T08:57:37.371056Z",
     "shell.execute_reply": "2023-08-17T08:57:37.370246Z"
    },
    "papermill": {
     "duration": 0.029552,
     "end_time": "2023-08-17T08:57:37.373170",
     "exception": false,
     "start_time": "2023-08-17T08:57:37.343618",
     "status": "completed"
    },
    "tags": []
   },
   "outputs": [],
   "source": [
    "test_le = preprocessing.LabelEncoder()\n",
    "zz = test_le.fit_transform(df_test['Sex'])\n",
    "df_test['SexCat'] = zz"
   ]
  },
  {
   "cell_type": "code",
   "execution_count": 25,
   "id": "02a3fa95",
   "metadata": {
    "execution": {
     "iopub.execute_input": "2023-08-17T08:57:37.413387Z",
     "iopub.status.busy": "2023-08-17T08:57:37.412743Z",
     "iopub.status.idle": "2023-08-17T08:57:37.420300Z",
     "shell.execute_reply": "2023-08-17T08:57:37.419494Z"
    },
    "papermill": {
     "duration": 0.030325,
     "end_time": "2023-08-17T08:57:37.422586",
     "exception": false,
     "start_time": "2023-08-17T08:57:37.392261",
     "status": "completed"
    },
    "tags": []
   },
   "outputs": [],
   "source": [
    "em_le = preprocessing.LabelEncoder()\n",
    "em_cat = em_le.fit_transform(df_train['Embarked'])\n",
    "df_train['EmCat'] = em_cat\n",
    "\n",
    "em_test_le = preprocessing.LabelEncoder()\n",
    "em_cat = em_test_le.fit_transform(df_test['Embarked'])\n",
    "df_test['EmCat'] = em_cat"
   ]
  },
  {
   "cell_type": "code",
   "execution_count": 26,
   "id": "4b2a8997",
   "metadata": {
    "execution": {
     "iopub.execute_input": "2023-08-17T08:57:37.462218Z",
     "iopub.status.busy": "2023-08-17T08:57:37.461612Z",
     "iopub.status.idle": "2023-08-17T08:57:37.490019Z",
     "shell.execute_reply": "2023-08-17T08:57:37.488509Z"
    },
    "papermill": {
     "duration": 0.051148,
     "end_time": "2023-08-17T08:57:37.492541",
     "exception": false,
     "start_time": "2023-08-17T08:57:37.441393",
     "status": "completed"
    },
    "tags": []
   },
   "outputs": [
    {
     "name": "stderr",
     "output_type": "stream",
     "text": [
      "/tmp/ipykernel_20/185210738.py:6: FutureWarning: The default value of numeric_only in DataFrameGroupBy.sum is deprecated. In a future version, numeric_only will default to False. Either specify numeric_only or select only columns which should be valid for the function.\n",
      "  df_train.groupby(['Cabin']).sum().sort_values(by=['Survived'], ascending=False)\n"
     ]
    },
    {
     "data": {
      "text/html": [
       "<div>\n",
       "<style scoped>\n",
       "    .dataframe tbody tr th:only-of-type {\n",
       "        vertical-align: middle;\n",
       "    }\n",
       "\n",
       "    .dataframe tbody tr th {\n",
       "        vertical-align: top;\n",
       "    }\n",
       "\n",
       "    .dataframe thead th {\n",
       "        text-align: right;\n",
       "    }\n",
       "</style>\n",
       "<table border=\"1\" class=\"dataframe\">\n",
       "  <thead>\n",
       "    <tr style=\"text-align: right;\">\n",
       "      <th></th>\n",
       "      <th>PassengerId</th>\n",
       "      <th>Survived</th>\n",
       "      <th>Pclass</th>\n",
       "      <th>Age</th>\n",
       "      <th>SibSp</th>\n",
       "      <th>Parch</th>\n",
       "      <th>Fare</th>\n",
       "      <th>SexCat</th>\n",
       "      <th>EmCat</th>\n",
       "    </tr>\n",
       "    <tr>\n",
       "      <th>Cabin</th>\n",
       "      <th></th>\n",
       "      <th></th>\n",
       "      <th></th>\n",
       "      <th></th>\n",
       "      <th></th>\n",
       "      <th></th>\n",
       "      <th></th>\n",
       "      <th></th>\n",
       "      <th></th>\n",
       "    </tr>\n",
       "  </thead>\n",
       "  <tbody>\n",
       "    <tr>\n",
       "      <th>B96 B98</th>\n",
       "      <td>2394</td>\n",
       "      <td>4</td>\n",
       "      <td>4</td>\n",
       "      <td>97.000000</td>\n",
       "      <td>4</td>\n",
       "      <td>8</td>\n",
       "      <td>480.00</td>\n",
       "      <td>2</td>\n",
       "      <td>8</td>\n",
       "    </tr>\n",
       "    <tr>\n",
       "      <th>E101</th>\n",
       "      <td>1146</td>\n",
       "      <td>3</td>\n",
       "      <td>6</td>\n",
       "      <td>89.199118</td>\n",
       "      <td>0</td>\n",
       "      <td>0</td>\n",
       "      <td>35.85</td>\n",
       "      <td>0</td>\n",
       "      <td>5</td>\n",
       "    </tr>\n",
       "    <tr>\n",
       "      <th>F33</th>\n",
       "      <td>930</td>\n",
       "      <td>3</td>\n",
       "      <td>6</td>\n",
       "      <td>87.000000</td>\n",
       "      <td>0</td>\n",
       "      <td>0</td>\n",
       "      <td>34.00</td>\n",
       "      <td>0</td>\n",
       "      <td>6</td>\n",
       "    </tr>\n",
       "    <tr>\n",
       "      <th>C23 C25 C27</th>\n",
       "      <td>898</td>\n",
       "      <td>2</td>\n",
       "      <td>4</td>\n",
       "      <td>130.000000</td>\n",
       "      <td>10</td>\n",
       "      <td>10</td>\n",
       "      <td>1052.00</td>\n",
       "      <td>2</td>\n",
       "      <td>8</td>\n",
       "    </tr>\n",
       "    <tr>\n",
       "      <th>C52</th>\n",
       "      <td>487</td>\n",
       "      <td>2</td>\n",
       "      <td>2</td>\n",
       "      <td>57.699118</td>\n",
       "      <td>0</td>\n",
       "      <td>0</td>\n",
       "      <td>62.05</td>\n",
       "      <td>2</td>\n",
       "      <td>4</td>\n",
       "    </tr>\n",
       "    <tr>\n",
       "      <th>...</th>\n",
       "      <td>...</td>\n",
       "      <td>...</td>\n",
       "      <td>...</td>\n",
       "      <td>...</td>\n",
       "      <td>...</td>\n",
       "      <td>...</td>\n",
       "      <td>...</td>\n",
       "      <td>...</td>\n",
       "      <td>...</td>\n",
       "    </tr>\n",
       "    <tr>\n",
       "      <th>C46</th>\n",
       "      <td>742</td>\n",
       "      <td>0</td>\n",
       "      <td>1</td>\n",
       "      <td>36.000000</td>\n",
       "      <td>1</td>\n",
       "      <td>0</td>\n",
       "      <td>78.85</td>\n",
       "      <td>1</td>\n",
       "      <td>2</td>\n",
       "    </tr>\n",
       "    <tr>\n",
       "      <th>C30</th>\n",
       "      <td>493</td>\n",
       "      <td>0</td>\n",
       "      <td>1</td>\n",
       "      <td>55.000000</td>\n",
       "      <td>0</td>\n",
       "      <td>0</td>\n",
       "      <td>30.50</td>\n",
       "      <td>1</td>\n",
       "      <td>2</td>\n",
       "    </tr>\n",
       "    <tr>\n",
       "      <th>C128</th>\n",
       "      <td>352</td>\n",
       "      <td>0</td>\n",
       "      <td>1</td>\n",
       "      <td>29.699118</td>\n",
       "      <td>0</td>\n",
       "      <td>0</td>\n",
       "      <td>35.00</td>\n",
       "      <td>1</td>\n",
       "      <td>2</td>\n",
       "    </tr>\n",
       "    <tr>\n",
       "      <th>C124</th>\n",
       "      <td>1044</td>\n",
       "      <td>0</td>\n",
       "      <td>2</td>\n",
       "      <td>75.199118</td>\n",
       "      <td>0</td>\n",
       "      <td>0</td>\n",
       "      <td>55.05</td>\n",
       "      <td>2</td>\n",
       "      <td>4</td>\n",
       "    </tr>\n",
       "    <tr>\n",
       "      <th>T</th>\n",
       "      <td>340</td>\n",
       "      <td>0</td>\n",
       "      <td>1</td>\n",
       "      <td>45.000000</td>\n",
       "      <td>0</td>\n",
       "      <td>0</td>\n",
       "      <td>35.50</td>\n",
       "      <td>1</td>\n",
       "      <td>2</td>\n",
       "    </tr>\n",
       "  </tbody>\n",
       "</table>\n",
       "<p>147 rows × 9 columns</p>\n",
       "</div>"
      ],
      "text/plain": [
       "             PassengerId  Survived  Pclass         Age  SibSp  Parch     Fare  \\\n",
       "Cabin                                                                           \n",
       "B96 B98             2394         4       4   97.000000      4      8   480.00   \n",
       "E101                1146         3       6   89.199118      0      0    35.85   \n",
       "F33                  930         3       6   87.000000      0      0    34.00   \n",
       "C23 C25 C27          898         2       4  130.000000     10     10  1052.00   \n",
       "C52                  487         2       2   57.699118      0      0    62.05   \n",
       "...                  ...       ...     ...         ...    ...    ...      ...   \n",
       "C46                  742         0       1   36.000000      1      0    78.85   \n",
       "C30                  493         0       1   55.000000      0      0    30.50   \n",
       "C128                 352         0       1   29.699118      0      0    35.00   \n",
       "C124                1044         0       2   75.199118      0      0    55.05   \n",
       "T                    340         0       1   45.000000      0      0    35.50   \n",
       "\n",
       "             SexCat  EmCat  \n",
       "Cabin                       \n",
       "B96 B98           2      8  \n",
       "E101              0      5  \n",
       "F33               0      6  \n",
       "C23 C25 C27       2      8  \n",
       "C52               2      4  \n",
       "...             ...    ...  \n",
       "C46               1      2  \n",
       "C30               1      2  \n",
       "C128              1      2  \n",
       "C124              2      4  \n",
       "T                 1      2  \n",
       "\n",
       "[147 rows x 9 columns]"
      ]
     },
     "execution_count": 26,
     "metadata": {},
     "output_type": "execute_result"
    }
   ],
   "source": [
    "# Checking the relationship between cabin and survived? Maybe class is enough.\n",
    "\n",
    "df_train['Cabin'].value_counts()\n",
    "cabin_values = df_train['Cabin'].dropna().values\n",
    "cab_sorted = sorted(cabin_values.astype(str))\n",
    "df_train.groupby(['Cabin']).sum().sort_values(by=['Survived'], ascending=False)\n",
    "\n",
    "# There can be relationship between the first letter of Cabin with survived\n",
    "# TODO check this."
   ]
  },
  {
   "cell_type": "code",
   "execution_count": 27,
   "id": "21f92f23",
   "metadata": {
    "execution": {
     "iopub.execute_input": "2023-08-17T08:57:37.533571Z",
     "iopub.status.busy": "2023-08-17T08:57:37.532663Z",
     "iopub.status.idle": "2023-08-17T08:57:37.555443Z",
     "shell.execute_reply": "2023-08-17T08:57:37.554188Z"
    },
    "papermill": {
     "duration": 0.045725,
     "end_time": "2023-08-17T08:57:37.557767",
     "exception": false,
     "start_time": "2023-08-17T08:57:37.512042",
     "status": "completed"
    },
    "tags": []
   },
   "outputs": [
    {
     "data": {
      "text/html": [
       "<div>\n",
       "<style scoped>\n",
       "    .dataframe tbody tr th:only-of-type {\n",
       "        vertical-align: middle;\n",
       "    }\n",
       "\n",
       "    .dataframe tbody tr th {\n",
       "        vertical-align: top;\n",
       "    }\n",
       "\n",
       "    .dataframe thead th {\n",
       "        text-align: right;\n",
       "    }\n",
       "</style>\n",
       "<table border=\"1\" class=\"dataframe\">\n",
       "  <thead>\n",
       "    <tr style=\"text-align: right;\">\n",
       "      <th></th>\n",
       "      <th>PassengerId</th>\n",
       "      <th>Survived</th>\n",
       "      <th>Pclass</th>\n",
       "      <th>Name</th>\n",
       "      <th>Sex</th>\n",
       "      <th>Age</th>\n",
       "      <th>SibSp</th>\n",
       "      <th>Parch</th>\n",
       "      <th>Ticket</th>\n",
       "      <th>Fare</th>\n",
       "      <th>Cabin</th>\n",
       "      <th>Embarked</th>\n",
       "      <th>SexCat</th>\n",
       "      <th>EmCat</th>\n",
       "    </tr>\n",
       "  </thead>\n",
       "  <tbody>\n",
       "    <tr>\n",
       "      <th>0</th>\n",
       "      <td>1</td>\n",
       "      <td>0</td>\n",
       "      <td>3</td>\n",
       "      <td>Braund, Mr. Owen Harris</td>\n",
       "      <td>male</td>\n",
       "      <td>22.000000</td>\n",
       "      <td>1</td>\n",
       "      <td>0</td>\n",
       "      <td>A/5 21171</td>\n",
       "      <td>7.2500</td>\n",
       "      <td>NaN</td>\n",
       "      <td>S</td>\n",
       "      <td>1</td>\n",
       "      <td>2</td>\n",
       "    </tr>\n",
       "    <tr>\n",
       "      <th>1</th>\n",
       "      <td>2</td>\n",
       "      <td>1</td>\n",
       "      <td>1</td>\n",
       "      <td>Cumings, Mrs. John Bradley (Florence Briggs Th...</td>\n",
       "      <td>female</td>\n",
       "      <td>38.000000</td>\n",
       "      <td>1</td>\n",
       "      <td>0</td>\n",
       "      <td>PC 17599</td>\n",
       "      <td>71.2833</td>\n",
       "      <td>C85</td>\n",
       "      <td>C</td>\n",
       "      <td>0</td>\n",
       "      <td>0</td>\n",
       "    </tr>\n",
       "    <tr>\n",
       "      <th>2</th>\n",
       "      <td>3</td>\n",
       "      <td>1</td>\n",
       "      <td>3</td>\n",
       "      <td>Heikkinen, Miss. Laina</td>\n",
       "      <td>female</td>\n",
       "      <td>26.000000</td>\n",
       "      <td>0</td>\n",
       "      <td>0</td>\n",
       "      <td>STON/O2. 3101282</td>\n",
       "      <td>7.9250</td>\n",
       "      <td>NaN</td>\n",
       "      <td>S</td>\n",
       "      <td>0</td>\n",
       "      <td>2</td>\n",
       "    </tr>\n",
       "    <tr>\n",
       "      <th>3</th>\n",
       "      <td>4</td>\n",
       "      <td>1</td>\n",
       "      <td>1</td>\n",
       "      <td>Futrelle, Mrs. Jacques Heath (Lily May Peel)</td>\n",
       "      <td>female</td>\n",
       "      <td>35.000000</td>\n",
       "      <td>1</td>\n",
       "      <td>0</td>\n",
       "      <td>113803</td>\n",
       "      <td>53.1000</td>\n",
       "      <td>C123</td>\n",
       "      <td>S</td>\n",
       "      <td>0</td>\n",
       "      <td>2</td>\n",
       "    </tr>\n",
       "    <tr>\n",
       "      <th>4</th>\n",
       "      <td>5</td>\n",
       "      <td>0</td>\n",
       "      <td>3</td>\n",
       "      <td>Allen, Mr. William Henry</td>\n",
       "      <td>male</td>\n",
       "      <td>35.000000</td>\n",
       "      <td>0</td>\n",
       "      <td>0</td>\n",
       "      <td>373450</td>\n",
       "      <td>8.0500</td>\n",
       "      <td>NaN</td>\n",
       "      <td>S</td>\n",
       "      <td>1</td>\n",
       "      <td>2</td>\n",
       "    </tr>\n",
       "    <tr>\n",
       "      <th>...</th>\n",
       "      <td>...</td>\n",
       "      <td>...</td>\n",
       "      <td>...</td>\n",
       "      <td>...</td>\n",
       "      <td>...</td>\n",
       "      <td>...</td>\n",
       "      <td>...</td>\n",
       "      <td>...</td>\n",
       "      <td>...</td>\n",
       "      <td>...</td>\n",
       "      <td>...</td>\n",
       "      <td>...</td>\n",
       "      <td>...</td>\n",
       "      <td>...</td>\n",
       "    </tr>\n",
       "    <tr>\n",
       "      <th>886</th>\n",
       "      <td>887</td>\n",
       "      <td>0</td>\n",
       "      <td>2</td>\n",
       "      <td>Montvila, Rev. Juozas</td>\n",
       "      <td>male</td>\n",
       "      <td>27.000000</td>\n",
       "      <td>0</td>\n",
       "      <td>0</td>\n",
       "      <td>211536</td>\n",
       "      <td>13.0000</td>\n",
       "      <td>NaN</td>\n",
       "      <td>S</td>\n",
       "      <td>1</td>\n",
       "      <td>2</td>\n",
       "    </tr>\n",
       "    <tr>\n",
       "      <th>887</th>\n",
       "      <td>888</td>\n",
       "      <td>1</td>\n",
       "      <td>1</td>\n",
       "      <td>Graham, Miss. Margaret Edith</td>\n",
       "      <td>female</td>\n",
       "      <td>19.000000</td>\n",
       "      <td>0</td>\n",
       "      <td>0</td>\n",
       "      <td>112053</td>\n",
       "      <td>30.0000</td>\n",
       "      <td>B42</td>\n",
       "      <td>S</td>\n",
       "      <td>0</td>\n",
       "      <td>2</td>\n",
       "    </tr>\n",
       "    <tr>\n",
       "      <th>888</th>\n",
       "      <td>889</td>\n",
       "      <td>0</td>\n",
       "      <td>3</td>\n",
       "      <td>Johnston, Miss. Catherine Helen \"Carrie\"</td>\n",
       "      <td>female</td>\n",
       "      <td>29.699118</td>\n",
       "      <td>1</td>\n",
       "      <td>2</td>\n",
       "      <td>W./C. 6607</td>\n",
       "      <td>23.4500</td>\n",
       "      <td>NaN</td>\n",
       "      <td>S</td>\n",
       "      <td>0</td>\n",
       "      <td>2</td>\n",
       "    </tr>\n",
       "    <tr>\n",
       "      <th>889</th>\n",
       "      <td>890</td>\n",
       "      <td>1</td>\n",
       "      <td>1</td>\n",
       "      <td>Behr, Mr. Karl Howell</td>\n",
       "      <td>male</td>\n",
       "      <td>26.000000</td>\n",
       "      <td>0</td>\n",
       "      <td>0</td>\n",
       "      <td>111369</td>\n",
       "      <td>30.0000</td>\n",
       "      <td>C148</td>\n",
       "      <td>C</td>\n",
       "      <td>1</td>\n",
       "      <td>0</td>\n",
       "    </tr>\n",
       "    <tr>\n",
       "      <th>890</th>\n",
       "      <td>891</td>\n",
       "      <td>0</td>\n",
       "      <td>3</td>\n",
       "      <td>Dooley, Mr. Patrick</td>\n",
       "      <td>male</td>\n",
       "      <td>32.000000</td>\n",
       "      <td>0</td>\n",
       "      <td>0</td>\n",
       "      <td>370376</td>\n",
       "      <td>7.7500</td>\n",
       "      <td>NaN</td>\n",
       "      <td>Q</td>\n",
       "      <td>1</td>\n",
       "      <td>1</td>\n",
       "    </tr>\n",
       "  </tbody>\n",
       "</table>\n",
       "<p>891 rows × 14 columns</p>\n",
       "</div>"
      ],
      "text/plain": [
       "     PassengerId  Survived  Pclass  \\\n",
       "0              1         0       3   \n",
       "1              2         1       1   \n",
       "2              3         1       3   \n",
       "3              4         1       1   \n",
       "4              5         0       3   \n",
       "..           ...       ...     ...   \n",
       "886          887         0       2   \n",
       "887          888         1       1   \n",
       "888          889         0       3   \n",
       "889          890         1       1   \n",
       "890          891         0       3   \n",
       "\n",
       "                                                  Name     Sex        Age  \\\n",
       "0                              Braund, Mr. Owen Harris    male  22.000000   \n",
       "1    Cumings, Mrs. John Bradley (Florence Briggs Th...  female  38.000000   \n",
       "2                               Heikkinen, Miss. Laina  female  26.000000   \n",
       "3         Futrelle, Mrs. Jacques Heath (Lily May Peel)  female  35.000000   \n",
       "4                             Allen, Mr. William Henry    male  35.000000   \n",
       "..                                                 ...     ...        ...   \n",
       "886                              Montvila, Rev. Juozas    male  27.000000   \n",
       "887                       Graham, Miss. Margaret Edith  female  19.000000   \n",
       "888           Johnston, Miss. Catherine Helen \"Carrie\"  female  29.699118   \n",
       "889                              Behr, Mr. Karl Howell    male  26.000000   \n",
       "890                                Dooley, Mr. Patrick    male  32.000000   \n",
       "\n",
       "     SibSp  Parch            Ticket     Fare Cabin Embarked  SexCat  EmCat  \n",
       "0        1      0         A/5 21171   7.2500   NaN        S       1      2  \n",
       "1        1      0          PC 17599  71.2833   C85        C       0      0  \n",
       "2        0      0  STON/O2. 3101282   7.9250   NaN        S       0      2  \n",
       "3        1      0            113803  53.1000  C123        S       0      2  \n",
       "4        0      0            373450   8.0500   NaN        S       1      2  \n",
       "..     ...    ...               ...      ...   ...      ...     ...    ...  \n",
       "886      0      0            211536  13.0000   NaN        S       1      2  \n",
       "887      0      0            112053  30.0000   B42        S       0      2  \n",
       "888      1      2        W./C. 6607  23.4500   NaN        S       0      2  \n",
       "889      0      0            111369  30.0000  C148        C       1      0  \n",
       "890      0      0            370376   7.7500   NaN        Q       1      1  \n",
       "\n",
       "[891 rows x 14 columns]"
      ]
     },
     "execution_count": 27,
     "metadata": {},
     "output_type": "execute_result"
    }
   ],
   "source": [
    "df_train"
   ]
  },
  {
   "cell_type": "code",
   "execution_count": 28,
   "id": "a52e385d",
   "metadata": {
    "execution": {
     "iopub.execute_input": "2023-08-17T08:57:37.599357Z",
     "iopub.status.busy": "2023-08-17T08:57:37.598532Z",
     "iopub.status.idle": "2023-08-17T08:57:37.620111Z",
     "shell.execute_reply": "2023-08-17T08:57:37.619017Z"
    },
    "papermill": {
     "duration": 0.044997,
     "end_time": "2023-08-17T08:57:37.622458",
     "exception": false,
     "start_time": "2023-08-17T08:57:37.577461",
     "status": "completed"
    },
    "tags": []
   },
   "outputs": [
    {
     "data": {
      "text/html": [
       "<div>\n",
       "<style scoped>\n",
       "    .dataframe tbody tr th:only-of-type {\n",
       "        vertical-align: middle;\n",
       "    }\n",
       "\n",
       "    .dataframe tbody tr th {\n",
       "        vertical-align: top;\n",
       "    }\n",
       "\n",
       "    .dataframe thead th {\n",
       "        text-align: right;\n",
       "    }\n",
       "</style>\n",
       "<table border=\"1\" class=\"dataframe\">\n",
       "  <thead>\n",
       "    <tr style=\"text-align: right;\">\n",
       "      <th></th>\n",
       "      <th>PassengerId</th>\n",
       "      <th>Pclass</th>\n",
       "      <th>Name</th>\n",
       "      <th>Sex</th>\n",
       "      <th>Age</th>\n",
       "      <th>SibSp</th>\n",
       "      <th>Parch</th>\n",
       "      <th>Ticket</th>\n",
       "      <th>Fare</th>\n",
       "      <th>Cabin</th>\n",
       "      <th>Embarked</th>\n",
       "      <th>SexCat</th>\n",
       "      <th>EmCat</th>\n",
       "    </tr>\n",
       "  </thead>\n",
       "  <tbody>\n",
       "    <tr>\n",
       "      <th>0</th>\n",
       "      <td>892</td>\n",
       "      <td>3</td>\n",
       "      <td>Kelly, Mr. James</td>\n",
       "      <td>male</td>\n",
       "      <td>34.50000</td>\n",
       "      <td>0</td>\n",
       "      <td>0</td>\n",
       "      <td>330911</td>\n",
       "      <td>7.8292</td>\n",
       "      <td>NaN</td>\n",
       "      <td>Q</td>\n",
       "      <td>1</td>\n",
       "      <td>1</td>\n",
       "    </tr>\n",
       "    <tr>\n",
       "      <th>1</th>\n",
       "      <td>893</td>\n",
       "      <td>3</td>\n",
       "      <td>Wilkes, Mrs. James (Ellen Needs)</td>\n",
       "      <td>female</td>\n",
       "      <td>47.00000</td>\n",
       "      <td>1</td>\n",
       "      <td>0</td>\n",
       "      <td>363272</td>\n",
       "      <td>7.0000</td>\n",
       "      <td>NaN</td>\n",
       "      <td>S</td>\n",
       "      <td>0</td>\n",
       "      <td>2</td>\n",
       "    </tr>\n",
       "    <tr>\n",
       "      <th>2</th>\n",
       "      <td>894</td>\n",
       "      <td>2</td>\n",
       "      <td>Myles, Mr. Thomas Francis</td>\n",
       "      <td>male</td>\n",
       "      <td>62.00000</td>\n",
       "      <td>0</td>\n",
       "      <td>0</td>\n",
       "      <td>240276</td>\n",
       "      <td>9.6875</td>\n",
       "      <td>NaN</td>\n",
       "      <td>Q</td>\n",
       "      <td>1</td>\n",
       "      <td>1</td>\n",
       "    </tr>\n",
       "    <tr>\n",
       "      <th>3</th>\n",
       "      <td>895</td>\n",
       "      <td>3</td>\n",
       "      <td>Wirz, Mr. Albert</td>\n",
       "      <td>male</td>\n",
       "      <td>27.00000</td>\n",
       "      <td>0</td>\n",
       "      <td>0</td>\n",
       "      <td>315154</td>\n",
       "      <td>8.6625</td>\n",
       "      <td>NaN</td>\n",
       "      <td>S</td>\n",
       "      <td>1</td>\n",
       "      <td>2</td>\n",
       "    </tr>\n",
       "    <tr>\n",
       "      <th>4</th>\n",
       "      <td>896</td>\n",
       "      <td>3</td>\n",
       "      <td>Hirvonen, Mrs. Alexander (Helga E Lindqvist)</td>\n",
       "      <td>female</td>\n",
       "      <td>22.00000</td>\n",
       "      <td>1</td>\n",
       "      <td>1</td>\n",
       "      <td>3101298</td>\n",
       "      <td>12.2875</td>\n",
       "      <td>NaN</td>\n",
       "      <td>S</td>\n",
       "      <td>0</td>\n",
       "      <td>2</td>\n",
       "    </tr>\n",
       "    <tr>\n",
       "      <th>...</th>\n",
       "      <td>...</td>\n",
       "      <td>...</td>\n",
       "      <td>...</td>\n",
       "      <td>...</td>\n",
       "      <td>...</td>\n",
       "      <td>...</td>\n",
       "      <td>...</td>\n",
       "      <td>...</td>\n",
       "      <td>...</td>\n",
       "      <td>...</td>\n",
       "      <td>...</td>\n",
       "      <td>...</td>\n",
       "      <td>...</td>\n",
       "    </tr>\n",
       "    <tr>\n",
       "      <th>413</th>\n",
       "      <td>1305</td>\n",
       "      <td>3</td>\n",
       "      <td>Spector, Mr. Woolf</td>\n",
       "      <td>male</td>\n",
       "      <td>30.27259</td>\n",
       "      <td>0</td>\n",
       "      <td>0</td>\n",
       "      <td>A.5. 3236</td>\n",
       "      <td>8.0500</td>\n",
       "      <td>NaN</td>\n",
       "      <td>S</td>\n",
       "      <td>1</td>\n",
       "      <td>2</td>\n",
       "    </tr>\n",
       "    <tr>\n",
       "      <th>414</th>\n",
       "      <td>1306</td>\n",
       "      <td>1</td>\n",
       "      <td>Oliva y Ocana, Dona. Fermina</td>\n",
       "      <td>female</td>\n",
       "      <td>39.00000</td>\n",
       "      <td>0</td>\n",
       "      <td>0</td>\n",
       "      <td>PC 17758</td>\n",
       "      <td>108.9000</td>\n",
       "      <td>C105</td>\n",
       "      <td>C</td>\n",
       "      <td>0</td>\n",
       "      <td>0</td>\n",
       "    </tr>\n",
       "    <tr>\n",
       "      <th>415</th>\n",
       "      <td>1307</td>\n",
       "      <td>3</td>\n",
       "      <td>Saether, Mr. Simon Sivertsen</td>\n",
       "      <td>male</td>\n",
       "      <td>38.50000</td>\n",
       "      <td>0</td>\n",
       "      <td>0</td>\n",
       "      <td>SOTON/O.Q. 3101262</td>\n",
       "      <td>7.2500</td>\n",
       "      <td>NaN</td>\n",
       "      <td>S</td>\n",
       "      <td>1</td>\n",
       "      <td>2</td>\n",
       "    </tr>\n",
       "    <tr>\n",
       "      <th>416</th>\n",
       "      <td>1308</td>\n",
       "      <td>3</td>\n",
       "      <td>Ware, Mr. Frederick</td>\n",
       "      <td>male</td>\n",
       "      <td>30.27259</td>\n",
       "      <td>0</td>\n",
       "      <td>0</td>\n",
       "      <td>359309</td>\n",
       "      <td>8.0500</td>\n",
       "      <td>NaN</td>\n",
       "      <td>S</td>\n",
       "      <td>1</td>\n",
       "      <td>2</td>\n",
       "    </tr>\n",
       "    <tr>\n",
       "      <th>417</th>\n",
       "      <td>1309</td>\n",
       "      <td>3</td>\n",
       "      <td>Peter, Master. Michael J</td>\n",
       "      <td>male</td>\n",
       "      <td>30.27259</td>\n",
       "      <td>1</td>\n",
       "      <td>1</td>\n",
       "      <td>2668</td>\n",
       "      <td>22.3583</td>\n",
       "      <td>NaN</td>\n",
       "      <td>C</td>\n",
       "      <td>1</td>\n",
       "      <td>0</td>\n",
       "    </tr>\n",
       "  </tbody>\n",
       "</table>\n",
       "<p>418 rows × 13 columns</p>\n",
       "</div>"
      ],
      "text/plain": [
       "     PassengerId  Pclass                                          Name  \\\n",
       "0            892       3                              Kelly, Mr. James   \n",
       "1            893       3              Wilkes, Mrs. James (Ellen Needs)   \n",
       "2            894       2                     Myles, Mr. Thomas Francis   \n",
       "3            895       3                              Wirz, Mr. Albert   \n",
       "4            896       3  Hirvonen, Mrs. Alexander (Helga E Lindqvist)   \n",
       "..           ...     ...                                           ...   \n",
       "413         1305       3                            Spector, Mr. Woolf   \n",
       "414         1306       1                  Oliva y Ocana, Dona. Fermina   \n",
       "415         1307       3                  Saether, Mr. Simon Sivertsen   \n",
       "416         1308       3                           Ware, Mr. Frederick   \n",
       "417         1309       3                      Peter, Master. Michael J   \n",
       "\n",
       "        Sex       Age  SibSp  Parch              Ticket      Fare Cabin  \\\n",
       "0      male  34.50000      0      0              330911    7.8292   NaN   \n",
       "1    female  47.00000      1      0              363272    7.0000   NaN   \n",
       "2      male  62.00000      0      0              240276    9.6875   NaN   \n",
       "3      male  27.00000      0      0              315154    8.6625   NaN   \n",
       "4    female  22.00000      1      1             3101298   12.2875   NaN   \n",
       "..      ...       ...    ...    ...                 ...       ...   ...   \n",
       "413    male  30.27259      0      0           A.5. 3236    8.0500   NaN   \n",
       "414  female  39.00000      0      0            PC 17758  108.9000  C105   \n",
       "415    male  38.50000      0      0  SOTON/O.Q. 3101262    7.2500   NaN   \n",
       "416    male  30.27259      0      0              359309    8.0500   NaN   \n",
       "417    male  30.27259      1      1                2668   22.3583   NaN   \n",
       "\n",
       "    Embarked  SexCat  EmCat  \n",
       "0          Q       1      1  \n",
       "1          S       0      2  \n",
       "2          Q       1      1  \n",
       "3          S       1      2  \n",
       "4          S       0      2  \n",
       "..       ...     ...    ...  \n",
       "413        S       1      2  \n",
       "414        C       0      0  \n",
       "415        S       1      2  \n",
       "416        S       1      2  \n",
       "417        C       1      0  \n",
       "\n",
       "[418 rows x 13 columns]"
      ]
     },
     "execution_count": 28,
     "metadata": {},
     "output_type": "execute_result"
    }
   ],
   "source": [
    "df_test"
   ]
  },
  {
   "cell_type": "code",
   "execution_count": 29,
   "id": "99293228",
   "metadata": {
    "execution": {
     "iopub.execute_input": "2023-08-17T08:57:37.664651Z",
     "iopub.status.busy": "2023-08-17T08:57:37.664263Z",
     "iopub.status.idle": "2023-08-17T08:57:37.671894Z",
     "shell.execute_reply": "2023-08-17T08:57:37.670562Z"
    },
    "papermill": {
     "duration": 0.031506,
     "end_time": "2023-08-17T08:57:37.674186",
     "exception": false,
     "start_time": "2023-08-17T08:57:37.642680",
     "status": "completed"
    },
    "tags": []
   },
   "outputs": [],
   "source": [
    "# Turning Embarked to one-hot vector\n",
    "# Drop the ticket and cabin, maybe even drop the SibSp and Parch???\n",
    "# TODO test this.\n",
    "\n",
    "corr_labels = ['PassengerId', 'Pclass', 'Age', 'SibSp', 'Parch', 'Fare', 'EmCat', 'SexCat']\n",
    "corrected_df = df_train[corr_labels + [\"Survived\"]]"
   ]
  },
  {
   "cell_type": "code",
   "execution_count": 30,
   "id": "03fb816b",
   "metadata": {
    "execution": {
     "iopub.execute_input": "2023-08-17T08:57:37.716892Z",
     "iopub.status.busy": "2023-08-17T08:57:37.715763Z",
     "iopub.status.idle": "2023-08-17T08:57:37.732918Z",
     "shell.execute_reply": "2023-08-17T08:57:37.731858Z"
    },
    "papermill": {
     "duration": 0.040646,
     "end_time": "2023-08-17T08:57:37.734994",
     "exception": false,
     "start_time": "2023-08-17T08:57:37.694348",
     "status": "completed"
    },
    "tags": []
   },
   "outputs": [
    {
     "data": {
      "text/html": [
       "<div>\n",
       "<style scoped>\n",
       "    .dataframe tbody tr th:only-of-type {\n",
       "        vertical-align: middle;\n",
       "    }\n",
       "\n",
       "    .dataframe tbody tr th {\n",
       "        vertical-align: top;\n",
       "    }\n",
       "\n",
       "    .dataframe thead th {\n",
       "        text-align: right;\n",
       "    }\n",
       "</style>\n",
       "<table border=\"1\" class=\"dataframe\">\n",
       "  <thead>\n",
       "    <tr style=\"text-align: right;\">\n",
       "      <th></th>\n",
       "      <th>PassengerId</th>\n",
       "      <th>Pclass</th>\n",
       "      <th>Age</th>\n",
       "      <th>SibSp</th>\n",
       "      <th>Parch</th>\n",
       "      <th>Fare</th>\n",
       "      <th>EmCat</th>\n",
       "      <th>SexCat</th>\n",
       "      <th>Survived</th>\n",
       "    </tr>\n",
       "  </thead>\n",
       "  <tbody>\n",
       "    <tr>\n",
       "      <th>0</th>\n",
       "      <td>1</td>\n",
       "      <td>3</td>\n",
       "      <td>22.000000</td>\n",
       "      <td>1</td>\n",
       "      <td>0</td>\n",
       "      <td>7.2500</td>\n",
       "      <td>2</td>\n",
       "      <td>1</td>\n",
       "      <td>0</td>\n",
       "    </tr>\n",
       "    <tr>\n",
       "      <th>1</th>\n",
       "      <td>2</td>\n",
       "      <td>1</td>\n",
       "      <td>38.000000</td>\n",
       "      <td>1</td>\n",
       "      <td>0</td>\n",
       "      <td>71.2833</td>\n",
       "      <td>0</td>\n",
       "      <td>0</td>\n",
       "      <td>1</td>\n",
       "    </tr>\n",
       "    <tr>\n",
       "      <th>2</th>\n",
       "      <td>3</td>\n",
       "      <td>3</td>\n",
       "      <td>26.000000</td>\n",
       "      <td>0</td>\n",
       "      <td>0</td>\n",
       "      <td>7.9250</td>\n",
       "      <td>2</td>\n",
       "      <td>0</td>\n",
       "      <td>1</td>\n",
       "    </tr>\n",
       "    <tr>\n",
       "      <th>3</th>\n",
       "      <td>4</td>\n",
       "      <td>1</td>\n",
       "      <td>35.000000</td>\n",
       "      <td>1</td>\n",
       "      <td>0</td>\n",
       "      <td>53.1000</td>\n",
       "      <td>2</td>\n",
       "      <td>0</td>\n",
       "      <td>1</td>\n",
       "    </tr>\n",
       "    <tr>\n",
       "      <th>4</th>\n",
       "      <td>5</td>\n",
       "      <td>3</td>\n",
       "      <td>35.000000</td>\n",
       "      <td>0</td>\n",
       "      <td>0</td>\n",
       "      <td>8.0500</td>\n",
       "      <td>2</td>\n",
       "      <td>1</td>\n",
       "      <td>0</td>\n",
       "    </tr>\n",
       "    <tr>\n",
       "      <th>...</th>\n",
       "      <td>...</td>\n",
       "      <td>...</td>\n",
       "      <td>...</td>\n",
       "      <td>...</td>\n",
       "      <td>...</td>\n",
       "      <td>...</td>\n",
       "      <td>...</td>\n",
       "      <td>...</td>\n",
       "      <td>...</td>\n",
       "    </tr>\n",
       "    <tr>\n",
       "      <th>886</th>\n",
       "      <td>887</td>\n",
       "      <td>2</td>\n",
       "      <td>27.000000</td>\n",
       "      <td>0</td>\n",
       "      <td>0</td>\n",
       "      <td>13.0000</td>\n",
       "      <td>2</td>\n",
       "      <td>1</td>\n",
       "      <td>0</td>\n",
       "    </tr>\n",
       "    <tr>\n",
       "      <th>887</th>\n",
       "      <td>888</td>\n",
       "      <td>1</td>\n",
       "      <td>19.000000</td>\n",
       "      <td>0</td>\n",
       "      <td>0</td>\n",
       "      <td>30.0000</td>\n",
       "      <td>2</td>\n",
       "      <td>0</td>\n",
       "      <td>1</td>\n",
       "    </tr>\n",
       "    <tr>\n",
       "      <th>888</th>\n",
       "      <td>889</td>\n",
       "      <td>3</td>\n",
       "      <td>29.699118</td>\n",
       "      <td>1</td>\n",
       "      <td>2</td>\n",
       "      <td>23.4500</td>\n",
       "      <td>2</td>\n",
       "      <td>0</td>\n",
       "      <td>0</td>\n",
       "    </tr>\n",
       "    <tr>\n",
       "      <th>889</th>\n",
       "      <td>890</td>\n",
       "      <td>1</td>\n",
       "      <td>26.000000</td>\n",
       "      <td>0</td>\n",
       "      <td>0</td>\n",
       "      <td>30.0000</td>\n",
       "      <td>0</td>\n",
       "      <td>1</td>\n",
       "      <td>1</td>\n",
       "    </tr>\n",
       "    <tr>\n",
       "      <th>890</th>\n",
       "      <td>891</td>\n",
       "      <td>3</td>\n",
       "      <td>32.000000</td>\n",
       "      <td>0</td>\n",
       "      <td>0</td>\n",
       "      <td>7.7500</td>\n",
       "      <td>1</td>\n",
       "      <td>1</td>\n",
       "      <td>0</td>\n",
       "    </tr>\n",
       "  </tbody>\n",
       "</table>\n",
       "<p>891 rows × 9 columns</p>\n",
       "</div>"
      ],
      "text/plain": [
       "     PassengerId  Pclass        Age  SibSp  Parch     Fare  EmCat  SexCat  \\\n",
       "0              1       3  22.000000      1      0   7.2500      2       1   \n",
       "1              2       1  38.000000      1      0  71.2833      0       0   \n",
       "2              3       3  26.000000      0      0   7.9250      2       0   \n",
       "3              4       1  35.000000      1      0  53.1000      2       0   \n",
       "4              5       3  35.000000      0      0   8.0500      2       1   \n",
       "..           ...     ...        ...    ...    ...      ...    ...     ...   \n",
       "886          887       2  27.000000      0      0  13.0000      2       1   \n",
       "887          888       1  19.000000      0      0  30.0000      2       0   \n",
       "888          889       3  29.699118      1      2  23.4500      2       0   \n",
       "889          890       1  26.000000      0      0  30.0000      0       1   \n",
       "890          891       3  32.000000      0      0   7.7500      1       1   \n",
       "\n",
       "     Survived  \n",
       "0           0  \n",
       "1           1  \n",
       "2           1  \n",
       "3           1  \n",
       "4           0  \n",
       "..        ...  \n",
       "886         0  \n",
       "887         1  \n",
       "888         0  \n",
       "889         1  \n",
       "890         0  \n",
       "\n",
       "[891 rows x 9 columns]"
      ]
     },
     "execution_count": 30,
     "metadata": {},
     "output_type": "execute_result"
    }
   ],
   "source": [
    "corrected_df"
   ]
  },
  {
   "cell_type": "code",
   "execution_count": 31,
   "id": "bffff3fc",
   "metadata": {
    "execution": {
     "iopub.execute_input": "2023-08-17T08:57:37.777351Z",
     "iopub.status.busy": "2023-08-17T08:57:37.776380Z",
     "iopub.status.idle": "2023-08-17T08:57:37.782565Z",
     "shell.execute_reply": "2023-08-17T08:57:37.781788Z"
    },
    "papermill": {
     "duration": 0.029369,
     "end_time": "2023-08-17T08:57:37.784514",
     "exception": false,
     "start_time": "2023-08-17T08:57:37.755145",
     "status": "completed"
    },
    "tags": []
   },
   "outputs": [],
   "source": [
    "n_fare = (corrected_df['Fare']-corrected_df['Fare'].mean()) / corrected_df['Fare'].std()"
   ]
  },
  {
   "cell_type": "code",
   "execution_count": 32,
   "id": "bb41b490",
   "metadata": {
    "execution": {
     "iopub.execute_input": "2023-08-17T08:57:37.828568Z",
     "iopub.status.busy": "2023-08-17T08:57:37.827849Z",
     "iopub.status.idle": "2023-08-17T08:57:37.833034Z",
     "shell.execute_reply": "2023-08-17T08:57:37.832334Z"
    },
    "papermill": {
     "duration": 0.030302,
     "end_time": "2023-08-17T08:57:37.835282",
     "exception": false,
     "start_time": "2023-08-17T08:57:37.804980",
     "status": "completed"
    },
    "tags": []
   },
   "outputs": [
    {
     "name": "stderr",
     "output_type": "stream",
     "text": [
      "/tmp/ipykernel_20/1335998669.py:1: SettingWithCopyWarning: \n",
      "A value is trying to be set on a copy of a slice from a DataFrame.\n",
      "Try using .loc[row_indexer,col_indexer] = value instead\n",
      "\n",
      "See the caveats in the documentation: https://pandas.pydata.org/pandas-docs/stable/user_guide/indexing.html#returning-a-view-versus-a-copy\n",
      "  corrected_df['Fare'] = n_fare\n"
     ]
    }
   ],
   "source": [
    "corrected_df['Fare'] = n_fare"
   ]
  },
  {
   "cell_type": "code",
   "execution_count": 33,
   "id": "bd6213c7",
   "metadata": {
    "execution": {
     "iopub.execute_input": "2023-08-17T08:57:37.877968Z",
     "iopub.status.busy": "2023-08-17T08:57:37.877557Z",
     "iopub.status.idle": "2023-08-17T08:57:38.002413Z",
     "shell.execute_reply": "2023-08-17T08:57:38.001279Z"
    },
    "papermill": {
     "duration": 0.14947,
     "end_time": "2023-08-17T08:57:38.005093",
     "exception": false,
     "start_time": "2023-08-17T08:57:37.855623",
     "status": "completed"
    },
    "tags": []
   },
   "outputs": [],
   "source": [
    "from sklearn.model_selection import train_test_split\n",
    "\n",
    "corr_y = corrected_df['Survived']\n",
    "corr_x = corrected_df[corr_labels]\n",
    "\n",
    "x_train, x_test, y_train, y_test = train_test_split(corr_x, corr_y, test_size=0.2, random_state=1)"
   ]
  },
  {
   "cell_type": "code",
   "execution_count": 34,
   "id": "de7e2044",
   "metadata": {
    "execution": {
     "iopub.execute_input": "2023-08-17T08:57:38.049185Z",
     "iopub.status.busy": "2023-08-17T08:57:38.048125Z",
     "iopub.status.idle": "2023-08-17T08:57:38.052724Z",
     "shell.execute_reply": "2023-08-17T08:57:38.051947Z"
    },
    "papermill": {
     "duration": 0.029055,
     "end_time": "2023-08-17T08:57:38.054838",
     "exception": false,
     "start_time": "2023-08-17T08:57:38.025783",
     "status": "completed"
    },
    "tags": []
   },
   "outputs": [],
   "source": [
    "# No need to one hot, since we are using LabelEncoder\n",
    "\n",
    "# from sklearn.preprocessing import OneHotEncoder\n",
    "# onehot_encoder = OneHotEncoder(sparse=False)\n",
    "# x_train = onehot_encoder.fit_transform(x_train)\n",
    "# x_test = onehot_encoder.fit_transform(x_test)"
   ]
  },
  {
   "cell_type": "code",
   "execution_count": 35,
   "id": "62ac579e",
   "metadata": {
    "execution": {
     "iopub.execute_input": "2023-08-17T08:57:38.098400Z",
     "iopub.status.busy": "2023-08-17T08:57:38.097966Z",
     "iopub.status.idle": "2023-08-17T08:57:38.215372Z",
     "shell.execute_reply": "2023-08-17T08:57:38.214597Z"
    },
    "papermill": {
     "duration": 0.14147,
     "end_time": "2023-08-17T08:57:38.217351",
     "exception": false,
     "start_time": "2023-08-17T08:57:38.075881",
     "status": "completed"
    },
    "tags": []
   },
   "outputs": [
    {
     "data": {
      "text/html": [
       "<style>#sk-container-id-1 {color: black;background-color: white;}#sk-container-id-1 pre{padding: 0;}#sk-container-id-1 div.sk-toggleable {background-color: white;}#sk-container-id-1 label.sk-toggleable__label {cursor: pointer;display: block;width: 100%;margin-bottom: 0;padding: 0.3em;box-sizing: border-box;text-align: center;}#sk-container-id-1 label.sk-toggleable__label-arrow:before {content: \"▸\";float: left;margin-right: 0.25em;color: #696969;}#sk-container-id-1 label.sk-toggleable__label-arrow:hover:before {color: black;}#sk-container-id-1 div.sk-estimator:hover label.sk-toggleable__label-arrow:before {color: black;}#sk-container-id-1 div.sk-toggleable__content {max-height: 0;max-width: 0;overflow: hidden;text-align: left;background-color: #f0f8ff;}#sk-container-id-1 div.sk-toggleable__content pre {margin: 0.2em;color: black;border-radius: 0.25em;background-color: #f0f8ff;}#sk-container-id-1 input.sk-toggleable__control:checked~div.sk-toggleable__content {max-height: 200px;max-width: 100%;overflow: auto;}#sk-container-id-1 input.sk-toggleable__control:checked~label.sk-toggleable__label-arrow:before {content: \"▾\";}#sk-container-id-1 div.sk-estimator input.sk-toggleable__control:checked~label.sk-toggleable__label {background-color: #d4ebff;}#sk-container-id-1 div.sk-label input.sk-toggleable__control:checked~label.sk-toggleable__label {background-color: #d4ebff;}#sk-container-id-1 input.sk-hidden--visually {border: 0;clip: rect(1px 1px 1px 1px);clip: rect(1px, 1px, 1px, 1px);height: 1px;margin: -1px;overflow: hidden;padding: 0;position: absolute;width: 1px;}#sk-container-id-1 div.sk-estimator {font-family: monospace;background-color: #f0f8ff;border: 1px dotted black;border-radius: 0.25em;box-sizing: border-box;margin-bottom: 0.5em;}#sk-container-id-1 div.sk-estimator:hover {background-color: #d4ebff;}#sk-container-id-1 div.sk-parallel-item::after {content: \"\";width: 100%;border-bottom: 1px solid gray;flex-grow: 1;}#sk-container-id-1 div.sk-label:hover label.sk-toggleable__label {background-color: #d4ebff;}#sk-container-id-1 div.sk-serial::before {content: \"\";position: absolute;border-left: 1px solid gray;box-sizing: border-box;top: 0;bottom: 0;left: 50%;z-index: 0;}#sk-container-id-1 div.sk-serial {display: flex;flex-direction: column;align-items: center;background-color: white;padding-right: 0.2em;padding-left: 0.2em;position: relative;}#sk-container-id-1 div.sk-item {position: relative;z-index: 1;}#sk-container-id-1 div.sk-parallel {display: flex;align-items: stretch;justify-content: center;background-color: white;position: relative;}#sk-container-id-1 div.sk-item::before, #sk-container-id-1 div.sk-parallel-item::before {content: \"\";position: absolute;border-left: 1px solid gray;box-sizing: border-box;top: 0;bottom: 0;left: 50%;z-index: -1;}#sk-container-id-1 div.sk-parallel-item {display: flex;flex-direction: column;z-index: 1;position: relative;background-color: white;}#sk-container-id-1 div.sk-parallel-item:first-child::after {align-self: flex-end;width: 50%;}#sk-container-id-1 div.sk-parallel-item:last-child::after {align-self: flex-start;width: 50%;}#sk-container-id-1 div.sk-parallel-item:only-child::after {width: 0;}#sk-container-id-1 div.sk-dashed-wrapped {border: 1px dashed gray;margin: 0 0.4em 0.5em 0.4em;box-sizing: border-box;padding-bottom: 0.4em;background-color: white;}#sk-container-id-1 div.sk-label label {font-family: monospace;font-weight: bold;display: inline-block;line-height: 1.2em;}#sk-container-id-1 div.sk-label-container {text-align: center;}#sk-container-id-1 div.sk-container {/* jupyter's `normalize.less` sets `[hidden] { display: none; }` but bootstrap.min.css set `[hidden] { display: none !important; }` so we also need the `!important` here to be able to override the default hidden behavior on the sphinx rendered scikit-learn.org. See: https://github.com/scikit-learn/scikit-learn/issues/21755 */display: inline-block !important;position: relative;}#sk-container-id-1 div.sk-text-repr-fallback {display: none;}</style><div id=\"sk-container-id-1\" class=\"sk-top-container\"><div class=\"sk-text-repr-fallback\"><pre>LinearSVR(epsilon=1.5)</pre><b>In a Jupyter environment, please rerun this cell to show the HTML representation or trust the notebook. <br />On GitHub, the HTML representation is unable to render, please try loading this page with nbviewer.org.</b></div><div class=\"sk-container\" hidden><div class=\"sk-item\"><div class=\"sk-estimator sk-toggleable\"><input class=\"sk-toggleable__control sk-hidden--visually\" id=\"sk-estimator-id-1\" type=\"checkbox\" checked><label for=\"sk-estimator-id-1\" class=\"sk-toggleable__label sk-toggleable__label-arrow\">LinearSVR</label><div class=\"sk-toggleable__content\"><pre>LinearSVR(epsilon=1.5)</pre></div></div></div></div></div>"
      ],
      "text/plain": [
       "LinearSVR(epsilon=1.5)"
      ]
     },
     "execution_count": 35,
     "metadata": {},
     "output_type": "execute_result"
    }
   ],
   "source": [
    "from sklearn.svm import LinearSVR\n",
    "svm_reg = LinearSVR(epsilon=1.5)\n",
    "svm_reg.fit(x_train, y_train)"
   ]
  },
  {
   "cell_type": "code",
   "execution_count": 36,
   "id": "b7c1cb00",
   "metadata": {
    "execution": {
     "iopub.execute_input": "2023-08-17T08:57:38.261442Z",
     "iopub.status.busy": "2023-08-17T08:57:38.260135Z",
     "iopub.status.idle": "2023-08-17T08:57:38.271554Z",
     "shell.execute_reply": "2023-08-17T08:57:38.270203Z"
    },
    "papermill": {
     "duration": 0.035786,
     "end_time": "2023-08-17T08:57:38.273930",
     "exception": false,
     "start_time": "2023-08-17T08:57:38.238144",
     "status": "completed"
    },
    "tags": []
   },
   "outputs": [
    {
     "data": {
      "text/plain": [
       "0.5921787709497207"
      ]
     },
     "execution_count": 36,
     "metadata": {},
     "output_type": "execute_result"
    }
   ],
   "source": [
    "from sklearn.metrics import accuracy_score\n",
    "\n",
    "svm_pred = svm_reg.predict(x_test)\n",
    "accuracy_score(y_test, svm_pred)\n"
   ]
  },
  {
   "cell_type": "code",
   "execution_count": 37,
   "id": "5cc798a4",
   "metadata": {
    "execution": {
     "iopub.execute_input": "2023-08-17T08:57:38.320541Z",
     "iopub.status.busy": "2023-08-17T08:57:38.319608Z",
     "iopub.status.idle": "2023-08-17T08:57:38.327239Z",
     "shell.execute_reply": "2023-08-17T08:57:38.326164Z"
    },
    "papermill": {
     "duration": 0.034365,
     "end_time": "2023-08-17T08:57:38.329435",
     "exception": false,
     "start_time": "2023-08-17T08:57:38.295070",
     "status": "completed"
    },
    "tags": []
   },
   "outputs": [
    {
     "data": {
      "text/plain": [
       "array([0., 0., 0., 0., 0., 0., 0., 0., 0., 0.])"
      ]
     },
     "execution_count": 37,
     "metadata": {},
     "output_type": "execute_result"
    }
   ],
   "source": [
    "svm_pred[:10]"
   ]
  },
  {
   "cell_type": "code",
   "execution_count": 38,
   "id": "649d020e",
   "metadata": {
    "execution": {
     "iopub.execute_input": "2023-08-17T08:57:38.376327Z",
     "iopub.status.busy": "2023-08-17T08:57:38.375530Z",
     "iopub.status.idle": "2023-08-17T08:57:38.395095Z",
     "shell.execute_reply": "2023-08-17T08:57:38.394071Z"
    },
    "papermill": {
     "duration": 0.046266,
     "end_time": "2023-08-17T08:57:38.397656",
     "exception": false,
     "start_time": "2023-08-17T08:57:38.351390",
     "status": "completed"
    },
    "tags": []
   },
   "outputs": [
    {
     "data": {
      "text/html": [
       "<style>#sk-container-id-2 {color: black;background-color: white;}#sk-container-id-2 pre{padding: 0;}#sk-container-id-2 div.sk-toggleable {background-color: white;}#sk-container-id-2 label.sk-toggleable__label {cursor: pointer;display: block;width: 100%;margin-bottom: 0;padding: 0.3em;box-sizing: border-box;text-align: center;}#sk-container-id-2 label.sk-toggleable__label-arrow:before {content: \"▸\";float: left;margin-right: 0.25em;color: #696969;}#sk-container-id-2 label.sk-toggleable__label-arrow:hover:before {color: black;}#sk-container-id-2 div.sk-estimator:hover label.sk-toggleable__label-arrow:before {color: black;}#sk-container-id-2 div.sk-toggleable__content {max-height: 0;max-width: 0;overflow: hidden;text-align: left;background-color: #f0f8ff;}#sk-container-id-2 div.sk-toggleable__content pre {margin: 0.2em;color: black;border-radius: 0.25em;background-color: #f0f8ff;}#sk-container-id-2 input.sk-toggleable__control:checked~div.sk-toggleable__content {max-height: 200px;max-width: 100%;overflow: auto;}#sk-container-id-2 input.sk-toggleable__control:checked~label.sk-toggleable__label-arrow:before {content: \"▾\";}#sk-container-id-2 div.sk-estimator input.sk-toggleable__control:checked~label.sk-toggleable__label {background-color: #d4ebff;}#sk-container-id-2 div.sk-label input.sk-toggleable__control:checked~label.sk-toggleable__label {background-color: #d4ebff;}#sk-container-id-2 input.sk-hidden--visually {border: 0;clip: rect(1px 1px 1px 1px);clip: rect(1px, 1px, 1px, 1px);height: 1px;margin: -1px;overflow: hidden;padding: 0;position: absolute;width: 1px;}#sk-container-id-2 div.sk-estimator {font-family: monospace;background-color: #f0f8ff;border: 1px dotted black;border-radius: 0.25em;box-sizing: border-box;margin-bottom: 0.5em;}#sk-container-id-2 div.sk-estimator:hover {background-color: #d4ebff;}#sk-container-id-2 div.sk-parallel-item::after {content: \"\";width: 100%;border-bottom: 1px solid gray;flex-grow: 1;}#sk-container-id-2 div.sk-label:hover label.sk-toggleable__label {background-color: #d4ebff;}#sk-container-id-2 div.sk-serial::before {content: \"\";position: absolute;border-left: 1px solid gray;box-sizing: border-box;top: 0;bottom: 0;left: 50%;z-index: 0;}#sk-container-id-2 div.sk-serial {display: flex;flex-direction: column;align-items: center;background-color: white;padding-right: 0.2em;padding-left: 0.2em;position: relative;}#sk-container-id-2 div.sk-item {position: relative;z-index: 1;}#sk-container-id-2 div.sk-parallel {display: flex;align-items: stretch;justify-content: center;background-color: white;position: relative;}#sk-container-id-2 div.sk-item::before, #sk-container-id-2 div.sk-parallel-item::before {content: \"\";position: absolute;border-left: 1px solid gray;box-sizing: border-box;top: 0;bottom: 0;left: 50%;z-index: -1;}#sk-container-id-2 div.sk-parallel-item {display: flex;flex-direction: column;z-index: 1;position: relative;background-color: white;}#sk-container-id-2 div.sk-parallel-item:first-child::after {align-self: flex-end;width: 50%;}#sk-container-id-2 div.sk-parallel-item:last-child::after {align-self: flex-start;width: 50%;}#sk-container-id-2 div.sk-parallel-item:only-child::after {width: 0;}#sk-container-id-2 div.sk-dashed-wrapped {border: 1px dashed gray;margin: 0 0.4em 0.5em 0.4em;box-sizing: border-box;padding-bottom: 0.4em;background-color: white;}#sk-container-id-2 div.sk-label label {font-family: monospace;font-weight: bold;display: inline-block;line-height: 1.2em;}#sk-container-id-2 div.sk-label-container {text-align: center;}#sk-container-id-2 div.sk-container {/* jupyter's `normalize.less` sets `[hidden] { display: none; }` but bootstrap.min.css set `[hidden] { display: none !important; }` so we also need the `!important` here to be able to override the default hidden behavior on the sphinx rendered scikit-learn.org. See: https://github.com/scikit-learn/scikit-learn/issues/21755 */display: inline-block !important;position: relative;}#sk-container-id-2 div.sk-text-repr-fallback {display: none;}</style><div id=\"sk-container-id-2\" class=\"sk-top-container\"><div class=\"sk-text-repr-fallback\"><pre>SGDClassifier(random_state=11)</pre><b>In a Jupyter environment, please rerun this cell to show the HTML representation or trust the notebook. <br />On GitHub, the HTML representation is unable to render, please try loading this page with nbviewer.org.</b></div><div class=\"sk-container\" hidden><div class=\"sk-item\"><div class=\"sk-estimator sk-toggleable\"><input class=\"sk-toggleable__control sk-hidden--visually\" id=\"sk-estimator-id-2\" type=\"checkbox\" checked><label for=\"sk-estimator-id-2\" class=\"sk-toggleable__label sk-toggleable__label-arrow\">SGDClassifier</label><div class=\"sk-toggleable__content\"><pre>SGDClassifier(random_state=11)</pre></div></div></div></div></div>"
      ],
      "text/plain": [
       "SGDClassifier(random_state=11)"
      ]
     },
     "execution_count": 38,
     "metadata": {},
     "output_type": "execute_result"
    }
   ],
   "source": [
    "# Implementing Stochastic Gradient Descent\n",
    "\n",
    "from sklearn.linear_model import SGDClassifier\n",
    "\n",
    "classifier = SGDClassifier(random_state=11, alpha=0.0001)\n",
    "classifier.fit(x_train, y_train)\n"
   ]
  },
  {
   "cell_type": "code",
   "execution_count": 39,
   "id": "8ae87a12",
   "metadata": {
    "execution": {
     "iopub.execute_input": "2023-08-17T08:57:38.444411Z",
     "iopub.status.busy": "2023-08-17T08:57:38.443855Z",
     "iopub.status.idle": "2023-08-17T08:57:38.452333Z",
     "shell.execute_reply": "2023-08-17T08:57:38.450991Z"
    },
    "papermill": {
     "duration": 0.034945,
     "end_time": "2023-08-17T08:57:38.454582",
     "exception": false,
     "start_time": "2023-08-17T08:57:38.419637",
     "status": "completed"
    },
    "tags": []
   },
   "outputs": [],
   "source": [
    "sgd_pred = classifier.predict(x_test)"
   ]
  },
  {
   "cell_type": "code",
   "execution_count": 40,
   "id": "96e67509",
   "metadata": {
    "execution": {
     "iopub.execute_input": "2023-08-17T08:57:38.499956Z",
     "iopub.status.busy": "2023-08-17T08:57:38.498914Z",
     "iopub.status.idle": "2023-08-17T08:57:38.506020Z",
     "shell.execute_reply": "2023-08-17T08:57:38.504967Z"
    },
    "papermill": {
     "duration": 0.032022,
     "end_time": "2023-08-17T08:57:38.508229",
     "exception": false,
     "start_time": "2023-08-17T08:57:38.476207",
     "status": "completed"
    },
    "tags": []
   },
   "outputs": [
    {
     "data": {
      "text/plain": [
       "0.441340782122905"
      ]
     },
     "execution_count": 40,
     "metadata": {},
     "output_type": "execute_result"
    }
   ],
   "source": [
    "accuracy_score(y_test, sgd_pred)"
   ]
  },
  {
   "cell_type": "code",
   "execution_count": 41,
   "id": "9eb6f804",
   "metadata": {
    "execution": {
     "iopub.execute_input": "2023-08-17T08:57:38.553532Z",
     "iopub.status.busy": "2023-08-17T08:57:38.552533Z",
     "iopub.status.idle": "2023-08-17T08:57:38.558940Z",
     "shell.execute_reply": "2023-08-17T08:57:38.557895Z"
    },
    "papermill": {
     "duration": 0.031374,
     "end_time": "2023-08-17T08:57:38.561141",
     "exception": false,
     "start_time": "2023-08-17T08:57:38.529767",
     "status": "completed"
    },
    "tags": []
   },
   "outputs": [
    {
     "data": {
      "text/plain": [
       "array([1, 0, 0, 1, 1, 1, 1, 1, 1, 1])"
      ]
     },
     "execution_count": 41,
     "metadata": {},
     "output_type": "execute_result"
    }
   ],
   "source": [
    "sgd_pred[:10]"
   ]
  },
  {
   "cell_type": "markdown",
   "id": "41392c78",
   "metadata": {
    "papermill": {
     "duration": 0.021724,
     "end_time": "2023-08-17T08:57:38.605120",
     "exception": false,
     "start_time": "2023-08-17T08:57:38.583396",
     "status": "completed"
    },
    "tags": []
   },
   "source": [
    "# Report 8/16/23:\n",
    "\n",
    "Got 78 percent accuracy with SDGClassifier while getting only 59 percent accuracy score with SVR, couldn't make the one hot encoder work with test and train. Let's try non sparse model and then a label or odinal encoder, however these would imply an order."
   ]
  },
  {
   "cell_type": "code",
   "execution_count": 42,
   "id": "7dea4db5",
   "metadata": {
    "execution": {
     "iopub.execute_input": "2023-08-17T08:57:38.651179Z",
     "iopub.status.busy": "2023-08-17T08:57:38.650757Z",
     "iopub.status.idle": "2023-08-17T08:57:38.670828Z",
     "shell.execute_reply": "2023-08-17T08:57:38.669948Z"
    },
    "papermill": {
     "duration": 0.04603,
     "end_time": "2023-08-17T08:57:38.672996",
     "exception": false,
     "start_time": "2023-08-17T08:57:38.626966",
     "status": "completed"
    },
    "tags": []
   },
   "outputs": [
    {
     "data": {
      "text/html": [
       "<div>\n",
       "<style scoped>\n",
       "    .dataframe tbody tr th:only-of-type {\n",
       "        vertical-align: middle;\n",
       "    }\n",
       "\n",
       "    .dataframe tbody tr th {\n",
       "        vertical-align: top;\n",
       "    }\n",
       "\n",
       "    .dataframe thead th {\n",
       "        text-align: right;\n",
       "    }\n",
       "</style>\n",
       "<table border=\"1\" class=\"dataframe\">\n",
       "  <thead>\n",
       "    <tr style=\"text-align: right;\">\n",
       "      <th></th>\n",
       "      <th>PassengerId</th>\n",
       "      <th>Pclass</th>\n",
       "      <th>Name</th>\n",
       "      <th>Sex</th>\n",
       "      <th>Age</th>\n",
       "      <th>SibSp</th>\n",
       "      <th>Parch</th>\n",
       "      <th>Ticket</th>\n",
       "      <th>Fare</th>\n",
       "      <th>Cabin</th>\n",
       "      <th>Embarked</th>\n",
       "      <th>SexCat</th>\n",
       "      <th>EmCat</th>\n",
       "    </tr>\n",
       "  </thead>\n",
       "  <tbody>\n",
       "    <tr>\n",
       "      <th>0</th>\n",
       "      <td>892</td>\n",
       "      <td>3</td>\n",
       "      <td>Kelly, Mr. James</td>\n",
       "      <td>male</td>\n",
       "      <td>34.50000</td>\n",
       "      <td>0</td>\n",
       "      <td>0</td>\n",
       "      <td>330911</td>\n",
       "      <td>7.8292</td>\n",
       "      <td>NaN</td>\n",
       "      <td>Q</td>\n",
       "      <td>1</td>\n",
       "      <td>1</td>\n",
       "    </tr>\n",
       "    <tr>\n",
       "      <th>1</th>\n",
       "      <td>893</td>\n",
       "      <td>3</td>\n",
       "      <td>Wilkes, Mrs. James (Ellen Needs)</td>\n",
       "      <td>female</td>\n",
       "      <td>47.00000</td>\n",
       "      <td>1</td>\n",
       "      <td>0</td>\n",
       "      <td>363272</td>\n",
       "      <td>7.0000</td>\n",
       "      <td>NaN</td>\n",
       "      <td>S</td>\n",
       "      <td>0</td>\n",
       "      <td>2</td>\n",
       "    </tr>\n",
       "    <tr>\n",
       "      <th>2</th>\n",
       "      <td>894</td>\n",
       "      <td>2</td>\n",
       "      <td>Myles, Mr. Thomas Francis</td>\n",
       "      <td>male</td>\n",
       "      <td>62.00000</td>\n",
       "      <td>0</td>\n",
       "      <td>0</td>\n",
       "      <td>240276</td>\n",
       "      <td>9.6875</td>\n",
       "      <td>NaN</td>\n",
       "      <td>Q</td>\n",
       "      <td>1</td>\n",
       "      <td>1</td>\n",
       "    </tr>\n",
       "    <tr>\n",
       "      <th>3</th>\n",
       "      <td>895</td>\n",
       "      <td>3</td>\n",
       "      <td>Wirz, Mr. Albert</td>\n",
       "      <td>male</td>\n",
       "      <td>27.00000</td>\n",
       "      <td>0</td>\n",
       "      <td>0</td>\n",
       "      <td>315154</td>\n",
       "      <td>8.6625</td>\n",
       "      <td>NaN</td>\n",
       "      <td>S</td>\n",
       "      <td>1</td>\n",
       "      <td>2</td>\n",
       "    </tr>\n",
       "    <tr>\n",
       "      <th>4</th>\n",
       "      <td>896</td>\n",
       "      <td>3</td>\n",
       "      <td>Hirvonen, Mrs. Alexander (Helga E Lindqvist)</td>\n",
       "      <td>female</td>\n",
       "      <td>22.00000</td>\n",
       "      <td>1</td>\n",
       "      <td>1</td>\n",
       "      <td>3101298</td>\n",
       "      <td>12.2875</td>\n",
       "      <td>NaN</td>\n",
       "      <td>S</td>\n",
       "      <td>0</td>\n",
       "      <td>2</td>\n",
       "    </tr>\n",
       "    <tr>\n",
       "      <th>...</th>\n",
       "      <td>...</td>\n",
       "      <td>...</td>\n",
       "      <td>...</td>\n",
       "      <td>...</td>\n",
       "      <td>...</td>\n",
       "      <td>...</td>\n",
       "      <td>...</td>\n",
       "      <td>...</td>\n",
       "      <td>...</td>\n",
       "      <td>...</td>\n",
       "      <td>...</td>\n",
       "      <td>...</td>\n",
       "      <td>...</td>\n",
       "    </tr>\n",
       "    <tr>\n",
       "      <th>413</th>\n",
       "      <td>1305</td>\n",
       "      <td>3</td>\n",
       "      <td>Spector, Mr. Woolf</td>\n",
       "      <td>male</td>\n",
       "      <td>30.27259</td>\n",
       "      <td>0</td>\n",
       "      <td>0</td>\n",
       "      <td>A.5. 3236</td>\n",
       "      <td>8.0500</td>\n",
       "      <td>NaN</td>\n",
       "      <td>S</td>\n",
       "      <td>1</td>\n",
       "      <td>2</td>\n",
       "    </tr>\n",
       "    <tr>\n",
       "      <th>414</th>\n",
       "      <td>1306</td>\n",
       "      <td>1</td>\n",
       "      <td>Oliva y Ocana, Dona. Fermina</td>\n",
       "      <td>female</td>\n",
       "      <td>39.00000</td>\n",
       "      <td>0</td>\n",
       "      <td>0</td>\n",
       "      <td>PC 17758</td>\n",
       "      <td>108.9000</td>\n",
       "      <td>C105</td>\n",
       "      <td>C</td>\n",
       "      <td>0</td>\n",
       "      <td>0</td>\n",
       "    </tr>\n",
       "    <tr>\n",
       "      <th>415</th>\n",
       "      <td>1307</td>\n",
       "      <td>3</td>\n",
       "      <td>Saether, Mr. Simon Sivertsen</td>\n",
       "      <td>male</td>\n",
       "      <td>38.50000</td>\n",
       "      <td>0</td>\n",
       "      <td>0</td>\n",
       "      <td>SOTON/O.Q. 3101262</td>\n",
       "      <td>7.2500</td>\n",
       "      <td>NaN</td>\n",
       "      <td>S</td>\n",
       "      <td>1</td>\n",
       "      <td>2</td>\n",
       "    </tr>\n",
       "    <tr>\n",
       "      <th>416</th>\n",
       "      <td>1308</td>\n",
       "      <td>3</td>\n",
       "      <td>Ware, Mr. Frederick</td>\n",
       "      <td>male</td>\n",
       "      <td>30.27259</td>\n",
       "      <td>0</td>\n",
       "      <td>0</td>\n",
       "      <td>359309</td>\n",
       "      <td>8.0500</td>\n",
       "      <td>NaN</td>\n",
       "      <td>S</td>\n",
       "      <td>1</td>\n",
       "      <td>2</td>\n",
       "    </tr>\n",
       "    <tr>\n",
       "      <th>417</th>\n",
       "      <td>1309</td>\n",
       "      <td>3</td>\n",
       "      <td>Peter, Master. Michael J</td>\n",
       "      <td>male</td>\n",
       "      <td>30.27259</td>\n",
       "      <td>1</td>\n",
       "      <td>1</td>\n",
       "      <td>2668</td>\n",
       "      <td>22.3583</td>\n",
       "      <td>NaN</td>\n",
       "      <td>C</td>\n",
       "      <td>1</td>\n",
       "      <td>0</td>\n",
       "    </tr>\n",
       "  </tbody>\n",
       "</table>\n",
       "<p>418 rows × 13 columns</p>\n",
       "</div>"
      ],
      "text/plain": [
       "     PassengerId  Pclass                                          Name  \\\n",
       "0            892       3                              Kelly, Mr. James   \n",
       "1            893       3              Wilkes, Mrs. James (Ellen Needs)   \n",
       "2            894       2                     Myles, Mr. Thomas Francis   \n",
       "3            895       3                              Wirz, Mr. Albert   \n",
       "4            896       3  Hirvonen, Mrs. Alexander (Helga E Lindqvist)   \n",
       "..           ...     ...                                           ...   \n",
       "413         1305       3                            Spector, Mr. Woolf   \n",
       "414         1306       1                  Oliva y Ocana, Dona. Fermina   \n",
       "415         1307       3                  Saether, Mr. Simon Sivertsen   \n",
       "416         1308       3                           Ware, Mr. Frederick   \n",
       "417         1309       3                      Peter, Master. Michael J   \n",
       "\n",
       "        Sex       Age  SibSp  Parch              Ticket      Fare Cabin  \\\n",
       "0      male  34.50000      0      0              330911    7.8292   NaN   \n",
       "1    female  47.00000      1      0              363272    7.0000   NaN   \n",
       "2      male  62.00000      0      0              240276    9.6875   NaN   \n",
       "3      male  27.00000      0      0              315154    8.6625   NaN   \n",
       "4    female  22.00000      1      1             3101298   12.2875   NaN   \n",
       "..      ...       ...    ...    ...                 ...       ...   ...   \n",
       "413    male  30.27259      0      0           A.5. 3236    8.0500   NaN   \n",
       "414  female  39.00000      0      0            PC 17758  108.9000  C105   \n",
       "415    male  38.50000      0      0  SOTON/O.Q. 3101262    7.2500   NaN   \n",
       "416    male  30.27259      0      0              359309    8.0500   NaN   \n",
       "417    male  30.27259      1      1                2668   22.3583   NaN   \n",
       "\n",
       "    Embarked  SexCat  EmCat  \n",
       "0          Q       1      1  \n",
       "1          S       0      2  \n",
       "2          Q       1      1  \n",
       "3          S       1      2  \n",
       "4          S       0      2  \n",
       "..       ...     ...    ...  \n",
       "413        S       1      2  \n",
       "414        C       0      0  \n",
       "415        S       1      2  \n",
       "416        S       1      2  \n",
       "417        C       1      0  \n",
       "\n",
       "[418 rows x 13 columns]"
      ]
     },
     "execution_count": 42,
     "metadata": {},
     "output_type": "execute_result"
    }
   ],
   "source": [
    "df_test"
   ]
  },
  {
   "cell_type": "code",
   "execution_count": 43,
   "id": "be82da7d",
   "metadata": {
    "execution": {
     "iopub.execute_input": "2023-08-17T08:57:38.719374Z",
     "iopub.status.busy": "2023-08-17T08:57:38.718952Z",
     "iopub.status.idle": "2023-08-17T08:57:38.725500Z",
     "shell.execute_reply": "2023-08-17T08:57:38.724677Z"
    },
    "papermill": {
     "duration": 0.032393,
     "end_time": "2023-08-17T08:57:38.727516",
     "exception": false,
     "start_time": "2023-08-17T08:57:38.695123",
     "status": "completed"
    },
    "tags": []
   },
   "outputs": [],
   "source": [
    "corr_test_x = df_test[corr_labels]"
   ]
  },
  {
   "cell_type": "code",
   "execution_count": 44,
   "id": "40d56453",
   "metadata": {
    "execution": {
     "iopub.execute_input": "2023-08-17T08:57:38.774468Z",
     "iopub.status.busy": "2023-08-17T08:57:38.774020Z",
     "iopub.status.idle": "2023-08-17T08:57:38.781189Z",
     "shell.execute_reply": "2023-08-17T08:57:38.780180Z"
    },
    "papermill": {
     "duration": 0.033483,
     "end_time": "2023-08-17T08:57:38.783595",
     "exception": false,
     "start_time": "2023-08-17T08:57:38.750112",
     "status": "completed"
    },
    "tags": []
   },
   "outputs": [
    {
     "name": "stderr",
     "output_type": "stream",
     "text": [
      "/tmp/ipykernel_20/3624540031.py:2: SettingWithCopyWarning: \n",
      "A value is trying to be set on a copy of a slice from a DataFrame.\n",
      "Try using .loc[row_indexer,col_indexer] = value instead\n",
      "\n",
      "See the caveats in the documentation: https://pandas.pydata.org/pandas-docs/stable/user_guide/indexing.html#returning-a-view-versus-a-copy\n",
      "  corr_test_x['Fare'] = nt_fare\n"
     ]
    }
   ],
   "source": [
    "nt_fare = (corr_test_x['Fare'] - corr_test_x['Fare'].mean()) / corr_test_x['Fare'].std()\n",
    "corr_test_x['Fare'] = nt_fare"
   ]
  },
  {
   "cell_type": "code",
   "execution_count": 45,
   "id": "74eaed2d",
   "metadata": {
    "execution": {
     "iopub.execute_input": "2023-08-17T08:57:38.830337Z",
     "iopub.status.busy": "2023-08-17T08:57:38.829916Z",
     "iopub.status.idle": "2023-08-17T08:57:38.837410Z",
     "shell.execute_reply": "2023-08-17T08:57:38.836217Z"
    },
    "papermill": {
     "duration": 0.033552,
     "end_time": "2023-08-17T08:57:38.839604",
     "exception": false,
     "start_time": "2023-08-17T08:57:38.806052",
     "status": "completed"
    },
    "tags": []
   },
   "outputs": [],
   "source": [
    "final_pred = classifier.predict(x_test)"
   ]
  },
  {
   "cell_type": "code",
   "execution_count": 46,
   "id": "228f3534",
   "metadata": {
    "execution": {
     "iopub.execute_input": "2023-08-17T08:57:38.885660Z",
     "iopub.status.busy": "2023-08-17T08:57:38.885243Z",
     "iopub.status.idle": "2023-08-17T08:57:38.894608Z",
     "shell.execute_reply": "2023-08-17T08:57:38.893505Z"
    },
    "papermill": {
     "duration": 0.035492,
     "end_time": "2023-08-17T08:57:38.897053",
     "exception": false,
     "start_time": "2023-08-17T08:57:38.861561",
     "status": "completed"
    },
    "tags": []
   },
   "outputs": [
    {
     "data": {
      "text/plain": [
       "0.441340782122905"
      ]
     },
     "execution_count": 46,
     "metadata": {},
     "output_type": "execute_result"
    }
   ],
   "source": [
    "accuracy_score(y_test, final_pred)"
   ]
  },
  {
   "cell_type": "markdown",
   "id": "c3cec127",
   "metadata": {
    "papermill": {
     "duration": 0.021995,
     "end_time": "2023-08-17T08:57:38.942757",
     "exception": false,
     "start_time": "2023-08-17T08:57:38.920762",
     "status": "completed"
    },
    "tags": []
   },
   "source": [
    "The results with label encoder aren't very good."
   ]
  },
  {
   "cell_type": "code",
   "execution_count": 47,
   "id": "5c0b90c4",
   "metadata": {
    "execution": {
     "iopub.execute_input": "2023-08-17T08:57:38.989113Z",
     "iopub.status.busy": "2023-08-17T08:57:38.988725Z",
     "iopub.status.idle": "2023-08-17T08:57:39.000737Z",
     "shell.execute_reply": "2023-08-17T08:57:38.999442Z"
    },
    "papermill": {
     "duration": 0.038102,
     "end_time": "2023-08-17T08:57:39.003120",
     "exception": false,
     "start_time": "2023-08-17T08:57:38.965018",
     "status": "completed"
    },
    "tags": []
   },
   "outputs": [
    {
     "data": {
      "text/plain": [
       "array([0., 0., 0., 0., 0., 0., 0., 0., 0., 0., 0., 0., 0., 0., 0., 0., 0.,\n",
       "       0., 0., 0., 0., 0., 0., 0., 0., 0., 0., 0., 0., 0., 0., 0., 0., 0.,\n",
       "       0., 0., 0., 0., 0., 0., 0., 0., 0., 0., 0., 0., 0., 0., 0., 0., 0.,\n",
       "       0., 0., 0., 0., 0., 0., 0., 0., 0., 0., 0., 0., 0., 0., 0., 0., 0.,\n",
       "       0., 0., 0., 0., 0., 0., 0., 0., 0., 0., 0., 0., 0., 0., 0., 0., 0.,\n",
       "       0., 0., 0., 0., 0., 0., 0., 0., 0., 0., 0., 0., 0., 0., 0., 0., 0.,\n",
       "       0., 0., 0., 0., 0., 0., 0., 0., 0., 0., 0., 0., 0., 0., 0., 0., 0.,\n",
       "       0., 0., 0., 0., 0., 0., 0., 0., 0., 0., 0., 0., 0., 0., 0., 0., 0.,\n",
       "       0., 0., 0., 0., 0., 0., 0., 0., 0., 0., 0., 0., 0., 0., 0., 0., 0.,\n",
       "       0., 0., 0., 0., 0., 0., 0., 0., 0., 0., 0., 0., 0., 0., 0., 0., 0.,\n",
       "       0., 0., 0., 0., 0., 0., 0., 0., 0., 0., 0., 0., 0., 0., 0., 0., 0.,\n",
       "       0., 0., 0., 0., 0., 0., 0., 0., 0., 0., 0., 0., 0., 0., 0., 0., 0.,\n",
       "       0., 0., 0., 0., 0., 0., 0., 0., 0., 0., 0., 0., 0., 0., 0., 0., 0.,\n",
       "       0., 0., 0., 0., 0., 0., 0., 0., 0., 0., 0., 0., 0., 0., 0., 0., 0.,\n",
       "       0., 0., 0., 0., 0., 0., 0., 0., 0., 0., 0., 0., 0., 0., 0., 0., 0.,\n",
       "       0., 0., 0., 0., 0., 0., 0., 0., 0., 0., 0., 0., 0., 0., 0., 0., 0.,\n",
       "       0., 0., 0., 0., 0., 0., 0., 0., 0., 0., 0., 0., 0., 0., 0., 0., 0.,\n",
       "       0., 0., 0., 0., 0., 0., 0., 0., 0., 0., 0., 0., 0., 0., 0., 0., 0.,\n",
       "       0., 0., 0., 0., 0., 0., 0., 0., 0., 0., 0., 0., 0., 0., 0., 0., 0.,\n",
       "       0., 0., 0., 0., 0., 0., 0., 0., 0., 0., 0., 0., 0., 0., 0., 0., 0.,\n",
       "       0., 0., 0., 0., 0., 0., 0., 0., 0., 0., 0., 0., 0., 0., 0., 0., 0.,\n",
       "       0., 0., 0., 0., 0., 0., 0., 0., 0., 0., 0., 0., 0., 0., 0., 0., 0.,\n",
       "       0., 0., 0., 0., 0., 0., 0., 0., 0., 0., 0., 0., 0., 0., 0., 0., 0.,\n",
       "       0., 0., 0., 0., 0., 0., 0., 0., 0., 0., 0., 0., 0., 0., 0., 0., 0.,\n",
       "       0., 0., 0., 0., 0., 0., 0., 0., 0., 0.])"
      ]
     },
     "execution_count": 47,
     "metadata": {},
     "output_type": "execute_result"
    }
   ],
   "source": [
    "svm_reg.predict(corr_test_x)"
   ]
  },
  {
   "cell_type": "code",
   "execution_count": 48,
   "id": "db6fc8c6",
   "metadata": {
    "execution": {
     "iopub.execute_input": "2023-08-17T08:57:39.052600Z",
     "iopub.status.busy": "2023-08-17T08:57:39.052124Z",
     "iopub.status.idle": "2023-08-17T08:57:39.061144Z",
     "shell.execute_reply": "2023-08-17T08:57:39.059948Z"
    },
    "papermill": {
     "duration": 0.037433,
     "end_time": "2023-08-17T08:57:39.063615",
     "exception": false,
     "start_time": "2023-08-17T08:57:39.026182",
     "status": "completed"
    },
    "tags": []
   },
   "outputs": [
    {
     "data": {
      "text/plain": [
       "array([1, 0, 0, 1, 1, 1, 1, 1, 1, 1, 1, 0, 1, 0, 1, 1, 1, 1, 0, 1, 1, 0,\n",
       "       1, 1, 0, 1, 1, 1, 1, 1, 1, 1, 1, 1, 1, 1, 1, 0, 1, 1, 1, 0, 1, 1,\n",
       "       1, 1, 0, 1, 1, 1, 1, 0, 1, 1, 0, 0, 1, 1, 1, 1, 1, 1, 1, 1, 1, 1,\n",
       "       1, 1, 0, 1, 1, 1, 1, 1, 1, 1, 1, 1, 1, 1, 1, 1, 1, 0, 1, 1, 1, 1,\n",
       "       1, 1, 1, 1, 1, 0, 1, 1, 0, 0, 1, 1, 1, 1, 0, 1, 1, 1, 0, 1, 0, 1,\n",
       "       1, 0, 1, 1, 1, 1, 0, 1, 1, 1, 1, 1, 0, 1, 1, 1, 1, 1, 1, 1, 1, 1,\n",
       "       1, 1, 0, 1, 1, 1, 1, 1, 1, 1, 1, 1, 0, 0, 1, 0, 1, 1, 1, 1, 0, 1,\n",
       "       1, 1, 1, 1, 1, 1, 1, 1, 0, 0, 0, 1, 1, 1, 1, 1, 1, 0, 1, 0, 1, 1,\n",
       "       1, 1, 1])"
      ]
     },
     "execution_count": 48,
     "metadata": {},
     "output_type": "execute_result"
    }
   ],
   "source": [
    "final_pred"
   ]
  },
  {
   "cell_type": "code",
   "execution_count": 49,
   "id": "000db478",
   "metadata": {
    "execution": {
     "iopub.execute_input": "2023-08-17T08:57:39.112766Z",
     "iopub.status.busy": "2023-08-17T08:57:39.111905Z",
     "iopub.status.idle": "2023-08-17T08:57:39.120884Z",
     "shell.execute_reply": "2023-08-17T08:57:39.119722Z"
    },
    "papermill": {
     "duration": 0.035373,
     "end_time": "2023-08-17T08:57:39.123326",
     "exception": false,
     "start_time": "2023-08-17T08:57:39.087953",
     "status": "completed"
    },
    "tags": []
   },
   "outputs": [
    {
     "data": {
      "text/plain": [
       "862    1\n",
       "223    0\n",
       "84     1\n",
       "680    0\n",
       "535    1\n",
       "      ..\n",
       "796    1\n",
       "815    0\n",
       "629    0\n",
       "421    0\n",
       "448    1\n",
       "Name: Survived, Length: 179, dtype: int64"
      ]
     },
     "execution_count": 49,
     "metadata": {},
     "output_type": "execute_result"
    }
   ],
   "source": [
    "y_test"
   ]
  },
  {
   "cell_type": "code",
   "execution_count": null,
   "id": "1cbd8e6e",
   "metadata": {
    "papermill": {
     "duration": 0.022941,
     "end_time": "2023-08-17T08:57:39.169520",
     "exception": false,
     "start_time": "2023-08-17T08:57:39.146579",
     "status": "completed"
    },
    "tags": []
   },
   "outputs": [],
   "source": []
  },
  {
   "cell_type": "code",
   "execution_count": 50,
   "id": "75411272",
   "metadata": {
    "execution": {
     "iopub.execute_input": "2023-08-17T08:57:39.217825Z",
     "iopub.status.busy": "2023-08-17T08:57:39.217410Z",
     "iopub.status.idle": "2023-08-17T08:57:39.527654Z",
     "shell.execute_reply": "2023-08-17T08:57:39.526382Z"
    },
    "papermill": {
     "duration": 0.338135,
     "end_time": "2023-08-17T08:57:39.530692",
     "exception": false,
     "start_time": "2023-08-17T08:57:39.192557",
     "status": "completed"
    },
    "tags": []
   },
   "outputs": [],
   "source": [
    "from sklearn.model_selection import GridSearchCV\n",
    "from sklearn.ensemble import RandomForestClassifier\n",
    "\n"
   ]
  },
  {
   "cell_type": "code",
   "execution_count": 51,
   "id": "05a8ae3b",
   "metadata": {
    "execution": {
     "iopub.execute_input": "2023-08-17T08:57:39.578306Z",
     "iopub.status.busy": "2023-08-17T08:57:39.577203Z",
     "iopub.status.idle": "2023-08-17T08:57:39.827903Z",
     "shell.execute_reply": "2023-08-17T08:57:39.826591Z"
    },
    "papermill": {
     "duration": 0.276799,
     "end_time": "2023-08-17T08:57:39.830274",
     "exception": false,
     "start_time": "2023-08-17T08:57:39.553475",
     "status": "completed"
    },
    "tags": []
   },
   "outputs": [
    {
     "data": {
      "text/plain": [
       "0.7988826815642458"
      ]
     },
     "execution_count": 51,
     "metadata": {},
     "output_type": "execute_result"
    }
   ],
   "source": [
    "rfc = RandomForestClassifier()\n",
    "rfc.fit(x_train, y_train)\n",
    "rfc_pred = rfc.predict(x_test)\n",
    "accuracy_score(y_test, rfc_pred)"
   ]
  },
  {
   "cell_type": "code",
   "execution_count": 52,
   "id": "3f11796f",
   "metadata": {
    "execution": {
     "iopub.execute_input": "2023-08-17T08:57:39.880210Z",
     "iopub.status.busy": "2023-08-17T08:57:39.879015Z",
     "iopub.status.idle": "2023-08-17T08:57:49.750194Z",
     "shell.execute_reply": "2023-08-17T08:57:49.749020Z"
    },
    "papermill": {
     "duration": 9.899019,
     "end_time": "2023-08-17T08:57:49.752841",
     "exception": false,
     "start_time": "2023-08-17T08:57:39.853822",
     "status": "completed"
    },
    "tags": []
   },
   "outputs": [
    {
     "data": {
      "text/html": [
       "<style>#sk-container-id-3 {color: black;background-color: white;}#sk-container-id-3 pre{padding: 0;}#sk-container-id-3 div.sk-toggleable {background-color: white;}#sk-container-id-3 label.sk-toggleable__label {cursor: pointer;display: block;width: 100%;margin-bottom: 0;padding: 0.3em;box-sizing: border-box;text-align: center;}#sk-container-id-3 label.sk-toggleable__label-arrow:before {content: \"▸\";float: left;margin-right: 0.25em;color: #696969;}#sk-container-id-3 label.sk-toggleable__label-arrow:hover:before {color: black;}#sk-container-id-3 div.sk-estimator:hover label.sk-toggleable__label-arrow:before {color: black;}#sk-container-id-3 div.sk-toggleable__content {max-height: 0;max-width: 0;overflow: hidden;text-align: left;background-color: #f0f8ff;}#sk-container-id-3 div.sk-toggleable__content pre {margin: 0.2em;color: black;border-radius: 0.25em;background-color: #f0f8ff;}#sk-container-id-3 input.sk-toggleable__control:checked~div.sk-toggleable__content {max-height: 200px;max-width: 100%;overflow: auto;}#sk-container-id-3 input.sk-toggleable__control:checked~label.sk-toggleable__label-arrow:before {content: \"▾\";}#sk-container-id-3 div.sk-estimator input.sk-toggleable__control:checked~label.sk-toggleable__label {background-color: #d4ebff;}#sk-container-id-3 div.sk-label input.sk-toggleable__control:checked~label.sk-toggleable__label {background-color: #d4ebff;}#sk-container-id-3 input.sk-hidden--visually {border: 0;clip: rect(1px 1px 1px 1px);clip: rect(1px, 1px, 1px, 1px);height: 1px;margin: -1px;overflow: hidden;padding: 0;position: absolute;width: 1px;}#sk-container-id-3 div.sk-estimator {font-family: monospace;background-color: #f0f8ff;border: 1px dotted black;border-radius: 0.25em;box-sizing: border-box;margin-bottom: 0.5em;}#sk-container-id-3 div.sk-estimator:hover {background-color: #d4ebff;}#sk-container-id-3 div.sk-parallel-item::after {content: \"\";width: 100%;border-bottom: 1px solid gray;flex-grow: 1;}#sk-container-id-3 div.sk-label:hover label.sk-toggleable__label {background-color: #d4ebff;}#sk-container-id-3 div.sk-serial::before {content: \"\";position: absolute;border-left: 1px solid gray;box-sizing: border-box;top: 0;bottom: 0;left: 50%;z-index: 0;}#sk-container-id-3 div.sk-serial {display: flex;flex-direction: column;align-items: center;background-color: white;padding-right: 0.2em;padding-left: 0.2em;position: relative;}#sk-container-id-3 div.sk-item {position: relative;z-index: 1;}#sk-container-id-3 div.sk-parallel {display: flex;align-items: stretch;justify-content: center;background-color: white;position: relative;}#sk-container-id-3 div.sk-item::before, #sk-container-id-3 div.sk-parallel-item::before {content: \"\";position: absolute;border-left: 1px solid gray;box-sizing: border-box;top: 0;bottom: 0;left: 50%;z-index: -1;}#sk-container-id-3 div.sk-parallel-item {display: flex;flex-direction: column;z-index: 1;position: relative;background-color: white;}#sk-container-id-3 div.sk-parallel-item:first-child::after {align-self: flex-end;width: 50%;}#sk-container-id-3 div.sk-parallel-item:last-child::after {align-self: flex-start;width: 50%;}#sk-container-id-3 div.sk-parallel-item:only-child::after {width: 0;}#sk-container-id-3 div.sk-dashed-wrapped {border: 1px dashed gray;margin: 0 0.4em 0.5em 0.4em;box-sizing: border-box;padding-bottom: 0.4em;background-color: white;}#sk-container-id-3 div.sk-label label {font-family: monospace;font-weight: bold;display: inline-block;line-height: 1.2em;}#sk-container-id-3 div.sk-label-container {text-align: center;}#sk-container-id-3 div.sk-container {/* jupyter's `normalize.less` sets `[hidden] { display: none; }` but bootstrap.min.css set `[hidden] { display: none !important; }` so we also need the `!important` here to be able to override the default hidden behavior on the sphinx rendered scikit-learn.org. See: https://github.com/scikit-learn/scikit-learn/issues/21755 */display: inline-block !important;position: relative;}#sk-container-id-3 div.sk-text-repr-fallback {display: none;}</style><div id=\"sk-container-id-3\" class=\"sk-top-container\"><div class=\"sk-text-repr-fallback\"><pre>GridSearchCV(estimator=RandomForestClassifier(),\n",
       "             param_grid=[{&#x27;criterion&#x27;: [&#x27;gini&#x27;, &#x27;entropy&#x27;, &#x27;log_loss&#x27;],\n",
       "                          &#x27;max_depth&#x27;: [2, 3, 4]}],\n",
       "             return_train_score=True, scoring=&#x27;neg_mean_squared_error&#x27;)</pre><b>In a Jupyter environment, please rerun this cell to show the HTML representation or trust the notebook. <br />On GitHub, the HTML representation is unable to render, please try loading this page with nbviewer.org.</b></div><div class=\"sk-container\" hidden><div class=\"sk-item sk-dashed-wrapped\"><div class=\"sk-label-container\"><div class=\"sk-label sk-toggleable\"><input class=\"sk-toggleable__control sk-hidden--visually\" id=\"sk-estimator-id-3\" type=\"checkbox\" ><label for=\"sk-estimator-id-3\" class=\"sk-toggleable__label sk-toggleable__label-arrow\">GridSearchCV</label><div class=\"sk-toggleable__content\"><pre>GridSearchCV(estimator=RandomForestClassifier(),\n",
       "             param_grid=[{&#x27;criterion&#x27;: [&#x27;gini&#x27;, &#x27;entropy&#x27;, &#x27;log_loss&#x27;],\n",
       "                          &#x27;max_depth&#x27;: [2, 3, 4]}],\n",
       "             return_train_score=True, scoring=&#x27;neg_mean_squared_error&#x27;)</pre></div></div></div><div class=\"sk-parallel\"><div class=\"sk-parallel-item\"><div class=\"sk-item\"><div class=\"sk-label-container\"><div class=\"sk-label sk-toggleable\"><input class=\"sk-toggleable__control sk-hidden--visually\" id=\"sk-estimator-id-4\" type=\"checkbox\" ><label for=\"sk-estimator-id-4\" class=\"sk-toggleable__label sk-toggleable__label-arrow\">estimator: RandomForestClassifier</label><div class=\"sk-toggleable__content\"><pre>RandomForestClassifier()</pre></div></div></div><div class=\"sk-serial\"><div class=\"sk-item\"><div class=\"sk-estimator sk-toggleable\"><input class=\"sk-toggleable__control sk-hidden--visually\" id=\"sk-estimator-id-5\" type=\"checkbox\" ><label for=\"sk-estimator-id-5\" class=\"sk-toggleable__label sk-toggleable__label-arrow\">RandomForestClassifier</label><div class=\"sk-toggleable__content\"><pre>RandomForestClassifier()</pre></div></div></div></div></div></div></div></div></div></div>"
      ],
      "text/plain": [
       "GridSearchCV(estimator=RandomForestClassifier(),\n",
       "             param_grid=[{'criterion': ['gini', 'entropy', 'log_loss'],\n",
       "                          'max_depth': [2, 3, 4]}],\n",
       "             return_train_score=True, scoring='neg_mean_squared_error')"
      ]
     },
     "execution_count": 52,
     "metadata": {},
     "output_type": "execute_result"
    }
   ],
   "source": [
    "param_grid = [\n",
    "    {'max_depth': [2, 3, 4], 'criterion': [\"gini\", \"entropy\", \"log_loss\"]}\n",
    "]\n",
    "\n",
    "random_forest = RandomForestClassifier()\n",
    "\n",
    "grid_search = GridSearchCV(random_forest, param_grid, scoring='neg_mean_squared_error', return_train_score=True)\n",
    "\n",
    "grid_search.fit(corr_x, corr_y)"
   ]
  },
  {
   "cell_type": "code",
   "execution_count": 53,
   "id": "5a76c486",
   "metadata": {
    "execution": {
     "iopub.execute_input": "2023-08-17T08:57:49.802997Z",
     "iopub.status.busy": "2023-08-17T08:57:49.802610Z",
     "iopub.status.idle": "2023-08-17T08:57:49.809678Z",
     "shell.execute_reply": "2023-08-17T08:57:49.808502Z"
    },
    "papermill": {
     "duration": 0.034518,
     "end_time": "2023-08-17T08:57:49.812052",
     "exception": false,
     "start_time": "2023-08-17T08:57:49.777534",
     "status": "completed"
    },
    "tags": []
   },
   "outputs": [
    {
     "data": {
      "text/plain": [
       "{'criterion': 'gini', 'max_depth': 4}"
      ]
     },
     "execution_count": 53,
     "metadata": {},
     "output_type": "execute_result"
    }
   ],
   "source": [
    "grid_search.best_params_"
   ]
  },
  {
   "cell_type": "code",
   "execution_count": 54,
   "id": "5f45b561",
   "metadata": {
    "execution": {
     "iopub.execute_input": "2023-08-17T08:57:49.859901Z",
     "iopub.status.busy": "2023-08-17T08:57:49.859498Z",
     "iopub.status.idle": "2023-08-17T08:57:49.865962Z",
     "shell.execute_reply": "2023-08-17T08:57:49.864078Z"
    },
    "papermill": {
     "duration": 0.033329,
     "end_time": "2023-08-17T08:57:49.868538",
     "exception": false,
     "start_time": "2023-08-17T08:57:49.835209",
     "status": "completed"
    },
    "tags": []
   },
   "outputs": [],
   "source": [
    "best_random_forest = grid_search.best_estimator_"
   ]
  },
  {
   "cell_type": "code",
   "execution_count": 55,
   "id": "8c705d16",
   "metadata": {
    "execution": {
     "iopub.execute_input": "2023-08-17T08:57:49.918495Z",
     "iopub.status.busy": "2023-08-17T08:57:49.918077Z",
     "iopub.status.idle": "2023-08-17T08:57:49.942750Z",
     "shell.execute_reply": "2023-08-17T08:57:49.941481Z"
    },
    "papermill": {
     "duration": 0.052757,
     "end_time": "2023-08-17T08:57:49.945470",
     "exception": false,
     "start_time": "2023-08-17T08:57:49.892713",
     "status": "completed"
    },
    "tags": []
   },
   "outputs": [
    {
     "data": {
      "text/plain": [
       "0.8100558659217877"
      ]
     },
     "execution_count": 55,
     "metadata": {},
     "output_type": "execute_result"
    }
   ],
   "source": [
    "best_random_forst_score = best_random_forest.predict(x_test)\n",
    "accuracy_score(y_test, best_random_forst_score)"
   ]
  },
  {
   "cell_type": "markdown",
   "id": "6ba68a4c",
   "metadata": {
    "papermill": {
     "duration": 0.022865,
     "end_time": "2023-08-17T08:57:49.991848",
     "exception": false,
     "start_time": "2023-08-17T08:57:49.968983",
     "status": "completed"
    },
    "tags": []
   },
   "source": [
    "81% seems ok."
   ]
  },
  {
   "cell_type": "code",
   "execution_count": 56,
   "id": "7339588f",
   "metadata": {
    "execution": {
     "iopub.execute_input": "2023-08-17T08:57:50.041921Z",
     "iopub.status.busy": "2023-08-17T08:57:50.041532Z",
     "iopub.status.idle": "2023-08-17T08:57:50.063389Z",
     "shell.execute_reply": "2023-08-17T08:57:50.062221Z"
    },
    "papermill": {
     "duration": 0.050564,
     "end_time": "2023-08-17T08:57:50.066065",
     "exception": false,
     "start_time": "2023-08-17T08:57:50.015501",
     "status": "completed"
    },
    "tags": []
   },
   "outputs": [],
   "source": [
    "preds = best_random_forest.predict(corr_test_x)"
   ]
  },
  {
   "cell_type": "code",
   "execution_count": 57,
   "id": "667e8fbf",
   "metadata": {
    "execution": {
     "iopub.execute_input": "2023-08-17T08:57:50.117279Z",
     "iopub.status.busy": "2023-08-17T08:57:50.116888Z",
     "iopub.status.idle": "2023-08-17T08:57:50.121661Z",
     "shell.execute_reply": "2023-08-17T08:57:50.120460Z"
    },
    "papermill": {
     "duration": 0.034699,
     "end_time": "2023-08-17T08:57:50.123892",
     "exception": false,
     "start_time": "2023-08-17T08:57:50.089193",
     "status": "completed"
    },
    "tags": []
   },
   "outputs": [],
   "source": [
    "subs = pd.DataFrame(preds)"
   ]
  },
  {
   "cell_type": "code",
   "execution_count": 58,
   "id": "25278cd9",
   "metadata": {
    "execution": {
     "iopub.execute_input": "2023-08-17T08:57:50.172429Z",
     "iopub.status.busy": "2023-08-17T08:57:50.172015Z",
     "iopub.status.idle": "2023-08-17T08:57:50.178504Z",
     "shell.execute_reply": "2023-08-17T08:57:50.177385Z"
    },
    "papermill": {
     "duration": 0.033575,
     "end_time": "2023-08-17T08:57:50.180778",
     "exception": false,
     "start_time": "2023-08-17T08:57:50.147203",
     "status": "completed"
    },
    "tags": []
   },
   "outputs": [
    {
     "data": {
      "text/plain": [
       "418"
      ]
     },
     "execution_count": 58,
     "metadata": {},
     "output_type": "execute_result"
    }
   ],
   "source": [
    "len(preds)"
   ]
  },
  {
   "cell_type": "code",
   "execution_count": 59,
   "id": "b6351354",
   "metadata": {
    "execution": {
     "iopub.execute_input": "2023-08-17T08:57:50.231641Z",
     "iopub.status.busy": "2023-08-17T08:57:50.231207Z",
     "iopub.status.idle": "2023-08-17T08:57:50.238691Z",
     "shell.execute_reply": "2023-08-17T08:57:50.237345Z"
    },
    "papermill": {
     "duration": 0.03621,
     "end_time": "2023-08-17T08:57:50.240920",
     "exception": false,
     "start_time": "2023-08-17T08:57:50.204710",
     "status": "completed"
    },
    "tags": []
   },
   "outputs": [],
   "source": [
    "new_df = pd.DataFrame({'PassengerId': np.arange(892, 892+len(preds)), 'Survived': preds})"
   ]
  },
  {
   "cell_type": "code",
   "execution_count": 60,
   "id": "07d4562b",
   "metadata": {
    "execution": {
     "iopub.execute_input": "2023-08-17T08:57:50.291157Z",
     "iopub.status.busy": "2023-08-17T08:57:50.290769Z",
     "iopub.status.idle": "2023-08-17T08:57:50.303274Z",
     "shell.execute_reply": "2023-08-17T08:57:50.301982Z"
    },
    "papermill": {
     "duration": 0.040883,
     "end_time": "2023-08-17T08:57:50.306420",
     "exception": false,
     "start_time": "2023-08-17T08:57:50.265537",
     "status": "completed"
    },
    "tags": []
   },
   "outputs": [
    {
     "data": {
      "text/html": [
       "<div>\n",
       "<style scoped>\n",
       "    .dataframe tbody tr th:only-of-type {\n",
       "        vertical-align: middle;\n",
       "    }\n",
       "\n",
       "    .dataframe tbody tr th {\n",
       "        vertical-align: top;\n",
       "    }\n",
       "\n",
       "    .dataframe thead th {\n",
       "        text-align: right;\n",
       "    }\n",
       "</style>\n",
       "<table border=\"1\" class=\"dataframe\">\n",
       "  <thead>\n",
       "    <tr style=\"text-align: right;\">\n",
       "      <th></th>\n",
       "      <th>PassengerId</th>\n",
       "      <th>Survived</th>\n",
       "    </tr>\n",
       "  </thead>\n",
       "  <tbody>\n",
       "    <tr>\n",
       "      <th>0</th>\n",
       "      <td>892</td>\n",
       "      <td>0</td>\n",
       "    </tr>\n",
       "    <tr>\n",
       "      <th>1</th>\n",
       "      <td>893</td>\n",
       "      <td>0</td>\n",
       "    </tr>\n",
       "    <tr>\n",
       "      <th>2</th>\n",
       "      <td>894</td>\n",
       "      <td>0</td>\n",
       "    </tr>\n",
       "    <tr>\n",
       "      <th>3</th>\n",
       "      <td>895</td>\n",
       "      <td>0</td>\n",
       "    </tr>\n",
       "    <tr>\n",
       "      <th>4</th>\n",
       "      <td>896</td>\n",
       "      <td>0</td>\n",
       "    </tr>\n",
       "    <tr>\n",
       "      <th>...</th>\n",
       "      <td>...</td>\n",
       "      <td>...</td>\n",
       "    </tr>\n",
       "    <tr>\n",
       "      <th>413</th>\n",
       "      <td>1305</td>\n",
       "      <td>0</td>\n",
       "    </tr>\n",
       "    <tr>\n",
       "      <th>414</th>\n",
       "      <td>1306</td>\n",
       "      <td>1</td>\n",
       "    </tr>\n",
       "    <tr>\n",
       "      <th>415</th>\n",
       "      <td>1307</td>\n",
       "      <td>0</td>\n",
       "    </tr>\n",
       "    <tr>\n",
       "      <th>416</th>\n",
       "      <td>1308</td>\n",
       "      <td>0</td>\n",
       "    </tr>\n",
       "    <tr>\n",
       "      <th>417</th>\n",
       "      <td>1309</td>\n",
       "      <td>0</td>\n",
       "    </tr>\n",
       "  </tbody>\n",
       "</table>\n",
       "<p>418 rows × 2 columns</p>\n",
       "</div>"
      ],
      "text/plain": [
       "     PassengerId  Survived\n",
       "0            892         0\n",
       "1            893         0\n",
       "2            894         0\n",
       "3            895         0\n",
       "4            896         0\n",
       "..           ...       ...\n",
       "413         1305         0\n",
       "414         1306         1\n",
       "415         1307         0\n",
       "416         1308         0\n",
       "417         1309         0\n",
       "\n",
       "[418 rows x 2 columns]"
      ]
     },
     "execution_count": 60,
     "metadata": {},
     "output_type": "execute_result"
    }
   ],
   "source": [
    "new_df"
   ]
  },
  {
   "cell_type": "code",
   "execution_count": 61,
   "id": "dcacbd3b",
   "metadata": {
    "execution": {
     "iopub.execute_input": "2023-08-17T08:57:50.359065Z",
     "iopub.status.busy": "2023-08-17T08:57:50.358671Z",
     "iopub.status.idle": "2023-08-17T08:57:50.370855Z",
     "shell.execute_reply": "2023-08-17T08:57:50.369753Z"
    },
    "papermill": {
     "duration": 0.040737,
     "end_time": "2023-08-17T08:57:50.373307",
     "exception": false,
     "start_time": "2023-08-17T08:57:50.332570",
     "status": "completed"
    },
    "tags": []
   },
   "outputs": [],
   "source": [
    "#PassengerId,Survived\n",
    "\n",
    "headers = ['PassengerId', 'Survived']\n",
    "new_df.to_csv(\"submission.csv\", header=True, index=False)"
   ]
  },
  {
   "cell_type": "markdown",
   "id": "9cac0a65",
   "metadata": {
    "papermill": {
     "duration": 0.023237,
     "end_time": "2023-08-17T08:57:50.420264",
     "exception": false,
     "start_time": "2023-08-17T08:57:50.397027",
     "status": "completed"
    },
    "tags": []
   },
   "source": [
    "# More Metrics"
   ]
  },
  {
   "cell_type": "markdown",
   "id": "ccfe1c3a",
   "metadata": {
    "papermill": {
     "duration": 0.023232,
     "end_time": "2023-08-17T08:57:50.467689",
     "exception": false,
     "start_time": "2023-08-17T08:57:50.444457",
     "status": "completed"
    },
    "tags": []
   },
   "source": [
    "Let's get the accuracy score for a dummy all 0s prediction, to see what is the worst of the worst?\n"
   ]
  },
  {
   "cell_type": "code",
   "execution_count": 62,
   "id": "99cb307e",
   "metadata": {
    "execution": {
     "iopub.execute_input": "2023-08-17T08:57:50.518927Z",
     "iopub.status.busy": "2023-08-17T08:57:50.518122Z",
     "iopub.status.idle": "2023-08-17T08:57:50.525826Z",
     "shell.execute_reply": "2023-08-17T08:57:50.525018Z"
    },
    "papermill": {
     "duration": 0.035915,
     "end_time": "2023-08-17T08:57:50.527873",
     "exception": false,
     "start_time": "2023-08-17T08:57:50.491958",
     "status": "completed"
    },
    "tags": []
   },
   "outputs": [
    {
     "data": {
      "text/plain": [
       "0.5921787709497207"
      ]
     },
     "execution_count": 62,
     "metadata": {},
     "output_type": "execute_result"
    }
   ],
   "source": [
    "assume_all_dead = np.zeros_like(y_test)\n",
    "accuracy_score(y_test, assume_all_dead)"
   ]
  },
  {
   "cell_type": "markdown",
   "id": "cd8b307a",
   "metadata": {
    "papermill": {
     "duration": 0.023042,
     "end_time": "2023-08-17T08:57:50.575398",
     "exception": false,
     "start_time": "2023-08-17T08:57:50.552356",
     "status": "completed"
    },
    "tags": []
   },
   "source": [
    "This mean that SVR was just putting 0s out, and even worst Stochastic Gradient Descent wasn't smart enough to see the trend. Same as my final thesis."
   ]
  },
  {
   "cell_type": "code",
   "execution_count": 63,
   "id": "5ed7d052",
   "metadata": {
    "execution": {
     "iopub.execute_input": "2023-08-17T08:57:50.624357Z",
     "iopub.status.busy": "2023-08-17T08:57:50.623865Z",
     "iopub.status.idle": "2023-08-17T08:57:50.632125Z",
     "shell.execute_reply": "2023-08-17T08:57:50.631221Z"
    },
    "papermill": {
     "duration": 0.035242,
     "end_time": "2023-08-17T08:57:50.634211",
     "exception": false,
     "start_time": "2023-08-17T08:57:50.598969",
     "status": "completed"
    },
    "tags": []
   },
   "outputs": [
    {
     "data": {
      "text/plain": [
       "array([[97,  9],\n",
       "       [27, 46]])"
      ]
     },
     "execution_count": 63,
     "metadata": {},
     "output_type": "execute_result"
    }
   ],
   "source": [
    "from sklearn.metrics import confusion_matrix\n",
    "\n",
    "confusion_matrix(y_test, rfc_pred)"
   ]
  },
  {
   "cell_type": "code",
   "execution_count": 64,
   "id": "845c2f2b",
   "metadata": {
    "execution": {
     "iopub.execute_input": "2023-08-17T08:57:50.685514Z",
     "iopub.status.busy": "2023-08-17T08:57:50.684442Z",
     "iopub.status.idle": "2023-08-17T08:57:50.692399Z",
     "shell.execute_reply": "2023-08-17T08:57:50.691537Z"
    },
    "papermill": {
     "duration": 0.035141,
     "end_time": "2023-08-17T08:57:50.694487",
     "exception": false,
     "start_time": "2023-08-17T08:57:50.659346",
     "status": "completed"
    },
    "tags": []
   },
   "outputs": [
    {
     "data": {
      "text/plain": [
       "array([[106,   0],\n",
       "       [ 73,   0]])"
      ]
     },
     "execution_count": 64,
     "metadata": {},
     "output_type": "execute_result"
    }
   ],
   "source": [
    "confusion_matrix(y_test, assume_all_dead)"
   ]
  },
  {
   "cell_type": "code",
   "execution_count": 65,
   "id": "821ccc1a",
   "metadata": {
    "execution": {
     "iopub.execute_input": "2023-08-17T08:57:50.745534Z",
     "iopub.status.busy": "2023-08-17T08:57:50.744592Z",
     "iopub.status.idle": "2023-08-17T08:57:50.751100Z",
     "shell.execute_reply": "2023-08-17T08:57:50.750338Z"
    },
    "papermill": {
     "duration": 0.034159,
     "end_time": "2023-08-17T08:57:50.753171",
     "exception": false,
     "start_time": "2023-08-17T08:57:50.719012",
     "status": "completed"
    },
    "tags": []
   },
   "outputs": [],
   "source": [
    "from sklearn.metrics import precision_recall_curve\n",
    "\n",
    "precision, recall, thresholds = precision_recall_curve(y_test, rfc_pred)"
   ]
  },
  {
   "cell_type": "code",
   "execution_count": 66,
   "id": "b8c8f44f",
   "metadata": {
    "execution": {
     "iopub.execute_input": "2023-08-17T08:57:50.802952Z",
     "iopub.status.busy": "2023-08-17T08:57:50.802317Z",
     "iopub.status.idle": "2023-08-17T08:57:50.807170Z",
     "shell.execute_reply": "2023-08-17T08:57:50.806276Z"
    },
    "papermill": {
     "duration": 0.032315,
     "end_time": "2023-08-17T08:57:50.809261",
     "exception": false,
     "start_time": "2023-08-17T08:57:50.776946",
     "status": "completed"
    },
    "tags": []
   },
   "outputs": [],
   "source": [
    "def plot_precision_recall_vs_threshold(precisions, recalls, thresholds):\n",
    "    plt.plot(thresholds, precisions[:-1], 'b--', label='Precision')\n",
    "    plt.plot(thresholds, recalls[:-1], 'g-', label='Recall')"
   ]
  },
  {
   "cell_type": "code",
   "execution_count": 67,
   "id": "c74b4876",
   "metadata": {
    "execution": {
     "iopub.execute_input": "2023-08-17T08:57:50.860935Z",
     "iopub.status.busy": "2023-08-17T08:57:50.860153Z",
     "iopub.status.idle": "2023-08-17T08:57:51.042915Z",
     "shell.execute_reply": "2023-08-17T08:57:51.041728Z"
    },
    "papermill": {
     "duration": 0.213342,
     "end_time": "2023-08-17T08:57:51.046825",
     "exception": false,
     "start_time": "2023-08-17T08:57:50.833483",
     "status": "completed"
    },
    "tags": []
   },
   "outputs": [
    {
     "data": {
      "image/png": "[encoded data removed]",
      "text/plain": [
       "<Figure size 640x480 with 1 Axes>"
      ]
     },
     "metadata": {},
     "output_type": "display_data"
    }
   ],
   "source": [
    "plot_precision_recall_vs_threshold(precision, recall, thresholds)\n",
    "plt.show()"
   ]
  },
  {
   "cell_type": "code",
   "execution_count": 68,
   "id": "e6380ad9",
   "metadata": {
    "execution": {
     "iopub.execute_input": "2023-08-17T08:57:51.101443Z",
     "iopub.status.busy": "2023-08-17T08:57:51.100616Z",
     "iopub.status.idle": "2023-08-17T08:57:51.107934Z",
     "shell.execute_reply": "2023-08-17T08:57:51.106561Z"
    },
    "papermill": {
     "duration": 0.038078,
     "end_time": "2023-08-17T08:57:51.110855",
     "exception": false,
     "start_time": "2023-08-17T08:57:51.072777",
     "status": "completed"
    },
    "tags": []
   },
   "outputs": [],
   "source": [
    "from sklearn.metrics import roc_curve\n",
    "\n",
    "fpr, tpr, thresholds = roc_curve(y_test ,rfc_pred)"
   ]
  },
  {
   "cell_type": "code",
   "execution_count": 69,
   "id": "b3e3f893",
   "metadata": {
    "execution": {
     "iopub.execute_input": "2023-08-17T08:57:51.164723Z",
     "iopub.status.busy": "2023-08-17T08:57:51.164319Z",
     "iopub.status.idle": "2023-08-17T08:57:51.384356Z",
     "shell.execute_reply": "2023-08-17T08:57:51.382918Z"
    },
    "papermill": {
     "duration": 0.250068,
     "end_time": "2023-08-17T08:57:51.386873",
     "exception": false,
     "start_time": "2023-08-17T08:57:51.136805",
     "status": "completed"
    },
    "tags": []
   },
   "outputs": [
    {
     "data": {
      "image/png": "[encoded data removed]",
      "text/plain": [
       "<Figure size 640x480 with 1 Axes>"
      ]
     },
     "metadata": {},
     "output_type": "display_data"
    }
   ],
   "source": [
    "def plot_roc_curve(fpr, tpr, label=None):\n",
    "    plt.plot(fpr, tpr, linewidth=2, label=label)\n",
    "    plt.plot([0, 1], [0, 1], 'k--')\n",
    "    \n",
    "plot_roc_curve(fpr, tpr)\n",
    "plt.show()"
   ]
  },
  {
   "cell_type": "code",
   "execution_count": 70,
   "id": "c62c7081",
   "metadata": {
    "execution": {
     "iopub.execute_input": "2023-08-17T08:57:51.441419Z",
     "iopub.status.busy": "2023-08-17T08:57:51.440947Z",
     "iopub.status.idle": "2023-08-17T08:57:51.454649Z",
     "shell.execute_reply": "2023-08-17T08:57:51.453567Z"
    },
    "papermill": {
     "duration": 0.044353,
     "end_time": "2023-08-17T08:57:51.457045",
     "exception": false,
     "start_time": "2023-08-17T08:57:51.412692",
     "status": "completed"
    },
    "tags": []
   },
   "outputs": [
    {
     "data": {
      "text/plain": [
       "0.7726156629620057"
      ]
     },
     "execution_count": 70,
     "metadata": {},
     "output_type": "execute_result"
    }
   ],
   "source": [
    "# Computing the Area under the curve (AUC)\n",
    "\n",
    "from sklearn.metrics import roc_auc_score\n",
    "roc_auc_score(y_test, rfc_pred)"
   ]
  },
  {
   "cell_type": "code",
   "execution_count": null,
   "id": "3cac254f",
   "metadata": {
    "papermill": {
     "duration": 0.02462,
     "end_time": "2023-08-17T08:57:51.506739",
     "exception": false,
     "start_time": "2023-08-17T08:57:51.482119",
     "status": "completed"
    },
    "tags": []
   },
   "outputs": [],
   "source": []
  }
 ],
 "metadata": {
  "kernelspec": {
   "display_name": "Python 3",
   "language": "python",
   "name": "python3"
  },
  "language_info": {
   "codemirror_mode": {
    "name": "ipython",
    "version": 3
   },
   "file_extension": ".py",
   "mimetype": "text/x-python",
   "name": "python",
   "nbconvert_exporter": "python",
   "pygments_lexer": "ipython3",
   "version": "3.10.10"
  },
  "papermill": {
   "default_parameters": {},
   "duration": 33.80387,
   "end_time": "2023-08-17T08:57:52.856649",
   "environment_variables": {},
   "exception": null,
   "input_path": "__notebook__.ipynb",
   "output_path": "__notebook__.ipynb",
   "parameters": {},
   "start_time": "2023-08-17T08:57:19.052779",
   "version": "2.4.0"
  }
 },
 "nbformat": 4,
 "nbformat_minor": 5
}
